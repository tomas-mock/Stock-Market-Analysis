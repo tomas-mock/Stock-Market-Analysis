{
 "cells": [
  {
   "cell_type": "markdown",
   "metadata": {},
   "source": [
    "### Candidate Numbers : 44026, ???, ??? ###"
   ]
  },
  {
   "cell_type": "markdown",
   "metadata": {},
   "source": [
    "<img src=\"/Users/tomasmock/LSE/Managing%20and%20Visualising%20Data/2024-project-macro-financial-market/financial%20market%20imagae.webp\" alt=\"Financial Market Image\" width=\"1500\" height=\"500\"/>\n"
   ]
  },
  {
   "cell_type": "markdown",
   "metadata": {},
   "source": [
    "# Impact of Macroeconomic Indicators on Business Sectors in the U.S. Stock Market Since 2000 #\n",
    "\n",
    "### 1. Introduction ###\n",
    "\n",
    "The U.S. stock market, a cornerstone of the global financial system, reflects the dynamic interplay between macroeconomic conditions and business sector performance. Since 2000, the market has experienced a series of significant economic shifts, from the dot-com bubble and the 2008 financial crisis to periods of recovery and sustained growth. Understanding how macroeconomic indicators influence different business sectors is crucial for policymakers, investors, and industry stakeholders seeking to navigate these fluctuations effectively. This project explores the impact of macroeconomic indicators on U.S. business sectors, focusing on how economic factors have shaped sector performance over the past two decades. The objectives are threefold: first, to analyse the performance of business sectors during key economic phases—such as expansions, recessions, and recoveries—highlighting sector resilience and adaptability under varying macroeconomic conditions; second, to examine the relationship between macroeconomic indicators like the unemployment rate, CPI, Federal Funds Rate, Real GDP, and consumer sentiment, identifying the most influential factors and their impact on specific sectors; and third, to develop a simple, data-driven model that predicts how changes in these indicators could influence sector performance. By integrating historical data with statistical techniques, this study provides a framework for evaluating the relationship between macroeconomic conditions and stock market performance, offering practical insights for informed decision-making."
   ]
  },
  {
   "cell_type": "markdown",
   "metadata": {},
   "source": [
    "### 2.0 Acquiring and pre-processing data ###\n",
    "\n",
    "The data was gathered and pre-processed through a series of steps to ensure comprehensive coverage of over two decades of economic and financial information, making it ready for analysis. First, a date range from January 1, 2000, to December 31, 2024, was set to filter the data. A list of key economic indicators, such as the Unemployment Rate, CPI, Fed Funds Rate, Real GDP, Consumer Sentiment, Industrial Production, Retail Sales, Home Price Index, Crude Oil, and EUR/USD Exchange Rate, was mapped to their specific FRED series IDs. Using a custom function, each of these indicators was downloaded from the FRED website in CSV format and limited to the defined date range.\n",
    "\n",
    "Since the data sources had different frequencies—some were daily, others monthly or quarterly—daily data such as Crude Oil prices and EUR/USD exchange rates were resampled to monthly intervals by taking the last value of each month. For quarterly data, such as Real GDP, the values were forward-filled to create a consistent monthly dataset.\n",
    "\n",
    "All the individual datasets were then merged into a single comprehensive DataFrame based on their dates. To make the column names more intuitive, they were renamed from their FRED codes to descriptive names, such as \"Unemployment_Rate\" and \"CPI.\" The combined data was saved as a CSV file for easy access. Next, any missing values were addressed by first forward-filling and then backward-filling to ensure no gaps remained, particularly in the Real GDP data, where some months were intentionally set to NaN and later interpolated.\n",
    "\n",
    "In addition to economic indicators, sector-specific financial data was pulled from Yahoo Finance using its API. This included both sector ETFs and representative stocks for sectors like Communication Services and Real Estate, as these two sectors lacked indices dating back to 2000. Companies like AT&T, Disney, Netflix, Verizon, and Comcast were chosen to represent the Communication Services sector, while American Tower Corporation, Prologis, Simon Property Group, Equinix, and Public Storage were selected for the Real Estate sector. Each stock’s adjusted closing prices were downloaded and used to build sector indices by calculating daily returns, averaging them for equal weighting, and then computing cumulative returns. The daily returns were then resampled by taking the last available value of each month to create a dataset with monthly granularity to allign with macroeconomic data frequencies. Lastly, these sector indices were normalised to start at 100 for easier comparison and rounded to two decimal places for clarity.\n",
    "\n",
    "Finally, the economic and business sector datasets were combined into a single comprehensive DataFrame. The cleaned and finalised dataset was saved as a CSV file, ready for further analysis.\n",
    "\n"
   ]
  },
  {
   "cell_type": "code",
   "execution_count": 1,
   "metadata": {},
   "outputs": [],
   "source": [
    "import pandas as pd\n",
    "import numpy as np\n",
    "import yfinance as yf\n",
    "from datetime import datetime\n",
    "import matplotlib.pyplot as plt\n",
    "import matplotlib.dates as mdates\n",
    "import seaborn as sns\n",
    "import plotly.graph_objs as go\n",
    "from plotly.subplots import make_subplots\n",
    "import plotly.express as px\n",
    "import matplotlib.colors as mcolors  "
   ]
  },
  {
   "cell_type": "markdown",
   "metadata": {},
   "source": [
    "### 2.1 Economic Data ###"
   ]
  },
  {
   "cell_type": "code",
   "execution_count": 32,
   "metadata": {},
   "outputs": [
    {
     "name": "stdout",
     "output_type": "stream",
     "text": [
      "Downloading Unemployment_Rate (UNRATE)...\n",
      "Downloading CPI (CPIAUCSL)...\n",
      "Downloading Fed_Funds_Rate (FEDFUNDS)...\n",
      "Downloading Real_GDP (GDPC1)...\n",
      "Downloading Consumer_Sentiment (UMCSENT)...\n",
      "Downloading Industrial_Production (INDPRO)...\n",
      "Downloading Retail_Sales (RSAFS)...\n",
      "Downloading Home_Price_Index (CSUSHPINSA)...\n",
      "Downloading Crude_Oil_WTI (DCOILWTICO)...\n",
      "Downloading EUR_USD_Exchange_Rate (DEXUSEU)...\n",
      "Data successfully saved to us_macro_data_2000_2024.csv\n"
     ]
    }
   ],
   "source": [
    "# Define start and end date for filtering after download\n",
    "start_date = \"2000-01-01\"\n",
    "end_date = \"2024-12-31\"\n",
    "\n",
    "# A dictionary of indicator names mapped to their FRED series IDs\n",
    "\n",
    "fred_series = {\n",
    "    \"Unemployment_Rate\": \"UNRATE\",                  # Monthly, %\n",
    "    \"CPI\": \"CPIAUCSL\",                              # Monthly CPI index\n",
    "    \"Fed_Funds_Rate\": \"FEDFUNDS\",                   # Monthly avg % rate\n",
    "    \"Real_GDP\": \"GDPC1\",                            # Quarterly real GDP\n",
    "    \"Consumer_Sentiment\": \"UMCSENT\",                # Monthly consumer sentiment as proxy for confidence\n",
    "    \"Industrial_Production\": \"INDPRO\",              # Monthly IP index\n",
    "    \"Retail_Sales\": \"RSAFS\",                        # Monthly retail sales\n",
    "    \"Home_Price_Index\": \"CSUSHPINSA\",               # Monthly Case-Shiller home price index\n",
    "    \"Crude_Oil_WTI\": \"DCOILWTICO\",                  # Daily WTI oil price\n",
    "    \"EUR_USD_Exchange_Rate\": \"DEXUSEU\"              # Daily EUR to USD exchange rate\n",
    "}\n",
    "\n",
    "def download_fred_data(series_id):\n",
    "    \"\"\"\n",
    "    Downloads data from FRED in CSV format using a direct URL pattern.\n",
    "    Returns a DataFrame with a datetime index and a single column of values.\n",
    "    \"\"\"\n",
    "    url = f\"https://fred.stlouisfed.org/graph/fredgraph.csv?id={series_id}\"\n",
    "    df = pd.read_csv(url, parse_dates=[\"observation_date\"])\n",
    "    df.set_index(\"observation_date\", inplace=True)\n",
    "    df.columns = [series_id]\n",
    "    return df\n",
    "\n",
    "# Download data for each series and store in a dictionary of DataFrames\n",
    "data_frames = {}\n",
    "for name, sid in fred_series.items():\n",
    "    print(f\"Downloading {name} ({sid})...\")\n",
    "    df = download_fred_data(sid)\n",
    "    # Filter by date range\n",
    "    df = df.loc[(df.index >= start_date) & (df.index <= end_date)]\n",
    "    data_frames[name] = df\n",
    "\n",
    "# Alligning frequencies\n",
    "for name in [\"Crude_Oil_WTI\", \"EUR_USD_Exchange_Rate\"]:\n",
    "    if name in data_frames:\n",
    "        data_frames[name] = data_frames[name].resample('M').last()  # using last available value in each month\n",
    "\n",
    "# For quarterly GDP data I am using forward fill to get a monthly frequency (the same value for all months in the quarter)\n",
    "if \"Real_GDP\" in data_frames:\n",
    "    # Forward fill monthly so each month in the quarter carries the latest GDP value\n",
    "    data_frames[\"Real_GDP\"] = data_frames[\"Real_GDP\"].resample('M').ffill()\n",
    "    \n",
    "\n",
    "# Merge all dataframes on the index (Date)\n",
    "combined_df = None\n",
    "for name, df in data_frames.items():\n",
    "    if combined_df is None:\n",
    "        combined_df = df\n",
    "    else:\n",
    "        combined_df = combined_df.join(df, how='outer')\n",
    "\n",
    "# Renaming columns to be more descriptive\n",
    "column_map = {fred_series[k]: k for k in fred_series.keys()}\n",
    "combined_df.rename(columns=column_map, inplace=True)\n",
    "\n",
    "# Exporting to CSV\n",
    "combined_df.to_csv(\"/tmp/us_macro_data_2000_2024.csv\")\n",
    "\n",
    "\n",
    "print(\"Data successfully saved to us_macro_data_2000_2024.csv\")"
   ]
  },
  {
   "cell_type": "code",
   "execution_count": 33,
   "metadata": {},
   "outputs": [
    {
     "data": {
      "text/html": [
       "<div>\n",
       "<style scoped>\n",
       "    .dataframe tbody tr th:only-of-type {\n",
       "        vertical-align: middle;\n",
       "    }\n",
       "\n",
       "    .dataframe tbody tr th {\n",
       "        vertical-align: top;\n",
       "    }\n",
       "\n",
       "    .dataframe thead th {\n",
       "        text-align: right;\n",
       "    }\n",
       "</style>\n",
       "<table border=\"1\" class=\"dataframe\">\n",
       "  <thead>\n",
       "    <tr style=\"text-align: right;\">\n",
       "      <th></th>\n",
       "      <th>Unemployment_Rate</th>\n",
       "      <th>CPI</th>\n",
       "      <th>Fed_Funds_Rate</th>\n",
       "      <th>Real_GDP</th>\n",
       "      <th>Consumer_Sentiment</th>\n",
       "      <th>Industrial_Production</th>\n",
       "      <th>Retail_Sales</th>\n",
       "      <th>Home_Price_Index</th>\n",
       "      <th>Crude_Oil_WTI</th>\n",
       "      <th>EUR_USD_Exchange_Rate</th>\n",
       "    </tr>\n",
       "    <tr>\n",
       "      <th>observation_date</th>\n",
       "      <th></th>\n",
       "      <th></th>\n",
       "      <th></th>\n",
       "      <th></th>\n",
       "      <th></th>\n",
       "      <th></th>\n",
       "      <th></th>\n",
       "      <th></th>\n",
       "      <th></th>\n",
       "      <th></th>\n",
       "    </tr>\n",
       "  </thead>\n",
       "  <tbody>\n",
       "    <tr>\n",
       "      <th>2000-01-01</th>\n",
       "      <td>4.0</td>\n",
       "      <td>169.3</td>\n",
       "      <td>5.45</td>\n",
       "      <td>NaN</td>\n",
       "      <td>112.0</td>\n",
       "      <td>91.4092</td>\n",
       "      <td>268044.0</td>\n",
       "      <td>100.000</td>\n",
       "      <td>NaN</td>\n",
       "      <td>NaN</td>\n",
       "    </tr>\n",
       "    <tr>\n",
       "      <th>2000-01-31</th>\n",
       "      <td>NaN</td>\n",
       "      <td>NaN</td>\n",
       "      <td>NaN</td>\n",
       "      <td>13878.147</td>\n",
       "      <td>NaN</td>\n",
       "      <td>NaN</td>\n",
       "      <td>NaN</td>\n",
       "      <td>NaN</td>\n",
       "      <td>27.65</td>\n",
       "      <td>0.9757</td>\n",
       "    </tr>\n",
       "    <tr>\n",
       "      <th>2000-02-01</th>\n",
       "      <td>4.1</td>\n",
       "      <td>170.0</td>\n",
       "      <td>5.73</td>\n",
       "      <td>NaN</td>\n",
       "      <td>111.3</td>\n",
       "      <td>91.7245</td>\n",
       "      <td>272020.0</td>\n",
       "      <td>100.571</td>\n",
       "      <td>NaN</td>\n",
       "      <td>NaN</td>\n",
       "    </tr>\n",
       "    <tr>\n",
       "      <th>2000-02-29</th>\n",
       "      <td>NaN</td>\n",
       "      <td>NaN</td>\n",
       "      <td>NaN</td>\n",
       "      <td>13878.147</td>\n",
       "      <td>NaN</td>\n",
       "      <td>NaN</td>\n",
       "      <td>NaN</td>\n",
       "      <td>NaN</td>\n",
       "      <td>30.57</td>\n",
       "      <td>0.9643</td>\n",
       "    </tr>\n",
       "    <tr>\n",
       "      <th>2000-03-01</th>\n",
       "      <td>4.0</td>\n",
       "      <td>171.0</td>\n",
       "      <td>5.85</td>\n",
       "      <td>NaN</td>\n",
       "      <td>107.1</td>\n",
       "      <td>92.0830</td>\n",
       "      <td>275192.0</td>\n",
       "      <td>101.466</td>\n",
       "      <td>NaN</td>\n",
       "      <td>NaN</td>\n",
       "    </tr>\n",
       "  </tbody>\n",
       "</table>\n",
       "</div>"
      ],
      "text/plain": [
       "                  Unemployment_Rate    CPI  Fed_Funds_Rate   Real_GDP  \\\n",
       "observation_date                                                        \n",
       "2000-01-01                      4.0  169.3            5.45        NaN   \n",
       "2000-01-31                      NaN    NaN             NaN  13878.147   \n",
       "2000-02-01                      4.1  170.0            5.73        NaN   \n",
       "2000-02-29                      NaN    NaN             NaN  13878.147   \n",
       "2000-03-01                      4.0  171.0            5.85        NaN   \n",
       "\n",
       "                  Consumer_Sentiment  Industrial_Production  Retail_Sales  \\\n",
       "observation_date                                                            \n",
       "2000-01-01                     112.0                91.4092      268044.0   \n",
       "2000-01-31                       NaN                    NaN           NaN   \n",
       "2000-02-01                     111.3                91.7245      272020.0   \n",
       "2000-02-29                       NaN                    NaN           NaN   \n",
       "2000-03-01                     107.1                92.0830      275192.0   \n",
       "\n",
       "                  Home_Price_Index  Crude_Oil_WTI  EUR_USD_Exchange_Rate  \n",
       "observation_date                                                          \n",
       "2000-01-01                 100.000            NaN                    NaN  \n",
       "2000-01-31                     NaN          27.65                 0.9757  \n",
       "2000-02-01                 100.571            NaN                    NaN  \n",
       "2000-02-29                     NaN          30.57                 0.9643  \n",
       "2000-03-01                 101.466            NaN                    NaN  "
      ]
     },
     "execution_count": 33,
     "metadata": {},
     "output_type": "execute_result"
    }
   ],
   "source": [
    "combined_df.head()"
   ]
  },
  {
   "cell_type": "code",
   "execution_count": 34,
   "metadata": {},
   "outputs": [],
   "source": [
    "# Converting index to monthly periods\n",
    "combined_df.index = combined_df.index.to_period('M')\n",
    "\n",
    "\n",
    "# Grouping by the monthly period and combining the data\n",
    "def fill_month_data(group):\n",
    "    # Forward fill then backward fill within the monthly group to eliminate NaNs\n",
    "    return group.ffill().bfill()\n",
    "\n",
    "filled = combined_df.groupby(level=0).apply(fill_month_data)\n",
    "\n",
    "monthly_df = filled.groupby(level=0).last()\n",
    "\n",
    "# Converting the PeriodIndex back to a Timestamp \n",
    "monthly_df.index = monthly_df.index.to_timestamp('M')\n",
    "\n",
    "# Saving the result\n",
    "monthly_df.to_csv(\"us_macro_data_monthly_aligned.csv\")"
   ]
  },
  {
   "cell_type": "code",
   "execution_count": 35,
   "metadata": {},
   "outputs": [
    {
     "name": "stdout",
     "output_type": "stream",
     "text": [
      "Columns with missing values and their counts:\n",
      "Unemployment_Rate        1\n",
      "CPI                      1\n",
      "Fed_Funds_Rate           1\n",
      "Real_GDP                 5\n",
      "Consumer_Sentiment       2\n",
      "Industrial_Production    2\n",
      "Retail_Sales             2\n",
      "Home_Price_Index         3\n",
      "dtype: int64\n"
     ]
    }
   ],
   "source": [
    "# Calculating the number of missing values per column\n",
    "missing_values = monthly_df.isnull().sum()\n",
    "\n",
    "# Filtering columns that have missing values\n",
    "missing_values = missing_values[missing_values > 0]\n",
    "\n",
    "print(\"Columns with missing values and their counts:\")\n",
    "print(missing_values)"
   ]
  },
  {
   "cell_type": "code",
   "execution_count": 36,
   "metadata": {},
   "outputs": [],
   "source": [
    "# modifying the original DataFrame in place\n",
    "monthly_df.fillna(method='ffill', inplace=True)"
   ]
  },
  {
   "cell_type": "code",
   "execution_count": 37,
   "metadata": {},
   "outputs": [
    {
     "data": {
      "text/html": [
       "<div>\n",
       "<style scoped>\n",
       "    .dataframe tbody tr th:only-of-type {\n",
       "        vertical-align: middle;\n",
       "    }\n",
       "\n",
       "    .dataframe tbody tr th {\n",
       "        vertical-align: top;\n",
       "    }\n",
       "\n",
       "    .dataframe thead th {\n",
       "        text-align: right;\n",
       "    }\n",
       "</style>\n",
       "<table border=\"1\" class=\"dataframe\">\n",
       "  <thead>\n",
       "    <tr style=\"text-align: right;\">\n",
       "      <th></th>\n",
       "      <th>Unemployment_Rate</th>\n",
       "      <th>CPI</th>\n",
       "      <th>Fed_Funds_Rate</th>\n",
       "      <th>Real_GDP</th>\n",
       "      <th>Consumer_Sentiment</th>\n",
       "      <th>Industrial_Production</th>\n",
       "      <th>Retail_Sales</th>\n",
       "      <th>Home_Price_Index</th>\n",
       "      <th>Crude_Oil_WTI</th>\n",
       "      <th>EUR_USD_Exchange_Rate</th>\n",
       "    </tr>\n",
       "    <tr>\n",
       "      <th>observation_date</th>\n",
       "      <th></th>\n",
       "      <th></th>\n",
       "      <th></th>\n",
       "      <th></th>\n",
       "      <th></th>\n",
       "      <th></th>\n",
       "      <th></th>\n",
       "      <th></th>\n",
       "      <th></th>\n",
       "      <th></th>\n",
       "    </tr>\n",
       "  </thead>\n",
       "  <tbody>\n",
       "    <tr>\n",
       "      <th>2000-01-31</th>\n",
       "      <td>4.0</td>\n",
       "      <td>169.3</td>\n",
       "      <td>5.45</td>\n",
       "      <td>13878.147000</td>\n",
       "      <td>112.0</td>\n",
       "      <td>91.4092</td>\n",
       "      <td>268044.0</td>\n",
       "      <td>100.000</td>\n",
       "      <td>27.65</td>\n",
       "      <td>0.9757</td>\n",
       "    </tr>\n",
       "    <tr>\n",
       "      <th>2000-02-29</th>\n",
       "      <td>4.1</td>\n",
       "      <td>170.0</td>\n",
       "      <td>5.73</td>\n",
       "      <td>13959.592211</td>\n",
       "      <td>111.3</td>\n",
       "      <td>91.7245</td>\n",
       "      <td>272020.0</td>\n",
       "      <td>100.571</td>\n",
       "      <td>30.57</td>\n",
       "      <td>0.9643</td>\n",
       "    </tr>\n",
       "    <tr>\n",
       "      <th>2000-03-31</th>\n",
       "      <td>4.0</td>\n",
       "      <td>171.0</td>\n",
       "      <td>5.85</td>\n",
       "      <td>14046.654333</td>\n",
       "      <td>107.1</td>\n",
       "      <td>92.0830</td>\n",
       "      <td>275192.0</td>\n",
       "      <td>101.466</td>\n",
       "      <td>26.86</td>\n",
       "      <td>0.9574</td>\n",
       "    </tr>\n",
       "    <tr>\n",
       "      <th>2000-04-30</th>\n",
       "      <td>3.8</td>\n",
       "      <td>170.9</td>\n",
       "      <td>6.02</td>\n",
       "      <td>14130.908000</td>\n",
       "      <td>109.2</td>\n",
       "      <td>92.6659</td>\n",
       "      <td>271046.0</td>\n",
       "      <td>102.541</td>\n",
       "      <td>25.71</td>\n",
       "      <td>0.9089</td>\n",
       "    </tr>\n",
       "    <tr>\n",
       "      <th>2000-05-31</th>\n",
       "      <td>4.0</td>\n",
       "      <td>171.2</td>\n",
       "      <td>6.27</td>\n",
       "      <td>14135.761522</td>\n",
       "      <td>110.7</td>\n",
       "      <td>92.9347</td>\n",
       "      <td>271394.0</td>\n",
       "      <td>103.702</td>\n",
       "      <td>29.03</td>\n",
       "      <td>0.9328</td>\n",
       "    </tr>\n",
       "  </tbody>\n",
       "</table>\n",
       "</div>"
      ],
      "text/plain": [
       "                  Unemployment_Rate    CPI  Fed_Funds_Rate      Real_GDP  \\\n",
       "observation_date                                                           \n",
       "2000-01-31                      4.0  169.3            5.45  13878.147000   \n",
       "2000-02-29                      4.1  170.0            5.73  13959.592211   \n",
       "2000-03-31                      4.0  171.0            5.85  14046.654333   \n",
       "2000-04-30                      3.8  170.9            6.02  14130.908000   \n",
       "2000-05-31                      4.0  171.2            6.27  14135.761522   \n",
       "\n",
       "                  Consumer_Sentiment  Industrial_Production  Retail_Sales  \\\n",
       "observation_date                                                            \n",
       "2000-01-31                     112.0                91.4092      268044.0   \n",
       "2000-02-29                     111.3                91.7245      272020.0   \n",
       "2000-03-31                     107.1                92.0830      275192.0   \n",
       "2000-04-30                     109.2                92.6659      271046.0   \n",
       "2000-05-31                     110.7                92.9347      271394.0   \n",
       "\n",
       "                  Home_Price_Index  Crude_Oil_WTI  EUR_USD_Exchange_Rate  \n",
       "observation_date                                                          \n",
       "2000-01-31                 100.000          27.65                 0.9757  \n",
       "2000-02-29                 100.571          30.57                 0.9643  \n",
       "2000-03-31                 101.466          26.86                 0.9574  \n",
       "2000-04-30                 102.541          25.71                 0.9089  \n",
       "2000-05-31                 103.702          29.03                 0.9328  "
      ]
     },
     "execution_count": 37,
     "metadata": {},
     "output_type": "execute_result"
    }
   ],
   "source": [
    "# Define months to set as NaN\n",
    "months_to_nan = [2, 3, 5, 6, 8, 9, 11, 12]\n",
    "\n",
    "# Replace specified months with NaN\n",
    "monthly_df.loc[monthly_df.index.month.isin(months_to_nan), 'Real_GDP'] = np.nan\n",
    "\n",
    "# Interpolate missing values\n",
    "monthly_df['Real_GDP'] = monthly_df['Real_GDP'].interpolate(method='time')\n",
    "\n",
    "\n",
    "monthly_df.head()"
   ]
  },
  {
   "cell_type": "code",
   "execution_count": 38,
   "metadata": {},
   "outputs": [],
   "source": [
    "# columns to round\n",
    "columns_to_round = ['Real_GDP', 'Industrial_Production', 'Home_Price_Index', 'EUR_USD_Exchange_Rate']\n",
    "\n",
    "# Rounding the specified columns to 2 decimal places\n",
    "monthly_df[columns_to_round] = monthly_df[columns_to_round].round(2)"
   ]
  },
  {
   "cell_type": "code",
   "execution_count": 39,
   "metadata": {},
   "outputs": [],
   "source": [
    "# Saving data\n",
    "monthly_df.reset_index().to_csv('economic_indicators.csv', index=False)"
   ]
  },
  {
   "cell_type": "markdown",
   "metadata": {},
   "source": [
    "### 2.2 Sector-specific Financial Data ###"
   ]
  },
  {
   "cell_type": "code",
   "execution_count": 40,
   "metadata": {},
   "outputs": [
    {
     "name": "stdout",
     "output_type": "stream",
     "text": [
      "Downloading data for Materials (XLB)...\n",
      "Downloading data for Energy (XLE)...\n",
      "Downloading data for Financials (XLF)...\n",
      "Downloading data for Industrials (XLI)...\n",
      "Downloading data for Technology (XLK)...\n",
      "Downloading data for Consumer Staples (XLP)...\n",
      "Downloading data for Utilities (XLU)...\n",
      "Downloading data for Health Care (XLV)...\n",
      "Downloading data for Consumer Discretionary (XLY)...\n"
     ]
    },
    {
     "data": {
      "text/html": [
       "<div>\n",
       "<style scoped>\n",
       "    .dataframe tbody tr th:only-of-type {\n",
       "        vertical-align: middle;\n",
       "    }\n",
       "\n",
       "    .dataframe tbody tr th {\n",
       "        vertical-align: top;\n",
       "    }\n",
       "\n",
       "    .dataframe thead th {\n",
       "        text-align: right;\n",
       "    }\n",
       "</style>\n",
       "<table border=\"1\" class=\"dataframe\">\n",
       "  <thead>\n",
       "    <tr style=\"text-align: right;\">\n",
       "      <th></th>\n",
       "      <th>Materials</th>\n",
       "      <th>Energy</th>\n",
       "      <th>Financials</th>\n",
       "      <th>Industrials</th>\n",
       "      <th>Technology</th>\n",
       "      <th>Consumer Staples</th>\n",
       "      <th>Utilities</th>\n",
       "      <th>Health Care</th>\n",
       "      <th>Consumer Discretionary</th>\n",
       "    </tr>\n",
       "    <tr>\n",
       "      <th>Date</th>\n",
       "      <th></th>\n",
       "      <th></th>\n",
       "      <th></th>\n",
       "      <th></th>\n",
       "      <th></th>\n",
       "      <th></th>\n",
       "      <th></th>\n",
       "      <th></th>\n",
       "      <th></th>\n",
       "    </tr>\n",
       "  </thead>\n",
       "  <tbody>\n",
       "    <tr>\n",
       "      <th>2000-01-03</th>\n",
       "      <td>14.887234</td>\n",
       "      <td>13.962523</td>\n",
       "      <td>11.351280</td>\n",
       "      <td>18.467203</td>\n",
       "      <td>41.629463</td>\n",
       "      <td>12.635743</td>\n",
       "      <td>11.514973</td>\n",
       "      <td>20.980354</td>\n",
       "      <td>22.582930</td>\n",
       "    </tr>\n",
       "    <tr>\n",
       "      <th>2000-01-04</th>\n",
       "      <td>14.743911</td>\n",
       "      <td>13.699697</td>\n",
       "      <td>10.855048</td>\n",
       "      <td>17.957001</td>\n",
       "      <td>39.517490</td>\n",
       "      <td>12.279931</td>\n",
       "      <td>11.167623</td>\n",
       "      <td>20.504267</td>\n",
       "      <td>21.903555</td>\n",
       "    </tr>\n",
       "    <tr>\n",
       "      <th>2000-01-05</th>\n",
       "      <td>15.353011</td>\n",
       "      <td>14.061080</td>\n",
       "      <td>10.769757</td>\n",
       "      <td>17.876970</td>\n",
       "      <td>38.930832</td>\n",
       "      <td>12.496892</td>\n",
       "      <td>11.449439</td>\n",
       "      <td>20.320320</td>\n",
       "      <td>21.634174</td>\n",
       "    </tr>\n",
       "    <tr>\n",
       "      <th>2000-01-06</th>\n",
       "      <td>15.747142</td>\n",
       "      <td>14.603150</td>\n",
       "      <td>11.242732</td>\n",
       "      <td>18.117067</td>\n",
       "      <td>37.640175</td>\n",
       "      <td>12.731205</td>\n",
       "      <td>11.429770</td>\n",
       "      <td>20.385250</td>\n",
       "      <td>21.880133</td>\n",
       "    </tr>\n",
       "    <tr>\n",
       "      <th>2000-01-07</th>\n",
       "      <td>15.738176</td>\n",
       "      <td>14.759211</td>\n",
       "      <td>11.428814</td>\n",
       "      <td>18.807333</td>\n",
       "      <td>38.297234</td>\n",
       "      <td>13.538295</td>\n",
       "      <td>11.528080</td>\n",
       "      <td>20.634102</td>\n",
       "      <td>22.910894</td>\n",
       "    </tr>\n",
       "  </tbody>\n",
       "</table>\n",
       "</div>"
      ],
      "text/plain": [
       "            Materials     Energy  Financials  Industrials  Technology  \\\n",
       "Date                                                                    \n",
       "2000-01-03  14.887234  13.962523   11.351280    18.467203   41.629463   \n",
       "2000-01-04  14.743911  13.699697   10.855048    17.957001   39.517490   \n",
       "2000-01-05  15.353011  14.061080   10.769757    17.876970   38.930832   \n",
       "2000-01-06  15.747142  14.603150   11.242732    18.117067   37.640175   \n",
       "2000-01-07  15.738176  14.759211   11.428814    18.807333   38.297234   \n",
       "\n",
       "            Consumer Staples  Utilities  Health Care  Consumer Discretionary  \n",
       "Date                                                                          \n",
       "2000-01-03         12.635743  11.514973    20.980354               22.582930  \n",
       "2000-01-04         12.279931  11.167623    20.504267               21.903555  \n",
       "2000-01-05         12.496892  11.449439    20.320320               21.634174  \n",
       "2000-01-06         12.731205  11.429770    20.385250               21.880133  \n",
       "2000-01-07         13.538295  11.528080    20.634102               22.910894  "
      ]
     },
     "execution_count": 40,
     "metadata": {},
     "output_type": "execute_result"
    }
   ],
   "source": [
    "# Defining the list of sector ETFs based on GICS \n",
    "sector_etfs = {\n",
    "    \n",
    "    'Materials': 'XLB',                       \n",
    "    'Energy': 'XLE',                          \n",
    "    'Financials': 'XLF',                      \n",
    "    'Industrials': 'XLI',                     \n",
    "    'Technology': 'XLK',                      \n",
    "    'Consumer Staples': 'XLP',                \n",
    "    'Utilities': 'XLU',                       \n",
    "    'Health Care': 'XLV',                     \n",
    "    'Consumer Discretionary': 'XLY'           \n",
    "}\n",
    "\n",
    "# the date range\n",
    "start_date = '2000-01-01'\n",
    "end_date = datetime.today().strftime('%Y-%m-%d')\n",
    "\n",
    "# empty DataFrame to store adjusted close prices\n",
    "sector_data = pd.DataFrame()\n",
    "\n",
    "# Function to download data and handle exceptions\n",
    "def download_sector_data(sector, ticker, start, end):\n",
    "    print(f\"Downloading data for {sector} ({ticker})...\")\n",
    "    try:\n",
    "        data = yf.download(ticker, start=start, end=end, progress=False)\n",
    "        if data.empty:\n",
    "            print(f\"Warning: No data found for {ticker}. Skipping...\")\n",
    "            return None\n",
    "        return data['Adj Close']\n",
    "    except Exception as e:\n",
    "        print(f\"Error downloading data for {ticker}: {e}\")\n",
    "        return None\n",
    "\n",
    "# Downloading data for each sector ETF\n",
    "for sector, ticker in sector_etfs.items():\n",
    "    adj_close = download_sector_data(sector, ticker, start_date, end_date)\n",
    "    if adj_close is not None:\n",
    "        sector_data[sector] = adj_close\n",
    "\n",
    "\n",
    "# the first few rows of the collected data\n",
    "sector_data.head()"
   ]
  },
  {
   "cell_type": "code",
   "execution_count": 41,
   "metadata": {},
   "outputs": [
    {
     "name": "stdout",
     "output_type": "stream",
     "text": [
      "Constructing index for Communication Services sector...\n",
      "Constructing index for Real Estate sector...\n",
      "\n",
      "Sample of constructed sector indices:\n",
      "            Communication Services  Real Estate\n",
      "Date                                           \n",
      "2000-01-04                0.978575     0.992503\n",
      "2000-01-05                0.991185     0.999247\n",
      "2000-01-06                0.986085     1.013656\n",
      "2000-01-07                0.977003     1.040101\n",
      "2000-01-10                1.033626     1.066211\n"
     ]
    }
   ],
   "source": [
    "# Defining the list of representative stocks for each sector\n",
    "sector_stocks = {\n",
    "    'Communication Services': ['T', 'VZ', 'DIS', 'CMCSA', 'NFLX'],\n",
    "    'Real Estate': ['AMT', 'PLD', 'SPG', 'EQIX', 'PSA']\n",
    "}\n",
    "\n",
    "# the date range\n",
    "start_date = '2000-01-01'\n",
    "end_date = datetime.today().strftime('%Y-%m-%d')\n",
    "\n",
    "# Function to download adjusted close prices\n",
    "def get_adjusted_close(tickers, start, end):\n",
    "    data = yf.download(tickers, start=start, end=end, progress=False)['Adj Close']\n",
    "    return data\n",
    "\n",
    "# DataFrame to store sector indices\n",
    "sector_indices = pd.DataFrame()\n",
    "\n",
    "# Iterate over each sector\n",
    "for sector, tickers in sector_stocks.items():\n",
    "    print(f\"Constructing index for {sector} sector...\")\n",
    "    \n",
    "    # Download data for the sector's stocks\n",
    "    adj_close = get_adjusted_close(tickers, start_date, end_date)\n",
    "    \n",
    "    # Drop rows with all NaNs\n",
    "    adj_close.dropna(how='all', inplace=True)\n",
    "    \n",
    "    # Handle missing data by forward filling, then backward filling\n",
    "    adj_close.fillna(method='ffill', inplace=True)\n",
    "    adj_close.fillna(method='bfill', inplace=True)\n",
    "    \n",
    "    # Calculate daily returns\n",
    "    daily_returns = adj_close.pct_change().dropna()\n",
    "    \n",
    "    # Calculate mean daily return for equal weighting\n",
    "    mean_daily_return = daily_returns.mean(axis=1)\n",
    "    \n",
    "    # Calculate cumulative returns\n",
    "    cumulative_returns = (1 + mean_daily_return).cumprod()\n",
    "    \n",
    "    # Add to sector_indices DataFrame\n",
    "    sector_indices[sector] = cumulative_returns\n",
    "\n",
    "# Display sample data\n",
    "print(\"\\nSample of constructed sector indices:\")\n",
    "print(sector_indices.head())"
   ]
  },
  {
   "cell_type": "code",
   "execution_count": 42,
   "metadata": {},
   "outputs": [],
   "source": [
    "# Using pd.concat for merging on the index\n",
    "combined_sector_data = pd.concat([sector_indices, sector_data], axis=1, join='outer')"
   ]
  },
  {
   "cell_type": "code",
   "execution_count": 43,
   "metadata": {},
   "outputs": [
    {
     "data": {
      "text/html": [
       "<div>\n",
       "<style scoped>\n",
       "    .dataframe tbody tr th:only-of-type {\n",
       "        vertical-align: middle;\n",
       "    }\n",
       "\n",
       "    .dataframe tbody tr th {\n",
       "        vertical-align: top;\n",
       "    }\n",
       "\n",
       "    .dataframe thead th {\n",
       "        text-align: right;\n",
       "    }\n",
       "</style>\n",
       "<table border=\"1\" class=\"dataframe\">\n",
       "  <thead>\n",
       "    <tr style=\"text-align: right;\">\n",
       "      <th></th>\n",
       "      <th>Communication Services</th>\n",
       "      <th>Real Estate</th>\n",
       "      <th>Materials</th>\n",
       "      <th>Energy</th>\n",
       "      <th>Financials</th>\n",
       "      <th>Industrials</th>\n",
       "      <th>Technology</th>\n",
       "      <th>Consumer Staples</th>\n",
       "      <th>Utilities</th>\n",
       "      <th>Health Care</th>\n",
       "      <th>Consumer Discretionary</th>\n",
       "    </tr>\n",
       "    <tr>\n",
       "      <th>Date</th>\n",
       "      <th></th>\n",
       "      <th></th>\n",
       "      <th></th>\n",
       "      <th></th>\n",
       "      <th></th>\n",
       "      <th></th>\n",
       "      <th></th>\n",
       "      <th></th>\n",
       "      <th></th>\n",
       "      <th></th>\n",
       "      <th></th>\n",
       "    </tr>\n",
       "  </thead>\n",
       "  <tbody>\n",
       "    <tr>\n",
       "      <th>2000-01-31</th>\n",
       "      <td>100.00</td>\n",
       "      <td>100.00</td>\n",
       "      <td>100.00</td>\n",
       "      <td>100.00</td>\n",
       "      <td>100.00</td>\n",
       "      <td>100.00</td>\n",
       "      <td>100.00</td>\n",
       "      <td>100.00</td>\n",
       "      <td>100.00</td>\n",
       "      <td>100.00</td>\n",
       "      <td>100.00</td>\n",
       "    </tr>\n",
       "    <tr>\n",
       "      <th>2000-02-29</th>\n",
       "      <td>90.90</td>\n",
       "      <td>105.31</td>\n",
       "      <td>89.95</td>\n",
       "      <td>95.77</td>\n",
       "      <td>89.30</td>\n",
       "      <td>94.48</td>\n",
       "      <td>110.51</td>\n",
       "      <td>88.30</td>\n",
       "      <td>87.85</td>\n",
       "      <td>93.46</td>\n",
       "      <td>94.43</td>\n",
       "    </tr>\n",
       "    <tr>\n",
       "      <th>2000-03-31</th>\n",
       "      <td>102.26</td>\n",
       "      <td>106.37</td>\n",
       "      <td>99.03</td>\n",
       "      <td>107.68</td>\n",
       "      <td>105.60</td>\n",
       "      <td>107.64</td>\n",
       "      <td>119.78</td>\n",
       "      <td>91.62</td>\n",
       "      <td>97.44</td>\n",
       "      <td>101.87</td>\n",
       "      <td>107.79</td>\n",
       "    </tr>\n",
       "    <tr>\n",
       "      <th>2000-04-30</th>\n",
       "      <td>103.52</td>\n",
       "      <td>109.69</td>\n",
       "      <td>95.74</td>\n",
       "      <td>106.08</td>\n",
       "      <td>106.62</td>\n",
       "      <td>109.19</td>\n",
       "      <td>108.78</td>\n",
       "      <td>96.48</td>\n",
       "      <td>103.82</td>\n",
       "      <td>100.67</td>\n",
       "      <td>105.55</td>\n",
       "    </tr>\n",
       "    <tr>\n",
       "      <th>2000-05-31</th>\n",
       "      <td>100.01</td>\n",
       "      <td>105.05</td>\n",
       "      <td>92.72</td>\n",
       "      <td>118.53</td>\n",
       "      <td>109.00</td>\n",
       "      <td>108.73</td>\n",
       "      <td>97.47</td>\n",
       "      <td>103.36</td>\n",
       "      <td>103.59</td>\n",
       "      <td>97.98</td>\n",
       "      <td>99.85</td>\n",
       "    </tr>\n",
       "  </tbody>\n",
       "</table>\n",
       "</div>"
      ],
      "text/plain": [
       "            Communication Services  Real Estate  Materials  Energy  \\\n",
       "Date                                                                 \n",
       "2000-01-31                  100.00       100.00     100.00  100.00   \n",
       "2000-02-29                   90.90       105.31      89.95   95.77   \n",
       "2000-03-31                  102.26       106.37      99.03  107.68   \n",
       "2000-04-30                  103.52       109.69      95.74  106.08   \n",
       "2000-05-31                  100.01       105.05      92.72  118.53   \n",
       "\n",
       "            Financials  Industrials  Technology  Consumer Staples  Utilities  \\\n",
       "Date                                                                           \n",
       "2000-01-31      100.00       100.00      100.00            100.00     100.00   \n",
       "2000-02-29       89.30        94.48      110.51             88.30      87.85   \n",
       "2000-03-31      105.60       107.64      119.78             91.62      97.44   \n",
       "2000-04-30      106.62       109.19      108.78             96.48     103.82   \n",
       "2000-05-31      109.00       108.73       97.47            103.36     103.59   \n",
       "\n",
       "            Health Care  Consumer Discretionary  \n",
       "Date                                             \n",
       "2000-01-31       100.00                  100.00  \n",
       "2000-02-29        93.46                   94.43  \n",
       "2000-03-31       101.87                  107.79  \n",
       "2000-04-30       100.67                  105.55  \n",
       "2000-05-31        97.98                   99.85  "
      ]
     },
     "execution_count": 43,
     "metadata": {},
     "output_type": "execute_result"
    }
   ],
   "source": [
    "# Removing the first row\n",
    "combined_sector_data = combined_sector_data.iloc[1:]\n",
    "\n",
    "# Resampling to monthly frequency, taking the last available value in each month\n",
    "monthly_sector_data = combined_sector_data.resample('M').last()\n",
    "\n",
    "# Normalising all variables to start at 100\n",
    "columns_to_normalize = monthly_sector_data.columns.tolist()\n",
    "\n",
    "monthly_sector_data[columns_to_normalize] = monthly_sector_data[columns_to_normalize].apply(\n",
    "    lambda x: (x / x.iloc[0]) * 100\n",
    ")\n",
    "\n",
    "# Rounding all variables to 2 decimal places\n",
    "monthly_sector_data = monthly_sector_data.round(2)\n",
    "\n",
    "monthly_sector_data.head()"
   ]
  },
  {
   "cell_type": "code",
   "execution_count": 44,
   "metadata": {},
   "outputs": [],
   "source": [
    "# Saving the modified DataFrame\n",
    "monthly_sector_data.to_csv('business_sector_data.csv')"
   ]
  },
  {
   "cell_type": "code",
   "execution_count": 45,
   "metadata": {},
   "outputs": [],
   "source": [
    "sector_data = pd.read_csv('business_sector_data.csv')\n",
    "econ_data = pd.read_csv('economic_indicators.csv')"
   ]
  },
  {
   "cell_type": "code",
   "execution_count": 46,
   "metadata": {},
   "outputs": [],
   "source": [
    "# Using pd.concat for merging on the index\n",
    "combined_data = pd.concat([econ_data, sector_data], axis=1, join='outer')"
   ]
  },
  {
   "cell_type": "code",
   "execution_count": 49,
   "metadata": {},
   "outputs": [],
   "source": [
    "# Assuming combined_data is your DataFrame\n",
    "combined_data = combined_data.drop('Date', axis=1)"
   ]
  },
  {
   "cell_type": "code",
   "execution_count": 52,
   "metadata": {},
   "outputs": [],
   "source": [
    "# Saving the combined DataFrame\n",
    "combined_data.to_csv('cleaned_combined_data.csv')"
   ]
  },
  {
   "cell_type": "markdown",
   "metadata": {},
   "source": [
    "# 3.0 Analysis of sector performance #"
   ]
  },
  {
   "cell_type": "code",
   "execution_count": 2,
   "metadata": {},
   "outputs": [],
   "source": [
    "# Loading dataset\n",
    "data = pd.read_csv('cleaned_combined_data.csv')\n",
    "\n",
    "# 'DATE' column to datetime\n",
    "data['observation_date'] = pd.to_datetime(data['observation_date'])\n",
    "\n",
    "# Sorting the data by date in ascending order\n",
    "data.sort_values('observation_date', inplace=True)\n",
    "\n",
    "# 'DATE' as the index\n",
    "data.set_index('observation_date', inplace=True)\n"
   ]
  },
  {
   "cell_type": "code",
   "execution_count": 3,
   "metadata": {},
   "outputs": [
    {
     "data": {
      "image/png": "[encoded data removed]",
      "text/plain": [
       "<Figure size 1400x700 with 1 Axes>"
      ]
     },
     "metadata": {},
     "output_type": "display_data"
    }
   ],
   "source": [
    "# figure and axis\n",
    "plt.figure(figsize=(14, 7))\n",
    "\n",
    "# Ploting Real GDP \n",
    "sns.lineplot(x=data.index, y='Real_GDP', data=data, color='blue', linewidth=2, label='Real GDP')\n",
    "\n",
    "# Highlighting specific events \n",
    "events = {\n",
    "    '2008 Financial Crisis': '2008-06-01',\n",
    "    'COVID-19 Pandemic': '2020-01-01'\n",
    "}\n",
    "\n",
    "for event, date in events.items():\n",
    "    # Convert date string to datetime\n",
    "    event_date = pd.to_datetime(date)\n",
    "    \n",
    "    # vertical line\n",
    "    plt.axvline(event_date, color='red', linestyle='--', linewidth=1.5)\n",
    "    \n",
    "    # current y-axis limits\n",
    "    ymin, ymax = plt.ylim()\n",
    "    \n",
    "    # vertical alignment and y-position based on the event\n",
    "    if event == '2008 Financial Crisis':\n",
    "        va = 'top'\n",
    "        y_position = ymax * 0.95  # Near the top\n",
    "    elif event == 'COVID-19 Pandemic':\n",
    "        va = 'bottom'\n",
    "        y_position = ymin + (ymax - ymin) * 0.05  # Near the bottom\n",
    "    else:\n",
    "        va = 'center'\n",
    "        y_position = (ymax + ymin) / 2  # Default center position\n",
    "    \n",
    "    # text annotation \n",
    "    plt.text(event_date, y_position, event, rotation=90, verticalalignment=va, color='red', fontsize=12)\n",
    "\n",
    "# Adding title and labels\n",
    "plt.title('Real GDP Over Time with Key Economic Events (2000–2024)', fontsize=18)\n",
    "plt.xlabel('Date', fontsize=16)\n",
    "plt.ylabel('Real GDP (in Billions)', fontsize=16)\n",
    "\n",
    "# Defining the date format\n",
    "date_format = mdates.DateFormatter('%Y')\n",
    "\n",
    "# Setting ticks to every year\n",
    "plt.gca().xaxis.set_major_locator(mdates.YearLocator())\n",
    "plt.gca().xaxis.set_major_formatter(date_format)\n",
    "\n",
    "# Rotating x-axis labels \n",
    "plt.xticks(rotation=45, fontsize=12)\n",
    "\n",
    "# Increasing y-axis label font size\n",
    "plt.yticks(fontsize=12)\n",
    "\n",
    "# legend with increased font size\n",
    "plt.legend(fontsize=12)\n",
    "\n",
    "# Adjust layout \n",
    "plt.tight_layout()\n",
    "\n",
    "# Show the plot\n",
    "plt.show()\n"
   ]
  },
  {
   "cell_type": "markdown",
   "metadata": {},
   "source": [
    "The plot of U.S. real GDP from 2000 to 2024 reveals a generally upward trend, punctuated by two significant disruptions: the Financial Crisis of 2008-2009 and the COVID-19 pandemic in 2020. From 2000 until mid-2008, real GDP grew steadily, reflecting a robust economic expansion. However, the Financial Crisis caused a sharp contraction in real GDP, with the downturn lasting from mid-2008 to mid-2009. This period marked one of the most severe economic declines in recent history. Following the crisis, the economy rebounded, entering a prolonged phase of growth that persisted until early 2020. The onset of the COVID-19 pandemic then triggered another dramatic fall in real GDP, driven by widespread lockdowns and disruptions to global supply chains. Despite this, the recovery was remarkably swift, supported by aggressive fiscal and monetary policy interventions. Real GDP has since resumed its upward trajectory, demonstrating the resilience of the U.S. economy in the face of significant shocks. \n",
    "\n",
    "For the first part of our analysis, we will examine business sector performance during three eras: Era 1, the pre-financial crisis period (2000–2008); Era 2, the financial crisis and recovery period (2008–2020); and Era 3, the COVID pandemic and post-COVID period (2020–2024)."
   ]
  },
  {
   "cell_type": "code",
   "execution_count": 4,
   "metadata": {},
   "outputs": [],
   "source": [
    "# Defining era date ranges\n",
    "era1_start = '2000-01-01'\n",
    "era1_end = '2008-06-01'\n",
    "\n",
    "era2_start = '2008-06-01'\n",
    "era2_end = '2020-01-01'\n",
    "\n",
    "era3_start = '2020-01-01'\n",
    "era3_end = '2024-12-01'\n",
    "\n",
    "# Filtering data for each era\n",
    "era1_data = data.loc[era1_start:era1_end]\n",
    "era2_data = data.loc[era2_start:era2_end]\n",
    "era3_data = data.loc[era3_start:era3_end]\n"
   ]
  },
  {
   "cell_type": "code",
   "execution_count": 5,
   "metadata": {},
   "outputs": [],
   "source": [
    "# Defining sector columns\n",
    "sector_columns = [\n",
    "    'Communication Services', 'Real Estate', 'Materials', 'Energy',\n",
    "    'Financials', 'Industrials', 'Technology', 'Consumer Staples',\n",
    "    'Utilities', 'Health Care', 'Consumer Discretionary'\n",
    "]\n",
    "\n",
    "# Function to normalize sector data\n",
    "def normalize_era(era_df, sector_cols):\n",
    "    return era_df[sector_cols].div(era_df[sector_cols].iloc[0]).mul(100)\n",
    "\n",
    "# Normalize each era\n",
    "era1_norm = normalize_era(era1_data, sector_columns)\n",
    "era2_norm = normalize_era(era2_data, sector_columns)\n",
    "era3_norm = normalize_era(era3_data, sector_columns)\n"
   ]
  },
  {
   "cell_type": "code",
   "execution_count": 6,
   "metadata": {},
   "outputs": [],
   "source": [
    "# Assign a color palette with sufficient distinct colors\n",
    "palette = sns.color_palette(\"tab20\", len(sector_columns))  \n",
    "\n",
    "# Creating a dictionary mapping each sector to a color\n",
    "sector_colors = {sector: palette[i] for i, sector in enumerate(sector_columns)}\n",
    "\n",
    "# Convert the seaborn palette to hexadecimal colors for Plotly using matplotlib.colors.to_hex\n",
    "sector_colors_hex = {sector: mcolors.to_hex(color) for sector, color in sector_colors.items()}\n"
   ]
  },
  {
   "cell_type": "code",
   "execution_count": 7,
   "metadata": {},
   "outputs": [],
   "source": [
    "# Function to compute log returns\n",
    "def compute_log_returns(era_norm_df):\n",
    "    return np.log(era_norm_df / era_norm_df.shift(1)).dropna()\n",
    "\n",
    "# Compute log returns for each era\n",
    "era1_returns = compute_log_returns(era1_norm)\n",
    "era2_returns = compute_log_returns(era2_norm)\n",
    "era3_returns = compute_log_returns(era3_norm)\n",
    "\n",
    "# Function to compute average return and risk\n",
    "def compute_stats(returns_df):\n",
    "    avg_return = returns_df.mean() * 12  # Annualize the average monthly return\n",
    "    risk = returns_df.std() * np.sqrt(12)  # Annualize the standard deviation\n",
    "    return avg_return, risk\n",
    "\n",
    "# Compute stats for each era\n",
    "era1_avg_return, era1_risk = compute_stats(era1_returns)\n",
    "era2_avg_return, era2_risk = compute_stats(era2_returns)\n",
    "era3_avg_return, era3_risk = compute_stats(era3_returns)\n"
   ]
  },
  {
   "cell_type": "code",
   "execution_count": 8,
   "metadata": {},
   "outputs": [],
   "source": [
    "# Function to create stats dataframe\n",
    "def create_stats_df(avg_return, risk, period_label):\n",
    "    return pd.DataFrame({\n",
    "        'Sector': avg_return.index,\n",
    "        'Period': period_label,\n",
    "        'Return': avg_return.values,\n",
    "        'Risk': risk.values\n",
    "    })\n",
    "\n",
    "# Create stats dataframes for each era\n",
    "era1_stats = create_stats_df(era1_avg_return, era1_risk, '2000-2008')\n",
    "era2_stats = create_stats_df(era2_avg_return, era2_risk, '2008-2020')\n",
    "era3_stats = create_stats_df(era3_avg_return, era3_risk, '2020-2024')\n",
    "\n",
    "# Combine all eras into a single DataFrame\n",
    "full_data = pd.concat([era1_stats, era2_stats, era3_stats], ignore_index=True)\n"
   ]
  },
  {
   "cell_type": "code",
   "execution_count": 9,
   "metadata": {},
   "outputs": [
    {
     "data": {
      "text/html": [
       "<div>\n",
       "<style scoped>\n",
       "    .dataframe tbody tr th:only-of-type {\n",
       "        vertical-align: middle;\n",
       "    }\n",
       "\n",
       "    .dataframe tbody tr th {\n",
       "        vertical-align: top;\n",
       "    }\n",
       "\n",
       "    .dataframe thead th {\n",
       "        text-align: right;\n",
       "    }\n",
       "</style>\n",
       "<table border=\"1\" class=\"dataframe\">\n",
       "  <thead>\n",
       "    <tr style=\"text-align: right;\">\n",
       "      <th></th>\n",
       "      <th>Sector</th>\n",
       "      <th>Period</th>\n",
       "      <th>Return</th>\n",
       "      <th>Risk</th>\n",
       "      <th>Market Cap (Trillion USD)</th>\n",
       "    </tr>\n",
       "  </thead>\n",
       "  <tbody>\n",
       "    <tr>\n",
       "      <th>0</th>\n",
       "      <td>Communication Services</td>\n",
       "      <td>2000-2008</td>\n",
       "      <td>0.078635</td>\n",
       "      <td>0.191769</td>\n",
       "      <td>0.60</td>\n",
       "    </tr>\n",
       "    <tr>\n",
       "      <th>1</th>\n",
       "      <td>Real Estate</td>\n",
       "      <td>2000-2008</td>\n",
       "      <td>0.190385</td>\n",
       "      <td>0.314944</td>\n",
       "      <td>0.60</td>\n",
       "    </tr>\n",
       "    <tr>\n",
       "      <th>2</th>\n",
       "      <td>Materials</td>\n",
       "      <td>2000-2008</td>\n",
       "      <td>0.100885</td>\n",
       "      <td>0.188060</td>\n",
       "      <td>0.45</td>\n",
       "    </tr>\n",
       "    <tr>\n",
       "      <th>3</th>\n",
       "      <td>Energy</td>\n",
       "      <td>2000-2008</td>\n",
       "      <td>0.152933</td>\n",
       "      <td>0.205274</td>\n",
       "      <td>0.60</td>\n",
       "    </tr>\n",
       "    <tr>\n",
       "      <th>4</th>\n",
       "      <td>Financials</td>\n",
       "      <td>2000-2008</td>\n",
       "      <td>0.029219</td>\n",
       "      <td>0.168447</td>\n",
       "      <td>2.25</td>\n",
       "    </tr>\n",
       "  </tbody>\n",
       "</table>\n",
       "</div>"
      ],
      "text/plain": [
       "                   Sector     Period    Return      Risk  \\\n",
       "0  Communication Services  2000-2008  0.078635  0.191769   \n",
       "1             Real Estate  2000-2008  0.190385  0.314944   \n",
       "2               Materials  2000-2008  0.100885  0.188060   \n",
       "3                  Energy  2000-2008  0.152933  0.205274   \n",
       "4              Financials  2000-2008  0.029219  0.168447   \n",
       "\n",
       "   Market Cap (Trillion USD)  \n",
       "0                       0.60  \n",
       "1                       0.60  \n",
       "2                       0.45  \n",
       "3                       0.60  \n",
       "4                       2.25  "
      ]
     },
     "execution_count": 9,
     "metadata": {},
     "output_type": "execute_result"
    }
   ],
   "source": [
    "# Defining estimated market caps for each era\n",
    "market_caps_era1 = pd.DataFrame({\n",
    "    'Sector': sector_columns,\n",
    "    'Period': '2000-2008',\n",
    "    'Market Cap (Trillion USD)': [\n",
    "        0.60, 0.60, 0.45, 0.60,\n",
    "        2.25, 1.80, 1.50, 1.05,\n",
    "        0.45, 1.80, 2.40\n",
    "    ]\n",
    "})\n",
    "\n",
    "market_caps_era2 = pd.DataFrame({\n",
    "    'Sector': sector_columns,\n",
    "    'Period': '2008-2020',\n",
    "    'Market Cap (Trillion USD)': [\n",
    "        3.00, 0.90, 0.60, 0.60,\n",
    "        3.30, 2.40, 8.10, 1.80,\n",
    "        0.60, 3.90, 4.80\n",
    "    ]\n",
    "})\n",
    "\n",
    "market_caps_era3 = pd.DataFrame({\n",
    "    'Sector': sector_columns,\n",
    "    'Period': '2020-2024',\n",
    "    'Market Cap (Trillion USD)': [\n",
    "        4.40, 0.80, 0.80, 1.20,\n",
    "        4.00, 2.80, 12.00, 2.00,\n",
    "        0.80, 5.20, 6.80\n",
    "    ]\n",
    "})\n",
    "\n",
    "# Combining all market cap data\n",
    "all_market_caps = pd.concat([market_caps_era1, market_caps_era2, market_caps_era3], ignore_index=True)\n",
    "\n",
    "# Merging the market cap data with full_data\n",
    "full_data_with_market_cap = pd.merge(\n",
    "    full_data,\n",
    "    all_market_caps,\n",
    "    on=['Sector', 'Period'],\n",
    "    how='left'\n",
    ")\n",
    "\n",
    "# Displaying the combined DataFrame\n",
    "full_data_with_market_cap.head()\n"
   ]
  },
  {
   "cell_type": "code",
   "execution_count": 10,
   "metadata": {},
   "outputs": [],
   "source": [
    "# Function to calculate maximum drawdown for a pandas Series\n",
    "def calculate_max_drawdown(series):\n",
    "    \"\"\"\n",
    "    Calculate the maximum drawdown of a time series.\n",
    "\n",
    "    Parameters:\n",
    "    series (pd.Series): The time series data.\n",
    "\n",
    "    Returns:\n",
    "    float: The maximum drawdown as a positive percentage.\n",
    "    \"\"\"\n",
    "    cumulative_max = series.cummax()\n",
    "    drawdown = (series - cumulative_max) / cumulative_max\n",
    "    max_drawdown = drawdown.min()  # This will be negative\n",
    "    return abs(max_drawdown) * 100  # Convert to positive percentage\n",
    "\n",
    "# Calculate maximum drawdown for each sector in each era\n",
    "def get_max_drawdowns(era_norm_df, sectors):\n",
    "    \"\"\"\n",
    "    Calculate maximum drawdowns for all sectors in a given era.\n",
    "\n",
    "    Parameters:\n",
    "    era_norm_df (pd.DataFrame): Normalized data for the era.\n",
    "    sectors (list): List of sector column names.\n",
    "\n",
    "    Returns:\n",
    "    pd.Series: Maximum drawdown for each sector.\n",
    "    \"\"\"\n",
    "    return era_norm_df[sectors].apply(calculate_max_drawdown)\n",
    "\n",
    "# Calculate drawdowns for each era\n",
    "max_drawdown_era1 = get_max_drawdowns(era1_norm, sector_columns)\n",
    "max_drawdown_era2 = get_max_drawdowns(era2_norm, sector_columns)\n",
    "max_drawdown_era3 = get_max_drawdowns(era3_norm, sector_columns)"
   ]
  },
  {
   "cell_type": "code",
   "execution_count": 11,
   "metadata": {},
   "outputs": [],
   "source": [
    "# Function to plot maximum drawdowns interactively using Plotly\n",
    "def plot_max_drawdown_interactive(max_drawdown_series, era_label, sector_colors_hex):\n",
    "    \"\"\"\n",
    "    Plot an interactive vertical bar chart of maximum drawdowns for a given era using Plotly.\n",
    "\n",
    "    Parameters:\n",
    "    max_drawdown_series (pd.Series): Maximum drawdown values for sectors.\n",
    "    era_label (str): Label for the era (e.g., 'Era 1').\n",
    "    sector_colors_hex (dict): Mapping of sector names to hex color codes.\n",
    "    \"\"\"\n",
    "    # Sort the drawdowns in descending order\n",
    "    sorted_drawdown = max_drawdown_series.sort_values(ascending=False)\n",
    "    \n",
    "    # Create a DataFrame for Plotly\n",
    "    df_plot = pd.DataFrame({\n",
    "        'Sector': sorted_drawdown.index,\n",
    "        'Maximum Drawdown (%)': sorted_drawdown.values\n",
    "    })\n",
    "    \n",
    "    # Round the Maximum Drawdown (%) to one decimal place\n",
    "    df_plot['Maximum Drawdown (%)'] = df_plot['Maximum Drawdown (%)'].round(1)\n",
    "    \n",
    "    # Create a color mapping for Plotly\n",
    "    color_map = {sector: sector_colors_hex[sector] for sector in sorted_drawdown.index}\n",
    "    \n",
    "    # Create the bar chart with increased height and rounded text\n",
    "    fig = px.bar(\n",
    "        df_plot,\n",
    "        x='Sector',\n",
    "        y='Maximum Drawdown (%)',\n",
    "        color='Sector',\n",
    "        color_discrete_map=color_map,\n",
    "        title=f'Maximum Drawdown by Sector - {era_label}',\n",
    "        labels={'Maximum Drawdown (%)': 'Maximum Drawdown (%)', 'Sector': 'Sector'},\n",
    "        text='Maximum Drawdown (%)',  # Display the drawdown value on bars\n",
    "        width=1200,\n",
    "        height=600  # Increase the plot height to 700 pixels\n",
    "    )\n",
    "    \n",
    "    # Update the text to format with one decimal place and a percentage sign\n",
    "    fig.update_traces(\n",
    "        texttemplate='%{text:.1f}%',  # Format text labels to one decimal place\n",
    "        textposition='outside'  # Position text labels outside the bars\n",
    "    )\n",
    "    \n",
    "    # Update layout for better aesthetics\n",
    "    fig.update_layout(\n",
    "        xaxis_title='Sector',\n",
    "        yaxis_title='Maximum Drawdown (%)',\n",
    "        legend_title='Sector',\n",
    "        title_x=0.5,  # Center the title\n",
    "        uniformtext_minsize=8,\n",
    "        uniformtext_mode='hide',\n",
    "        plot_bgcolor='rgba(0,0,0,0)',  # Make background transparent\n",
    "        margin=dict(t=100, l=40, r=40, b=100)  # Adjust margins if necessary\n",
    "    )\n",
    "    \n",
    "    # Format y-axis ticks to show one decimal place\n",
    "    fig.update_yaxes(\n",
    "        tickformat=\".1f\",  # One decimal place\n",
    "        title_font=dict(size=14),\n",
    "        tickfont=dict(size=12)\n",
    "    )\n",
    "    \n",
    "    # Optionally, adjust the y-axis to add some padding\n",
    "    fig.update_yaxes(range=[0, df_plot['Maximum Drawdown (%)'].max() * 1.1])\n",
    "    \n",
    "    # Show the figure\n",
    "    fig.show()\n"
   ]
  },
  {
   "cell_type": "markdown",
   "metadata": {},
   "source": [
    "## 3.1 Era 1 (2000-2008) ##"
   ]
  },
  {
   "cell_type": "code",
   "execution_count": 13,
   "metadata": {},
   "outputs": [
    {
     "data": {
      "application/vnd.plotly.v1+json": {
       "config": {
        "plotlyServerURL": "https://plot.ly"
       },
       "data": [
        {
         "hoverinfo": "x+y+name",
         "line": {
          "color": "#1f77b4"
         },
         "mode": "lines",
         "name": "Communication Services",
         "type": "scatter",
         "x": [
          "2000-01-31T00:00:00",
          "2000-02-29T00:00:00",
          "2000-03-31T00:00:00",
          "2000-04-30T00:00:00",
          "2000-05-31T00:00:00",
          "2000-06-30T00:00:00",
          "2000-07-31T00:00:00",
          "2000-08-31T00:00:00",
          "2000-09-30T00:00:00",
          "2000-10-31T00:00:00",
          "2000-11-30T00:00:00",
          "2000-12-31T00:00:00",
          "2001-01-31T00:00:00",
          "2001-02-28T00:00:00",
          "2001-03-31T00:00:00",
          "2001-04-30T00:00:00",
          "2001-05-31T00:00:00",
          "2001-06-30T00:00:00",
          "2001-07-31T00:00:00",
          "2001-08-31T00:00:00",
          "2001-09-30T00:00:00",
          "2001-10-31T00:00:00",
          "2001-11-30T00:00:00",
          "2001-12-31T00:00:00",
          "2002-01-31T00:00:00",
          "2002-02-28T00:00:00",
          "2002-03-31T00:00:00",
          "2002-04-30T00:00:00",
          "2002-05-31T00:00:00",
          "2002-06-30T00:00:00",
          "2002-07-31T00:00:00",
          "2002-08-31T00:00:00",
          "2002-09-30T00:00:00",
          "2002-10-31T00:00:00",
          "2002-11-30T00:00:00",
          "2002-12-31T00:00:00",
          "2003-01-31T00:00:00",
          "2003-02-28T00:00:00",
          "2003-03-31T00:00:00",
          "2003-04-30T00:00:00",
          "2003-05-31T00:00:00",
          "2003-06-30T00:00:00",
          "2003-07-31T00:00:00",
          "2003-08-31T00:00:00",
          "2003-09-30T00:00:00",
          "2003-10-31T00:00:00",
          "2003-11-30T00:00:00",
          "2003-12-31T00:00:00",
          "2004-01-31T00:00:00",
          "2004-02-29T00:00:00",
          "2004-03-31T00:00:00",
          "2004-04-30T00:00:00",
          "2004-05-31T00:00:00",
          "2004-06-30T00:00:00",
          "2004-07-31T00:00:00",
          "2004-08-31T00:00:00",
          "2004-09-30T00:00:00",
          "2004-10-31T00:00:00",
          "2004-11-30T00:00:00",
          "2004-12-31T00:00:00",
          "2005-01-31T00:00:00",
          "2005-02-28T00:00:00",
          "2005-03-31T00:00:00",
          "2005-04-30T00:00:00",
          "2005-05-31T00:00:00",
          "2005-06-30T00:00:00",
          "2005-07-31T00:00:00",
          "2005-08-31T00:00:00",
          "2005-09-30T00:00:00",
          "2005-10-31T00:00:00",
          "2005-11-30T00:00:00",
          "2005-12-31T00:00:00",
          "2006-01-31T00:00:00",
          "2006-02-28T00:00:00",
          "2006-03-31T00:00:00",
          "2006-04-30T00:00:00",
          "2006-05-31T00:00:00",
          "2006-06-30T00:00:00",
          "2006-07-31T00:00:00",
          "2006-08-31T00:00:00",
          "2006-09-30T00:00:00",
          "2006-10-31T00:00:00",
          "2006-11-30T00:00:00",
          "2006-12-31T00:00:00",
          "2007-01-31T00:00:00",
          "2007-02-28T00:00:00",
          "2007-03-31T00:00:00",
          "2007-04-30T00:00:00",
          "2007-05-31T00:00:00",
          "2007-06-30T00:00:00",
          "2007-07-31T00:00:00",
          "2007-08-31T00:00:00",
          "2007-09-30T00:00:00",
          "2007-10-31T00:00:00",
          "2007-11-30T00:00:00",
          "2007-12-31T00:00:00",
          "2008-01-31T00:00:00",
          "2008-02-29T00:00:00",
          "2008-03-31T00:00:00",
          "2008-04-30T00:00:00",
          "2008-05-31T00:00:00"
         ],
         "y": [
          100,
          90.9,
          102.25999999999999,
          103.52,
          100.01,
          98.76,
          94.51,
          95,
          102.61,
          108.57,
          101.54,
          99.14,
          103.44,
          101.73,
          98.44,
          101.68000000000002,
          102.21000000000001,
          99.76,
          98.22,
          93.83,
          92.26,
          87.51,
          89.01,
          89.71,
          89.12,
          90.81,
          89.83,
          81.91,
          83.83,
          74.02,
          68.02,
          66.08,
          56.49000000000001,
          67,
          75.84,
          72.03,
          76.48,
          77.91,
          80.34,
          90.45,
          92.22,
          96.12,
          95.7,
          98.36,
          97.34,
          117.04,
          111.57999999999998,
          119.96,
          130.87,
          128.7,
          125.69,
          119.93,
          122.66,
          128.15,
          116.21,
          108.62,
          111.4,
          106.34000000000002,
          113.59000000000002,
          119.26,
          113.43,
          112.14,
          113.51,
          113.04,
          118.58,
          118.67000000000002,
          123.56,
          125.54,
          128.11,
          127.49999999999999,
          129.56,
          126.2,
          134.02,
          138.62,
          139.88,
          144.62,
          144.56,
          148.39,
          145.6,
          147.53,
          157.51,
          170.52,
          173.15,
          176.18,
          178.54,
          170.65,
          175.16,
          175.76,
          184.01,
          178.32,
          171.2,
          172.42,
          180.92,
          187.4,
          174.69,
          179.04,
          168.74,
          176.94,
          182.81,
          188.2,
          192.57
         ]
        },
        {
         "hoverinfo": "x+y+name",
         "line": {
          "color": "#aec7e8"
         },
         "mode": "lines",
         "name": "Real Estate",
         "type": "scatter",
         "x": [
          "2000-01-31T00:00:00",
          "2000-02-29T00:00:00",
          "2000-03-31T00:00:00",
          "2000-04-30T00:00:00",
          "2000-05-31T00:00:00",
          "2000-06-30T00:00:00",
          "2000-07-31T00:00:00",
          "2000-08-31T00:00:00",
          "2000-09-30T00:00:00",
          "2000-10-31T00:00:00",
          "2000-11-30T00:00:00",
          "2000-12-31T00:00:00",
          "2001-01-31T00:00:00",
          "2001-02-28T00:00:00",
          "2001-03-31T00:00:00",
          "2001-04-30T00:00:00",
          "2001-05-31T00:00:00",
          "2001-06-30T00:00:00",
          "2001-07-31T00:00:00",
          "2001-08-31T00:00:00",
          "2001-09-30T00:00:00",
          "2001-10-31T00:00:00",
          "2001-11-30T00:00:00",
          "2001-12-31T00:00:00",
          "2002-01-31T00:00:00",
          "2002-02-28T00:00:00",
          "2002-03-31T00:00:00",
          "2002-04-30T00:00:00",
          "2002-05-31T00:00:00",
          "2002-06-30T00:00:00",
          "2002-07-31T00:00:00",
          "2002-08-31T00:00:00",
          "2002-09-30T00:00:00",
          "2002-10-31T00:00:00",
          "2002-11-30T00:00:00",
          "2002-12-31T00:00:00",
          "2003-01-31T00:00:00",
          "2003-02-28T00:00:00",
          "2003-03-31T00:00:00",
          "2003-04-30T00:00:00",
          "2003-05-31T00:00:00",
          "2003-06-30T00:00:00",
          "2003-07-31T00:00:00",
          "2003-08-31T00:00:00",
          "2003-09-30T00:00:00",
          "2003-10-31T00:00:00",
          "2003-11-30T00:00:00",
          "2003-12-31T00:00:00",
          "2004-01-31T00:00:00",
          "2004-02-29T00:00:00",
          "2004-03-31T00:00:00",
          "2004-04-30T00:00:00",
          "2004-05-31T00:00:00",
          "2004-06-30T00:00:00",
          "2004-07-31T00:00:00",
          "2004-08-31T00:00:00",
          "2004-09-30T00:00:00",
          "2004-10-31T00:00:00",
          "2004-11-30T00:00:00",
          "2004-12-31T00:00:00",
          "2005-01-31T00:00:00",
          "2005-02-28T00:00:00",
          "2005-03-31T00:00:00",
          "2005-04-30T00:00:00",
          "2005-05-31T00:00:00",
          "2005-06-30T00:00:00",
          "2005-07-31T00:00:00",
          "2005-08-31T00:00:00",
          "2005-09-30T00:00:00",
          "2005-10-31T00:00:00",
          "2005-11-30T00:00:00",
          "2005-12-31T00:00:00",
          "2006-01-31T00:00:00",
          "2006-02-28T00:00:00",
          "2006-03-31T00:00:00",
          "2006-04-30T00:00:00",
          "2006-05-31T00:00:00",
          "2006-06-30T00:00:00",
          "2006-07-31T00:00:00",
          "2006-08-31T00:00:00",
          "2006-09-30T00:00:00",
          "2006-10-31T00:00:00",
          "2006-11-30T00:00:00",
          "2006-12-31T00:00:00",
          "2007-01-31T00:00:00",
          "2007-02-28T00:00:00",
          "2007-03-31T00:00:00",
          "2007-04-30T00:00:00",
          "2007-05-31T00:00:00",
          "2007-06-30T00:00:00",
          "2007-07-31T00:00:00",
          "2007-08-31T00:00:00",
          "2007-09-30T00:00:00",
          "2007-10-31T00:00:00",
          "2007-11-30T00:00:00",
          "2007-12-31T00:00:00",
          "2008-01-31T00:00:00",
          "2008-02-29T00:00:00",
          "2008-03-31T00:00:00",
          "2008-04-30T00:00:00",
          "2008-05-31T00:00:00"
         ],
         "y": [
          100,
          105.30999999999999,
          106.37,
          109.69,
          105.05,
          107.57,
          115.03000000000002,
          113.59000000000002,
          103.45,
          107.95000000000002,
          87.91,
          98.92,
          108.15,
          94.83,
          71.04,
          83.71,
          84.31,
          82.21,
          83.16,
          73.93,
          66.23,
          67.48,
          86.18,
          101.09000000000002,
          88.42,
          80.11,
          85.11,
          74.84,
          69.22,
          67.09,
          67.27,
          63.129999999999995,
          60.370000000000005,
          56.3,
          76.11,
          67.07,
          66.36,
          67.67,
          67.97,
          73.17,
          97.71,
          98.4,
          123.68,
          131.91,
          134.05,
          138.53,
          156.18,
          157.34,
          172.66,
          170.96,
          186.23,
          163.78,
          179.47,
          188.39,
          187.08,
          196.48,
          193.89,
          213.90000000000003,
          224.56,
          235.07,
          223.22000000000003,
          232.08,
          230.62,
          226.91999999999996,
          238.41000000000003,
          262.55,
          280.61,
          272.23,
          277.94,
          266.49,
          290.3,
          292.18,
          321.92,
          338.86,
          355.03,
          355.13,
          334.18,
          339.1,
          351.21,
          373.61,
          382.49,
          406.03,
          434.80999999999995,
          430.60999999999996,
          470.57000000000005,
          456.37,
          453.57000000000005,
          455.2099999999999,
          457.87000000000006,
          426.3999999999999,
          409,
          424.93999999999994,
          449.95000000000005,
          494.86999999999995,
          472.90999999999997,
          444.56999999999994,
          407.92,
          402.51,
          425.31999999999994,
          478.25999999999993,
          488.68
         ]
        },
        {
         "hoverinfo": "x+y+name",
         "line": {
          "color": "#ff7f0e"
         },
         "mode": "lines",
         "name": "Materials",
         "type": "scatter",
         "x": [
          "2000-01-31T00:00:00",
          "2000-02-29T00:00:00",
          "2000-03-31T00:00:00",
          "2000-04-30T00:00:00",
          "2000-05-31T00:00:00",
          "2000-06-30T00:00:00",
          "2000-07-31T00:00:00",
          "2000-08-31T00:00:00",
          "2000-09-30T00:00:00",
          "2000-10-31T00:00:00",
          "2000-11-30T00:00:00",
          "2000-12-31T00:00:00",
          "2001-01-31T00:00:00",
          "2001-02-28T00:00:00",
          "2001-03-31T00:00:00",
          "2001-04-30T00:00:00",
          "2001-05-31T00:00:00",
          "2001-06-30T00:00:00",
          "2001-07-31T00:00:00",
          "2001-08-31T00:00:00",
          "2001-09-30T00:00:00",
          "2001-10-31T00:00:00",
          "2001-11-30T00:00:00",
          "2001-12-31T00:00:00",
          "2002-01-31T00:00:00",
          "2002-02-28T00:00:00",
          "2002-03-31T00:00:00",
          "2002-04-30T00:00:00",
          "2002-05-31T00:00:00",
          "2002-06-30T00:00:00",
          "2002-07-31T00:00:00",
          "2002-08-31T00:00:00",
          "2002-09-30T00:00:00",
          "2002-10-31T00:00:00",
          "2002-11-30T00:00:00",
          "2002-12-31T00:00:00",
          "2003-01-31T00:00:00",
          "2003-02-28T00:00:00",
          "2003-03-31T00:00:00",
          "2003-04-30T00:00:00",
          "2003-05-31T00:00:00",
          "2003-06-30T00:00:00",
          "2003-07-31T00:00:00",
          "2003-08-31T00:00:00",
          "2003-09-30T00:00:00",
          "2003-10-31T00:00:00",
          "2003-11-30T00:00:00",
          "2003-12-31T00:00:00",
          "2004-01-31T00:00:00",
          "2004-02-29T00:00:00",
          "2004-03-31T00:00:00",
          "2004-04-30T00:00:00",
          "2004-05-31T00:00:00",
          "2004-06-30T00:00:00",
          "2004-07-31T00:00:00",
          "2004-08-31T00:00:00",
          "2004-09-30T00:00:00",
          "2004-10-31T00:00:00",
          "2004-11-30T00:00:00",
          "2004-12-31T00:00:00",
          "2005-01-31T00:00:00",
          "2005-02-28T00:00:00",
          "2005-03-31T00:00:00",
          "2005-04-30T00:00:00",
          "2005-05-31T00:00:00",
          "2005-06-30T00:00:00",
          "2005-07-31T00:00:00",
          "2005-08-31T00:00:00",
          "2005-09-30T00:00:00",
          "2005-10-31T00:00:00",
          "2005-11-30T00:00:00",
          "2005-12-31T00:00:00",
          "2006-01-31T00:00:00",
          "2006-02-28T00:00:00",
          "2006-03-31T00:00:00",
          "2006-04-30T00:00:00",
          "2006-05-31T00:00:00",
          "2006-06-30T00:00:00",
          "2006-07-31T00:00:00",
          "2006-08-31T00:00:00",
          "2006-09-30T00:00:00",
          "2006-10-31T00:00:00",
          "2006-11-30T00:00:00",
          "2006-12-31T00:00:00",
          "2007-01-31T00:00:00",
          "2007-02-28T00:00:00",
          "2007-03-31T00:00:00",
          "2007-04-30T00:00:00",
          "2007-05-31T00:00:00",
          "2007-06-30T00:00:00",
          "2007-07-31T00:00:00",
          "2007-08-31T00:00:00",
          "2007-09-30T00:00:00",
          "2007-10-31T00:00:00",
          "2007-11-30T00:00:00",
          "2007-12-31T00:00:00",
          "2008-01-31T00:00:00",
          "2008-02-29T00:00:00",
          "2008-03-31T00:00:00",
          "2008-04-30T00:00:00",
          "2008-05-31T00:00:00"
         ],
         "y": [
          100,
          89.95,
          99.03,
          95.74,
          92.72,
          84.79,
          85.53,
          87.49,
          78.91,
          85.83,
          83.66,
          95.45,
          92.9,
          94.1,
          89.39,
          98.92,
          102.73,
          99.18,
          98.91,
          98.51,
          86.84,
          89.19,
          100.49999999999999,
          97.49,
          99.77,
          105.05,
          108.28,
          103.16000000000001,
          108.28,
          106.43,
          94.36,
          93.86,
          81.67,
          86.34,
          96.73,
          92.3,
          87.69,
          85.36,
          85.89,
          93.65,
          96.55,
          97.42,
          105.08,
          107.98999999999998,
          103.13,
          112.94999999999999,
          115.5,
          126.83,
          121.22,
          127.54,
          124.6,
          118.82999999999998,
          122.17,
          128.3,
          125.37,
          127.47999999999999,
          132.6,
          131.35,
          142.04,
          143.94,
          139.53,
          150.52,
          146.52,
          136.08,
          135.2,
          132.5,
          139.82,
          133.96,
          134.99,
          135.29,
          145.64,
          149.81,
          157.03,
          153.67,
          160.84,
          166.55,
          159.84,
          160.67,
          154.66,
          159.32,
          159.29,
          168.86,
          176.21,
          177.32,
          184.5,
          189.44,
          193.91,
          196.81,
          208.43000000000004,
          207.33,
          201.8,
          200.40999999999997,
          216.56,
          225.55,
          214.19000000000003,
          216.49000000000004,
          207.39999999999998,
          212.17999999999998,
          209.19,
          220.34000000000003,
          231.8
         ]
        },
        {
         "hoverinfo": "x+y+name",
         "line": {
          "color": "#ffbb78"
         },
         "mode": "lines",
         "name": "Energy",
         "type": "scatter",
         "x": [
          "2000-01-31T00:00:00",
          "2000-02-29T00:00:00",
          "2000-03-31T00:00:00",
          "2000-04-30T00:00:00",
          "2000-05-31T00:00:00",
          "2000-06-30T00:00:00",
          "2000-07-31T00:00:00",
          "2000-08-31T00:00:00",
          "2000-09-30T00:00:00",
          "2000-10-31T00:00:00",
          "2000-11-30T00:00:00",
          "2000-12-31T00:00:00",
          "2001-01-31T00:00:00",
          "2001-02-28T00:00:00",
          "2001-03-31T00:00:00",
          "2001-04-30T00:00:00",
          "2001-05-31T00:00:00",
          "2001-06-30T00:00:00",
          "2001-07-31T00:00:00",
          "2001-08-31T00:00:00",
          "2001-09-30T00:00:00",
          "2001-10-31T00:00:00",
          "2001-11-30T00:00:00",
          "2001-12-31T00:00:00",
          "2002-01-31T00:00:00",
          "2002-02-28T00:00:00",
          "2002-03-31T00:00:00",
          "2002-04-30T00:00:00",
          "2002-05-31T00:00:00",
          "2002-06-30T00:00:00",
          "2002-07-31T00:00:00",
          "2002-08-31T00:00:00",
          "2002-09-30T00:00:00",
          "2002-10-31T00:00:00",
          "2002-11-30T00:00:00",
          "2002-12-31T00:00:00",
          "2003-01-31T00:00:00",
          "2003-02-28T00:00:00",
          "2003-03-31T00:00:00",
          "2003-04-30T00:00:00",
          "2003-05-31T00:00:00",
          "2003-06-30T00:00:00",
          "2003-07-31T00:00:00",
          "2003-08-31T00:00:00",
          "2003-09-30T00:00:00",
          "2003-10-31T00:00:00",
          "2003-11-30T00:00:00",
          "2003-12-31T00:00:00",
          "2004-01-31T00:00:00",
          "2004-02-29T00:00:00",
          "2004-03-31T00:00:00",
          "2004-04-30T00:00:00",
          "2004-05-31T00:00:00",
          "2004-06-30T00:00:00",
          "2004-07-31T00:00:00",
          "2004-08-31T00:00:00",
          "2004-09-30T00:00:00",
          "2004-10-31T00:00:00",
          "2004-11-30T00:00:00",
          "2004-12-31T00:00:00",
          "2005-01-31T00:00:00",
          "2005-02-28T00:00:00",
          "2005-03-31T00:00:00",
          "2005-04-30T00:00:00",
          "2005-05-31T00:00:00",
          "2005-06-30T00:00:00",
          "2005-07-31T00:00:00",
          "2005-08-31T00:00:00",
          "2005-09-30T00:00:00",
          "2005-10-31T00:00:00",
          "2005-11-30T00:00:00",
          "2005-12-31T00:00:00",
          "2006-01-31T00:00:00",
          "2006-02-28T00:00:00",
          "2006-03-31T00:00:00",
          "2006-04-30T00:00:00",
          "2006-05-31T00:00:00",
          "2006-06-30T00:00:00",
          "2006-07-31T00:00:00",
          "2006-08-31T00:00:00",
          "2006-09-30T00:00:00",
          "2006-10-31T00:00:00",
          "2006-11-30T00:00:00",
          "2006-12-31T00:00:00",
          "2007-01-31T00:00:00",
          "2007-02-28T00:00:00",
          "2007-03-31T00:00:00",
          "2007-04-30T00:00:00",
          "2007-05-31T00:00:00",
          "2007-06-30T00:00:00",
          "2007-07-31T00:00:00",
          "2007-08-31T00:00:00",
          "2007-09-30T00:00:00",
          "2007-10-31T00:00:00",
          "2007-11-30T00:00:00",
          "2007-12-31T00:00:00",
          "2008-01-31T00:00:00",
          "2008-02-29T00:00:00",
          "2008-03-31T00:00:00",
          "2008-04-30T00:00:00",
          "2008-05-31T00:00:00"
         ],
         "y": [
          100,
          95.77,
          107.67999999999999,
          106.08,
          118.53,
          112.01,
          107.74,
          119.51,
          121.46999999999998,
          118.17,
          111.97,
          123.4,
          119.47000000000001,
          118.02,
          114.5,
          126.32,
          125.12999999999998,
          113.73,
          112.42000000000002,
          107.66,
          97.3,
          101.22,
          95.56,
          101.03,
          97.43,
          100.76,
          109.68,
          105.73000000000002,
          103.86999999999999,
          100.07,
          86.2,
          87.5,
          81.26,
          82.76,
          86.18,
          86.2,
          84.03,
          86.5,
          86.61,
          85.87,
          94.99,
          93.77,
          90.46,
          96.23,
          94.24,
          95.14,
          95.89,
          108.44,
          110.88,
          116.71000000000001,
          115.97999999999999,
          117.96,
          117.6,
          124.93,
          128.78,
          126.8,
          139.18,
          140.02,
          149.46,
          145.24,
          150.16,
          175.36,
          172.01,
          162.7,
          167.23,
          178.91,
          191.58,
          203.82,
          216.63000000000002,
          197.06,
          200,
          203.6,
          233.35,
          211.82,
          220.81,
          231.93,
          225.47000000000003,
          231.2,
          238.94000000000003,
          226.8,
          218.5,
          227.82,
          247.36,
          240.38999999999996,
          238.18,
          233.3,
          247.96999999999997,
          260.68,
          280.96,
          284.62,
          284.66,
          288.08,
          309.4,
          317.26,
          303.9,
          329.07,
          288.63,
          315.38,
          308.01,
          339.99,
          357.67
         ]
        },
        {
         "hoverinfo": "x+y+name",
         "line": {
          "color": "#2ca02c"
         },
         "mode": "lines",
         "name": "Financials",
         "type": "scatter",
         "x": [
          "2000-01-31T00:00:00",
          "2000-02-29T00:00:00",
          "2000-03-31T00:00:00",
          "2000-04-30T00:00:00",
          "2000-05-31T00:00:00",
          "2000-06-30T00:00:00",
          "2000-07-31T00:00:00",
          "2000-08-31T00:00:00",
          "2000-09-30T00:00:00",
          "2000-10-31T00:00:00",
          "2000-11-30T00:00:00",
          "2000-12-31T00:00:00",
          "2001-01-31T00:00:00",
          "2001-02-28T00:00:00",
          "2001-03-31T00:00:00",
          "2001-04-30T00:00:00",
          "2001-05-31T00:00:00",
          "2001-06-30T00:00:00",
          "2001-07-31T00:00:00",
          "2001-08-31T00:00:00",
          "2001-09-30T00:00:00",
          "2001-10-31T00:00:00",
          "2001-11-30T00:00:00",
          "2001-12-31T00:00:00",
          "2002-01-31T00:00:00",
          "2002-02-28T00:00:00",
          "2002-03-31T00:00:00",
          "2002-04-30T00:00:00",
          "2002-05-31T00:00:00",
          "2002-06-30T00:00:00",
          "2002-07-31T00:00:00",
          "2002-08-31T00:00:00",
          "2002-09-30T00:00:00",
          "2002-10-31T00:00:00",
          "2002-11-30T00:00:00",
          "2002-12-31T00:00:00",
          "2003-01-31T00:00:00",
          "2003-02-28T00:00:00",
          "2003-03-31T00:00:00",
          "2003-04-30T00:00:00",
          "2003-05-31T00:00:00",
          "2003-06-30T00:00:00",
          "2003-07-31T00:00:00",
          "2003-08-31T00:00:00",
          "2003-09-30T00:00:00",
          "2003-10-31T00:00:00",
          "2003-11-30T00:00:00",
          "2003-12-31T00:00:00",
          "2004-01-31T00:00:00",
          "2004-02-29T00:00:00",
          "2004-03-31T00:00:00",
          "2004-04-30T00:00:00",
          "2004-05-31T00:00:00",
          "2004-06-30T00:00:00",
          "2004-07-31T00:00:00",
          "2004-08-31T00:00:00",
          "2004-09-30T00:00:00",
          "2004-10-31T00:00:00",
          "2004-11-30T00:00:00",
          "2004-12-31T00:00:00",
          "2005-01-31T00:00:00",
          "2005-02-28T00:00:00",
          "2005-03-31T00:00:00",
          "2005-04-30T00:00:00",
          "2005-05-31T00:00:00",
          "2005-06-30T00:00:00",
          "2005-07-31T00:00:00",
          "2005-08-31T00:00:00",
          "2005-09-30T00:00:00",
          "2005-10-31T00:00:00",
          "2005-11-30T00:00:00",
          "2005-12-31T00:00:00",
          "2006-01-31T00:00:00",
          "2006-02-28T00:00:00",
          "2006-03-31T00:00:00",
          "2006-04-30T00:00:00",
          "2006-05-31T00:00:00",
          "2006-06-30T00:00:00",
          "2006-07-31T00:00:00",
          "2006-08-31T00:00:00",
          "2006-09-30T00:00:00",
          "2006-10-31T00:00:00",
          "2006-11-30T00:00:00",
          "2006-12-31T00:00:00",
          "2007-01-31T00:00:00",
          "2007-02-28T00:00:00",
          "2007-03-31T00:00:00",
          "2007-04-30T00:00:00",
          "2007-05-31T00:00:00",
          "2007-06-30T00:00:00",
          "2007-07-31T00:00:00",
          "2007-08-31T00:00:00",
          "2007-09-30T00:00:00",
          "2007-10-31T00:00:00",
          "2007-11-30T00:00:00",
          "2007-12-31T00:00:00",
          "2008-01-31T00:00:00",
          "2008-02-29T00:00:00",
          "2008-03-31T00:00:00",
          "2008-04-30T00:00:00",
          "2008-05-31T00:00:00"
         ],
         "y": [
          100,
          89.3,
          105.60000000000001,
          106.62,
          109.00000000000001,
          103.71999999999998,
          112.86,
          124.32,
          127.03,
          125.93,
          119.5,
          129.69,
          129.39,
          120.68,
          117.06999999999998,
          121.30000000000001,
          126.64,
          125.73,
          124.54,
          116.3,
          109.74999999999999,
          108.19000000000001,
          115.21999999999998,
          117.45999999999998,
          116.12,
          114.11,
          121.66,
          118.57,
          118.21,
          113.16,
          103.75000000000001,
          105.67999999999999,
          93.54,
          102.09000000000002,
          105.89,
          100.15,
          98.88,
          95.83,
          94.93,
          106.87,
          112.31,
          112.79,
          117.7,
          116.32000000000001,
          117.35,
          125.48000000000002,
          125.02,
          130.69,
          134.97,
          138.82,
          137.21,
          131.24,
          133.48,
          134.07,
          131.21,
          135.47,
          134.23,
          134.93,
          139.13,
          144.88,
          141.75,
          140.8,
          135.45,
          135.68,
          139.69,
          141.43,
          143.64,
          141.29,
          142.5,
          146.84,
          153.84,
          153.87,
          155.23,
          158.54,
          159,
          165.89,
          159.63,
          158.89,
          162.53,
          164.45,
          171.07,
          175.07,
          176.3,
          182.94,
          184.63,
          179,
          178.16,
          185.06,
          189.51,
          181.9,
          165.41,
          169.68,
          173.82,
          170.83,
          157.01,
          147.86,
          148.93,
          132.01,
          128.13,
          137.1,
          127.56999999999998
         ]
        },
        {
         "hoverinfo": "x+y+name",
         "line": {
          "color": "#98df8a"
         },
         "mode": "lines",
         "name": "Industrials",
         "type": "scatter",
         "x": [
          "2000-01-31T00:00:00",
          "2000-02-29T00:00:00",
          "2000-03-31T00:00:00",
          "2000-04-30T00:00:00",
          "2000-05-31T00:00:00",
          "2000-06-30T00:00:00",
          "2000-07-31T00:00:00",
          "2000-08-31T00:00:00",
          "2000-09-30T00:00:00",
          "2000-10-31T00:00:00",
          "2000-11-30T00:00:00",
          "2000-12-31T00:00:00",
          "2001-01-31T00:00:00",
          "2001-02-28T00:00:00",
          "2001-03-31T00:00:00",
          "2001-04-30T00:00:00",
          "2001-05-31T00:00:00",
          "2001-06-30T00:00:00",
          "2001-07-31T00:00:00",
          "2001-08-31T00:00:00",
          "2001-09-30T00:00:00",
          "2001-10-31T00:00:00",
          "2001-11-30T00:00:00",
          "2001-12-31T00:00:00",
          "2002-01-31T00:00:00",
          "2002-02-28T00:00:00",
          "2002-03-31T00:00:00",
          "2002-04-30T00:00:00",
          "2002-05-31T00:00:00",
          "2002-06-30T00:00:00",
          "2002-07-31T00:00:00",
          "2002-08-31T00:00:00",
          "2002-09-30T00:00:00",
          "2002-10-31T00:00:00",
          "2002-11-30T00:00:00",
          "2002-12-31T00:00:00",
          "2003-01-31T00:00:00",
          "2003-02-28T00:00:00",
          "2003-03-31T00:00:00",
          "2003-04-30T00:00:00",
          "2003-05-31T00:00:00",
          "2003-06-30T00:00:00",
          "2003-07-31T00:00:00",
          "2003-08-31T00:00:00",
          "2003-09-30T00:00:00",
          "2003-10-31T00:00:00",
          "2003-11-30T00:00:00",
          "2003-12-31T00:00:00",
          "2004-01-31T00:00:00",
          "2004-02-29T00:00:00",
          "2004-03-31T00:00:00",
          "2004-04-30T00:00:00",
          "2004-05-31T00:00:00",
          "2004-06-30T00:00:00",
          "2004-07-31T00:00:00",
          "2004-08-31T00:00:00",
          "2004-09-30T00:00:00",
          "2004-10-31T00:00:00",
          "2004-11-30T00:00:00",
          "2004-12-31T00:00:00",
          "2005-01-31T00:00:00",
          "2005-02-28T00:00:00",
          "2005-03-31T00:00:00",
          "2005-04-30T00:00:00",
          "2005-05-31T00:00:00",
          "2005-06-30T00:00:00",
          "2005-07-31T00:00:00",
          "2005-08-31T00:00:00",
          "2005-09-30T00:00:00",
          "2005-10-31T00:00:00",
          "2005-11-30T00:00:00",
          "2005-12-31T00:00:00",
          "2006-01-31T00:00:00",
          "2006-02-28T00:00:00",
          "2006-03-31T00:00:00",
          "2006-04-30T00:00:00",
          "2006-05-31T00:00:00",
          "2006-06-30T00:00:00",
          "2006-07-31T00:00:00",
          "2006-08-31T00:00:00",
          "2006-09-30T00:00:00",
          "2006-10-31T00:00:00",
          "2006-11-30T00:00:00",
          "2006-12-31T00:00:00",
          "2007-01-31T00:00:00",
          "2007-02-28T00:00:00",
          "2007-03-31T00:00:00",
          "2007-04-30T00:00:00",
          "2007-05-31T00:00:00",
          "2007-06-30T00:00:00",
          "2007-07-31T00:00:00",
          "2007-08-31T00:00:00",
          "2007-09-30T00:00:00",
          "2007-10-31T00:00:00",
          "2007-11-30T00:00:00",
          "2007-12-31T00:00:00",
          "2008-01-31T00:00:00",
          "2008-02-29T00:00:00",
          "2008-03-31T00:00:00",
          "2008-04-30T00:00:00",
          "2008-05-31T00:00:00"
         ],
         "y": [
          100,
          94.48,
          107.64,
          109.18999999999998,
          108.72999999999999,
          104.45,
          106.07,
          116.57,
          113.19,
          115.73,
          111.79999999999998,
          116.21,
          116.65999999999998,
          109.67,
          99.17,
          110.5,
          115.13,
          108.01,
          107.79,
          104.08999999999999,
          88.84,
          90.42,
          99.46,
          103.95999999999998,
          97.4,
          99.84,
          102.54,
          95.46,
          95.87,
          89.99,
          84.9,
          83.58,
          73.93,
          77.57,
          81.62,
          78.42,
          74.19,
          73.05,
          73.82,
          81.81,
          84.03,
          85.79,
          88.62,
          92.07,
          89.55,
          95.09,
          96.97,
          103.4,
          104.44,
          103.67,
          102.4,
          102.36000000000001,
          104.88,
          111.35999999999999,
          108.25,
          108.33,
          110.66,
          111.79,
          118.8,
          121.75,
          118.34,
          119.72,
          119.65999999999998,
          115.3,
          118.96,
          115.82,
          120.24,
          117.40000000000002,
          119.37,
          117.67,
          124.51,
          125.1,
          125.46,
          129.36,
          135.08,
          138,
          135.64,
          135.47,
          127.77000000000001,
          129.22,
          134.15,
          137.93,
          141.31,
          142.01,
          144.97,
          143.35,
          144.51,
          151.22,
          159.06,
          159.11,
          160.62,
          160.66,
          168.27,
          166.1,
          161.39,
          161.17,
          152.28,
          149.19,
          154.61,
          159.16,
          160.56
         ]
        },
        {
         "hoverinfo": "x+y+name",
         "line": {
          "color": "#d62728"
         },
         "mode": "lines",
         "name": "Technology",
         "type": "scatter",
         "x": [
          "2000-01-31T00:00:00",
          "2000-02-29T00:00:00",
          "2000-03-31T00:00:00",
          "2000-04-30T00:00:00",
          "2000-05-31T00:00:00",
          "2000-06-30T00:00:00",
          "2000-07-31T00:00:00",
          "2000-08-31T00:00:00",
          "2000-09-30T00:00:00",
          "2000-10-31T00:00:00",
          "2000-11-30T00:00:00",
          "2000-12-31T00:00:00",
          "2001-01-31T00:00:00",
          "2001-02-28T00:00:00",
          "2001-03-31T00:00:00",
          "2001-04-30T00:00:00",
          "2001-05-31T00:00:00",
          "2001-06-30T00:00:00",
          "2001-07-31T00:00:00",
          "2001-08-31T00:00:00",
          "2001-09-30T00:00:00",
          "2001-10-31T00:00:00",
          "2001-11-30T00:00:00",
          "2001-12-31T00:00:00",
          "2002-01-31T00:00:00",
          "2002-02-28T00:00:00",
          "2002-03-31T00:00:00",
          "2002-04-30T00:00:00",
          "2002-05-31T00:00:00",
          "2002-06-30T00:00:00",
          "2002-07-31T00:00:00",
          "2002-08-31T00:00:00",
          "2002-09-30T00:00:00",
          "2002-10-31T00:00:00",
          "2002-11-30T00:00:00",
          "2002-12-31T00:00:00",
          "2003-01-31T00:00:00",
          "2003-02-28T00:00:00",
          "2003-03-31T00:00:00",
          "2003-04-30T00:00:00",
          "2003-05-31T00:00:00",
          "2003-06-30T00:00:00",
          "2003-07-31T00:00:00",
          "2003-08-31T00:00:00",
          "2003-09-30T00:00:00",
          "2003-10-31T00:00:00",
          "2003-11-30T00:00:00",
          "2003-12-31T00:00:00",
          "2004-01-31T00:00:00",
          "2004-02-29T00:00:00",
          "2004-03-31T00:00:00",
          "2004-04-30T00:00:00",
          "2004-05-31T00:00:00",
          "2004-06-30T00:00:00",
          "2004-07-31T00:00:00",
          "2004-08-31T00:00:00",
          "2004-09-30T00:00:00",
          "2004-10-31T00:00:00",
          "2004-11-30T00:00:00",
          "2004-12-31T00:00:00",
          "2005-01-31T00:00:00",
          "2005-02-28T00:00:00",
          "2005-03-31T00:00:00",
          "2005-04-30T00:00:00",
          "2005-05-31T00:00:00",
          "2005-06-30T00:00:00",
          "2005-07-31T00:00:00",
          "2005-08-31T00:00:00",
          "2005-09-30T00:00:00",
          "2005-10-31T00:00:00",
          "2005-11-30T00:00:00",
          "2005-12-31T00:00:00",
          "2006-01-31T00:00:00",
          "2006-02-28T00:00:00",
          "2006-03-31T00:00:00",
          "2006-04-30T00:00:00",
          "2006-05-31T00:00:00",
          "2006-06-30T00:00:00",
          "2006-07-31T00:00:00",
          "2006-08-31T00:00:00",
          "2006-09-30T00:00:00",
          "2006-10-31T00:00:00",
          "2006-11-30T00:00:00",
          "2006-12-31T00:00:00",
          "2007-01-31T00:00:00",
          "2007-02-28T00:00:00",
          "2007-03-31T00:00:00",
          "2007-04-30T00:00:00",
          "2007-05-31T00:00:00",
          "2007-06-30T00:00:00",
          "2007-07-31T00:00:00",
          "2007-08-31T00:00:00",
          "2007-09-30T00:00:00",
          "2007-10-31T00:00:00",
          "2007-11-30T00:00:00",
          "2007-12-31T00:00:00",
          "2008-01-31T00:00:00",
          "2008-02-29T00:00:00",
          "2008-03-31T00:00:00",
          "2008-04-30T00:00:00",
          "2008-05-31T00:00:00"
         ],
         "y": [
          100,
          110.50999999999999,
          119.78,
          108.78000000000002,
          97.47,
          107.17000000000002,
          101.48000000000002,
          111.79999999999998,
          91.72,
          86.46,
          68.73,
          61.92999999999999,
          73.77,
          55.39999999999999,
          49.05,
          56.98,
          54.65,
          55.71,
          51.85999999999999,
          45.53,
          38.07,
          42.22,
          48.53,
          47.47,
          46.95,
          40.84,
          42.86,
          37.68,
          36.11,
          31.290000000000003,
          28.32,
          28.08,
          23.4,
          29.189999999999998,
          33.82,
          29.350000000000005,
          28.660000000000004,
          28.79,
          28.360000000000003,
          30.959999999999997,
          33.61,
          33.85,
          34.9,
          36.57,
          36.25,
          38.91,
          39.46,
          40.7,
          42.44,
          41.36,
          40.26,
          38.72,
          40.24,
          41.34,
          38.82,
          37.11,
          38.18,
          39.86,
          41.9,
          43,
          40.57,
          40.63,
          39.84,
          38.43,
          41.1,
          40.57,
          42.87,
          42.47,
          42.57,
          41.59,
          44.22,
          42.86,
          44.29,
          44.4,
          45.4,
          44.81,
          41.9,
          41.69,
          40.6,
          43.45,
          45.21,
          46.99,
          48.33,
          48.07,
          49.04,
          47.72,
          48.19,
          50.470000000000006,
          53.010000000000005,
          52.94,
          52.839999999999996,
          53.849999999999994,
          55.88999999999999,
          58.85,
          54.42,
          55.50000000000001,
          48.4,
          46.11,
          46.64,
          49.56,
          52.790000000000006
         ]
        },
        {
         "hoverinfo": "x+y+name",
         "line": {
          "color": "#ff9896"
         },
         "mode": "lines",
         "name": "Consumer Staples",
         "type": "scatter",
         "x": [
          "2000-01-31T00:00:00",
          "2000-02-29T00:00:00",
          "2000-03-31T00:00:00",
          "2000-04-30T00:00:00",
          "2000-05-31T00:00:00",
          "2000-06-30T00:00:00",
          "2000-07-31T00:00:00",
          "2000-08-31T00:00:00",
          "2000-09-30T00:00:00",
          "2000-10-31T00:00:00",
          "2000-11-30T00:00:00",
          "2000-12-31T00:00:00",
          "2001-01-31T00:00:00",
          "2001-02-28T00:00:00",
          "2001-03-31T00:00:00",
          "2001-04-30T00:00:00",
          "2001-05-31T00:00:00",
          "2001-06-30T00:00:00",
          "2001-07-31T00:00:00",
          "2001-08-31T00:00:00",
          "2001-09-30T00:00:00",
          "2001-10-31T00:00:00",
          "2001-11-30T00:00:00",
          "2001-12-31T00:00:00",
          "2002-01-31T00:00:00",
          "2002-02-28T00:00:00",
          "2002-03-31T00:00:00",
          "2002-04-30T00:00:00",
          "2002-05-31T00:00:00",
          "2002-06-30T00:00:00",
          "2002-07-31T00:00:00",
          "2002-08-31T00:00:00",
          "2002-09-30T00:00:00",
          "2002-10-31T00:00:00",
          "2002-11-30T00:00:00",
          "2002-12-31T00:00:00",
          "2003-01-31T00:00:00",
          "2003-02-28T00:00:00",
          "2003-03-31T00:00:00",
          "2003-04-30T00:00:00",
          "2003-05-31T00:00:00",
          "2003-06-30T00:00:00",
          "2003-07-31T00:00:00",
          "2003-08-31T00:00:00",
          "2003-09-30T00:00:00",
          "2003-10-31T00:00:00",
          "2003-11-30T00:00:00",
          "2003-12-31T00:00:00",
          "2004-01-31T00:00:00",
          "2004-02-29T00:00:00",
          "2004-03-31T00:00:00",
          "2004-04-30T00:00:00",
          "2004-05-31T00:00:00",
          "2004-06-30T00:00:00",
          "2004-07-31T00:00:00",
          "2004-08-31T00:00:00",
          "2004-09-30T00:00:00",
          "2004-10-31T00:00:00",
          "2004-11-30T00:00:00",
          "2004-12-31T00:00:00",
          "2005-01-31T00:00:00",
          "2005-02-28T00:00:00",
          "2005-03-31T00:00:00",
          "2005-04-30T00:00:00",
          "2005-05-31T00:00:00",
          "2005-06-30T00:00:00",
          "2005-07-31T00:00:00",
          "2005-08-31T00:00:00",
          "2005-09-30T00:00:00",
          "2005-10-31T00:00:00",
          "2005-11-30T00:00:00",
          "2005-12-31T00:00:00",
          "2006-01-31T00:00:00",
          "2006-02-28T00:00:00",
          "2006-03-31T00:00:00",
          "2006-04-30T00:00:00",
          "2006-05-31T00:00:00",
          "2006-06-30T00:00:00",
          "2006-07-31T00:00:00",
          "2006-08-31T00:00:00",
          "2006-09-30T00:00:00",
          "2006-10-31T00:00:00",
          "2006-11-30T00:00:00",
          "2006-12-31T00:00:00",
          "2007-01-31T00:00:00",
          "2007-02-28T00:00:00",
          "2007-03-31T00:00:00",
          "2007-04-30T00:00:00",
          "2007-05-31T00:00:00",
          "2007-06-30T00:00:00",
          "2007-07-31T00:00:00",
          "2007-08-31T00:00:00",
          "2007-09-30T00:00:00",
          "2007-10-31T00:00:00",
          "2007-11-30T00:00:00",
          "2007-12-31T00:00:00",
          "2008-01-31T00:00:00",
          "2008-02-29T00:00:00",
          "2008-03-31T00:00:00",
          "2008-04-30T00:00:00",
          "2008-05-31T00:00:00"
         ],
         "y": [
          100,
          88.3,
          91.62,
          96.48,
          103.36000000000001,
          109.20999999999998,
          105.22,
          103.93,
          108.54000000000002,
          116.06999999999998,
          120.08000000000001,
          124.44,
          115.36999999999999,
          116.06999999999998,
          108.02000000000001,
          110.11999999999999,
          111.72999999999999,
          106.56000000000002,
          109.81,
          110.33,
          110.2,
          109.5,
          114.34,
          112.09,
          111.33999999999999,
          113.68,
          115.51,
          111.22000000000001,
          109.98000000000002,
          98.77,
          94.56,
          95.31,
          88.42,
          91.86,
          89.32,
          89.57,
          86.51,
          83.86,
          83.87,
          86.36,
          90.6,
          91.47,
          91.33,
          92.87,
          92.51,
          96.7,
          97.83,
          99.57,
          99.57,
          105.24,
          104.98,
          106.36000000000001,
          105.76,
          106.34000000000002,
          101.09000000000002,
          102.88999999999999,
          100.18,
          100.83,
          103.32,
          107.19000000000001,
          108.44,
          108.3,
          107.35,
          106.23,
          108.71,
          106.61,
          110.03,
          108.11,
          109.63000000000001,
          109.11999999999999,
          110.11,
          110.23,
          110.42,
          111.37000000000002,
          112.29,
          113.38,
          113.62,
          115.71000000000001,
          117.53,
          122.07,
          122.00999999999999,
          124.18,
          123.12,
          126.21,
          128.77,
          126.79,
          129.41,
          133.05,
          134.84,
          132.16,
          128.4,
          131.43,
          137.46,
          139.58,
          143.41,
          142.22,
          134.32,
          133.97,
          138.31,
          137.27,
          141.44
         ]
        },
        {
         "hoverinfo": "x+y+name",
         "line": {
          "color": "#9467bd"
         },
         "mode": "lines",
         "name": "Utilities",
         "type": "scatter",
         "x": [
          "2000-01-31T00:00:00",
          "2000-02-29T00:00:00",
          "2000-03-31T00:00:00",
          "2000-04-30T00:00:00",
          "2000-05-31T00:00:00",
          "2000-06-30T00:00:00",
          "2000-07-31T00:00:00",
          "2000-08-31T00:00:00",
          "2000-09-30T00:00:00",
          "2000-10-31T00:00:00",
          "2000-11-30T00:00:00",
          "2000-12-31T00:00:00",
          "2001-01-31T00:00:00",
          "2001-02-28T00:00:00",
          "2001-03-31T00:00:00",
          "2001-04-30T00:00:00",
          "2001-05-31T00:00:00",
          "2001-06-30T00:00:00",
          "2001-07-31T00:00:00",
          "2001-08-31T00:00:00",
          "2001-09-30T00:00:00",
          "2001-10-31T00:00:00",
          "2001-11-30T00:00:00",
          "2001-12-31T00:00:00",
          "2002-01-31T00:00:00",
          "2002-02-28T00:00:00",
          "2002-03-31T00:00:00",
          "2002-04-30T00:00:00",
          "2002-05-31T00:00:00",
          "2002-06-30T00:00:00",
          "2002-07-31T00:00:00",
          "2002-08-31T00:00:00",
          "2002-09-30T00:00:00",
          "2002-10-31T00:00:00",
          "2002-11-30T00:00:00",
          "2002-12-31T00:00:00",
          "2003-01-31T00:00:00",
          "2003-02-28T00:00:00",
          "2003-03-31T00:00:00",
          "2003-04-30T00:00:00",
          "2003-05-31T00:00:00",
          "2003-06-30T00:00:00",
          "2003-07-31T00:00:00",
          "2003-08-31T00:00:00",
          "2003-09-30T00:00:00",
          "2003-10-31T00:00:00",
          "2003-11-30T00:00:00",
          "2003-12-31T00:00:00",
          "2004-01-31T00:00:00",
          "2004-02-29T00:00:00",
          "2004-03-31T00:00:00",
          "2004-04-30T00:00:00",
          "2004-05-31T00:00:00",
          "2004-06-30T00:00:00",
          "2004-07-31T00:00:00",
          "2004-08-31T00:00:00",
          "2004-09-30T00:00:00",
          "2004-10-31T00:00:00",
          "2004-11-30T00:00:00",
          "2004-12-31T00:00:00",
          "2005-01-31T00:00:00",
          "2005-02-28T00:00:00",
          "2005-03-31T00:00:00",
          "2005-04-30T00:00:00",
          "2005-05-31T00:00:00",
          "2005-06-30T00:00:00",
          "2005-07-31T00:00:00",
          "2005-08-31T00:00:00",
          "2005-09-30T00:00:00",
          "2005-10-31T00:00:00",
          "2005-11-30T00:00:00",
          "2005-12-31T00:00:00",
          "2006-01-31T00:00:00",
          "2006-02-28T00:00:00",
          "2006-03-31T00:00:00",
          "2006-04-30T00:00:00",
          "2006-05-31T00:00:00",
          "2006-06-30T00:00:00",
          "2006-07-31T00:00:00",
          "2006-08-31T00:00:00",
          "2006-09-30T00:00:00",
          "2006-10-31T00:00:00",
          "2006-11-30T00:00:00",
          "2006-12-31T00:00:00",
          "2007-01-31T00:00:00",
          "2007-02-28T00:00:00",
          "2007-03-31T00:00:00",
          "2007-04-30T00:00:00",
          "2007-05-31T00:00:00",
          "2007-06-30T00:00:00",
          "2007-07-31T00:00:00",
          "2007-08-31T00:00:00",
          "2007-09-30T00:00:00",
          "2007-10-31T00:00:00",
          "2007-11-30T00:00:00",
          "2007-12-31T00:00:00",
          "2008-01-31T00:00:00",
          "2008-02-29T00:00:00",
          "2008-03-31T00:00:00",
          "2008-04-30T00:00:00",
          "2008-05-31T00:00:00"
         ],
         "y": [
          100,
          87.85,
          97.44,
          103.82000000000001,
          103.59,
          100.07,
          101.62,
          105.58000000000001,
          119.53,
          126.48000000000002,
          126.42,
          124.68999999999998,
          117.68,
          120.12,
          118.40000000000002,
          124.11000000000001,
          124.98,
          118.71000000000001,
          117.64000000000001,
          113.45,
          112.37000000000002,
          106.45,
          105.10999999999999,
          108.48,
          104.56999999999998,
          104.38000000000001,
          109.94,
          103.27,
          102.41,
          95.52,
          81.46,
          84.69,
          74.44,
          72.73,
          74.84,
          77.26,
          75.45,
          71.41,
          75.03,
          81.51,
          89.75,
          90.97,
          84.88,
          86.57,
          90.87,
          91.5,
          91.7,
          97.71,
          99.72,
          101.61,
          102.69,
          98.3,
          99.48,
          101.2,
          102.73999999999998,
          106.91,
          107.59,
          112.83000000000001,
          117.85,
          120.76,
          123.31999999999998,
          125.95999999999998,
          127.34999999999998,
          131.29,
          131.2,
          139.01,
          142.14,
          143.06,
          149.11,
          139.57,
          139.35,
          140.54,
          143.95,
          145.83,
          139.07,
          141.28,
          143.58,
          146.88,
          153.93,
          158.16,
          155.86,
          164.11,
          168.47,
          169.91,
          169.31,
          178.28,
          184.69,
          193.76,
          194.64,
          185.4,
          178,
          180.81,
          187.75,
          200.25,
          201.57,
          201.21000000000004,
          186.42,
          178.77,
          181.64,
          190.93,
          197.77
         ]
        },
        {
         "hoverinfo": "x+y+name",
         "line": {
          "color": "#c5b0d5"
         },
         "mode": "lines",
         "name": "Health Care",
         "type": "scatter",
         "x": [
          "2000-01-31T00:00:00",
          "2000-02-29T00:00:00",
          "2000-03-31T00:00:00",
          "2000-04-30T00:00:00",
          "2000-05-31T00:00:00",
          "2000-06-30T00:00:00",
          "2000-07-31T00:00:00",
          "2000-08-31T00:00:00",
          "2000-09-30T00:00:00",
          "2000-10-31T00:00:00",
          "2000-11-30T00:00:00",
          "2000-12-31T00:00:00",
          "2001-01-31T00:00:00",
          "2001-02-28T00:00:00",
          "2001-03-31T00:00:00",
          "2001-04-30T00:00:00",
          "2001-05-31T00:00:00",
          "2001-06-30T00:00:00",
          "2001-07-31T00:00:00",
          "2001-08-31T00:00:00",
          "2001-09-30T00:00:00",
          "2001-10-31T00:00:00",
          "2001-11-30T00:00:00",
          "2001-12-31T00:00:00",
          "2002-01-31T00:00:00",
          "2002-02-28T00:00:00",
          "2002-03-31T00:00:00",
          "2002-04-30T00:00:00",
          "2002-05-31T00:00:00",
          "2002-06-30T00:00:00",
          "2002-07-31T00:00:00",
          "2002-08-31T00:00:00",
          "2002-09-30T00:00:00",
          "2002-10-31T00:00:00",
          "2002-11-30T00:00:00",
          "2002-12-31T00:00:00",
          "2003-01-31T00:00:00",
          "2003-02-28T00:00:00",
          "2003-03-31T00:00:00",
          "2003-04-30T00:00:00",
          "2003-05-31T00:00:00",
          "2003-06-30T00:00:00",
          "2003-07-31T00:00:00",
          "2003-08-31T00:00:00",
          "2003-09-30T00:00:00",
          "2003-10-31T00:00:00",
          "2003-11-30T00:00:00",
          "2003-12-31T00:00:00",
          "2004-01-31T00:00:00",
          "2004-02-29T00:00:00",
          "2004-03-31T00:00:00",
          "2004-04-30T00:00:00",
          "2004-05-31T00:00:00",
          "2004-06-30T00:00:00",
          "2004-07-31T00:00:00",
          "2004-08-31T00:00:00",
          "2004-09-30T00:00:00",
          "2004-10-31T00:00:00",
          "2004-11-30T00:00:00",
          "2004-12-31T00:00:00",
          "2005-01-31T00:00:00",
          "2005-02-28T00:00:00",
          "2005-03-31T00:00:00",
          "2005-04-30T00:00:00",
          "2005-05-31T00:00:00",
          "2005-06-30T00:00:00",
          "2005-07-31T00:00:00",
          "2005-08-31T00:00:00",
          "2005-09-30T00:00:00",
          "2005-10-31T00:00:00",
          "2005-11-30T00:00:00",
          "2005-12-31T00:00:00",
          "2006-01-31T00:00:00",
          "2006-02-28T00:00:00",
          "2006-03-31T00:00:00",
          "2006-04-30T00:00:00",
          "2006-05-31T00:00:00",
          "2006-06-30T00:00:00",
          "2006-07-31T00:00:00",
          "2006-08-31T00:00:00",
          "2006-09-30T00:00:00",
          "2006-10-31T00:00:00",
          "2006-11-30T00:00:00",
          "2006-12-31T00:00:00",
          "2007-01-31T00:00:00",
          "2007-02-28T00:00:00",
          "2007-03-31T00:00:00",
          "2007-04-30T00:00:00",
          "2007-05-31T00:00:00",
          "2007-06-30T00:00:00",
          "2007-07-31T00:00:00",
          "2007-08-31T00:00:00",
          "2007-09-30T00:00:00",
          "2007-10-31T00:00:00",
          "2007-11-30T00:00:00",
          "2007-12-31T00:00:00",
          "2008-01-31T00:00:00",
          "2008-02-29T00:00:00",
          "2008-03-31T00:00:00",
          "2008-04-30T00:00:00",
          "2008-05-31T00:00:00"
         ],
         "y": [
          100,
          93.46,
          101.86999999999999,
          100.66999999999999,
          97.98,
          98.18,
          96.73,
          100.16000000000001,
          96.52,
          97.98,
          89.05,
          90.52,
          97.06,
          95.2,
          89.11,
          95.69,
          99.34,
          98.22,
          96.26,
          91.37,
          78.14,
          78.54,
          87.65,
          89.77,
          89.11,
          93.2,
          98.61,
          98.01,
          99.38,
          92.27,
          89.6,
          90.47,
          84.86,
          89.81,
          92.59,
          89.11,
          88.81,
          86.83,
          89.92,
          92.88,
          94.8,
          98.99,
          97.5,
          93.89,
          94.14,
          94.78,
          96.81,
          102.41,
          105.23,
          106.35,
          101.92000000000002,
          105.08999999999999,
          104.75000000000001,
          104.35,
          98.75,
          100.36,
          98.6,
          96.41,
          98.3,
          103.71999999999998,
          100.49,
          103.51000000000002,
          102.93,
          106.52,
          107.86,
          107.28999999999999,
          109.71,
          109.33,
          108.72999999999999,
          105.4,
          106.67999999999999,
          110.37000000000002,
          111.79999999999998,
          113.09,
          111.64,
          108.18,
          105.91999999999999,
          105.95000000000002,
          111.72999999999999,
          114.92,
          116.69,
          117.06999999999998,
          116.93,
          118.15,
          121.75,
          118.93,
          119.16,
          127.86999999999999,
          130.07,
          125.71,
          119.73,
          122.46999999999998,
          126.29999999999998,
          128.65,
          130.3,
          126.61,
          120.84000000000002,
          117.60999999999999,
          112.27000000000001,
          113.38,
          115.55
         ]
        },
        {
         "hoverinfo": "x+y+name",
         "line": {
          "color": "#8c564b"
         },
         "mode": "lines",
         "name": "Consumer Discretionary",
         "type": "scatter",
         "x": [
          "2000-01-31T00:00:00",
          "2000-02-29T00:00:00",
          "2000-03-31T00:00:00",
          "2000-04-30T00:00:00",
          "2000-05-31T00:00:00",
          "2000-06-30T00:00:00",
          "2000-07-31T00:00:00",
          "2000-08-31T00:00:00",
          "2000-09-30T00:00:00",
          "2000-10-31T00:00:00",
          "2000-11-30T00:00:00",
          "2000-12-31T00:00:00",
          "2001-01-31T00:00:00",
          "2001-02-28T00:00:00",
          "2001-03-31T00:00:00",
          "2001-04-30T00:00:00",
          "2001-05-31T00:00:00",
          "2001-06-30T00:00:00",
          "2001-07-31T00:00:00",
          "2001-08-31T00:00:00",
          "2001-09-30T00:00:00",
          "2001-10-31T00:00:00",
          "2001-11-30T00:00:00",
          "2001-12-31T00:00:00",
          "2002-01-31T00:00:00",
          "2002-02-28T00:00:00",
          "2002-03-31T00:00:00",
          "2002-04-30T00:00:00",
          "2002-05-31T00:00:00",
          "2002-06-30T00:00:00",
          "2002-07-31T00:00:00",
          "2002-08-31T00:00:00",
          "2002-09-30T00:00:00",
          "2002-10-31T00:00:00",
          "2002-11-30T00:00:00",
          "2002-12-31T00:00:00",
          "2003-01-31T00:00:00",
          "2003-02-28T00:00:00",
          "2003-03-31T00:00:00",
          "2003-04-30T00:00:00",
          "2003-05-31T00:00:00",
          "2003-06-30T00:00:00",
          "2003-07-31T00:00:00",
          "2003-08-31T00:00:00",
          "2003-09-30T00:00:00",
          "2003-10-31T00:00:00",
          "2003-11-30T00:00:00",
          "2003-12-31T00:00:00",
          "2004-01-31T00:00:00",
          "2004-02-29T00:00:00",
          "2004-03-31T00:00:00",
          "2004-04-30T00:00:00",
          "2004-05-31T00:00:00",
          "2004-06-30T00:00:00",
          "2004-07-31T00:00:00",
          "2004-08-31T00:00:00",
          "2004-09-30T00:00:00",
          "2004-10-31T00:00:00",
          "2004-11-30T00:00:00",
          "2004-12-31T00:00:00",
          "2005-01-31T00:00:00",
          "2005-02-28T00:00:00",
          "2005-03-31T00:00:00",
          "2005-04-30T00:00:00",
          "2005-05-31T00:00:00",
          "2005-06-30T00:00:00",
          "2005-07-31T00:00:00",
          "2005-08-31T00:00:00",
          "2005-09-30T00:00:00",
          "2005-10-31T00:00:00",
          "2005-11-30T00:00:00",
          "2005-12-31T00:00:00",
          "2006-01-31T00:00:00",
          "2006-02-28T00:00:00",
          "2006-03-31T00:00:00",
          "2006-04-30T00:00:00",
          "2006-05-31T00:00:00",
          "2006-06-30T00:00:00",
          "2006-07-31T00:00:00",
          "2006-08-31T00:00:00",
          "2006-09-30T00:00:00",
          "2006-10-31T00:00:00",
          "2006-11-30T00:00:00",
          "2006-12-31T00:00:00",
          "2007-01-31T00:00:00",
          "2007-02-28T00:00:00",
          "2007-03-31T00:00:00",
          "2007-04-30T00:00:00",
          "2007-05-31T00:00:00",
          "2007-06-30T00:00:00",
          "2007-07-31T00:00:00",
          "2007-08-31T00:00:00",
          "2007-09-30T00:00:00",
          "2007-10-31T00:00:00",
          "2007-11-30T00:00:00",
          "2007-12-31T00:00:00",
          "2008-01-31T00:00:00",
          "2008-02-29T00:00:00",
          "2008-03-31T00:00:00",
          "2008-04-30T00:00:00",
          "2008-05-31T00:00:00"
         ],
         "y": [
          100,
          94.43,
          107.79,
          105.54999999999998,
          99.85,
          94.45,
          95.95,
          91.97,
          92.08,
          90.92,
          88.67,
          94.92,
          105.96,
          98.39,
          96.96,
          101.44999999999999,
          103.86999999999999,
          103.05,
          107.63000000000001,
          98.21,
          85.8,
          90.32,
          102.34999999999998,
          107,
          110.52,
          111.11999999999999,
          112.53,
          109.38,
          108.81999999999998,
          103.08999999999999,
          90.78,
          93.52,
          85.18,
          90.93,
          95.14,
          87.04,
          84.14,
          83.76,
          85.73,
          95.76,
          100.85,
          102.31000000000002,
          104.2,
          109.53,
          104.3,
          113.79000000000002,
          114.81000000000002,
          119.41,
          118.73,
          121.31,
          120.56,
          119.19,
          119.95,
          120.26,
          115.7,
          115.47,
          118.8,
          123.6,
          128.78,
          134.79,
          129.03,
          128.34,
          126.84,
          118.77,
          126.10999999999999,
          125.57000000000001,
          132.69,
          128.33,
          124.68,
          122.15,
          127.02,
          125.93,
          128.17,
          129.1,
          129.86,
          131.51,
          129.32,
          129.09,
          124.8,
          127.27,
          135.38,
          144.13,
          145.96,
          149.12,
          153.4,
          148.81,
          148.11,
          151.61,
          156.17,
          153.44,
          144.35,
          145.25,
          143.97,
          143.27,
          135.45,
          128.74,
          128.27,
          123.31,
          121.09999999999998,
          123.98,
          127.37
         ]
        }
       ],
       "layout": {
        "height": 600,
        "hovermode": "closest",
        "legend": {
         "title": {
          "text": "Sectors"
         }
        },
        "template": {
         "data": {
          "bar": [
           {
            "error_x": {
             "color": "#2a3f5f"
            },
            "error_y": {
             "color": "#2a3f5f"
            },
            "marker": {
             "line": {
              "color": "white",
              "width": 0.5
             },
             "pattern": {
              "fillmode": "overlay",
              "size": 10,
              "solidity": 0.2
             }
            },
            "type": "bar"
           }
          ],
          "barpolar": [
           {
            "marker": {
             "line": {
              "color": "white",
              "width": 0.5
             },
             "pattern": {
              "fillmode": "overlay",
              "size": 10,
              "solidity": 0.2
             }
            },
            "type": "barpolar"
           }
          ],
          "carpet": [
           {
            "aaxis": {
             "endlinecolor": "#2a3f5f",
             "gridcolor": "#C8D4E3",
             "linecolor": "#C8D4E3",
             "minorgridcolor": "#C8D4E3",
             "startlinecolor": "#2a3f5f"
            },
            "baxis": {
             "endlinecolor": "#2a3f5f",
             "gridcolor": "#C8D4E3",
             "linecolor": "#C8D4E3",
             "minorgridcolor": "#C8D4E3",
             "startlinecolor": "#2a3f5f"
            },
            "type": "carpet"
           }
          ],
          "choropleth": [
           {
            "colorbar": {
             "outlinewidth": 0,
             "ticks": ""
            },
            "type": "choropleth"
           }
          ],
          "contour": [
           {
            "colorbar": {
             "outlinewidth": 0,
             "ticks": ""
            },
            "colorscale": [
             [
              0,
              "#0d0887"
             ],
             [
              0.1111111111111111,
              "#46039f"
             ],
             [
              0.2222222222222222,
              "#7201a8"
             ],
             [
              0.3333333333333333,
              "#9c179e"
             ],
             [
              0.4444444444444444,
              "#bd3786"
             ],
             [
              0.5555555555555556,
              "#d8576b"
             ],
             [
              0.6666666666666666,
              "#ed7953"
             ],
             [
              0.7777777777777778,
              "#fb9f3a"
             ],
             [
              0.8888888888888888,
              "#fdca26"
             ],
             [
              1,
              "#f0f921"
             ]
            ],
            "type": "contour"
           }
          ],
          "contourcarpet": [
           {
            "colorbar": {
             "outlinewidth": 0,
             "ticks": ""
            },
            "type": "contourcarpet"
           }
          ],
          "heatmap": [
           {
            "colorbar": {
             "outlinewidth": 0,
             "ticks": ""
            },
            "colorscale": [
             [
              0,
              "#0d0887"
             ],
             [
              0.1111111111111111,
              "#46039f"
             ],
             [
              0.2222222222222222,
              "#7201a8"
             ],
             [
              0.3333333333333333,
              "#9c179e"
             ],
             [
              0.4444444444444444,
              "#bd3786"
             ],
             [
              0.5555555555555556,
              "#d8576b"
             ],
             [
              0.6666666666666666,
              "#ed7953"
             ],
             [
              0.7777777777777778,
              "#fb9f3a"
             ],
             [
              0.8888888888888888,
              "#fdca26"
             ],
             [
              1,
              "#f0f921"
             ]
            ],
            "type": "heatmap"
           }
          ],
          "heatmapgl": [
           {
            "colorbar": {
             "outlinewidth": 0,
             "ticks": ""
            },
            "colorscale": [
             [
              0,
              "#0d0887"
             ],
             [
              0.1111111111111111,
              "#46039f"
             ],
             [
              0.2222222222222222,
              "#7201a8"
             ],
             [
              0.3333333333333333,
              "#9c179e"
             ],
             [
              0.4444444444444444,
              "#bd3786"
             ],
             [
              0.5555555555555556,
              "#d8576b"
             ],
             [
              0.6666666666666666,
              "#ed7953"
             ],
             [
              0.7777777777777778,
              "#fb9f3a"
             ],
             [
              0.8888888888888888,
              "#fdca26"
             ],
             [
              1,
              "#f0f921"
             ]
            ],
            "type": "heatmapgl"
           }
          ],
          "histogram": [
           {
            "marker": {
             "pattern": {
              "fillmode": "overlay",
              "size": 10,
              "solidity": 0.2
             }
            },
            "type": "histogram"
           }
          ],
          "histogram2d": [
           {
            "colorbar": {
             "outlinewidth": 0,
             "ticks": ""
            },
            "colorscale": [
             [
              0,
              "#0d0887"
             ],
             [
              0.1111111111111111,
              "#46039f"
             ],
             [
              0.2222222222222222,
              "#7201a8"
             ],
             [
              0.3333333333333333,
              "#9c179e"
             ],
             [
              0.4444444444444444,
              "#bd3786"
             ],
             [
              0.5555555555555556,
              "#d8576b"
             ],
             [
              0.6666666666666666,
              "#ed7953"
             ],
             [
              0.7777777777777778,
              "#fb9f3a"
             ],
             [
              0.8888888888888888,
              "#fdca26"
             ],
             [
              1,
              "#f0f921"
             ]
            ],
            "type": "histogram2d"
           }
          ],
          "histogram2dcontour": [
           {
            "colorbar": {
             "outlinewidth": 0,
             "ticks": ""
            },
            "colorscale": [
             [
              0,
              "#0d0887"
             ],
             [
              0.1111111111111111,
              "#46039f"
             ],
             [
              0.2222222222222222,
              "#7201a8"
             ],
             [
              0.3333333333333333,
              "#9c179e"
             ],
             [
              0.4444444444444444,
              "#bd3786"
             ],
             [
              0.5555555555555556,
              "#d8576b"
             ],
             [
              0.6666666666666666,
              "#ed7953"
             ],
             [
              0.7777777777777778,
              "#fb9f3a"
             ],
             [
              0.8888888888888888,
              "#fdca26"
             ],
             [
              1,
              "#f0f921"
             ]
            ],
            "type": "histogram2dcontour"
           }
          ],
          "mesh3d": [
           {
            "colorbar": {
             "outlinewidth": 0,
             "ticks": ""
            },
            "type": "mesh3d"
           }
          ],
          "parcoords": [
           {
            "line": {
             "colorbar": {
              "outlinewidth": 0,
              "ticks": ""
             }
            },
            "type": "parcoords"
           }
          ],
          "pie": [
           {
            "automargin": true,
            "type": "pie"
           }
          ],
          "scatter": [
           {
            "fillpattern": {
             "fillmode": "overlay",
             "size": 10,
             "solidity": 0.2
            },
            "type": "scatter"
           }
          ],
          "scatter3d": [
           {
            "line": {
             "colorbar": {
              "outlinewidth": 0,
              "ticks": ""
             }
            },
            "marker": {
             "colorbar": {
              "outlinewidth": 0,
              "ticks": ""
             }
            },
            "type": "scatter3d"
           }
          ],
          "scattercarpet": [
           {
            "marker": {
             "colorbar": {
              "outlinewidth": 0,
              "ticks": ""
             }
            },
            "type": "scattercarpet"
           }
          ],
          "scattergeo": [
           {
            "marker": {
             "colorbar": {
              "outlinewidth": 0,
              "ticks": ""
             }
            },
            "type": "scattergeo"
           }
          ],
          "scattergl": [
           {
            "marker": {
             "colorbar": {
              "outlinewidth": 0,
              "ticks": ""
             }
            },
            "type": "scattergl"
           }
          ],
          "scattermapbox": [
           {
            "marker": {
             "colorbar": {
              "outlinewidth": 0,
              "ticks": ""
             }
            },
            "type": "scattermapbox"
           }
          ],
          "scatterpolar": [
           {
            "marker": {
             "colorbar": {
              "outlinewidth": 0,
              "ticks": ""
             }
            },
            "type": "scatterpolar"
           }
          ],
          "scatterpolargl": [
           {
            "marker": {
             "colorbar": {
              "outlinewidth": 0,
              "ticks": ""
             }
            },
            "type": "scatterpolargl"
           }
          ],
          "scatterternary": [
           {
            "marker": {
             "colorbar": {
              "outlinewidth": 0,
              "ticks": ""
             }
            },
            "type": "scatterternary"
           }
          ],
          "surface": [
           {
            "colorbar": {
             "outlinewidth": 0,
             "ticks": ""
            },
            "colorscale": [
             [
              0,
              "#0d0887"
             ],
             [
              0.1111111111111111,
              "#46039f"
             ],
             [
              0.2222222222222222,
              "#7201a8"
             ],
             [
              0.3333333333333333,
              "#9c179e"
             ],
             [
              0.4444444444444444,
              "#bd3786"
             ],
             [
              0.5555555555555556,
              "#d8576b"
             ],
             [
              0.6666666666666666,
              "#ed7953"
             ],
             [
              0.7777777777777778,
              "#fb9f3a"
             ],
             [
              0.8888888888888888,
              "#fdca26"
             ],
             [
              1,
              "#f0f921"
             ]
            ],
            "type": "surface"
           }
          ],
          "table": [
           {
            "cells": {
             "fill": {
              "color": "#EBF0F8"
             },
             "line": {
              "color": "white"
             }
            },
            "header": {
             "fill": {
              "color": "#C8D4E3"
             },
             "line": {
              "color": "white"
             }
            },
            "type": "table"
           }
          ]
         },
         "layout": {
          "annotationdefaults": {
           "arrowcolor": "#2a3f5f",
           "arrowhead": 0,
           "arrowwidth": 1
          },
          "autotypenumbers": "strict",
          "coloraxis": {
           "colorbar": {
            "outlinewidth": 0,
            "ticks": ""
           }
          },
          "colorscale": {
           "diverging": [
            [
             0,
             "#8e0152"
            ],
            [
             0.1,
             "#c51b7d"
            ],
            [
             0.2,
             "#de77ae"
            ],
            [
             0.3,
             "#f1b6da"
            ],
            [
             0.4,
             "#fde0ef"
            ],
            [
             0.5,
             "#f7f7f7"
            ],
            [
             0.6,
             "#e6f5d0"
            ],
            [
             0.7,
             "#b8e186"
            ],
            [
             0.8,
             "#7fbc41"
            ],
            [
             0.9,
             "#4d9221"
            ],
            [
             1,
             "#276419"
            ]
           ],
           "sequential": [
            [
             0,
             "#0d0887"
            ],
            [
             0.1111111111111111,
             "#46039f"
            ],
            [
             0.2222222222222222,
             "#7201a8"
            ],
            [
             0.3333333333333333,
             "#9c179e"
            ],
            [
             0.4444444444444444,
             "#bd3786"
            ],
            [
             0.5555555555555556,
             "#d8576b"
            ],
            [
             0.6666666666666666,
             "#ed7953"
            ],
            [
             0.7777777777777778,
             "#fb9f3a"
            ],
            [
             0.8888888888888888,
             "#fdca26"
            ],
            [
             1,
             "#f0f921"
            ]
           ],
           "sequentialminus": [
            [
             0,
             "#0d0887"
            ],
            [
             0.1111111111111111,
             "#46039f"
            ],
            [
             0.2222222222222222,
             "#7201a8"
            ],
            [
             0.3333333333333333,
             "#9c179e"
            ],
            [
             0.4444444444444444,
             "#bd3786"
            ],
            [
             0.5555555555555556,
             "#d8576b"
            ],
            [
             0.6666666666666666,
             "#ed7953"
            ],
            [
             0.7777777777777778,
             "#fb9f3a"
            ],
            [
             0.8888888888888888,
             "#fdca26"
            ],
            [
             1,
             "#f0f921"
            ]
           ]
          },
          "colorway": [
           "#636efa",
           "#EF553B",
           "#00cc96",
           "#ab63fa",
           "#FFA15A",
           "#19d3f3",
           "#FF6692",
           "#B6E880",
           "#FF97FF",
           "#FECB52"
          ],
          "font": {
           "color": "#2a3f5f"
          },
          "geo": {
           "bgcolor": "white",
           "lakecolor": "white",
           "landcolor": "white",
           "showlakes": true,
           "showland": true,
           "subunitcolor": "#C8D4E3"
          },
          "hoverlabel": {
           "align": "left"
          },
          "hovermode": "closest",
          "mapbox": {
           "style": "light"
          },
          "paper_bgcolor": "white",
          "plot_bgcolor": "white",
          "polar": {
           "angularaxis": {
            "gridcolor": "#EBF0F8",
            "linecolor": "#EBF0F8",
            "ticks": ""
           },
           "bgcolor": "white",
           "radialaxis": {
            "gridcolor": "#EBF0F8",
            "linecolor": "#EBF0F8",
            "ticks": ""
           }
          },
          "scene": {
           "xaxis": {
            "backgroundcolor": "white",
            "gridcolor": "#DFE8F3",
            "gridwidth": 2,
            "linecolor": "#EBF0F8",
            "showbackground": true,
            "ticks": "",
            "zerolinecolor": "#EBF0F8"
           },
           "yaxis": {
            "backgroundcolor": "white",
            "gridcolor": "#DFE8F3",
            "gridwidth": 2,
            "linecolor": "#EBF0F8",
            "showbackground": true,
            "ticks": "",
            "zerolinecolor": "#EBF0F8"
           },
           "zaxis": {
            "backgroundcolor": "white",
            "gridcolor": "#DFE8F3",
            "gridwidth": 2,
            "linecolor": "#EBF0F8",
            "showbackground": true,
            "ticks": "",
            "zerolinecolor": "#EBF0F8"
           }
          },
          "shapedefaults": {
           "line": {
            "color": "#2a3f5f"
           }
          },
          "ternary": {
           "aaxis": {
            "gridcolor": "#DFE8F3",
            "linecolor": "#A2B1C6",
            "ticks": ""
           },
           "baxis": {
            "gridcolor": "#DFE8F3",
            "linecolor": "#A2B1C6",
            "ticks": ""
           },
           "bgcolor": "white",
           "caxis": {
            "gridcolor": "#DFE8F3",
            "linecolor": "#A2B1C6",
            "ticks": ""
           }
          },
          "title": {
           "x": 0.05
          },
          "xaxis": {
           "automargin": true,
           "gridcolor": "#EBF0F8",
           "linecolor": "#EBF0F8",
           "ticks": "",
           "title": {
            "standoff": 15
           },
           "zerolinecolor": "#EBF0F8",
           "zerolinewidth": 2
          },
          "yaxis": {
           "automargin": true,
           "gridcolor": "#EBF0F8",
           "linecolor": "#EBF0F8",
           "ticks": "",
           "title": {
            "standoff": 15
           },
           "zerolinecolor": "#EBF0F8",
           "zerolinewidth": 2
          }
         }
        },
        "title": {
         "text": "Era 1: Jan 2000 - Jun 2008 (Normalised)",
         "x": 0.5
        },
        "width": 1200,
        "xaxis": {
         "dtick": "M12",
         "tickangle": 45,
         "tickfont": {
          "size": 12
         },
         "tickformat": "%Y",
         "title": {
          "text": "Date"
         }
        },
        "yaxis": {
         "tickfont": {
          "size": 12
         },
         "title": {
          "text": "Normalised Performance (Base=100)"
         }
        }
       }
      }
     },
     "metadata": {},
     "output_type": "display_data"
    }
   ],
   "source": [
    "# Creating a line plot for Era 1\n",
    "fig = go.Figure()\n",
    "\n",
    "# Adding a trace for each sector\n",
    "for sector in sector_columns:\n",
    "    fig.add_trace(\n",
    "        go.Scatter(\n",
    "            x=era1_norm.index,\n",
    "            y=era1_norm[sector],\n",
    "            mode='lines',\n",
    "            name=sector,\n",
    "            line=dict(color=sector_colors_hex[sector]),\n",
    "            hoverinfo='x+y+name'\n",
    "        )\n",
    "    )\n",
    "\n",
    "# Layout with specified adaptations\n",
    "fig.update_layout(\n",
    "    title='Era 1: Jan 2000 - Jun 2008 (Normalised)',\n",
    "    title_x=0.5,  # Center the title horizontally\n",
    "    xaxis_title='Date',\n",
    "    yaxis_title='Normalised Performance (Base=100)',\n",
    "    hovermode='closest',\n",
    "    legend_title='Sectors',\n",
    "    template='plotly_white',\n",
    "    width=1200,    # Make the plot slightly wider\n",
    "    height=600     # Set the plot height to 600 pixels\n",
    ")\n",
    "\n",
    "# x-axis to show yearly ticks \n",
    "fig.update_xaxes(\n",
    "    tickangle=45,\n",
    "    tickformat='%Y',\n",
    "    tickfont=dict(size=12),\n",
    "    dtick='M12'  # Set tick interval to 12 months (1 year)\n",
    ")\n",
    "\n",
    "# y-axis font size\n",
    "fig.update_yaxes(\n",
    "    tickfont=dict(size=12)\n",
    ")\n",
    "\n",
    "# Showing the plot\n",
    "fig.show()\n",
    "\n",
    "\n",
    "\n"
   ]
  },
  {
   "cell_type": "markdown",
   "metadata": {},
   "source": [
    "The analysis of business sector performance between 2000 and 2008 reveals notable disparities among sectors. Real Estate and Energy emerged as the best-performing sectors during this period. The strong performance of Real Estate can be attributed to the formation of the real estate bubble, characterised by surging property prices and speculative investment, fueled by lax lending practices and a booming housing market. Similarly, the Energy sector thrived as the expanding global economy drove increased demand for oil and other energy resources, leading to higher prices and profitability for energy companies. In contrast, the Technology sector faced significant challenges, reflecting the aftermath of the dot-com bubble burst in the early 2000s. This collapse led to a sharp decline in technology stock valuations and a prolonged recovery period, suppressing overall sector performance."
   ]
  },
  {
   "cell_type": "code",
   "execution_count": 15,
   "metadata": {},
   "outputs": [
    {
     "data": {
      "application/vnd.plotly.v1+json": {
       "config": {
        "plotlyServerURL": "https://plot.ly"
       },
       "data": [
        {
         "customdata": [
          [
           0.6
          ]
         ],
         "hovertemplate": "<b>%{hovertext}</b><br>Return: %{y:.0f}%<br>Risk: %{x:.0f}%<br>Market Cap: %{marker.size:.2f} Trillion USD",
         "hovertext": [
          "Communication Services"
         ],
         "legendgroup": "Communication Services",
         "marker": {
          "color": "#1f77b4",
          "line": {
           "color": "DarkSlateGrey",
           "width": 1
          },
          "opacity": 0.7,
          "size": [
           0.6
          ],
          "sizemode": "area",
          "sizeref": 0.0006666666666666666,
          "symbol": "circle"
         },
         "mode": "markers",
         "name": "Communication Services",
         "orientation": "v",
         "showlegend": true,
         "type": "scatter",
         "x": [
          19.17685188666188
         ],
         "xaxis": "x",
         "y": [
          7.863474456044463
         ],
         "yaxis": "y"
        },
        {
         "customdata": [
          [
           0.6
          ]
         ],
         "hovertemplate": "<b>%{hovertext}</b><br>Return: %{y:.0f}%<br>Risk: %{x:.0f}%<br>Market Cap: %{marker.size:.2f} Trillion USD",
         "hovertext": [
          "Real Estate"
         ],
         "legendgroup": "Real Estate",
         "marker": {
          "color": "#aec7e8",
          "line": {
           "color": "DarkSlateGrey",
           "width": 1
          },
          "opacity": 0.7,
          "size": [
           0.6
          ],
          "sizemode": "area",
          "sizeref": 0.0006666666666666666,
          "symbol": "circle"
         },
         "mode": "markers",
         "name": "Real Estate",
         "orientation": "v",
         "showlegend": true,
         "type": "scatter",
         "x": [
          31.49442043850855
         ],
         "xaxis": "x",
         "y": [
          19.038452310573224
         ],
         "yaxis": "y"
        },
        {
         "customdata": [
          [
           0.45
          ]
         ],
         "hovertemplate": "<b>%{hovertext}</b><br>Return: %{y:.0f}%<br>Risk: %{x:.0f}%<br>Market Cap: %{marker.size:.2f} Trillion USD",
         "hovertext": [
          "Materials"
         ],
         "legendgroup": "Materials",
         "marker": {
          "color": "#ff7f0e",
          "line": {
           "color": "DarkSlateGrey",
           "width": 1
          },
          "opacity": 0.7,
          "size": [
           0.45
          ],
          "sizemode": "area",
          "sizeref": 0.0006666666666666666,
          "symbol": "circle"
         },
         "mode": "markers",
         "name": "Materials",
         "orientation": "v",
         "showlegend": true,
         "type": "scatter",
         "x": [
          18.80600413501547
         ],
         "xaxis": "x",
         "y": [
          10.088456939010726
         ],
         "yaxis": "y"
        },
        {
         "customdata": [
          [
           0.6
          ]
         ],
         "hovertemplate": "<b>%{hovertext}</b><br>Return: %{y:.0f}%<br>Risk: %{x:.0f}%<br>Market Cap: %{marker.size:.2f} Trillion USD",
         "hovertext": [
          "Energy"
         ],
         "legendgroup": "Energy",
         "marker": {
          "color": "#ffbb78",
          "line": {
           "color": "DarkSlateGrey",
           "width": 1
          },
          "opacity": 0.7,
          "size": [
           0.6
          ],
          "sizemode": "area",
          "sizeref": 0.0006666666666666666,
          "symbol": "circle"
         },
         "mode": "markers",
         "name": "Energy",
         "orientation": "v",
         "showlegend": true,
         "type": "scatter",
         "x": [
          20.52742518908981
         ],
         "xaxis": "x",
         "y": [
          15.29328705114674
         ],
         "yaxis": "y"
        },
        {
         "customdata": [
          [
           2.25
          ]
         ],
         "hovertemplate": "<b>%{hovertext}</b><br>Return: %{y:.0f}%<br>Risk: %{x:.0f}%<br>Market Cap: %{marker.size:.2f} Trillion USD",
         "hovertext": [
          "Financials"
         ],
         "legendgroup": "Financials",
         "marker": {
          "color": "#2ca02c",
          "line": {
           "color": "DarkSlateGrey",
           "width": 1
          },
          "opacity": 0.7,
          "size": [
           2.25
          ],
          "sizemode": "area",
          "sizeref": 0.0006666666666666666,
          "symbol": "circle"
         },
         "mode": "markers",
         "name": "Financials",
         "orientation": "v",
         "showlegend": true,
         "type": "scatter",
         "x": [
          16.844697402949322
         ],
         "xaxis": "x",
         "y": [
          2.9219405707452726
         ],
         "yaxis": "y"
        },
        {
         "customdata": [
          [
           1.8
          ]
         ],
         "hovertemplate": "<b>%{hovertext}</b><br>Return: %{y:.0f}%<br>Risk: %{x:.0f}%<br>Market Cap: %{marker.size:.2f} Trillion USD",
         "hovertext": [
          "Industrials"
         ],
         "legendgroup": "Industrials",
         "marker": {
          "color": "#98df8a",
          "line": {
           "color": "DarkSlateGrey",
           "width": 1
          },
          "opacity": 0.7,
          "size": [
           1.8
          ],
          "sizemode": "area",
          "sizeref": 0.0006666666666666666,
          "symbol": "circle"
         },
         "mode": "markers",
         "name": "Industrials",
         "orientation": "v",
         "showlegend": true,
         "type": "scatter",
         "x": [
          16.05201204256433
         ],
         "xaxis": "x",
         "y": [
          5.681970221999899
         ],
         "yaxis": "y"
        },
        {
         "customdata": [
          [
           1.5
          ]
         ],
         "hovertemplate": "<b>%{hovertext}</b><br>Return: %{y:.0f}%<br>Risk: %{x:.0f}%<br>Market Cap: %{marker.size:.2f} Trillion USD",
         "hovertext": [
          "Technology"
         ],
         "legendgroup": "Technology",
         "marker": {
          "color": "#d62728",
          "line": {
           "color": "DarkSlateGrey",
           "width": 1
          },
          "opacity": 0.7,
          "size": [
           1.5
          ],
          "sizemode": "area",
          "sizeref": 0.0006666666666666666,
          "symbol": "circle"
         },
         "mode": "markers",
         "name": "Technology",
         "orientation": "v",
         "showlegend": true,
         "type": "scatter",
         "x": [
          29.4454440318943
         ],
         "xaxis": "x",
         "y": [
          -7.666180885830798
         ],
         "yaxis": "y"
        },
        {
         "customdata": [
          [
           1.05
          ]
         ],
         "hovertemplate": "<b>%{hovertext}</b><br>Return: %{y:.0f}%<br>Risk: %{x:.0f}%<br>Market Cap: %{marker.size:.2f} Trillion USD",
         "hovertext": [
          "Consumer Staples"
         ],
         "legendgroup": "Consumer Staples",
         "marker": {
          "color": "#ff9896",
          "line": {
           "color": "DarkSlateGrey",
           "width": 1
          },
          "opacity": 0.7,
          "size": [
           1.05
          ],
          "sizemode": "area",
          "sizeref": 0.0006666666666666666,
          "symbol": "circle"
         },
         "mode": "markers",
         "name": "Consumer Staples",
         "orientation": "v",
         "showlegend": true,
         "type": "scatter",
         "x": [
          11.667043758208695
         ],
         "xaxis": "x",
         "y": [
          4.160464954814893
         ],
         "yaxis": "y"
        },
        {
         "customdata": [
          [
           0.45
          ]
         ],
         "hovertemplate": "<b>%{hovertext}</b><br>Return: %{y:.0f}%<br>Risk: %{x:.0f}%<br>Market Cap: %{marker.size:.2f} Trillion USD",
         "hovertext": [
          "Utilities"
         ],
         "legendgroup": "Utilities",
         "marker": {
          "color": "#9467bd",
          "line": {
           "color": "DarkSlateGrey",
           "width": 1
          },
          "opacity": 0.7,
          "size": [
           0.45
          ],
          "sizemode": "area",
          "sizeref": 0.0006666666666666666,
          "symbol": "circle"
         },
         "mode": "markers",
         "name": "Utilities",
         "orientation": "v",
         "showlegend": true,
         "type": "scatter",
         "x": [
          16.175872537507548
         ],
         "xaxis": "x",
         "y": [
          8.18321464015011
         ],
         "yaxis": "y"
        },
        {
         "customdata": [
          [
           1.8
          ]
         ],
         "hovertemplate": "<b>%{hovertext}</b><br>Return: %{y:.0f}%<br>Risk: %{x:.0f}%<br>Market Cap: %{marker.size:.2f} Trillion USD",
         "hovertext": [
          "Health Care"
         ],
         "legendgroup": "Health Care",
         "marker": {
          "color": "#c5b0d5",
          "line": {
           "color": "DarkSlateGrey",
           "width": 1
          },
          "opacity": 0.7,
          "size": [
           1.8
          ],
          "sizemode": "area",
          "sizeref": 0.0006666666666666666,
          "symbol": "circle"
         },
         "mode": "markers",
         "name": "Health Care",
         "orientation": "v",
         "showlegend": true,
         "type": "scatter",
         "x": [
          13.712411958358988
         ],
         "xaxis": "x",
         "y": [
          1.7343978087875849
         ],
         "yaxis": "y"
        },
        {
         "customdata": [
          [
           2.4
          ]
         ],
         "hovertemplate": "<b>%{hovertext}</b><br>Return: %{y:.0f}%<br>Risk: %{x:.0f}%<br>Market Cap: %{marker.size:.2f} Trillion USD",
         "hovertext": [
          "Consumer Discretionary"
         ],
         "legendgroup": "Consumer Discretionary",
         "marker": {
          "color": "#8c564b",
          "line": {
           "color": "DarkSlateGrey",
           "width": 1
          },
          "opacity": 0.7,
          "size": [
           2.4
          ],
          "sizemode": "area",
          "sizeref": 0.0006666666666666666,
          "symbol": "circle"
         },
         "mode": "markers",
         "name": "Consumer Discretionary",
         "orientation": "v",
         "showlegend": true,
         "type": "scatter",
         "x": [
          16.775975805801853
         ],
         "xaxis": "x",
         "y": [
          2.903112607362911
         ],
         "yaxis": "y"
        }
       ],
       "layout": {
        "annotations": [
         {
          "font": {
           "color": "Red"
          },
          "showarrow": false,
          "text": "Avg Risk",
          "x": 18.2680369849907,
          "y": 19.038452310573224,
          "yshift": 10
         },
         {
          "font": {
           "color": "Blue"
          },
          "showarrow": false,
          "text": "Avg Return",
          "x": 31.49442043850855,
          "xshift": 10,
          "y": 3.9481404720263553
         }
        ],
        "height": 600,
        "legend": {
         "font": {
          "size": 12
         },
         "itemsizing": "constant",
         "title": {
          "font": {
           "size": 14
          },
          "text": "Sector"
         },
         "tracegroupgap": 0
        },
        "margin": {
         "b": 100,
         "l": 40,
         "r": 40,
         "t": 100
        },
        "plot_bgcolor": "white",
        "shapes": [
         {
          "line": {
           "color": "Red",
           "dash": "dash"
          },
          "type": "line",
          "x0": 18.2680369849907,
          "x1": 18.2680369849907,
          "y0": -7.666180885830798,
          "y1": 19.038452310573224
         },
         {
          "line": {
           "color": "Blue",
           "dash": "dash"
          },
          "type": "line",
          "x0": 11.667043758208695,
          "x1": 31.49442043850855,
          "y0": 3.9481404720263553,
          "y1": 3.9481404720263553
         }
        ],
        "template": {
         "data": {
          "bar": [
           {
            "error_x": {
             "color": "#2a3f5f"
            },
            "error_y": {
             "color": "#2a3f5f"
            },
            "marker": {
             "line": {
              "color": "white",
              "width": 0.5
             },
             "pattern": {
              "fillmode": "overlay",
              "size": 10,
              "solidity": 0.2
             }
            },
            "type": "bar"
           }
          ],
          "barpolar": [
           {
            "marker": {
             "line": {
              "color": "white",
              "width": 0.5
             },
             "pattern": {
              "fillmode": "overlay",
              "size": 10,
              "solidity": 0.2
             }
            },
            "type": "barpolar"
           }
          ],
          "carpet": [
           {
            "aaxis": {
             "endlinecolor": "#2a3f5f",
             "gridcolor": "#C8D4E3",
             "linecolor": "#C8D4E3",
             "minorgridcolor": "#C8D4E3",
             "startlinecolor": "#2a3f5f"
            },
            "baxis": {
             "endlinecolor": "#2a3f5f",
             "gridcolor": "#C8D4E3",
             "linecolor": "#C8D4E3",
             "minorgridcolor": "#C8D4E3",
             "startlinecolor": "#2a3f5f"
            },
            "type": "carpet"
           }
          ],
          "choropleth": [
           {
            "colorbar": {
             "outlinewidth": 0,
             "ticks": ""
            },
            "type": "choropleth"
           }
          ],
          "contour": [
           {
            "colorbar": {
             "outlinewidth": 0,
             "ticks": ""
            },
            "colorscale": [
             [
              0,
              "#0d0887"
             ],
             [
              0.1111111111111111,
              "#46039f"
             ],
             [
              0.2222222222222222,
              "#7201a8"
             ],
             [
              0.3333333333333333,
              "#9c179e"
             ],
             [
              0.4444444444444444,
              "#bd3786"
             ],
             [
              0.5555555555555556,
              "#d8576b"
             ],
             [
              0.6666666666666666,
              "#ed7953"
             ],
             [
              0.7777777777777778,
              "#fb9f3a"
             ],
             [
              0.8888888888888888,
              "#fdca26"
             ],
             [
              1,
              "#f0f921"
             ]
            ],
            "type": "contour"
           }
          ],
          "contourcarpet": [
           {
            "colorbar": {
             "outlinewidth": 0,
             "ticks": ""
            },
            "type": "contourcarpet"
           }
          ],
          "heatmap": [
           {
            "colorbar": {
             "outlinewidth": 0,
             "ticks": ""
            },
            "colorscale": [
             [
              0,
              "#0d0887"
             ],
             [
              0.1111111111111111,
              "#46039f"
             ],
             [
              0.2222222222222222,
              "#7201a8"
             ],
             [
              0.3333333333333333,
              "#9c179e"
             ],
             [
              0.4444444444444444,
              "#bd3786"
             ],
             [
              0.5555555555555556,
              "#d8576b"
             ],
             [
              0.6666666666666666,
              "#ed7953"
             ],
             [
              0.7777777777777778,
              "#fb9f3a"
             ],
             [
              0.8888888888888888,
              "#fdca26"
             ],
             [
              1,
              "#f0f921"
             ]
            ],
            "type": "heatmap"
           }
          ],
          "heatmapgl": [
           {
            "colorbar": {
             "outlinewidth": 0,
             "ticks": ""
            },
            "colorscale": [
             [
              0,
              "#0d0887"
             ],
             [
              0.1111111111111111,
              "#46039f"
             ],
             [
              0.2222222222222222,
              "#7201a8"
             ],
             [
              0.3333333333333333,
              "#9c179e"
             ],
             [
              0.4444444444444444,
              "#bd3786"
             ],
             [
              0.5555555555555556,
              "#d8576b"
             ],
             [
              0.6666666666666666,
              "#ed7953"
             ],
             [
              0.7777777777777778,
              "#fb9f3a"
             ],
             [
              0.8888888888888888,
              "#fdca26"
             ],
             [
              1,
              "#f0f921"
             ]
            ],
            "type": "heatmapgl"
           }
          ],
          "histogram": [
           {
            "marker": {
             "pattern": {
              "fillmode": "overlay",
              "size": 10,
              "solidity": 0.2
             }
            },
            "type": "histogram"
           }
          ],
          "histogram2d": [
           {
            "colorbar": {
             "outlinewidth": 0,
             "ticks": ""
            },
            "colorscale": [
             [
              0,
              "#0d0887"
             ],
             [
              0.1111111111111111,
              "#46039f"
             ],
             [
              0.2222222222222222,
              "#7201a8"
             ],
             [
              0.3333333333333333,
              "#9c179e"
             ],
             [
              0.4444444444444444,
              "#bd3786"
             ],
             [
              0.5555555555555556,
              "#d8576b"
             ],
             [
              0.6666666666666666,
              "#ed7953"
             ],
             [
              0.7777777777777778,
              "#fb9f3a"
             ],
             [
              0.8888888888888888,
              "#fdca26"
             ],
             [
              1,
              "#f0f921"
             ]
            ],
            "type": "histogram2d"
           }
          ],
          "histogram2dcontour": [
           {
            "colorbar": {
             "outlinewidth": 0,
             "ticks": ""
            },
            "colorscale": [
             [
              0,
              "#0d0887"
             ],
             [
              0.1111111111111111,
              "#46039f"
             ],
             [
              0.2222222222222222,
              "#7201a8"
             ],
             [
              0.3333333333333333,
              "#9c179e"
             ],
             [
              0.4444444444444444,
              "#bd3786"
             ],
             [
              0.5555555555555556,
              "#d8576b"
             ],
             [
              0.6666666666666666,
              "#ed7953"
             ],
             [
              0.7777777777777778,
              "#fb9f3a"
             ],
             [
              0.8888888888888888,
              "#fdca26"
             ],
             [
              1,
              "#f0f921"
             ]
            ],
            "type": "histogram2dcontour"
           }
          ],
          "mesh3d": [
           {
            "colorbar": {
             "outlinewidth": 0,
             "ticks": ""
            },
            "type": "mesh3d"
           }
          ],
          "parcoords": [
           {
            "line": {
             "colorbar": {
              "outlinewidth": 0,
              "ticks": ""
             }
            },
            "type": "parcoords"
           }
          ],
          "pie": [
           {
            "automargin": true,
            "type": "pie"
           }
          ],
          "scatter": [
           {
            "fillpattern": {
             "fillmode": "overlay",
             "size": 10,
             "solidity": 0.2
            },
            "type": "scatter"
           }
          ],
          "scatter3d": [
           {
            "line": {
             "colorbar": {
              "outlinewidth": 0,
              "ticks": ""
             }
            },
            "marker": {
             "colorbar": {
              "outlinewidth": 0,
              "ticks": ""
             }
            },
            "type": "scatter3d"
           }
          ],
          "scattercarpet": [
           {
            "marker": {
             "colorbar": {
              "outlinewidth": 0,
              "ticks": ""
             }
            },
            "type": "scattercarpet"
           }
          ],
          "scattergeo": [
           {
            "marker": {
             "colorbar": {
              "outlinewidth": 0,
              "ticks": ""
             }
            },
            "type": "scattergeo"
           }
          ],
          "scattergl": [
           {
            "marker": {
             "colorbar": {
              "outlinewidth": 0,
              "ticks": ""
             }
            },
            "type": "scattergl"
           }
          ],
          "scattermapbox": [
           {
            "marker": {
             "colorbar": {
              "outlinewidth": 0,
              "ticks": ""
             }
            },
            "type": "scattermapbox"
           }
          ],
          "scatterpolar": [
           {
            "marker": {
             "colorbar": {
              "outlinewidth": 0,
              "ticks": ""
             }
            },
            "type": "scatterpolar"
           }
          ],
          "scatterpolargl": [
           {
            "marker": {
             "colorbar": {
              "outlinewidth": 0,
              "ticks": ""
             }
            },
            "type": "scatterpolargl"
           }
          ],
          "scatterternary": [
           {
            "marker": {
             "colorbar": {
              "outlinewidth": 0,
              "ticks": ""
             }
            },
            "type": "scatterternary"
           }
          ],
          "surface": [
           {
            "colorbar": {
             "outlinewidth": 0,
             "ticks": ""
            },
            "colorscale": [
             [
              0,
              "#0d0887"
             ],
             [
              0.1111111111111111,
              "#46039f"
             ],
             [
              0.2222222222222222,
              "#7201a8"
             ],
             [
              0.3333333333333333,
              "#9c179e"
             ],
             [
              0.4444444444444444,
              "#bd3786"
             ],
             [
              0.5555555555555556,
              "#d8576b"
             ],
             [
              0.6666666666666666,
              "#ed7953"
             ],
             [
              0.7777777777777778,
              "#fb9f3a"
             ],
             [
              0.8888888888888888,
              "#fdca26"
             ],
             [
              1,
              "#f0f921"
             ]
            ],
            "type": "surface"
           }
          ],
          "table": [
           {
            "cells": {
             "fill": {
              "color": "#EBF0F8"
             },
             "line": {
              "color": "white"
             }
            },
            "header": {
             "fill": {
              "color": "#C8D4E3"
             },
             "line": {
              "color": "white"
             }
            },
            "type": "table"
           }
          ]
         },
         "layout": {
          "annotationdefaults": {
           "arrowcolor": "#2a3f5f",
           "arrowhead": 0,
           "arrowwidth": 1
          },
          "autotypenumbers": "strict",
          "coloraxis": {
           "colorbar": {
            "outlinewidth": 0,
            "ticks": ""
           }
          },
          "colorscale": {
           "diverging": [
            [
             0,
             "#8e0152"
            ],
            [
             0.1,
             "#c51b7d"
            ],
            [
             0.2,
             "#de77ae"
            ],
            [
             0.3,
             "#f1b6da"
            ],
            [
             0.4,
             "#fde0ef"
            ],
            [
             0.5,
             "#f7f7f7"
            ],
            [
             0.6,
             "#e6f5d0"
            ],
            [
             0.7,
             "#b8e186"
            ],
            [
             0.8,
             "#7fbc41"
            ],
            [
             0.9,
             "#4d9221"
            ],
            [
             1,
             "#276419"
            ]
           ],
           "sequential": [
            [
             0,
             "#0d0887"
            ],
            [
             0.1111111111111111,
             "#46039f"
            ],
            [
             0.2222222222222222,
             "#7201a8"
            ],
            [
             0.3333333333333333,
             "#9c179e"
            ],
            [
             0.4444444444444444,
             "#bd3786"
            ],
            [
             0.5555555555555556,
             "#d8576b"
            ],
            [
             0.6666666666666666,
             "#ed7953"
            ],
            [
             0.7777777777777778,
             "#fb9f3a"
            ],
            [
             0.8888888888888888,
             "#fdca26"
            ],
            [
             1,
             "#f0f921"
            ]
           ],
           "sequentialminus": [
            [
             0,
             "#0d0887"
            ],
            [
             0.1111111111111111,
             "#46039f"
            ],
            [
             0.2222222222222222,
             "#7201a8"
            ],
            [
             0.3333333333333333,
             "#9c179e"
            ],
            [
             0.4444444444444444,
             "#bd3786"
            ],
            [
             0.5555555555555556,
             "#d8576b"
            ],
            [
             0.6666666666666666,
             "#ed7953"
            ],
            [
             0.7777777777777778,
             "#fb9f3a"
            ],
            [
             0.8888888888888888,
             "#fdca26"
            ],
            [
             1,
             "#f0f921"
            ]
           ]
          },
          "colorway": [
           "#636efa",
           "#EF553B",
           "#00cc96",
           "#ab63fa",
           "#FFA15A",
           "#19d3f3",
           "#FF6692",
           "#B6E880",
           "#FF97FF",
           "#FECB52"
          ],
          "font": {
           "color": "#2a3f5f"
          },
          "geo": {
           "bgcolor": "white",
           "lakecolor": "white",
           "landcolor": "white",
           "showlakes": true,
           "showland": true,
           "subunitcolor": "#C8D4E3"
          },
          "hoverlabel": {
           "align": "left"
          },
          "hovermode": "closest",
          "mapbox": {
           "style": "light"
          },
          "paper_bgcolor": "white",
          "plot_bgcolor": "white",
          "polar": {
           "angularaxis": {
            "gridcolor": "#EBF0F8",
            "linecolor": "#EBF0F8",
            "ticks": ""
           },
           "bgcolor": "white",
           "radialaxis": {
            "gridcolor": "#EBF0F8",
            "linecolor": "#EBF0F8",
            "ticks": ""
           }
          },
          "scene": {
           "xaxis": {
            "backgroundcolor": "white",
            "gridcolor": "#DFE8F3",
            "gridwidth": 2,
            "linecolor": "#EBF0F8",
            "showbackground": true,
            "ticks": "",
            "zerolinecolor": "#EBF0F8"
           },
           "yaxis": {
            "backgroundcolor": "white",
            "gridcolor": "#DFE8F3",
            "gridwidth": 2,
            "linecolor": "#EBF0F8",
            "showbackground": true,
            "ticks": "",
            "zerolinecolor": "#EBF0F8"
           },
           "zaxis": {
            "backgroundcolor": "white",
            "gridcolor": "#DFE8F3",
            "gridwidth": 2,
            "linecolor": "#EBF0F8",
            "showbackground": true,
            "ticks": "",
            "zerolinecolor": "#EBF0F8"
           }
          },
          "shapedefaults": {
           "line": {
            "color": "#2a3f5f"
           }
          },
          "ternary": {
           "aaxis": {
            "gridcolor": "#DFE8F3",
            "linecolor": "#A2B1C6",
            "ticks": ""
           },
           "baxis": {
            "gridcolor": "#DFE8F3",
            "linecolor": "#A2B1C6",
            "ticks": ""
           },
           "bgcolor": "white",
           "caxis": {
            "gridcolor": "#DFE8F3",
            "linecolor": "#A2B1C6",
            "ticks": ""
           }
          },
          "title": {
           "x": 0.05
          },
          "xaxis": {
           "automargin": true,
           "gridcolor": "#EBF0F8",
           "linecolor": "#EBF0F8",
           "ticks": "",
           "title": {
            "standoff": 15
           },
           "zerolinecolor": "#EBF0F8",
           "zerolinewidth": 2
          },
          "yaxis": {
           "automargin": true,
           "gridcolor": "#EBF0F8",
           "linecolor": "#EBF0F8",
           "ticks": "",
           "title": {
            "standoff": 15
           },
           "zerolinecolor": "#EBF0F8",
           "zerolinewidth": 2
          }
         }
        },
        "title": {
         "font": {
          "color": "black",
          "family": "Arial",
          "size": 20
         },
         "text": "Annualised Risk vs Return of Business Sectors (2000-2008)",
         "x": 0.5
        },
        "width": 1200,
        "xaxis": {
         "anchor": "y",
         "domain": [
          0,
          1
         ],
         "showgrid": false,
         "title": {
          "text": "Risk (%)"
         }
        },
        "yaxis": {
         "anchor": "x",
         "domain": [
          0,
          1
         ],
         "showgrid": false,
         "title": {
          "text": "Return (%)"
         }
        }
       }
      }
     },
     "metadata": {},
     "output_type": "display_data"
    }
   ],
   "source": [
    "# Filter data for Era 1\n",
    "era1_bubble_data = full_data_with_market_cap[full_data_with_market_cap['Period'] == '2000-2008'].dropna(subset=['Risk', 'Return', 'Market Cap (Trillion USD)'])\n",
    "\n",
    "# Multiply 'Risk' and 'Return' by 100 to convert from decimal to percentage\n",
    "era1_bubble_data['Risk'] = era1_bubble_data['Risk'] * 100\n",
    "era1_bubble_data['Return'] = era1_bubble_data['Return'] * 100\n",
    "\n",
    "# Create scatter plot using Plotly Express with Risk on x-axis and Return on y-axis\n",
    "fig = px.scatter(\n",
    "    era1_bubble_data,\n",
    "    x=\"Risk\",  # Risk on x-axis\n",
    "    y=\"Return\",  # Return on y-axis\n",
    "    size=\"Market Cap (Trillion USD)\",  # Map Market Cap to bubble size\n",
    "    size_max=60,  # Adjust maximum bubble size for better visualization\n",
    "    color=\"Sector\",\n",
    "    color_discrete_map=sector_colors_hex,  # Map sectors to their assigned colors\n",
    "    hover_name=\"Sector\",\n",
    "    hover_data={\n",
    "        \"Return\": ':.0f',  # Display Return as full number without decimals\n",
    "        \"Risk\": ':.0f',    # Display Risk as full number without decimals\n",
    "        \"Market Cap (Trillion USD)\": ':.2f'  # Keep Market Cap with two decimals\n",
    "    },\n",
    "    title=\"Annualised Risk vs Return of Business Sectors (2000-2008)\",\n",
    "    labels={\n",
    "        \"Return\": \"Return (%)\",\n",
    "        \"Risk\": \"Risk (%)\",\n",
    "        \"Market Cap (Trillion USD)\": \"Market Cap (Trillion USD)\"\n",
    "    },\n",
    "    template=\"plotly_white\",  # Use a clean white background\n",
    "    width=1200,\n",
    "    height=600  # Set the plot height to 600 pixels\n",
    ")\n",
    "\n",
    "# Customize marker appearance for better visibility\n",
    "fig.update_traces(marker=dict(opacity=0.7, line=dict(width=1, color='DarkSlateGrey')))\n",
    "\n",
    "# Calculate weighted average return and risk using Market Cap as weights\n",
    "weights = era1_bubble_data['Market Cap (Trillion USD)']\n",
    "avg_return = np.average(era1_bubble_data['Return'], weights=weights)  # No rounding\n",
    "avg_risk = np.average(era1_bubble_data['Risk'], weights=weights)      # No rounding\n",
    "\n",
    "# Add vertical reference line for average risk (red color)\n",
    "fig.add_shape(\n",
    "    type=\"line\",\n",
    "    x0=avg_risk,\n",
    "    y0=era1_bubble_data['Return'].min(),\n",
    "    x1=avg_risk,\n",
    "    y1=era1_bubble_data['Return'].max(),\n",
    "    line=dict(color=\"Red\", dash=\"dash\"),\n",
    ")\n",
    "\n",
    "# Add horizontal reference line for average return (blue color)\n",
    "fig.add_shape(\n",
    "    type=\"line\",\n",
    "    x0=era1_bubble_data['Risk'].min(),\n",
    "    y0=avg_return,\n",
    "    x1=era1_bubble_data['Risk'].max(),\n",
    "    y1=avg_return,\n",
    "    line=dict(color=\"Blue\", dash=\"dash\"),\n",
    ")\n",
    "\n",
    "# Add annotations for the reference lines\n",
    "fig.add_annotation(\n",
    "    x=avg_risk,\n",
    "    y=era1_bubble_data['Return'].max(),\n",
    "    text=\"Avg Risk\",\n",
    "    showarrow=False,\n",
    "    yshift=10,\n",
    "    font=dict(color=\"Red\")\n",
    ")\n",
    "\n",
    "fig.add_annotation(\n",
    "    x=era1_bubble_data['Risk'].max(),\n",
    "    y=avg_return,\n",
    "    text=\"Avg Return\",\n",
    "    showarrow=False,\n",
    "    xshift=10,\n",
    "    font=dict(color=\"Blue\")\n",
    ")\n",
    "\n",
    "# Update layout to remove grid lines, set axis titles, and center the title\n",
    "fig.update_layout(\n",
    "    legend_title_text='Sector',\n",
    "    xaxis=dict(\n",
    "        title='Risk (%)',\n",
    "        showgrid=False  # Remove x-axis grid lines\n",
    "    ),\n",
    "    yaxis=dict(\n",
    "        title='Return (%)',\n",
    "        showgrid=False  # Remove y-axis grid lines\n",
    "    ),\n",
    "    plot_bgcolor='white',  # Ensure background is white\n",
    "    title_x=0.5,  # Center the title\n",
    "    title_font=dict(size=20, family='Arial', color='black'),  # Optional: Customize title font\n",
    "    legend=dict(\n",
    "        title_font_size=14,\n",
    "        font_size=12\n",
    "    ),\n",
    "    margin=dict(t=100, l=40, r=40, b=100)  # Optional: Adjust margins if necessary\n",
    ")\n",
    "\n",
    "# Optional: Format hover information to display full numbers without decimals\n",
    "hover_template = (\n",
    "    \"<b>%{hovertext}</b><br>\" +\n",
    "    \"Return: %{y:.0f}%<br>\" +\n",
    "    \"Risk: %{x:.0f}%<br>\" +\n",
    "    \"Market Cap: %{marker.size:.2f} Trillion USD\"\n",
    ")\n",
    "fig.update_traces(hovertemplate=hover_template)\n",
    "\n",
    "# Display the figure\n",
    "fig.show()\n"
   ]
  },
  {
   "cell_type": "markdown",
   "metadata": {},
   "source": [
    "The annualised risk vs. return bubble plot provides valuable insights into sector performance. Sectors such as Utilities and Industrials stand out for offering above-average returns coupled with below-average risk, making them attractive options for investors seeking a favorable risk-return tradeoff. Returns are calculated as the average annual compounded return, reflecting consistent growth over time, while risk is measured by the annualised standard deviation, indicating the volatility of returns. The bubble size in the plot represents the market capitalisation of each sector, highlighting the relative scale of their contribution to the market. Notably, Financials and Consumer Discretionary are the two sectors with the largest market caps, underscoring their significant influence on the broader economy."
   ]
  },
  {
   "cell_type": "code",
   "execution_count": 16,
   "metadata": {},
   "outputs": [
    {
     "data": {
      "application/vnd.plotly.v1+json": {
       "config": {
        "plotlyServerURL": "https://plot.ly"
       },
       "data": [
        {
         "alignmentgroup": "True",
         "hovertemplate": "Sector=%{x}<br>Maximum Drawdown (%)=%{text}<extra></extra>",
         "legendgroup": "Technology",
         "marker": {
          "color": "#d62728",
          "pattern": {
           "shape": ""
          }
         },
         "name": "Technology",
         "offsetgroup": "Technology",
         "orientation": "v",
         "showlegend": true,
         "text": [
          80.5
         ],
         "textposition": "outside",
         "texttemplate": "%{text:.1f}%",
         "type": "bar",
         "x": [
          "Technology"
         ],
         "xaxis": "x",
         "y": [
          80.5
         ],
         "yaxis": "y"
        },
        {
         "alignmentgroup": "True",
         "hovertemplate": "Sector=%{x}<br>Maximum Drawdown (%)=%{text}<extra></extra>",
         "legendgroup": "Real Estate",
         "marker": {
          "color": "#aec7e8",
          "pattern": {
           "shape": ""
          }
         },
         "name": "Real Estate",
         "offsetgroup": "Real Estate",
         "orientation": "v",
         "showlegend": true,
         "text": [
          51.1
         ],
         "textposition": "outside",
         "texttemplate": "%{text:.1f}%",
         "type": "bar",
         "x": [
          "Real Estate"
         ],
         "xaxis": "x",
         "y": [
          51.1
         ],
         "yaxis": "y"
        },
        {
         "alignmentgroup": "True",
         "hovertemplate": "Sector=%{x}<br>Maximum Drawdown (%)=%{text}<extra></extra>",
         "legendgroup": "Communication Services",
         "marker": {
          "color": "#1f77b4",
          "pattern": {
           "shape": ""
          }
         },
         "name": "Communication Services",
         "offsetgroup": "Communication Services",
         "orientation": "v",
         "showlegend": true,
         "text": [
          48
         ],
         "textposition": "outside",
         "texttemplate": "%{text:.1f}%",
         "type": "bar",
         "x": [
          "Communication Services"
         ],
         "xaxis": "x",
         "y": [
          48
         ],
         "yaxis": "y"
        },
        {
         "alignmentgroup": "True",
         "hovertemplate": "Sector=%{x}<br>Maximum Drawdown (%)=%{text}<extra></extra>",
         "legendgroup": "Utilities",
         "marker": {
          "color": "#9467bd",
          "pattern": {
           "shape": ""
          }
         },
         "name": "Utilities",
         "offsetgroup": "Utilities",
         "orientation": "v",
         "showlegend": true,
         "text": [
          43.5
         ],
         "textposition": "outside",
         "texttemplate": "%{text:.1f}%",
         "type": "bar",
         "x": [
          "Utilities"
         ],
         "xaxis": "x",
         "y": [
          43.5
         ],
         "yaxis": "y"
        },
        {
         "alignmentgroup": "True",
         "hovertemplate": "Sector=%{x}<br>Maximum Drawdown (%)=%{text}<extra></extra>",
         "legendgroup": "Industrials",
         "marker": {
          "color": "#98df8a",
          "pattern": {
           "shape": ""
          }
         },
         "name": "Industrials",
         "offsetgroup": "Industrials",
         "orientation": "v",
         "showlegend": true,
         "text": [
          37.4
         ],
         "textposition": "outside",
         "texttemplate": "%{text:.1f}%",
         "type": "bar",
         "x": [
          "Industrials"
         ],
         "xaxis": "x",
         "y": [
          37.4
         ],
         "yaxis": "y"
        },
        {
         "alignmentgroup": "True",
         "hovertemplate": "Sector=%{x}<br>Maximum Drawdown (%)=%{text}<extra></extra>",
         "legendgroup": "Energy",
         "marker": {
          "color": "#ffbb78",
          "pattern": {
           "shape": ""
          }
         },
         "name": "Energy",
         "offsetgroup": "Energy",
         "orientation": "v",
         "showlegend": true,
         "text": [
          35.7
         ],
         "textposition": "outside",
         "texttemplate": "%{text:.1f}%",
         "type": "bar",
         "x": [
          "Energy"
         ],
         "xaxis": "x",
         "y": [
          35.7
         ],
         "yaxis": "y"
        },
        {
         "alignmentgroup": "True",
         "hovertemplate": "Sector=%{x}<br>Maximum Drawdown (%)=%{text}<extra></extra>",
         "legendgroup": "Financials",
         "marker": {
          "color": "#2ca02c",
          "pattern": {
           "shape": ""
          }
         },
         "name": "Financials",
         "offsetgroup": "Financials",
         "orientation": "v",
         "showlegend": true,
         "text": [
          32.7
         ],
         "textposition": "outside",
         "texttemplate": "%{text:.1f}%",
         "type": "bar",
         "x": [
          "Financials"
         ],
         "xaxis": "x",
         "y": [
          32.7
         ],
         "yaxis": "y"
        },
        {
         "alignmentgroup": "True",
         "hovertemplate": "Sector=%{x}<br>Maximum Drawdown (%)=%{text}<extra></extra>",
         "legendgroup": "Consumer Staples",
         "marker": {
          "color": "#ff9896",
          "pattern": {
           "shape": ""
          }
         },
         "name": "Consumer Staples",
         "offsetgroup": "Consumer Staples",
         "orientation": "v",
         "showlegend": true,
         "text": [
          32.6
         ],
         "textposition": "outside",
         "texttemplate": "%{text:.1f}%",
         "type": "bar",
         "x": [
          "Consumer Staples"
         ],
         "xaxis": "x",
         "y": [
          32.6
         ],
         "yaxis": "y"
        },
        {
         "alignmentgroup": "True",
         "hovertemplate": "Sector=%{x}<br>Maximum Drawdown (%)=%{text}<extra></extra>",
         "legendgroup": "Consumer Discretionary",
         "marker": {
          "color": "#8c564b",
          "pattern": {
           "shape": ""
          }
         },
         "name": "Consumer Discretionary",
         "offsetgroup": "Consumer Discretionary",
         "orientation": "v",
         "showlegend": true,
         "text": [
          25.6
         ],
         "textposition": "outside",
         "texttemplate": "%{text:.1f}%",
         "type": "bar",
         "x": [
          "Consumer Discretionary"
         ],
         "xaxis": "x",
         "y": [
          25.6
         ],
         "yaxis": "y"
        },
        {
         "alignmentgroup": "True",
         "hovertemplate": "Sector=%{x}<br>Maximum Drawdown (%)=%{text}<extra></extra>",
         "legendgroup": "Materials",
         "marker": {
          "color": "#ff7f0e",
          "pattern": {
           "shape": ""
          }
         },
         "name": "Materials",
         "offsetgroup": "Materials",
         "orientation": "v",
         "showlegend": true,
         "text": [
          24.6
         ],
         "textposition": "outside",
         "texttemplate": "%{text:.1f}%",
         "type": "bar",
         "x": [
          "Materials"
         ],
         "xaxis": "x",
         "y": [
          24.6
         ],
         "yaxis": "y"
        },
        {
         "alignmentgroup": "True",
         "hovertemplate": "Sector=%{x}<br>Maximum Drawdown (%)=%{text}<extra></extra>",
         "legendgroup": "Health Care",
         "marker": {
          "color": "#c5b0d5",
          "pattern": {
           "shape": ""
          }
         },
         "name": "Health Care",
         "offsetgroup": "Health Care",
         "orientation": "v",
         "showlegend": true,
         "text": [
          23.3
         ],
         "textposition": "outside",
         "texttemplate": "%{text:.1f}%",
         "type": "bar",
         "x": [
          "Health Care"
         ],
         "xaxis": "x",
         "y": [
          23.3
         ],
         "yaxis": "y"
        }
       ],
       "layout": {
        "barmode": "relative",
        "height": 600,
        "legend": {
         "title": {
          "text": "Sector"
         },
         "tracegroupgap": 0
        },
        "margin": {
         "b": 100,
         "l": 40,
         "r": 40,
         "t": 100
        },
        "plot_bgcolor": "rgba(0,0,0,0)",
        "template": {
         "data": {
          "bar": [
           {
            "error_x": {
             "color": "#2a3f5f"
            },
            "error_y": {
             "color": "#2a3f5f"
            },
            "marker": {
             "line": {
              "color": "#E5ECF6",
              "width": 0.5
             },
             "pattern": {
              "fillmode": "overlay",
              "size": 10,
              "solidity": 0.2
             }
            },
            "type": "bar"
           }
          ],
          "barpolar": [
           {
            "marker": {
             "line": {
              "color": "#E5ECF6",
              "width": 0.5
             },
             "pattern": {
              "fillmode": "overlay",
              "size": 10,
              "solidity": 0.2
             }
            },
            "type": "barpolar"
           }
          ],
          "carpet": [
           {
            "aaxis": {
             "endlinecolor": "#2a3f5f",
             "gridcolor": "white",
             "linecolor": "white",
             "minorgridcolor": "white",
             "startlinecolor": "#2a3f5f"
            },
            "baxis": {
             "endlinecolor": "#2a3f5f",
             "gridcolor": "white",
             "linecolor": "white",
             "minorgridcolor": "white",
             "startlinecolor": "#2a3f5f"
            },
            "type": "carpet"
           }
          ],
          "choropleth": [
           {
            "colorbar": {
             "outlinewidth": 0,
             "ticks": ""
            },
            "type": "choropleth"
           }
          ],
          "contour": [
           {
            "colorbar": {
             "outlinewidth": 0,
             "ticks": ""
            },
            "colorscale": [
             [
              0,
              "#0d0887"
             ],
             [
              0.1111111111111111,
              "#46039f"
             ],
             [
              0.2222222222222222,
              "#7201a8"
             ],
             [
              0.3333333333333333,
              "#9c179e"
             ],
             [
              0.4444444444444444,
              "#bd3786"
             ],
             [
              0.5555555555555556,
              "#d8576b"
             ],
             [
              0.6666666666666666,
              "#ed7953"
             ],
             [
              0.7777777777777778,
              "#fb9f3a"
             ],
             [
              0.8888888888888888,
              "#fdca26"
             ],
             [
              1,
              "#f0f921"
             ]
            ],
            "type": "contour"
           }
          ],
          "contourcarpet": [
           {
            "colorbar": {
             "outlinewidth": 0,
             "ticks": ""
            },
            "type": "contourcarpet"
           }
          ],
          "heatmap": [
           {
            "colorbar": {
             "outlinewidth": 0,
             "ticks": ""
            },
            "colorscale": [
             [
              0,
              "#0d0887"
             ],
             [
              0.1111111111111111,
              "#46039f"
             ],
             [
              0.2222222222222222,
              "#7201a8"
             ],
             [
              0.3333333333333333,
              "#9c179e"
             ],
             [
              0.4444444444444444,
              "#bd3786"
             ],
             [
              0.5555555555555556,
              "#d8576b"
             ],
             [
              0.6666666666666666,
              "#ed7953"
             ],
             [
              0.7777777777777778,
              "#fb9f3a"
             ],
             [
              0.8888888888888888,
              "#fdca26"
             ],
             [
              1,
              "#f0f921"
             ]
            ],
            "type": "heatmap"
           }
          ],
          "heatmapgl": [
           {
            "colorbar": {
             "outlinewidth": 0,
             "ticks": ""
            },
            "colorscale": [
             [
              0,
              "#0d0887"
             ],
             [
              0.1111111111111111,
              "#46039f"
             ],
             [
              0.2222222222222222,
              "#7201a8"
             ],
             [
              0.3333333333333333,
              "#9c179e"
             ],
             [
              0.4444444444444444,
              "#bd3786"
             ],
             [
              0.5555555555555556,
              "#d8576b"
             ],
             [
              0.6666666666666666,
              "#ed7953"
             ],
             [
              0.7777777777777778,
              "#fb9f3a"
             ],
             [
              0.8888888888888888,
              "#fdca26"
             ],
             [
              1,
              "#f0f921"
             ]
            ],
            "type": "heatmapgl"
           }
          ],
          "histogram": [
           {
            "marker": {
             "pattern": {
              "fillmode": "overlay",
              "size": 10,
              "solidity": 0.2
             }
            },
            "type": "histogram"
           }
          ],
          "histogram2d": [
           {
            "colorbar": {
             "outlinewidth": 0,
             "ticks": ""
            },
            "colorscale": [
             [
              0,
              "#0d0887"
             ],
             [
              0.1111111111111111,
              "#46039f"
             ],
             [
              0.2222222222222222,
              "#7201a8"
             ],
             [
              0.3333333333333333,
              "#9c179e"
             ],
             [
              0.4444444444444444,
              "#bd3786"
             ],
             [
              0.5555555555555556,
              "#d8576b"
             ],
             [
              0.6666666666666666,
              "#ed7953"
             ],
             [
              0.7777777777777778,
              "#fb9f3a"
             ],
             [
              0.8888888888888888,
              "#fdca26"
             ],
             [
              1,
              "#f0f921"
             ]
            ],
            "type": "histogram2d"
           }
          ],
          "histogram2dcontour": [
           {
            "colorbar": {
             "outlinewidth": 0,
             "ticks": ""
            },
            "colorscale": [
             [
              0,
              "#0d0887"
             ],
             [
              0.1111111111111111,
              "#46039f"
             ],
             [
              0.2222222222222222,
              "#7201a8"
             ],
             [
              0.3333333333333333,
              "#9c179e"
             ],
             [
              0.4444444444444444,
              "#bd3786"
             ],
             [
              0.5555555555555556,
              "#d8576b"
             ],
             [
              0.6666666666666666,
              "#ed7953"
             ],
             [
              0.7777777777777778,
              "#fb9f3a"
             ],
             [
              0.8888888888888888,
              "#fdca26"
             ],
             [
              1,
              "#f0f921"
             ]
            ],
            "type": "histogram2dcontour"
           }
          ],
          "mesh3d": [
           {
            "colorbar": {
             "outlinewidth": 0,
             "ticks": ""
            },
            "type": "mesh3d"
           }
          ],
          "parcoords": [
           {
            "line": {
             "colorbar": {
              "outlinewidth": 0,
              "ticks": ""
             }
            },
            "type": "parcoords"
           }
          ],
          "pie": [
           {
            "automargin": true,
            "type": "pie"
           }
          ],
          "scatter": [
           {
            "fillpattern": {
             "fillmode": "overlay",
             "size": 10,
             "solidity": 0.2
            },
            "type": "scatter"
           }
          ],
          "scatter3d": [
           {
            "line": {
             "colorbar": {
              "outlinewidth": 0,
              "ticks": ""
             }
            },
            "marker": {
             "colorbar": {
              "outlinewidth": 0,
              "ticks": ""
             }
            },
            "type": "scatter3d"
           }
          ],
          "scattercarpet": [
           {
            "marker": {
             "colorbar": {
              "outlinewidth": 0,
              "ticks": ""
             }
            },
            "type": "scattercarpet"
           }
          ],
          "scattergeo": [
           {
            "marker": {
             "colorbar": {
              "outlinewidth": 0,
              "ticks": ""
             }
            },
            "type": "scattergeo"
           }
          ],
          "scattergl": [
           {
            "marker": {
             "colorbar": {
              "outlinewidth": 0,
              "ticks": ""
             }
            },
            "type": "scattergl"
           }
          ],
          "scattermapbox": [
           {
            "marker": {
             "colorbar": {
              "outlinewidth": 0,
              "ticks": ""
             }
            },
            "type": "scattermapbox"
           }
          ],
          "scatterpolar": [
           {
            "marker": {
             "colorbar": {
              "outlinewidth": 0,
              "ticks": ""
             }
            },
            "type": "scatterpolar"
           }
          ],
          "scatterpolargl": [
           {
            "marker": {
             "colorbar": {
              "outlinewidth": 0,
              "ticks": ""
             }
            },
            "type": "scatterpolargl"
           }
          ],
          "scatterternary": [
           {
            "marker": {
             "colorbar": {
              "outlinewidth": 0,
              "ticks": ""
             }
            },
            "type": "scatterternary"
           }
          ],
          "surface": [
           {
            "colorbar": {
             "outlinewidth": 0,
             "ticks": ""
            },
            "colorscale": [
             [
              0,
              "#0d0887"
             ],
             [
              0.1111111111111111,
              "#46039f"
             ],
             [
              0.2222222222222222,
              "#7201a8"
             ],
             [
              0.3333333333333333,
              "#9c179e"
             ],
             [
              0.4444444444444444,
              "#bd3786"
             ],
             [
              0.5555555555555556,
              "#d8576b"
             ],
             [
              0.6666666666666666,
              "#ed7953"
             ],
             [
              0.7777777777777778,
              "#fb9f3a"
             ],
             [
              0.8888888888888888,
              "#fdca26"
             ],
             [
              1,
              "#f0f921"
             ]
            ],
            "type": "surface"
           }
          ],
          "table": [
           {
            "cells": {
             "fill": {
              "color": "#EBF0F8"
             },
             "line": {
              "color": "white"
             }
            },
            "header": {
             "fill": {
              "color": "#C8D4E3"
             },
             "line": {
              "color": "white"
             }
            },
            "type": "table"
           }
          ]
         },
         "layout": {
          "annotationdefaults": {
           "arrowcolor": "#2a3f5f",
           "arrowhead": 0,
           "arrowwidth": 1
          },
          "autotypenumbers": "strict",
          "coloraxis": {
           "colorbar": {
            "outlinewidth": 0,
            "ticks": ""
           }
          },
          "colorscale": {
           "diverging": [
            [
             0,
             "#8e0152"
            ],
            [
             0.1,
             "#c51b7d"
            ],
            [
             0.2,
             "#de77ae"
            ],
            [
             0.3,
             "#f1b6da"
            ],
            [
             0.4,
             "#fde0ef"
            ],
            [
             0.5,
             "#f7f7f7"
            ],
            [
             0.6,
             "#e6f5d0"
            ],
            [
             0.7,
             "#b8e186"
            ],
            [
             0.8,
             "#7fbc41"
            ],
            [
             0.9,
             "#4d9221"
            ],
            [
             1,
             "#276419"
            ]
           ],
           "sequential": [
            [
             0,
             "#0d0887"
            ],
            [
             0.1111111111111111,
             "#46039f"
            ],
            [
             0.2222222222222222,
             "#7201a8"
            ],
            [
             0.3333333333333333,
             "#9c179e"
            ],
            [
             0.4444444444444444,
             "#bd3786"
            ],
            [
             0.5555555555555556,
             "#d8576b"
            ],
            [
             0.6666666666666666,
             "#ed7953"
            ],
            [
             0.7777777777777778,
             "#fb9f3a"
            ],
            [
             0.8888888888888888,
             "#fdca26"
            ],
            [
             1,
             "#f0f921"
            ]
           ],
           "sequentialminus": [
            [
             0,
             "#0d0887"
            ],
            [
             0.1111111111111111,
             "#46039f"
            ],
            [
             0.2222222222222222,
             "#7201a8"
            ],
            [
             0.3333333333333333,
             "#9c179e"
            ],
            [
             0.4444444444444444,
             "#bd3786"
            ],
            [
             0.5555555555555556,
             "#d8576b"
            ],
            [
             0.6666666666666666,
             "#ed7953"
            ],
            [
             0.7777777777777778,
             "#fb9f3a"
            ],
            [
             0.8888888888888888,
             "#fdca26"
            ],
            [
             1,
             "#f0f921"
            ]
           ]
          },
          "colorway": [
           "#636efa",
           "#EF553B",
           "#00cc96",
           "#ab63fa",
           "#FFA15A",
           "#19d3f3",
           "#FF6692",
           "#B6E880",
           "#FF97FF",
           "#FECB52"
          ],
          "font": {
           "color": "#2a3f5f"
          },
          "geo": {
           "bgcolor": "white",
           "lakecolor": "white",
           "landcolor": "#E5ECF6",
           "showlakes": true,
           "showland": true,
           "subunitcolor": "white"
          },
          "hoverlabel": {
           "align": "left"
          },
          "hovermode": "closest",
          "mapbox": {
           "style": "light"
          },
          "paper_bgcolor": "white",
          "plot_bgcolor": "#E5ECF6",
          "polar": {
           "angularaxis": {
            "gridcolor": "white",
            "linecolor": "white",
            "ticks": ""
           },
           "bgcolor": "#E5ECF6",
           "radialaxis": {
            "gridcolor": "white",
            "linecolor": "white",
            "ticks": ""
           }
          },
          "scene": {
           "xaxis": {
            "backgroundcolor": "#E5ECF6",
            "gridcolor": "white",
            "gridwidth": 2,
            "linecolor": "white",
            "showbackground": true,
            "ticks": "",
            "zerolinecolor": "white"
           },
           "yaxis": {
            "backgroundcolor": "#E5ECF6",
            "gridcolor": "white",
            "gridwidth": 2,
            "linecolor": "white",
            "showbackground": true,
            "ticks": "",
            "zerolinecolor": "white"
           },
           "zaxis": {
            "backgroundcolor": "#E5ECF6",
            "gridcolor": "white",
            "gridwidth": 2,
            "linecolor": "white",
            "showbackground": true,
            "ticks": "",
            "zerolinecolor": "white"
           }
          },
          "shapedefaults": {
           "line": {
            "color": "#2a3f5f"
           }
          },
          "ternary": {
           "aaxis": {
            "gridcolor": "white",
            "linecolor": "white",
            "ticks": ""
           },
           "baxis": {
            "gridcolor": "white",
            "linecolor": "white",
            "ticks": ""
           },
           "bgcolor": "#E5ECF6",
           "caxis": {
            "gridcolor": "white",
            "linecolor": "white",
            "ticks": ""
           }
          },
          "title": {
           "x": 0.05
          },
          "xaxis": {
           "automargin": true,
           "gridcolor": "white",
           "linecolor": "white",
           "ticks": "",
           "title": {
            "standoff": 15
           },
           "zerolinecolor": "white",
           "zerolinewidth": 2
          },
          "yaxis": {
           "automargin": true,
           "gridcolor": "white",
           "linecolor": "white",
           "ticks": "",
           "title": {
            "standoff": 15
           },
           "zerolinecolor": "white",
           "zerolinewidth": 2
          }
         }
        },
        "title": {
         "text": "Maximum Drawdown by Sector - Era 1 (2000-2008)",
         "x": 0.5
        },
        "uniformtext": {
         "minsize": 8,
         "mode": "hide"
        },
        "width": 1200,
        "xaxis": {
         "anchor": "y",
         "categoryarray": [
          "Technology",
          "Real Estate",
          "Communication Services",
          "Utilities",
          "Industrials",
          "Energy",
          "Financials",
          "Consumer Staples",
          "Consumer Discretionary",
          "Materials",
          "Health Care"
         ],
         "categoryorder": "array",
         "domain": [
          0,
          1
         ],
         "title": {
          "text": "Sector"
         }
        },
        "yaxis": {
         "anchor": "x",
         "domain": [
          0,
          1
         ],
         "range": [
          0,
          88.55000000000001
         ],
         "tickfont": {
          "size": 12
         },
         "tickformat": ".1f",
         "title": {
          "font": {
           "size": 14
          },
          "text": "Maximum Drawdown (%)"
         }
        }
       }
      }
     },
     "metadata": {},
     "output_type": "display_data"
    }
   ],
   "source": [
    "# Plotting Maximum Drawdown for Era 1\n",
    "plot_max_drawdown_interactive(\n",
    "    max_drawdown_era1, \n",
    "    'Era 1 (2000-2008)', \n",
    "    sector_colors_hex\n",
    ")\n"
   ]
  },
  {
   "cell_type": "markdown",
   "metadata": {},
   "source": [
    "The maximum drawdown plot reveals that the Technology sector experienced the most severe peak-to-trough decline during the analysed period, reflecting its vulnerability during market downturns. This pronounced drop is primarily attributed to the bursting of the dot-com bubble in the early 2000s, a period characterised by excessive speculation and overvaluation of technology stocks. When the bubble burst, investor confidence in the sector plummeted, leading to sharp declines in stock prices and significant capital losses. This event not only highlights the risks associated with speculative market behavior but also underscores the importance of understanding sector-specific vulnerabilities when evaluating investment opportunities. "
   ]
  },
  {
   "cell_type": "markdown",
   "metadata": {},
   "source": [
    "## 3.2 Era 2 (2008-2020) ##"
   ]
  },
  {
   "cell_type": "code",
   "execution_count": 17,
   "metadata": {},
   "outputs": [
    {
     "data": {
      "application/vnd.plotly.v1+json": {
       "config": {
        "plotlyServerURL": "https://plot.ly"
       },
       "data": [
        {
         "hoverinfo": "x+y+name",
         "line": {
          "color": "#1f77b4"
         },
         "mode": "lines",
         "name": "Communication Services",
         "type": "scatter",
         "x": [
          "2008-06-30T00:00:00",
          "2008-07-31T00:00:00",
          "2008-08-31T00:00:00",
          "2008-09-30T00:00:00",
          "2008-10-31T00:00:00",
          "2008-11-30T00:00:00",
          "2008-12-31T00:00:00",
          "2009-01-31T00:00:00",
          "2009-02-28T00:00:00",
          "2009-03-31T00:00:00",
          "2009-04-30T00:00:00",
          "2009-05-31T00:00:00",
          "2009-06-30T00:00:00",
          "2009-07-31T00:00:00",
          "2009-08-31T00:00:00",
          "2009-09-30T00:00:00",
          "2009-10-31T00:00:00",
          "2009-11-30T00:00:00",
          "2009-12-31T00:00:00",
          "2010-01-31T00:00:00",
          "2010-02-28T00:00:00",
          "2010-03-31T00:00:00",
          "2010-04-30T00:00:00",
          "2010-05-31T00:00:00",
          "2010-06-30T00:00:00",
          "2010-07-31T00:00:00",
          "2010-08-31T00:00:00",
          "2010-09-30T00:00:00",
          "2010-10-31T00:00:00",
          "2010-11-30T00:00:00",
          "2010-12-31T00:00:00",
          "2011-01-31T00:00:00",
          "2011-02-28T00:00:00",
          "2011-03-31T00:00:00",
          "2011-04-30T00:00:00",
          "2011-05-31T00:00:00",
          "2011-06-30T00:00:00",
          "2011-07-31T00:00:00",
          "2011-08-31T00:00:00",
          "2011-09-30T00:00:00",
          "2011-10-31T00:00:00",
          "2011-11-30T00:00:00",
          "2011-12-31T00:00:00",
          "2012-01-31T00:00:00",
          "2012-02-29T00:00:00",
          "2012-03-31T00:00:00",
          "2012-04-30T00:00:00",
          "2012-05-31T00:00:00",
          "2012-06-30T00:00:00",
          "2012-07-31T00:00:00",
          "2012-08-31T00:00:00",
          "2012-09-30T00:00:00",
          "2012-10-31T00:00:00",
          "2012-11-30T00:00:00",
          "2012-12-31T00:00:00",
          "2013-01-31T00:00:00",
          "2013-02-28T00:00:00",
          "2013-03-31T00:00:00",
          "2013-04-30T00:00:00",
          "2013-05-31T00:00:00",
          "2013-06-30T00:00:00",
          "2013-07-31T00:00:00",
          "2013-08-31T00:00:00",
          "2013-09-30T00:00:00",
          "2013-10-31T00:00:00",
          "2013-11-30T00:00:00",
          "2013-12-31T00:00:00",
          "2014-01-31T00:00:00",
          "2014-02-28T00:00:00",
          "2014-03-31T00:00:00",
          "2014-04-30T00:00:00",
          "2014-05-31T00:00:00",
          "2014-06-30T00:00:00",
          "2014-07-31T00:00:00",
          "2014-08-31T00:00:00",
          "2014-09-30T00:00:00",
          "2014-10-31T00:00:00",
          "2014-11-30T00:00:00",
          "2014-12-31T00:00:00",
          "2015-01-31T00:00:00",
          "2015-02-28T00:00:00",
          "2015-03-31T00:00:00",
          "2015-04-30T00:00:00",
          "2015-05-31T00:00:00",
          "2015-06-30T00:00:00",
          "2015-07-31T00:00:00",
          "2015-08-31T00:00:00",
          "2015-09-30T00:00:00",
          "2015-10-31T00:00:00",
          "2015-11-30T00:00:00",
          "2015-12-31T00:00:00",
          "2016-01-31T00:00:00",
          "2016-02-29T00:00:00",
          "2016-03-31T00:00:00",
          "2016-04-30T00:00:00",
          "2016-05-31T00:00:00",
          "2016-06-30T00:00:00",
          "2016-07-31T00:00:00",
          "2016-08-31T00:00:00",
          "2016-09-30T00:00:00",
          "2016-10-31T00:00:00",
          "2016-11-30T00:00:00",
          "2016-12-31T00:00:00",
          "2017-01-31T00:00:00",
          "2017-02-28T00:00:00",
          "2017-03-31T00:00:00",
          "2017-04-30T00:00:00",
          "2017-05-31T00:00:00",
          "2017-06-30T00:00:00",
          "2017-07-31T00:00:00",
          "2017-08-31T00:00:00",
          "2017-09-30T00:00:00",
          "2017-10-31T00:00:00",
          "2017-11-30T00:00:00",
          "2017-12-31T00:00:00",
          "2018-01-31T00:00:00",
          "2018-02-28T00:00:00",
          "2018-03-31T00:00:00",
          "2018-04-30T00:00:00",
          "2018-05-31T00:00:00",
          "2018-06-30T00:00:00",
          "2018-07-31T00:00:00",
          "2018-08-31T00:00:00",
          "2018-09-30T00:00:00",
          "2018-10-31T00:00:00",
          "2018-11-30T00:00:00",
          "2018-12-31T00:00:00",
          "2019-01-31T00:00:00",
          "2019-02-28T00:00:00",
          "2019-03-31T00:00:00",
          "2019-04-30T00:00:00",
          "2019-05-31T00:00:00",
          "2019-06-30T00:00:00",
          "2019-07-31T00:00:00",
          "2019-08-31T00:00:00",
          "2019-09-30T00:00:00",
          "2019-10-31T00:00:00",
          "2019-11-30T00:00:00",
          "2019-12-31T00:00:00"
         ],
         "y": [
          100,
          102.90821142048134,
          106.31783860311465,
          99.34521000471919,
          87.60028315243039,
          88.83907503539405,
          94.60240679565833,
          90.02477583765928,
          83.28810759792354,
          90.69726285983954,
          99.2508258612553,
          95.25129778197262,
          97.53421425200565,
          103.83435582822085,
          104.3593676262388,
          109.17295894289758,
          108.55946201038225,
          115.68546484190657,
          121.72605002359602,
          117.43157149598866,
          120.21000471920718,
          132.1083058046248,
          142.9565832940066,
          138.1311939594148,
          135.37045776309577,
          145.49905615856537,
          148.6904200094384,
          164.1458235016517,
          175.48371873525247,
          179.8076923076923,
          185.181689476168,
          194.66729589428974,
          206.0169891458235,
          215.06016989145823,
          218.45799905615854,
          221.8145351580934,
          218.1453515809344,
          212.4292118924021,
          198.04152902312413,
          168.18664464369985,
          171.02406795658328,
          163.65030674846625,
          173.62553091080696,
          199.10924964605942,
          205.32680509674375,
          210.7184992921189,
          202.2770174610665,
          196.63166588013212,
          211.08423784804148,
          211.03704577630955,
          211.3732892873997,
          216.6411042944785,
          231.0995752713544,
          231.7307692307692,
          237.977819726286,
          280.1970268994809,
          296.98560641812173,
          307.97546012269936,
          332.9636621047664,
          323.5724398301085,
          325.3657385559225,
          343.28692779613027,
          339.2225106182161,
          353.65738555922604,
          379.25318546484186,
          391.5585181689476,
          402.3124115148655,
          408.0108541764983,
          415.8447380840019,
          401.65762151958467,
          399.61656441717787,
          432.3678621991506,
          439.6472392638036,
          442.4315714959887,
          456.73076923076917,
          450.73737612081175,
          447.09178857951855,
          442.1071260028315,
          434.02548371873525,
          446.5490797546012,
          488.6149126946672,
          465.86243511090134,
          513.7800849457291,
          526.4511562057575,
          535.9957527135441,
          570.9650778669184,
          537.2050495516753,
          520.3810759792354,
          563.791882963662,
          572.8409627182633,
          552.796130250118,
          536.6151486550259,
          547.5637092968382,
          582.945965077867,
          569.3841434638981,
          585.9308636149127,
          597.3631429919773,
          603.6632845681926,
          592.7206229353468,
          592.7560169891458,
          597.2274657857479,
          622.8468617272298,
          658.5181689476167,
          687.1696554978763,
          687.5412930627654,
          694.6201038225578,
          697.2805568664464,
          704.719207173195,
          673.3836715431808,
          734.3322321849929,
          710.7538933459177,
          716.2517697026899,
          696.4782916470033,
          726.4865502595563,
          761.0960358659745,
          831.3827277017459,
          785.0932043416706,
          772.8940537989617,
          767.3902784332232,
          776.9466729589428,
          819.7970740915526,
          835.8246814535158,
          863.2963662104765,
          873.2479943369514,
          851.1621047663991,
          861.0960358659744,
          796.0889570552147,
          863.0722038697497,
          896.8971212836243,
          908.5653610193488,
          971.749646059462,
          927.7489381783861,
          985.4294478527606,
          975.300849457291,
          971.1833411986785,
          968.8296366210475,
          992.7088249174137,
          1034.285040113261,
          1049.4218971212836
         ]
        },
        {
         "hoverinfo": "x+y+name",
         "line": {
          "color": "#aec7e8"
         },
         "mode": "lines",
         "name": "Real Estate",
         "type": "scatter",
         "x": [
          "2008-06-30T00:00:00",
          "2008-07-31T00:00:00",
          "2008-08-31T00:00:00",
          "2008-09-30T00:00:00",
          "2008-10-31T00:00:00",
          "2008-11-30T00:00:00",
          "2008-12-31T00:00:00",
          "2009-01-31T00:00:00",
          "2009-02-28T00:00:00",
          "2009-03-31T00:00:00",
          "2009-04-30T00:00:00",
          "2009-05-31T00:00:00",
          "2009-06-30T00:00:00",
          "2009-07-31T00:00:00",
          "2009-08-31T00:00:00",
          "2009-09-30T00:00:00",
          "2009-10-31T00:00:00",
          "2009-11-30T00:00:00",
          "2009-12-31T00:00:00",
          "2010-01-31T00:00:00",
          "2010-02-28T00:00:00",
          "2010-03-31T00:00:00",
          "2010-04-30T00:00:00",
          "2010-05-31T00:00:00",
          "2010-06-30T00:00:00",
          "2010-07-31T00:00:00",
          "2010-08-31T00:00:00",
          "2010-09-30T00:00:00",
          "2010-10-31T00:00:00",
          "2010-11-30T00:00:00",
          "2010-12-31T00:00:00",
          "2011-01-31T00:00:00",
          "2011-02-28T00:00:00",
          "2011-03-31T00:00:00",
          "2011-04-30T00:00:00",
          "2011-05-31T00:00:00",
          "2011-06-30T00:00:00",
          "2011-07-31T00:00:00",
          "2011-08-31T00:00:00",
          "2011-09-30T00:00:00",
          "2011-10-31T00:00:00",
          "2011-11-30T00:00:00",
          "2011-12-31T00:00:00",
          "2012-01-31T00:00:00",
          "2012-02-29T00:00:00",
          "2012-03-31T00:00:00",
          "2012-04-30T00:00:00",
          "2012-05-31T00:00:00",
          "2012-06-30T00:00:00",
          "2012-07-31T00:00:00",
          "2012-08-31T00:00:00",
          "2012-09-30T00:00:00",
          "2012-10-31T00:00:00",
          "2012-11-30T00:00:00",
          "2012-12-31T00:00:00",
          "2013-01-31T00:00:00",
          "2013-02-28T00:00:00",
          "2013-03-31T00:00:00",
          "2013-04-30T00:00:00",
          "2013-05-31T00:00:00",
          "2013-06-30T00:00:00",
          "2013-07-31T00:00:00",
          "2013-08-31T00:00:00",
          "2013-09-30T00:00:00",
          "2013-10-31T00:00:00",
          "2013-11-30T00:00:00",
          "2013-12-31T00:00:00",
          "2014-01-31T00:00:00",
          "2014-02-28T00:00:00",
          "2014-03-31T00:00:00",
          "2014-04-30T00:00:00",
          "2014-05-31T00:00:00",
          "2014-06-30T00:00:00",
          "2014-07-31T00:00:00",
          "2014-08-31T00:00:00",
          "2014-09-30T00:00:00",
          "2014-10-31T00:00:00",
          "2014-11-30T00:00:00",
          "2014-12-31T00:00:00",
          "2015-01-31T00:00:00",
          "2015-02-28T00:00:00",
          "2015-03-31T00:00:00",
          "2015-04-30T00:00:00",
          "2015-05-31T00:00:00",
          "2015-06-30T00:00:00",
          "2015-07-31T00:00:00",
          "2015-08-31T00:00:00",
          "2015-09-30T00:00:00",
          "2015-10-31T00:00:00",
          "2015-11-30T00:00:00",
          "2015-12-31T00:00:00",
          "2016-01-31T00:00:00",
          "2016-02-29T00:00:00",
          "2016-03-31T00:00:00",
          "2016-04-30T00:00:00",
          "2016-05-31T00:00:00",
          "2016-06-30T00:00:00",
          "2016-07-31T00:00:00",
          "2016-08-31T00:00:00",
          "2016-09-30T00:00:00",
          "2016-10-31T00:00:00",
          "2016-11-30T00:00:00",
          "2016-12-31T00:00:00",
          "2017-01-31T00:00:00",
          "2017-02-28T00:00:00",
          "2017-03-31T00:00:00",
          "2017-04-30T00:00:00",
          "2017-05-31T00:00:00",
          "2017-06-30T00:00:00",
          "2017-07-31T00:00:00",
          "2017-08-31T00:00:00",
          "2017-09-30T00:00:00",
          "2017-10-31T00:00:00",
          "2017-11-30T00:00:00",
          "2017-12-31T00:00:00",
          "2018-01-31T00:00:00",
          "2018-02-28T00:00:00",
          "2018-03-31T00:00:00",
          "2018-04-30T00:00:00",
          "2018-05-31T00:00:00",
          "2018-06-30T00:00:00",
          "2018-07-31T00:00:00",
          "2018-08-31T00:00:00",
          "2018-09-30T00:00:00",
          "2018-10-31T00:00:00",
          "2018-11-30T00:00:00",
          "2018-12-31T00:00:00",
          "2019-01-31T00:00:00",
          "2019-02-28T00:00:00",
          "2019-03-31T00:00:00",
          "2019-04-30T00:00:00",
          "2019-05-31T00:00:00",
          "2019-06-30T00:00:00",
          "2019-07-31T00:00:00",
          "2019-08-31T00:00:00",
          "2019-09-30T00:00:00",
          "2019-10-31T00:00:00",
          "2019-11-30T00:00:00",
          "2019-12-31T00:00:00"
         ],
         "y": [
          100,
          98.92870003601008,
          99.29330212459489,
          97.21371984155563,
          74.78844076341376,
          58.76845516744689,
          70.35019805545552,
          60.526197335253876,
          51.56643860280879,
          57.5351098307526,
          73.28501980554556,
          74.32706157724162,
          74.13350738206698,
          81.15097227223622,
          84.89602088584803,
          92.0102628736046,
          89.68311127115592,
          98.24900972272236,
          105.89440043212099,
          99.63989917176809,
          102.38116672668347,
          109.71597047173209,
          112.68005041411595,
          107.28078862081382,
          102.88980914656105,
          112.87135397911415,
          112.04087144400432,
          119.90007202016567,
          120.06436802304646,
          118.72074180770615,
          124.26629456247748,
          129.9288800864242,
          136.5524846957148,
          135.94256391789702,
          142.8249909974793,
          146.84911775297084,
          143.03880086424198,
          146.52727763773856,
          137.3717140799424,
          128.89133957508102,
          145.8138278718041,
          147.18671227943824,
          151.44940583363342,
          164.62009362621535,
          170.4357220021606,
          181.48406553835073,
          188.52178610010805,
          179.62054375225065,
          192.39962189413035,
          195.8768455167447,
          200.13728844076343,
          200.71119913575802,
          196.82436082102987,
          198.33003240907453,
          210.45642779978394,
          218.77475693194094,
          217.1092906013684,
          219.8348037450486,
          234.80149441843716,
          220.5302484695715,
          210.2358660424919,
          210.65223262513504,
          199.92572920417714,
          211.26665466330573,
          214.82039971191935,
          207.0107129996399,
          212.18266114512065,
          219.54222182211018,
          229.1456607850198,
          229.19517464890168,
          235.33939503060859,
          243.06805905653582,
          246.17167806985955,
          249.96849117752973,
          255.25747209218585,
          243.90754411235145,
          262.144400432121,
          273.3052754771336,
          271.59704717320847,
          280.3047353258913,
          277.50720201656463,
          280.8223802664746,
          275.4276197335254,
          278.6212639539071,
          268.51143320129637,
          290.35830032409075,
          280.25972272236226,
          285.38890889449044,
          317.9915376305366,
          314.7821389989197,
          321.3697335253871,
          315.09272596326974,
          311.82706157724164,
          347.7043572200216,
          341.3170687792582,
          353.7630536550234,
          375.37810586964355,
          380.40151242347855,
          368.34713719841557,
          365.75216060496933,
          355.07742167806987,
          337.8893590205257,
          351.8702736766295,
          350.05401512423475,
          364.44229384227583,
          368.12207418077065,
          371.774846957148,
          378.82382066978755,
          384.73397551314366,
          391.4791141519626,
          404.9851458408354,
          402.24387828592006,
          405.5815628375945,
          415.39205977673754,
          415.8871984155564,
          410.6027187612532,
          384.94328411955354,
          400.7382066978754,
          400.8507382066979,
          404.3122074180771,
          428.8283219301404,
          432.7511703276918,
          437.56076701476417,
          429.88611811307163,
          425.47488296723077,
          441.3935902052575,
          408.15853438962904,
          450.7247029168167,
          461.2846597047173,
          485.9740727403674,
          489.10244868563194,
          500.66618653222906,
          511.6155023406554,
          519.1686172128196,
          545.4312207418077,
          546.3427259632698,
          532.9064638098668,
          532.1615052214621,
          541.9832553114871
         ]
        },
        {
         "hoverinfo": "x+y+name",
         "line": {
          "color": "#ff7f0e"
         },
         "mode": "lines",
         "name": "Materials",
         "type": "scatter",
         "x": [
          "2008-06-30T00:00:00",
          "2008-07-31T00:00:00",
          "2008-08-31T00:00:00",
          "2008-09-30T00:00:00",
          "2008-10-31T00:00:00",
          "2008-11-30T00:00:00",
          "2008-12-31T00:00:00",
          "2009-01-31T00:00:00",
          "2009-02-28T00:00:00",
          "2009-03-31T00:00:00",
          "2009-04-30T00:00:00",
          "2009-05-31T00:00:00",
          "2009-06-30T00:00:00",
          "2009-07-31T00:00:00",
          "2009-08-31T00:00:00",
          "2009-09-30T00:00:00",
          "2009-10-31T00:00:00",
          "2009-11-30T00:00:00",
          "2009-12-31T00:00:00",
          "2010-01-31T00:00:00",
          "2010-02-28T00:00:00",
          "2010-03-31T00:00:00",
          "2010-04-30T00:00:00",
          "2010-05-31T00:00:00",
          "2010-06-30T00:00:00",
          "2010-07-31T00:00:00",
          "2010-08-31T00:00:00",
          "2010-09-30T00:00:00",
          "2010-10-31T00:00:00",
          "2010-11-30T00:00:00",
          "2010-12-31T00:00:00",
          "2011-01-31T00:00:00",
          "2011-02-28T00:00:00",
          "2011-03-31T00:00:00",
          "2011-04-30T00:00:00",
          "2011-05-31T00:00:00",
          "2011-06-30T00:00:00",
          "2011-07-31T00:00:00",
          "2011-08-31T00:00:00",
          "2011-09-30T00:00:00",
          "2011-10-31T00:00:00",
          "2011-11-30T00:00:00",
          "2011-12-31T00:00:00",
          "2012-01-31T00:00:00",
          "2012-02-29T00:00:00",
          "2012-03-31T00:00:00",
          "2012-04-30T00:00:00",
          "2012-05-31T00:00:00",
          "2012-06-30T00:00:00",
          "2012-07-31T00:00:00",
          "2012-08-31T00:00:00",
          "2012-09-30T00:00:00",
          "2012-10-31T00:00:00",
          "2012-11-30T00:00:00",
          "2012-12-31T00:00:00",
          "2013-01-31T00:00:00",
          "2013-02-28T00:00:00",
          "2013-03-31T00:00:00",
          "2013-04-30T00:00:00",
          "2013-05-31T00:00:00",
          "2013-06-30T00:00:00",
          "2013-07-31T00:00:00",
          "2013-08-31T00:00:00",
          "2013-09-30T00:00:00",
          "2013-10-31T00:00:00",
          "2013-11-30T00:00:00",
          "2013-12-31T00:00:00",
          "2014-01-31T00:00:00",
          "2014-02-28T00:00:00",
          "2014-03-31T00:00:00",
          "2014-04-30T00:00:00",
          "2014-05-31T00:00:00",
          "2014-06-30T00:00:00",
          "2014-07-31T00:00:00",
          "2014-08-31T00:00:00",
          "2014-09-30T00:00:00",
          "2014-10-31T00:00:00",
          "2014-11-30T00:00:00",
          "2014-12-31T00:00:00",
          "2015-01-31T00:00:00",
          "2015-02-28T00:00:00",
          "2015-03-31T00:00:00",
          "2015-04-30T00:00:00",
          "2015-05-31T00:00:00",
          "2015-06-30T00:00:00",
          "2015-07-31T00:00:00",
          "2015-08-31T00:00:00",
          "2015-09-30T00:00:00",
          "2015-10-31T00:00:00",
          "2015-11-30T00:00:00",
          "2015-12-31T00:00:00",
          "2016-01-31T00:00:00",
          "2016-02-29T00:00:00",
          "2016-03-31T00:00:00",
          "2016-04-30T00:00:00",
          "2016-05-31T00:00:00",
          "2016-06-30T00:00:00",
          "2016-07-31T00:00:00",
          "2016-08-31T00:00:00",
          "2016-09-30T00:00:00",
          "2016-10-31T00:00:00",
          "2016-11-30T00:00:00",
          "2016-12-31T00:00:00",
          "2017-01-31T00:00:00",
          "2017-02-28T00:00:00",
          "2017-03-31T00:00:00",
          "2017-04-30T00:00:00",
          "2017-05-31T00:00:00",
          "2017-06-30T00:00:00",
          "2017-07-31T00:00:00",
          "2017-08-31T00:00:00",
          "2017-09-30T00:00:00",
          "2017-10-31T00:00:00",
          "2017-11-30T00:00:00",
          "2017-12-31T00:00:00",
          "2018-01-31T00:00:00",
          "2018-02-28T00:00:00",
          "2018-03-31T00:00:00",
          "2018-04-30T00:00:00",
          "2018-05-31T00:00:00",
          "2018-06-30T00:00:00",
          "2018-07-31T00:00:00",
          "2018-08-31T00:00:00",
          "2018-09-30T00:00:00",
          "2018-10-31T00:00:00",
          "2018-11-30T00:00:00",
          "2018-12-31T00:00:00",
          "2019-01-31T00:00:00",
          "2019-02-28T00:00:00",
          "2019-03-31T00:00:00",
          "2019-04-30T00:00:00",
          "2019-05-31T00:00:00",
          "2019-06-30T00:00:00",
          "2019-07-31T00:00:00",
          "2019-08-31T00:00:00",
          "2019-09-30T00:00:00",
          "2019-10-31T00:00:00",
          "2019-11-30T00:00:00",
          "2019-12-31T00:00:00"
         ],
         "y": [
          100,
          96.76606660253768,
          95.25903531675141,
          80.51394805551739,
          62.484540332554616,
          55.805963996152265,
          55.48531904172965,
          51.38564426732628,
          47.263066281892726,
          54.518803536255774,
          63.01589482845495,
          66.69415051990288,
          63.67092666391828,
          71.86111492831294,
          73.56511382895881,
          76.6707892446521,
          72.70853373642984,
          80.53685126654757,
          82.20420502954514,
          75.10420961018735,
          78.4893042004489,
          84.70523567404149,
          84.87930007787092,
          76.78988594200906,
          71.16027667078924,
          80.28949658742157,
          77.85717557601576,
          83.8944620035729,
          89.06142641198296,
          90.0600064128991,
          99.10219412761668,
          99.18006504511932,
          101.80935367138473,
          103.59580413173927,
          105.79451239063718,
          102.89496587421556,
          102.4827080756722,
          98.94187165040539,
          91.99303742384683,
          76.8311117218634,
          90.15161925701983,
          90.33484494526132,
          88.27813659475058,
          97.97535614493151,
          97.42109843800101,
          97.79213045669003,
          96.99967935504557,
          89.4599422839082,
          93.85277815949794,
          92.65723054372222,
          94.81013238055975,
          98.38303330126884,
          96.32174430855206,
          98.11277541111264,
          101.24593468004215,
          105.24025468370665,
          103.81109431542302,
          106.1059960606477,
          107.10915670376988,
          109.13838120104438,
          104.65393248133388,
          110.4667674407952,
          110.32934817461408,
          115.21689340845586,
          120.04030965141312,
          121.60688928587788,
          127.56172415372635,
          121.54276029499333,
          129.93449681645367,
          131.0063670926664,
          132.0873986532912,
          135.99468645504098,
          138.18881407173288,
          135.43584810590445,
          140.66694150519902,
          138.69268471439696,
          135.36255783060784,
          137.48797581420916,
          136.72300856580094,
          134.21739727909852,
          144.9131968301956,
          137.80404012642572,
          142.43965003893544,
          142.9755851770418,
          137.32765333699786,
          130.40172232146946,
          123.05437222298565,
          113.9205716641473,
          129.21533599010579,
          130.50249645000227,
          124.83624204113414,
          111.46992808391735,
          120.17772891759427,
          129.27946498099035,
          135.88933168430216,
          135.42668682149238,
          134.36397782969172,
          141.17539279006917,
          140.7997801291741,
          139.1644908616188,
          136.25120241857908,
          145.54990609683477,
          145.80642206037285,
          152.4346113325088,
          153.28661078283176,
          154.2393843616875,
          156.18157665704732,
          156.20906051028354,
          159.09944574229306,
          161.55466996472904,
          162.82808849800742,
          168.84705235674042,
          175.38820942696165,
          177.05098254775316,
          180.81627044111585,
          188.04452384224265,
          178.12743346617194,
          170.74343823003986,
          170.95414777151757,
          174.4583390591361,
          174.93930649077,
          179.94136777976271,
          178.55801383353946,
          175.35156428931336,
          159.24602629288626,
          165.30163528926755,
          153.91415876505886,
          162.53950803902706,
          167.71563373184918,
          169.81814850442032,
          175.7867252988869,
          161.40350877192984,
          180.06962576153177,
          179.57491640327973,
          174.4949841967844,
          180.04672255050158,
          180.01465805505933,
          185.7358801703999,
          191.05400577160916
         ]
        },
        {
         "hoverinfo": "x+y+name",
         "line": {
          "color": "#ffbb78"
         },
         "mode": "lines",
         "name": "Energy",
         "type": "scatter",
         "x": [
          "2008-06-30T00:00:00",
          "2008-07-31T00:00:00",
          "2008-08-31T00:00:00",
          "2008-09-30T00:00:00",
          "2008-10-31T00:00:00",
          "2008-11-30T00:00:00",
          "2008-12-31T00:00:00",
          "2009-01-31T00:00:00",
          "2009-02-28T00:00:00",
          "2009-03-31T00:00:00",
          "2009-04-30T00:00:00",
          "2009-05-31T00:00:00",
          "2009-06-30T00:00:00",
          "2009-07-31T00:00:00",
          "2009-08-31T00:00:00",
          "2009-09-30T00:00:00",
          "2009-10-31T00:00:00",
          "2009-11-30T00:00:00",
          "2009-12-31T00:00:00",
          "2010-01-31T00:00:00",
          "2010-02-28T00:00:00",
          "2010-03-31T00:00:00",
          "2010-04-30T00:00:00",
          "2010-05-31T00:00:00",
          "2010-06-30T00:00:00",
          "2010-07-31T00:00:00",
          "2010-08-31T00:00:00",
          "2010-09-30T00:00:00",
          "2010-10-31T00:00:00",
          "2010-11-30T00:00:00",
          "2010-12-31T00:00:00",
          "2011-01-31T00:00:00",
          "2011-02-28T00:00:00",
          "2011-03-31T00:00:00",
          "2011-04-30T00:00:00",
          "2011-05-31T00:00:00",
          "2011-06-30T00:00:00",
          "2011-07-31T00:00:00",
          "2011-08-31T00:00:00",
          "2011-09-30T00:00:00",
          "2011-10-31T00:00:00",
          "2011-11-30T00:00:00",
          "2011-12-31T00:00:00",
          "2012-01-31T00:00:00",
          "2012-02-29T00:00:00",
          "2012-03-31T00:00:00",
          "2012-04-30T00:00:00",
          "2012-05-31T00:00:00",
          "2012-06-30T00:00:00",
          "2012-07-31T00:00:00",
          "2012-08-31T00:00:00",
          "2012-09-30T00:00:00",
          "2012-10-31T00:00:00",
          "2012-11-30T00:00:00",
          "2012-12-31T00:00:00",
          "2013-01-31T00:00:00",
          "2013-02-28T00:00:00",
          "2013-03-31T00:00:00",
          "2013-04-30T00:00:00",
          "2013-05-31T00:00:00",
          "2013-06-30T00:00:00",
          "2013-07-31T00:00:00",
          "2013-08-31T00:00:00",
          "2013-09-30T00:00:00",
          "2013-10-31T00:00:00",
          "2013-11-30T00:00:00",
          "2013-12-31T00:00:00",
          "2014-01-31T00:00:00",
          "2014-02-28T00:00:00",
          "2014-03-31T00:00:00",
          "2014-04-30T00:00:00",
          "2014-05-31T00:00:00",
          "2014-06-30T00:00:00",
          "2014-07-31T00:00:00",
          "2014-08-31T00:00:00",
          "2014-09-30T00:00:00",
          "2014-10-31T00:00:00",
          "2014-11-30T00:00:00",
          "2014-12-31T00:00:00",
          "2015-01-31T00:00:00",
          "2015-02-28T00:00:00",
          "2015-03-31T00:00:00",
          "2015-04-30T00:00:00",
          "2015-05-31T00:00:00",
          "2015-06-30T00:00:00",
          "2015-07-31T00:00:00",
          "2015-08-31T00:00:00",
          "2015-09-30T00:00:00",
          "2015-10-31T00:00:00",
          "2015-11-30T00:00:00",
          "2015-12-31T00:00:00",
          "2016-01-31T00:00:00",
          "2016-02-29T00:00:00",
          "2016-03-31T00:00:00",
          "2016-04-30T00:00:00",
          "2016-05-31T00:00:00",
          "2016-06-30T00:00:00",
          "2016-07-31T00:00:00",
          "2016-08-31T00:00:00",
          "2016-09-30T00:00:00",
          "2016-10-31T00:00:00",
          "2016-11-30T00:00:00",
          "2016-12-31T00:00:00",
          "2017-01-31T00:00:00",
          "2017-02-28T00:00:00",
          "2017-03-31T00:00:00",
          "2017-04-30T00:00:00",
          "2017-05-31T00:00:00",
          "2017-06-30T00:00:00",
          "2017-07-31T00:00:00",
          "2017-08-31T00:00:00",
          "2017-09-30T00:00:00",
          "2017-10-31T00:00:00",
          "2017-11-30T00:00:00",
          "2017-12-31T00:00:00",
          "2018-01-31T00:00:00",
          "2018-02-28T00:00:00",
          "2018-03-31T00:00:00",
          "2018-04-30T00:00:00",
          "2018-05-31T00:00:00",
          "2018-06-30T00:00:00",
          "2018-07-31T00:00:00",
          "2018-08-31T00:00:00",
          "2018-09-30T00:00:00",
          "2018-10-31T00:00:00",
          "2018-11-30T00:00:00",
          "2018-12-31T00:00:00",
          "2019-01-31T00:00:00",
          "2019-02-28T00:00:00",
          "2019-03-31T00:00:00",
          "2019-04-30T00:00:00",
          "2019-05-31T00:00:00",
          "2019-06-30T00:00:00",
          "2019-07-31T00:00:00",
          "2019-08-31T00:00:00",
          "2019-09-30T00:00:00",
          "2019-10-31T00:00:00",
          "2019-11-30T00:00:00",
          "2019-12-31T00:00:00"
         ],
         "y": [
          100,
          84.08499566348657,
          84.36957935819602,
          71.7720078057242,
          58.28003035559411,
          57.00888985255854,
          54.44492627927146,
          53.47463139635733,
          46.877710320902,
          48.642129228100615,
          52.444709453599316,
          59.20424978317433,
          55.32578057241978,
          58.2854509973981,
          58.91966608846487,
          62.361773633998276,
          63.89852558542931,
          65.71444058976583,
          66.29444926279272,
          63.37543365134432,
          65.28078924544667,
          67.12109713790113,
          69.91001734605378,
          61.90372940156115,
          58.236665221162184,
          63.11253252385083,
          60.01734605377277,
          66.01799653078926,
          69.76094969644406,
          73.84811361665223,
          80.72961838681701,
          86.52699479618387,
          92.90166955767563,
          94.6498265394623,
          95.51712922810061,
          91.5166955767563,
          89.75769731136167,
          91.06949262792715,
          81.76496097137903,
          69.97235472679965,
          83.36676062445794,
          84.75173460537728,
          83.02254986990461,
          84.895381613183,
          89.92844752818735,
          86.49989158716393,
          85.8873590633131,
          76.71292281006072,
          80.40166955767563,
          84.375,
          86.65166955767563,
          89.35114917606245,
          87.54065481352993,
          86.46736773633998,
          87.34822202948828,
          94.60104076322638,
          95.01843018213356,
          97.43332610581093,
          96.15676496097137,
          98.89689939288812,
          96.65275368603645,
          101.74002601908066,
          100.69113183000869,
          102.8187337380746,
          107.1362749349523,
          107.19590199479619,
          110.27482653946228,
          103.88388985255857,
          109.20424978317433,
          111.50531222896791,
          117.36502601908066,
          119.33271899392889,
          125.91066782307026,
          121.54705117085862,
          124.20045533391155,
          114.57339549002603,
          110.5268863833478,
          100.91879878577626,
          100.70468343451866,
          96.11339982653946,
          100.528512575889,
          99.36578490893322,
          105.8976582827407,
          100.40383781439724,
          96.90481352992195,
          89.45414137033826,
          85.64885082393756,
          79.48829141370338,
          88.35917172593236,
          88.34833044232438,
          79.05464006938422,
          76.29011274934953,
          74.15437987857764,
          81.69178230702516,
          89.09637901127493,
          88.26702081526454,
          90.66836513443192,
          89.52460971379011,
          91.02612749349525,
          94.38421509106679,
          91.7226799653079,
          99.49045967042498,
          101.21151344319168,
          97.95912836079793,
          95.91825672159584,
          94.49262792714657,
          91.70641803989594,
          88.46216392020816,
          88.36459236773634,
          90.6764960971379,
          85.70847788378146,
          94.43571118820469,
          93.6497181266262,
          95.29217259323504,
          100.3143972246314,
          103.9082827406765,
          92.64960971379011,
          94.24598872506506,
          103.19546834345188,
          106.28523417172593,
          106.88963573287079,
          108.55106244579358,
          104.77829575021683,
          107.34225932350392,
          95.18104943625326,
          93.69308326105812,
          82.03870338248049,
          91.23753252385083,
          93.3380312228968,
          95.32469644405897,
          95.31114483954902,
          84.73005203816132,
          92.69026452732004,
          91.22127059843886,
          83.62695143104945,
          86.91457068516914,
          85.09594535993062,
          86.461947094536,
          91.67118386817
         ]
        },
        {
         "hoverinfo": "x+y+name",
         "line": {
          "color": "#2ca02c"
         },
         "mode": "lines",
         "name": "Financials",
         "type": "scatter",
         "x": [
          "2008-06-30T00:00:00",
          "2008-07-31T00:00:00",
          "2008-08-31T00:00:00",
          "2008-09-30T00:00:00",
          "2008-10-31T00:00:00",
          "2008-11-30T00:00:00",
          "2008-12-31T00:00:00",
          "2009-01-31T00:00:00",
          "2009-02-28T00:00:00",
          "2009-03-31T00:00:00",
          "2009-04-30T00:00:00",
          "2009-05-31T00:00:00",
          "2009-06-30T00:00:00",
          "2009-07-31T00:00:00",
          "2009-08-31T00:00:00",
          "2009-09-30T00:00:00",
          "2009-10-31T00:00:00",
          "2009-11-30T00:00:00",
          "2009-12-31T00:00:00",
          "2010-01-31T00:00:00",
          "2010-02-28T00:00:00",
          "2010-03-31T00:00:00",
          "2010-04-30T00:00:00",
          "2010-05-31T00:00:00",
          "2010-06-30T00:00:00",
          "2010-07-31T00:00:00",
          "2010-08-31T00:00:00",
          "2010-09-30T00:00:00",
          "2010-10-31T00:00:00",
          "2010-11-30T00:00:00",
          "2010-12-31T00:00:00",
          "2011-01-31T00:00:00",
          "2011-02-28T00:00:00",
          "2011-03-31T00:00:00",
          "2011-04-30T00:00:00",
          "2011-05-31T00:00:00",
          "2011-06-30T00:00:00",
          "2011-07-31T00:00:00",
          "2011-08-31T00:00:00",
          "2011-09-30T00:00:00",
          "2011-10-31T00:00:00",
          "2011-11-30T00:00:00",
          "2011-12-31T00:00:00",
          "2012-01-31T00:00:00",
          "2012-02-29T00:00:00",
          "2012-03-31T00:00:00",
          "2012-04-30T00:00:00",
          "2012-05-31T00:00:00",
          "2012-06-30T00:00:00",
          "2012-07-31T00:00:00",
          "2012-08-31T00:00:00",
          "2012-09-30T00:00:00",
          "2012-10-31T00:00:00",
          "2012-11-30T00:00:00",
          "2012-12-31T00:00:00",
          "2013-01-31T00:00:00",
          "2013-02-28T00:00:00",
          "2013-03-31T00:00:00",
          "2013-04-30T00:00:00",
          "2013-05-31T00:00:00",
          "2013-06-30T00:00:00",
          "2013-07-31T00:00:00",
          "2013-08-31T00:00:00",
          "2013-09-30T00:00:00",
          "2013-10-31T00:00:00",
          "2013-11-30T00:00:00",
          "2013-12-31T00:00:00",
          "2014-01-31T00:00:00",
          "2014-02-28T00:00:00",
          "2014-03-31T00:00:00",
          "2014-04-30T00:00:00",
          "2014-05-31T00:00:00",
          "2014-06-30T00:00:00",
          "2014-07-31T00:00:00",
          "2014-08-31T00:00:00",
          "2014-09-30T00:00:00",
          "2014-10-31T00:00:00",
          "2014-11-30T00:00:00",
          "2014-12-31T00:00:00",
          "2015-01-31T00:00:00",
          "2015-02-28T00:00:00",
          "2015-03-31T00:00:00",
          "2015-04-30T00:00:00",
          "2015-05-31T00:00:00",
          "2015-06-30T00:00:00",
          "2015-07-31T00:00:00",
          "2015-08-31T00:00:00",
          "2015-09-30T00:00:00",
          "2015-10-31T00:00:00",
          "2015-11-30T00:00:00",
          "2015-12-31T00:00:00",
          "2016-01-31T00:00:00",
          "2016-02-29T00:00:00",
          "2016-03-31T00:00:00",
          "2016-04-30T00:00:00",
          "2016-05-31T00:00:00",
          "2016-06-30T00:00:00",
          "2016-07-31T00:00:00",
          "2016-08-31T00:00:00",
          "2016-09-30T00:00:00",
          "2016-10-31T00:00:00",
          "2016-11-30T00:00:00",
          "2016-12-31T00:00:00",
          "2017-01-31T00:00:00",
          "2017-02-28T00:00:00",
          "2017-03-31T00:00:00",
          "2017-04-30T00:00:00",
          "2017-05-31T00:00:00",
          "2017-06-30T00:00:00",
          "2017-07-31T00:00:00",
          "2017-08-31T00:00:00",
          "2017-09-30T00:00:00",
          "2017-10-31T00:00:00",
          "2017-11-30T00:00:00",
          "2017-12-31T00:00:00",
          "2018-01-31T00:00:00",
          "2018-02-28T00:00:00",
          "2018-03-31T00:00:00",
          "2018-04-30T00:00:00",
          "2018-05-31T00:00:00",
          "2018-06-30T00:00:00",
          "2018-07-31T00:00:00",
          "2018-08-31T00:00:00",
          "2018-09-30T00:00:00",
          "2018-10-31T00:00:00",
          "2018-11-30T00:00:00",
          "2018-12-31T00:00:00",
          "2019-01-31T00:00:00",
          "2019-02-28T00:00:00",
          "2019-03-31T00:00:00",
          "2019-04-30T00:00:00",
          "2019-05-31T00:00:00",
          "2019-06-30T00:00:00",
          "2019-07-31T00:00:00",
          "2019-08-31T00:00:00",
          "2019-09-30T00:00:00",
          "2019-10-31T00:00:00",
          "2019-11-30T00:00:00",
          "2019-12-31T00:00:00"
         ],
         "y": [
          100,
          106.76099135884532,
          105.72595195138163,
          99.10739720824233,
          77.39056120026588,
          63.080429209002,
          63.31782356851202,
          46.728705725951954,
          38.43889469186212,
          45.00047478871902,
          54.809609723672956,
          62.47269964865635,
          61.36169404614946,
          66.80277276611906,
          75.47241477542494,
          76.94425980438704,
          72.3672965530339,
          75.50090209856613,
          74.43737536796125,
          73.30737821669358,
          75.89022884816256,
          82.64172443262748,
          83.73373848637357,
          76.06115278700977,
          71.70259234640585,
          76.37451334156302,
          70.40167125629095,
          74.67476972747129,
          75.76678378121736,
          75.24451619029531,
          83.30642863925554,
          85.65188491121451,
          88.00683695755389,
          85.82280885006172,
          85.77532997815972,
          82.9455892128003,
          80.66660336150413,
          77.7798879498623,
          70.31620928686733,
          62.301775709809135,
          71.21830785300541,
          67.58142626531193,
          69.02478397113285,
          74.64628240433007,
          78.36862596144715,
          84.16104833349159,
          82.18592726236824,
          74.61779508118886,
          78.34963441268636,
          78.46358370525117,
          81.13189630614376,
          83.78121735827557,
          85.45247364922609,
          84.69281169879403,
          88.63355806666033,
          93.98917481720635,
          95.12866774285443,
          98.81302820244991,
          101.47184502896212,
          107.65359415060298,
          105.96334631089167,
          111.63232361599088,
          105.90637166460925,
          108.89754059443548,
          112.50593485898774,
          117.48172063431772,
          120.12154591206911,
          115.72500237394358,
          119.24793466907227,
          123.21716836007974,
          121.1186022220112,
          122.94179090304813,
          125.92346405849398,
          124.09077960307664,
          129.35143860981864,
          128.82917101889657,
          132.56101035039407,
          135.6661285727851,
          138.21099610673252,
          128.59177665938654,
          136.08394264552274,
          135.24831450004748,
          135.36226379261228,
          137.99259329598328,
          137.35637641249645,
          142.037793182034,
          132.01025543633085,
          128.28791187921374,
          136.33083277941316,
          139.04662425220778,
          135.76108631658911,
          123.73943595100181,
          120.15003323521034,
          128.7532048238534,
          133.3871427214889,
          135.90352293229512,
          131.51647516855,
          136.05545532238153,
          141.29712278036274,
          137.33738486373562,
          140.46149463488746,
          160.17472224859938,
          166.19504320577343,
          166.62235305289147,
          175.41544012914252,
          170.23074731744373,
          168.79688538600323,
          166.78378121735827,
          177.6469471085367,
          180.67609913588453,
          177.8653499192859,
          186.990789098851,
          192.34640584939703,
          198.99344791567754,
          202.7537745703162,
          216.04785870287722,
          209.73316873991075,
          201.01604785870285,
          200.14243661570603,
          198.16731554458264,
          194.7108536701168,
          204.67192099515717,
          207.45418288861455,
          202.8582280885006,
          193.29598328743708,
          198.36672680657108,
          176.2890513721394,
          191.9855664229418,
          196.27765644288291,
          191.25439179565095,
          208.4322476497958,
          193.4858987750451,
          206.3526730604881,
          211.21450954325326,
          201.2724337669737,
          210.4168644952996,
          215.67752350204157,
          226.5691767163612,
          232.4850441553509
         ]
        },
        {
         "hoverinfo": "x+y+name",
         "line": {
          "color": "#98df8a"
         },
         "mode": "lines",
         "name": "Industrials",
         "type": "scatter",
         "x": [
          "2008-06-30T00:00:00",
          "2008-07-31T00:00:00",
          "2008-08-31T00:00:00",
          "2008-09-30T00:00:00",
          "2008-10-31T00:00:00",
          "2008-11-30T00:00:00",
          "2008-12-31T00:00:00",
          "2009-01-31T00:00:00",
          "2009-02-28T00:00:00",
          "2009-03-31T00:00:00",
          "2009-04-30T00:00:00",
          "2009-05-31T00:00:00",
          "2009-06-30T00:00:00",
          "2009-07-31T00:00:00",
          "2009-08-31T00:00:00",
          "2009-09-30T00:00:00",
          "2009-10-31T00:00:00",
          "2009-11-30T00:00:00",
          "2009-12-31T00:00:00",
          "2010-01-31T00:00:00",
          "2010-02-28T00:00:00",
          "2010-03-31T00:00:00",
          "2010-04-30T00:00:00",
          "2010-05-31T00:00:00",
          "2010-06-30T00:00:00",
          "2010-07-31T00:00:00",
          "2010-08-31T00:00:00",
          "2010-09-30T00:00:00",
          "2010-10-31T00:00:00",
          "2010-11-30T00:00:00",
          "2010-12-31T00:00:00",
          "2011-01-31T00:00:00",
          "2011-02-28T00:00:00",
          "2011-03-31T00:00:00",
          "2011-04-30T00:00:00",
          "2011-05-31T00:00:00",
          "2011-06-30T00:00:00",
          "2011-07-31T00:00:00",
          "2011-08-31T00:00:00",
          "2011-09-30T00:00:00",
          "2011-10-31T00:00:00",
          "2011-11-30T00:00:00",
          "2011-12-31T00:00:00",
          "2012-01-31T00:00:00",
          "2012-02-29T00:00:00",
          "2012-03-31T00:00:00",
          "2012-04-30T00:00:00",
          "2012-05-31T00:00:00",
          "2012-06-30T00:00:00",
          "2012-07-31T00:00:00",
          "2012-08-31T00:00:00",
          "2012-09-30T00:00:00",
          "2012-10-31T00:00:00",
          "2012-11-30T00:00:00",
          "2012-12-31T00:00:00",
          "2013-01-31T00:00:00",
          "2013-02-28T00:00:00",
          "2013-03-31T00:00:00",
          "2013-04-30T00:00:00",
          "2013-05-31T00:00:00",
          "2013-06-30T00:00:00",
          "2013-07-31T00:00:00",
          "2013-08-31T00:00:00",
          "2013-09-30T00:00:00",
          "2013-10-31T00:00:00",
          "2013-11-30T00:00:00",
          "2013-12-31T00:00:00",
          "2014-01-31T00:00:00",
          "2014-02-28T00:00:00",
          "2014-03-31T00:00:00",
          "2014-04-30T00:00:00",
          "2014-05-31T00:00:00",
          "2014-06-30T00:00:00",
          "2014-07-31T00:00:00",
          "2014-08-31T00:00:00",
          "2014-09-30T00:00:00",
          "2014-10-31T00:00:00",
          "2014-11-30T00:00:00",
          "2014-12-31T00:00:00",
          "2015-01-31T00:00:00",
          "2015-02-28T00:00:00",
          "2015-03-31T00:00:00",
          "2015-04-30T00:00:00",
          "2015-05-31T00:00:00",
          "2015-06-30T00:00:00",
          "2015-07-31T00:00:00",
          "2015-08-31T00:00:00",
          "2015-09-30T00:00:00",
          "2015-10-31T00:00:00",
          "2015-11-30T00:00:00",
          "2015-12-31T00:00:00",
          "2016-01-31T00:00:00",
          "2016-02-29T00:00:00",
          "2016-03-31T00:00:00",
          "2016-04-30T00:00:00",
          "2016-05-31T00:00:00",
          "2016-06-30T00:00:00",
          "2016-07-31T00:00:00",
          "2016-08-31T00:00:00",
          "2016-09-30T00:00:00",
          "2016-10-31T00:00:00",
          "2016-11-30T00:00:00",
          "2016-12-31T00:00:00",
          "2017-01-31T00:00:00",
          "2017-02-28T00:00:00",
          "2017-03-31T00:00:00",
          "2017-04-30T00:00:00",
          "2017-05-31T00:00:00",
          "2017-06-30T00:00:00",
          "2017-07-31T00:00:00",
          "2017-08-31T00:00:00",
          "2017-09-30T00:00:00",
          "2017-10-31T00:00:00",
          "2017-11-30T00:00:00",
          "2017-12-31T00:00:00",
          "2018-01-31T00:00:00",
          "2018-02-28T00:00:00",
          "2018-03-31T00:00:00",
          "2018-04-30T00:00:00",
          "2018-05-31T00:00:00",
          "2018-06-30T00:00:00",
          "2018-07-31T00:00:00",
          "2018-08-31T00:00:00",
          "2018-09-30T00:00:00",
          "2018-10-31T00:00:00",
          "2018-11-30T00:00:00",
          "2018-12-31T00:00:00",
          "2019-01-31T00:00:00",
          "2019-02-28T00:00:00",
          "2019-03-31T00:00:00",
          "2019-04-30T00:00:00",
          "2019-05-31T00:00:00",
          "2019-06-30T00:00:00",
          "2019-07-31T00:00:00",
          "2019-08-31T00:00:00",
          "2019-09-30T00:00:00",
          "2019-10-31T00:00:00",
          "2019-11-30T00:00:00",
          "2019-12-31T00:00:00"
         ],
         "y": [
          100,
          100.79286422200198,
          103.55373070933031,
          91.0519609231205,
          74.43720798527539,
          68.32082684411725,
          69.9065552881212,
          61.51776865354665,
          51.04063429137759,
          55.54297040917457,
          65.5811977913068,
          67.78281183633017,
          66.62183208268442,
          72.44796828543113,
          75.90967011185049,
          80.33413563641513,
          77.13436216904998,
          83.90910378026335,
          85.31077445844542,
          84.05068667704943,
          88.53178536032847,
          96.2268158006513,
          100.32564066260797,
          91.17938553022796,
          84.90726320260514,
          93.76327339657368,
          87.26461843409317,
          97.32408325074331,
          100.12034546226818,
          101.45830383689652,
          109.04714710462977,
          113.33002973240833,
          115.7369389777715,
          118.32082684411722,
          121.5559960356789,
          118.19340223700978,
          117.54920005663318,
          109.46481665014866,
          102.27240549341641,
          92.75095568455332,
          106.08098541696162,
          107.57468497805466,
          107.84369248194818,
          115.7369389777715,
          118.96502902449386,
          120.1330879229789,
          118.81636698286849,
          111.29831516352826,
          115.05734107319836,
          115.50332719807447,
          117.28019255273962,
          118.58983434801078,
          118.46240974090333,
          120.5365991788192,
          123.94166784652415,
          131.0703666997027,
          133.97989522865637,
          137.1584312615036,
          136.13903440464392,
          142.97040917457173,
          140.76171598470907,
          149.07971117089056,
          145.3843975647742,
          153.9147670961348,
          161.24168200481384,
          167.14568880079287,
          174.19651706073907,
          166.7634149794705,
          173.53107744584455,
          175.18759733824155,
          177.530794280051,
          180.95002123743453,
          181.80659776299024,
          174.3097833781679,
          181.67209401104347,
          179.59082542828827,
          186.5496248053235,
          192.2978904148379,
          192.25541554580207,
          185.4240407758743,
          195.34900184057767,
          190.3723630185474,
          189.89098116947474,
          190.50686677049416,
          185.4523573552315,
          185.99745150785787,
          175.95214498088635,
          172.07277360894804,
          187.17966869602154,
          188.800792864222,
          183.94449950445986,
          173.4602859974515,
          180.85091320968428,
          193.46594931332297,
          195.87285855868612,
          195.0375194676483,
          196.4250318561518,
          203.546651564491,
          205.47217896078155,
          205.85445278210398,
          201.72731134079004,
          220.0693756194252,
          220.741894379159,
          224.85487753079428,
          233.65425456604845,
          231.86323092170466,
          236.42927934305538,
          240.6342913776016,
          243.88361885884186,
          244.5986124876115,
          245.13662749539856,
          255.39430836754923,
          257.2985983293218,
          268.0235027608665,
          273.67266034263065,
          288.3548067393459,
          277.21931190712166,
          269.7649723913351,
          262.2469205719949,
          270.3100665439615,
          261.1496531219029,
          280.4332436641654,
          281.0916041342206,
          287.20798527537875,
          255.99603567889,
          265.74401812261084,
          237.42035962055783,
          264.54764264476853,
          281.38892821747135,
          278.160838170749,
          289.2043041200623,
          267.11029307659635,
          288.262777856435,
          289.756477417528,
          282.0826844117231,
          290.5776582188872,
          293.8765397140026,
          307.08622398414275,
          306.47033838312336
         ]
        },
        {
         "hoverinfo": "x+y+name",
         "line": {
          "color": "#d62728"
         },
         "mode": "lines",
         "name": "Technology",
         "type": "scatter",
         "x": [
          "2008-06-30T00:00:00",
          "2008-07-31T00:00:00",
          "2008-08-31T00:00:00",
          "2008-09-30T00:00:00",
          "2008-10-31T00:00:00",
          "2008-11-30T00:00:00",
          "2008-12-31T00:00:00",
          "2009-01-31T00:00:00",
          "2009-02-28T00:00:00",
          "2009-03-31T00:00:00",
          "2009-04-30T00:00:00",
          "2009-05-31T00:00:00",
          "2009-06-30T00:00:00",
          "2009-07-31T00:00:00",
          "2009-08-31T00:00:00",
          "2009-09-30T00:00:00",
          "2009-10-31T00:00:00",
          "2009-11-30T00:00:00",
          "2009-12-31T00:00:00",
          "2010-01-31T00:00:00",
          "2010-02-28T00:00:00",
          "2010-03-31T00:00:00",
          "2010-04-30T00:00:00",
          "2010-05-31T00:00:00",
          "2010-06-30T00:00:00",
          "2010-07-31T00:00:00",
          "2010-08-31T00:00:00",
          "2010-09-30T00:00:00",
          "2010-10-31T00:00:00",
          "2010-11-30T00:00:00",
          "2010-12-31T00:00:00",
          "2011-01-31T00:00:00",
          "2011-02-28T00:00:00",
          "2011-03-31T00:00:00",
          "2011-04-30T00:00:00",
          "2011-05-31T00:00:00",
          "2011-06-30T00:00:00",
          "2011-07-31T00:00:00",
          "2011-08-31T00:00:00",
          "2011-09-30T00:00:00",
          "2011-10-31T00:00:00",
          "2011-11-30T00:00:00",
          "2011-12-31T00:00:00",
          "2012-01-31T00:00:00",
          "2012-02-29T00:00:00",
          "2012-03-31T00:00:00",
          "2012-04-30T00:00:00",
          "2012-05-31T00:00:00",
          "2012-06-30T00:00:00",
          "2012-07-31T00:00:00",
          "2012-08-31T00:00:00",
          "2012-09-30T00:00:00",
          "2012-10-31T00:00:00",
          "2012-11-30T00:00:00",
          "2012-12-31T00:00:00",
          "2013-01-31T00:00:00",
          "2013-02-28T00:00:00",
          "2013-03-31T00:00:00",
          "2013-04-30T00:00:00",
          "2013-05-31T00:00:00",
          "2013-06-30T00:00:00",
          "2013-07-31T00:00:00",
          "2013-08-31T00:00:00",
          "2013-09-30T00:00:00",
          "2013-10-31T00:00:00",
          "2013-11-30T00:00:00",
          "2013-12-31T00:00:00",
          "2014-01-31T00:00:00",
          "2014-02-28T00:00:00",
          "2014-03-31T00:00:00",
          "2014-04-30T00:00:00",
          "2014-05-31T00:00:00",
          "2014-06-30T00:00:00",
          "2014-07-31T00:00:00",
          "2014-08-31T00:00:00",
          "2014-09-30T00:00:00",
          "2014-10-31T00:00:00",
          "2014-11-30T00:00:00",
          "2014-12-31T00:00:00",
          "2015-01-31T00:00:00",
          "2015-02-28T00:00:00",
          "2015-03-31T00:00:00",
          "2015-04-30T00:00:00",
          "2015-05-31T00:00:00",
          "2015-06-30T00:00:00",
          "2015-07-31T00:00:00",
          "2015-08-31T00:00:00",
          "2015-09-30T00:00:00",
          "2015-10-31T00:00:00",
          "2015-11-30T00:00:00",
          "2015-12-31T00:00:00",
          "2016-01-31T00:00:00",
          "2016-02-29T00:00:00",
          "2016-03-31T00:00:00",
          "2016-04-30T00:00:00",
          "2016-05-31T00:00:00",
          "2016-06-30T00:00:00",
          "2016-07-31T00:00:00",
          "2016-08-31T00:00:00",
          "2016-09-30T00:00:00",
          "2016-10-31T00:00:00",
          "2016-11-30T00:00:00",
          "2016-12-31T00:00:00",
          "2017-01-31T00:00:00",
          "2017-02-28T00:00:00",
          "2017-03-31T00:00:00",
          "2017-04-30T00:00:00",
          "2017-05-31T00:00:00",
          "2017-06-30T00:00:00",
          "2017-07-31T00:00:00",
          "2017-08-31T00:00:00",
          "2017-09-30T00:00:00",
          "2017-10-31T00:00:00",
          "2017-11-30T00:00:00",
          "2017-12-31T00:00:00",
          "2018-01-31T00:00:00",
          "2018-02-28T00:00:00",
          "2018-03-31T00:00:00",
          "2018-04-30T00:00:00",
          "2018-05-31T00:00:00",
          "2018-06-30T00:00:00",
          "2018-07-31T00:00:00",
          "2018-08-31T00:00:00",
          "2018-09-30T00:00:00",
          "2018-10-31T00:00:00",
          "2018-11-30T00:00:00",
          "2018-12-31T00:00:00",
          "2019-01-31T00:00:00",
          "2019-02-28T00:00:00",
          "2019-03-31T00:00:00",
          "2019-04-30T00:00:00",
          "2019-05-31T00:00:00",
          "2019-06-30T00:00:00",
          "2019-07-31T00:00:00",
          "2019-08-31T00:00:00",
          "2019-09-30T00:00:00",
          "2019-10-31T00:00:00",
          "2019-11-30T00:00:00",
          "2019-12-31T00:00:00"
         ],
         "y": [
          100,
          97.55434782608695,
          99.31020066889631,
          86.93561872909699,
          72.93060200668896,
          66.80602006688963,
          67.85117056856187,
          64.65301003344482,
          62.18645484949832,
          69.126254180602,
          76.33779264214047,
          78.11454849498327,
          80.95735785953177,
          87.58361204013377,
          89.00501672240802,
          93.12290969899665,
          91.97324414715719,
          97.05267558528428,
          102.69648829431436,
          93.85451505016722,
          97.13628762541805,
          103.7834448160535,
          105.07943143812707,
          97.21989966555182,
          91.97324414715719,
          98.82943143812709,
          93.26923076923076,
          104.15969899665552,
          110.17976588628761,
          108.36120401337791,
          114.38127090301002,
          118.01839464882941,
          120.61036789297658,
          118.72909698996654,
          121.84364548494982,
          120.5685618729097,
          117.55852842809364,
          118.06020066889631,
          111.81020066889631,
          108.36120401337791,
          119.43979933110367,
          117.64214046822742,
          117.37040133779264,
          124.66555183946488,
          133.5284280936455,
          139.5484949832776,
          137.98076923076923,
          129.22240802675583,
          133.44481605351172,
          135.91137123745818,
          141.61789297658862,
          143.7918060200669,
          134.65719063545149,
          135.86956521739128,
          135.32608695652172,
          137.9180602006689,
          138.98411371237455,
          142.57943143812705,
          145.06688963210703,
          149.1220735785953,
          144.8160535117057,
          150.20903010033445,
          148.64130434782606,
          152.40384615384613,
          160.0752508361204,
          165.00836120401337,
          170.84030100334448,
          166.45066889632105,
          173.76672240802674,
          174.4983277591973,
          174.9790969899665,
          181.56354515050165,
          184.94983277591973,
          188.08528428093643,
          194.2725752508361,
          193.26923076923075,
          196.36287625418058,
          205.81103678929762,
          201.3377926421404,
          194.2725752508361,
          209.8035117056856,
          202.59197324414714,
          208.1730769230769,
          212.01923076923075,
          203.3026755852843,
          209.09280936454851,
          197.55434782608697,
          194.85785953177256,
          215.32190635451505,
          216.8478260869565,
          212.33277591973243,
          204.45234113712374,
          203.11454849498327,
          221.02842809364546,
          209.9289297658863,
          220.19230769230768,
          217.16137123745818,
          232.566889632107,
          235.28428093645485,
          240.2173913043478,
          238.41973244147155,
          238.816889632107,
          244.20986622073576,
          252.9055183946488,
          264.36036789297657,
          270.255016722408,
          275.6688963210702,
          286.5802675585284,
          278.5117056856187,
          290.928093645485,
          299.435618729097,
          301.88127090301,
          321.5510033444816,
          326.0869565217391,
          327.8637123745819,
          350.94063545150493,
          349.5192307692308,
          336.45484949832775,
          336.6638795986622,
          359.5108695652174,
          358.5493311036789,
          366.0326086956522,
          390.19648829431435,
          390.11287625418055,
          358.883779264214,
          351.8394648829431,
          322.36622073578593,
          344.73244147157186,
          368.561872909699,
          386.141304347826,
          410.7232441471572,
          375.1254180602007,
          408.6538461538462,
          422.9515050167224,
          416.450668896321,
          423.0142140468227,
          439.50668896321065,
          463.08528428093643,
          483.08946488294316
         ]
        },
        {
         "hoverinfo": "x+y+name",
         "line": {
          "color": "#ff9896"
         },
         "mode": "lines",
         "name": "Consumer Staples",
         "type": "scatter",
         "x": [
          "2008-06-30T00:00:00",
          "2008-07-31T00:00:00",
          "2008-08-31T00:00:00",
          "2008-09-30T00:00:00",
          "2008-10-31T00:00:00",
          "2008-11-30T00:00:00",
          "2008-12-31T00:00:00",
          "2009-01-31T00:00:00",
          "2009-02-28T00:00:00",
          "2009-03-31T00:00:00",
          "2009-04-30T00:00:00",
          "2009-05-31T00:00:00",
          "2009-06-30T00:00:00",
          "2009-07-31T00:00:00",
          "2009-08-31T00:00:00",
          "2009-09-30T00:00:00",
          "2009-10-31T00:00:00",
          "2009-11-30T00:00:00",
          "2009-12-31T00:00:00",
          "2010-01-31T00:00:00",
          "2010-02-28T00:00:00",
          "2010-03-31T00:00:00",
          "2010-04-30T00:00:00",
          "2010-05-31T00:00:00",
          "2010-06-30T00:00:00",
          "2010-07-31T00:00:00",
          "2010-08-31T00:00:00",
          "2010-09-30T00:00:00",
          "2010-10-31T00:00:00",
          "2010-11-30T00:00:00",
          "2010-12-31T00:00:00",
          "2011-01-31T00:00:00",
          "2011-02-28T00:00:00",
          "2011-03-31T00:00:00",
          "2011-04-30T00:00:00",
          "2011-05-31T00:00:00",
          "2011-06-30T00:00:00",
          "2011-07-31T00:00:00",
          "2011-08-31T00:00:00",
          "2011-09-30T00:00:00",
          "2011-10-31T00:00:00",
          "2011-11-30T00:00:00",
          "2011-12-31T00:00:00",
          "2012-01-31T00:00:00",
          "2012-02-29T00:00:00",
          "2012-03-31T00:00:00",
          "2012-04-30T00:00:00",
          "2012-05-31T00:00:00",
          "2012-06-30T00:00:00",
          "2012-07-31T00:00:00",
          "2012-08-31T00:00:00",
          "2012-09-30T00:00:00",
          "2012-10-31T00:00:00",
          "2012-11-30T00:00:00",
          "2012-12-31T00:00:00",
          "2013-01-31T00:00:00",
          "2013-02-28T00:00:00",
          "2013-03-31T00:00:00",
          "2013-04-30T00:00:00",
          "2013-05-31T00:00:00",
          "2013-06-30T00:00:00",
          "2013-07-31T00:00:00",
          "2013-08-31T00:00:00",
          "2013-09-30T00:00:00",
          "2013-10-31T00:00:00",
          "2013-11-30T00:00:00",
          "2013-12-31T00:00:00",
          "2014-01-31T00:00:00",
          "2014-02-28T00:00:00",
          "2014-03-31T00:00:00",
          "2014-04-30T00:00:00",
          "2014-05-31T00:00:00",
          "2014-06-30T00:00:00",
          "2014-07-31T00:00:00",
          "2014-08-31T00:00:00",
          "2014-09-30T00:00:00",
          "2014-10-31T00:00:00",
          "2014-11-30T00:00:00",
          "2014-12-31T00:00:00",
          "2015-01-31T00:00:00",
          "2015-02-28T00:00:00",
          "2015-03-31T00:00:00",
          "2015-04-30T00:00:00",
          "2015-05-31T00:00:00",
          "2015-06-30T00:00:00",
          "2015-07-31T00:00:00",
          "2015-08-31T00:00:00",
          "2015-09-30T00:00:00",
          "2015-10-31T00:00:00",
          "2015-11-30T00:00:00",
          "2015-12-31T00:00:00",
          "2016-01-31T00:00:00",
          "2016-02-29T00:00:00",
          "2016-03-31T00:00:00",
          "2016-04-30T00:00:00",
          "2016-05-31T00:00:00",
          "2016-06-30T00:00:00",
          "2016-07-31T00:00:00",
          "2016-08-31T00:00:00",
          "2016-09-30T00:00:00",
          "2016-10-31T00:00:00",
          "2016-11-30T00:00:00",
          "2016-12-31T00:00:00",
          "2017-01-31T00:00:00",
          "2017-02-28T00:00:00",
          "2017-03-31T00:00:00",
          "2017-04-30T00:00:00",
          "2017-05-31T00:00:00",
          "2017-06-30T00:00:00",
          "2017-07-31T00:00:00",
          "2017-08-31T00:00:00",
          "2017-09-30T00:00:00",
          "2017-10-31T00:00:00",
          "2017-11-30T00:00:00",
          "2017-12-31T00:00:00",
          "2018-01-31T00:00:00",
          "2018-02-28T00:00:00",
          "2018-03-31T00:00:00",
          "2018-04-30T00:00:00",
          "2018-05-31T00:00:00",
          "2018-06-30T00:00:00",
          "2018-07-31T00:00:00",
          "2018-08-31T00:00:00",
          "2018-09-30T00:00:00",
          "2018-10-31T00:00:00",
          "2018-11-30T00:00:00",
          "2018-12-31T00:00:00",
          "2019-01-31T00:00:00",
          "2019-02-28T00:00:00",
          "2019-03-31T00:00:00",
          "2019-04-30T00:00:00",
          "2019-05-31T00:00:00",
          "2019-06-30T00:00:00",
          "2019-07-31T00:00:00",
          "2019-08-31T00:00:00",
          "2019-09-30T00:00:00",
          "2019-10-31T00:00:00",
          "2019-11-30T00:00:00",
          "2019-12-31T00:00:00"
         ],
         "y": [
          100,
          102.42914979757086,
          105.19568151147098,
          103.87614334982757,
          90.77822762033288,
          90.59079322237217,
          90.60578797420902,
          84.07557354925777,
          77.2829509671615,
          80.56680161943319,
          84.00059979007348,
          88.28160143949619,
          88.45404108562003,
          94.33948118158645,
          95.49407707302446,
          98.65796971060131,
          100.08996851102114,
          103.77118008696957,
          103.54625880941673,
          102.48912880491827,
          105.73549257759784,
          109.7165991902834,
          108.53951117109013,
          103.50877192982458,
          100.892187734293,
          106.74763832658569,
          104.76833108412056,
          111.09611635927425,
          114.64237516869096,
          112.85050232418654,
          117.81376518218623,
          116.08187134502926,
          119.46318788424053,
          120.94766831608936,
          127.4179037336932,
          130.61178587494376,
          127.1255060728745,
          125.49857549857548,
          125.74598890388364,
          121.59994002099266,
          127.26045883940623,
          130.78422552106764,
          134.40545808966863,
          132.50112460638778,
          137.4718848403059,
          141.7303943619733,
          142.1502474134053,
          140.48582995951418,
          145.59904033588245,
          149.19778077672814,
          148.48553006447744,
          151.09461688409058,
          149.2427650322387,
          151.97930724246515,
          148.82291198080674,
          157.22747038536514,
          162.43064927275455,
          170.4303493777178,
          175.4460938671465,
          171.62992952466635,
          171.11261058629478,
          178.52751536962063,
          170.42285200179938,
          172.75453591243064,
          183.82816014394962,
          186.69215774478934,
          187.9742090268406,
          178.26510721247564,
          185.22267206477733,
          189.28624981256561,
          194.47443394811816,
          197.99070325386114,
          197.48837906732646,
          190.93567251461988,
          199.74508921877344,
          200.9221772379667,
          208.04468436047384,
          219.58314589893538,
          217.52886489728596,
          215.4221022642075,
          224.34397960713756,
          219.98800419853052,
          218.31608936872095,
          220.2129254760834,
          216.17183985605038,
          228.48253111411006,
          214.85979907032538,
          215.69200779727095,
          227.98770430349379,
          225.88843904633381,
          232.4786324786325,
          233.72319688109164,
          234.45793972109766,
          245.56905083220877,
          242.05278152646574,
          243.71719898035687,
          256.7776278302594,
          254.6783625730994,
          253.19388214125053,
          249.28025191183085,
          247.35342630079472,
          236.95456590193436,
          244.05458089668616,
          248.2081271554956,
          260.0539811066127,
          258.95936422252214,
          261.80836707152497,
          268.72844504423455,
          262.6780626780627,
          264.4924276503224,
          261.57594841805366,
          259.70910181436494,
          255.4206027890239,
          269.66561703403806,
          275.7384915279652,
          280.2519118308592,
          258.87689308741943,
          256.52271704903285,
          245.89893537261963,
          242.05278152646574,
          253.11141100614788,
          263.1279052331684,
          264.16254310991155,
          266.7716299295247,
          272.1097615834458,
          278.2950967161494,
          253.4862798020693,
          266.51671914829814,
          271.2550607287449,
          281.62393162393164,
          289.6536212325686,
          279.1198080671765,
          293.68720947668317,
          300.56230319388214,
          307.08502024291494,
          312.46813615234663,
          311.1411006147848,
          315.4146048882891,
          323.0244414454941
         ]
        },
        {
         "hoverinfo": "x+y+name",
         "line": {
          "color": "#9467bd"
         },
         "mode": "lines",
         "name": "Utilities",
         "type": "scatter",
         "x": [
          "2008-06-30T00:00:00",
          "2008-07-31T00:00:00",
          "2008-08-31T00:00:00",
          "2008-09-30T00:00:00",
          "2008-10-31T00:00:00",
          "2008-11-30T00:00:00",
          "2008-12-31T00:00:00",
          "2009-01-31T00:00:00",
          "2009-02-28T00:00:00",
          "2009-03-31T00:00:00",
          "2009-04-30T00:00:00",
          "2009-05-31T00:00:00",
          "2009-06-30T00:00:00",
          "2009-07-31T00:00:00",
          "2009-08-31T00:00:00",
          "2009-09-30T00:00:00",
          "2009-10-31T00:00:00",
          "2009-11-30T00:00:00",
          "2009-12-31T00:00:00",
          "2010-01-31T00:00:00",
          "2010-02-28T00:00:00",
          "2010-03-31T00:00:00",
          "2010-04-30T00:00:00",
          "2010-05-31T00:00:00",
          "2010-06-30T00:00:00",
          "2010-07-31T00:00:00",
          "2010-08-31T00:00:00",
          "2010-09-30T00:00:00",
          "2010-10-31T00:00:00",
          "2010-11-30T00:00:00",
          "2010-12-31T00:00:00",
          "2011-01-31T00:00:00",
          "2011-02-28T00:00:00",
          "2011-03-31T00:00:00",
          "2011-04-30T00:00:00",
          "2011-05-31T00:00:00",
          "2011-06-30T00:00:00",
          "2011-07-31T00:00:00",
          "2011-08-31T00:00:00",
          "2011-09-30T00:00:00",
          "2011-10-31T00:00:00",
          "2011-11-30T00:00:00",
          "2011-12-31T00:00:00",
          "2012-01-31T00:00:00",
          "2012-02-29T00:00:00",
          "2012-03-31T00:00:00",
          "2012-04-30T00:00:00",
          "2012-05-31T00:00:00",
          "2012-06-30T00:00:00",
          "2012-07-31T00:00:00",
          "2012-08-31T00:00:00",
          "2012-09-30T00:00:00",
          "2012-10-31T00:00:00",
          "2012-11-30T00:00:00",
          "2012-12-31T00:00:00",
          "2013-01-31T00:00:00",
          "2013-02-28T00:00:00",
          "2013-03-31T00:00:00",
          "2013-04-30T00:00:00",
          "2013-05-31T00:00:00",
          "2013-06-30T00:00:00",
          "2013-07-31T00:00:00",
          "2013-08-31T00:00:00",
          "2013-09-30T00:00:00",
          "2013-10-31T00:00:00",
          "2013-11-30T00:00:00",
          "2013-12-31T00:00:00",
          "2014-01-31T00:00:00",
          "2014-02-28T00:00:00",
          "2014-03-31T00:00:00",
          "2014-04-30T00:00:00",
          "2014-05-31T00:00:00",
          "2014-06-30T00:00:00",
          "2014-07-31T00:00:00",
          "2014-08-31T00:00:00",
          "2014-09-30T00:00:00",
          "2014-10-31T00:00:00",
          "2014-11-30T00:00:00",
          "2014-12-31T00:00:00",
          "2015-01-31T00:00:00",
          "2015-02-28T00:00:00",
          "2015-03-31T00:00:00",
          "2015-04-30T00:00:00",
          "2015-05-31T00:00:00",
          "2015-06-30T00:00:00",
          "2015-07-31T00:00:00",
          "2015-08-31T00:00:00",
          "2015-09-30T00:00:00",
          "2015-10-31T00:00:00",
          "2015-11-30T00:00:00",
          "2015-12-31T00:00:00",
          "2016-01-31T00:00:00",
          "2016-02-29T00:00:00",
          "2016-03-31T00:00:00",
          "2016-04-30T00:00:00",
          "2016-05-31T00:00:00",
          "2016-06-30T00:00:00",
          "2016-07-31T00:00:00",
          "2016-08-31T00:00:00",
          "2016-09-30T00:00:00",
          "2016-10-31T00:00:00",
          "2016-11-30T00:00:00",
          "2016-12-31T00:00:00",
          "2017-01-31T00:00:00",
          "2017-02-28T00:00:00",
          "2017-03-31T00:00:00",
          "2017-04-30T00:00:00",
          "2017-05-31T00:00:00",
          "2017-06-30T00:00:00",
          "2017-07-31T00:00:00",
          "2017-08-31T00:00:00",
          "2017-09-30T00:00:00",
          "2017-10-31T00:00:00",
          "2017-11-30T00:00:00",
          "2017-12-31T00:00:00",
          "2018-01-31T00:00:00",
          "2018-02-28T00:00:00",
          "2018-03-31T00:00:00",
          "2018-04-30T00:00:00",
          "2018-05-31T00:00:00",
          "2018-06-30T00:00:00",
          "2018-07-31T00:00:00",
          "2018-08-31T00:00:00",
          "2018-09-30T00:00:00",
          "2018-10-31T00:00:00",
          "2018-11-30T00:00:00",
          "2018-12-31T00:00:00",
          "2019-01-31T00:00:00",
          "2019-02-28T00:00:00",
          "2019-03-31T00:00:00",
          "2019-04-30T00:00:00",
          "2019-05-31T00:00:00",
          "2019-06-30T00:00:00",
          "2019-07-31T00:00:00",
          "2019-08-31T00:00:00",
          "2019-09-30T00:00:00",
          "2019-10-31T00:00:00",
          "2019-11-30T00:00:00",
          "2019-12-31T00:00:00"
         ],
         "y": [
          100,
          93.56087620988282,
          92.53183902190524,
          82.36882322975038,
          71.66072338257767,
          74.66123280692817,
          72.86805909322464,
          72.74070300560366,
          63.62710137544575,
          64.83953132959755,
          65.60366785532348,
          67.93683138054,
          71.58430973000509,
          74.2791645440652,
          75.02292409577178,
          76.0570555272542,
          73.6220071319409,
          77.17269485481407,
          81.39582272032602,
          77.48853795211411,
          76.46459500764135,
          78.52266938359652,
          80.58583800305654,
          76.13856342333165,
          75.60366785532348,
          81.24808965868569,
          82.42485990830362,
          84.8089658685685,
          85.73102394294446,
          83.1329597554763,
          85.71574121242995,
          86.75496688741721,
          87.82475802343352,
          88.02852776362711,
          91.58940397350992,
          93.55068772287314,
          93.41314314824248,
          92.5522159959246,
          94.55934793683137,
          94.76311767702497,
          98.23229750382069,
          99.24605196128374,
          102.55221599592458,
          98.84870096790625,
          99.44472745797249,
          100.79470198675497,
          102.5776872134488,
          103.15333672949566,
          107.39684156902698,
          110.09679062659194,
          105.53744268976055,
          106.77024961793174,
          108.26795720835456,
          103.63219561895059,
          103.61691288843606,
          108.54304635761589,
          111.06469689251146,
          117.0249617931737,
          123.99898115129902,
          112.77636271013753,
          113.78502292409578,
          118.71115639327559,
          112.78655119714722,
          114.08048904737646,
          118.38512480896586,
          116.0978094752929,
          117.1523178807947,
          120.64187468160976,
          124.80387162506368,
          128.98624554253692,
          134.43199184921036,
          132.9699439633214,
          138.87417218543047,
          129.42944472745796,
          135.8023433520122,
          133.25522159959243,
          143.9582272032603,
          145.6342333163525,
          150.83036169128883,
          154.34538970962814,
          144.4727457972491,
          143.03616912888435,
          142.36372898624552,
          143.26031584309732,
          134.69179826795718,
          142.90881304126336,
          137.93683138053999,
          141.96128374936322,
          143.4691798267957,
          140.42282221090164,
          143.39786041772797,
          150.4890473764646,
          153.4029546612328,
          165.63932755985732,
          161.6352521650535,
          164.07030056036677,
          176.5868568517575,
          175.41008660213956,
          165.6800815078961,
          166.28120224146713,
          167.7738155883851,
          158.67549668874173,
          166.44931227712684,
          168.5430463576159,
          177.41721854304632,
          177.1777890983189,
          178.52266938359654,
          185.91441670911868,
          180.8762098828324,
          185.26235354049922,
          191.3550687722873,
          186.07743250127353,
          193.3418237391747,
          198.53285787060622,
          186.50534895568006,
          180.697911360163,
          173.68823229750382,
          180.28018339276613,
          183.95822720326032,
          181.92562404482933,
          187.04533876719307,
          190.030565461029,
          192.48089658685683,
          191.23280692817116,
          195.00764136525726,
          201.91034131431485,
          193.8461538461538,
          200.58583800305652,
          208.82322975038207,
          214.65613856342333,
          216.64798777381557,
          214.95160468670403,
          221.7982679572083,
          221.50280183392766,
          232.77126846663268,
          242.66938359653588,
          240.83036169128883,
          236.3321446765155,
          244.1110545084055
         ]
        },
        {
         "hoverinfo": "x+y+name",
         "line": {
          "color": "#c5b0d5"
         },
         "mode": "lines",
         "name": "Health Care",
         "type": "scatter",
         "x": [
          "2008-06-30T00:00:00",
          "2008-07-31T00:00:00",
          "2008-08-31T00:00:00",
          "2008-09-30T00:00:00",
          "2008-10-31T00:00:00",
          "2008-11-30T00:00:00",
          "2008-12-31T00:00:00",
          "2009-01-31T00:00:00",
          "2009-02-28T00:00:00",
          "2009-03-31T00:00:00",
          "2009-04-30T00:00:00",
          "2009-05-31T00:00:00",
          "2009-06-30T00:00:00",
          "2009-07-31T00:00:00",
          "2009-08-31T00:00:00",
          "2009-09-30T00:00:00",
          "2009-10-31T00:00:00",
          "2009-11-30T00:00:00",
          "2009-12-31T00:00:00",
          "2010-01-31T00:00:00",
          "2010-02-28T00:00:00",
          "2010-03-31T00:00:00",
          "2010-04-30T00:00:00",
          "2010-05-31T00:00:00",
          "2010-06-30T00:00:00",
          "2010-07-31T00:00:00",
          "2010-08-31T00:00:00",
          "2010-09-30T00:00:00",
          "2010-10-31T00:00:00",
          "2010-11-30T00:00:00",
          "2010-12-31T00:00:00",
          "2011-01-31T00:00:00",
          "2011-02-28T00:00:00",
          "2011-03-31T00:00:00",
          "2011-04-30T00:00:00",
          "2011-05-31T00:00:00",
          "2011-06-30T00:00:00",
          "2011-07-31T00:00:00",
          "2011-08-31T00:00:00",
          "2011-09-30T00:00:00",
          "2011-10-31T00:00:00",
          "2011-11-30T00:00:00",
          "2011-12-31T00:00:00",
          "2012-01-31T00:00:00",
          "2012-02-29T00:00:00",
          "2012-03-31T00:00:00",
          "2012-04-30T00:00:00",
          "2012-05-31T00:00:00",
          "2012-06-30T00:00:00",
          "2012-07-31T00:00:00",
          "2012-08-31T00:00:00",
          "2012-09-30T00:00:00",
          "2012-10-31T00:00:00",
          "2012-11-30T00:00:00",
          "2012-12-31T00:00:00",
          "2013-01-31T00:00:00",
          "2013-02-28T00:00:00",
          "2013-03-31T00:00:00",
          "2013-04-30T00:00:00",
          "2013-05-31T00:00:00",
          "2013-06-30T00:00:00",
          "2013-07-31T00:00:00",
          "2013-08-31T00:00:00",
          "2013-09-30T00:00:00",
          "2013-10-31T00:00:00",
          "2013-11-30T00:00:00",
          "2013-12-31T00:00:00",
          "2014-01-31T00:00:00",
          "2014-02-28T00:00:00",
          "2014-03-31T00:00:00",
          "2014-04-30T00:00:00",
          "2014-05-31T00:00:00",
          "2014-06-30T00:00:00",
          "2014-07-31T00:00:00",
          "2014-08-31T00:00:00",
          "2014-09-30T00:00:00",
          "2014-10-31T00:00:00",
          "2014-11-30T00:00:00",
          "2014-12-31T00:00:00",
          "2015-01-31T00:00:00",
          "2015-02-28T00:00:00",
          "2015-03-31T00:00:00",
          "2015-04-30T00:00:00",
          "2015-05-31T00:00:00",
          "2015-06-30T00:00:00",
          "2015-07-31T00:00:00",
          "2015-08-31T00:00:00",
          "2015-09-30T00:00:00",
          "2015-10-31T00:00:00",
          "2015-11-30T00:00:00",
          "2015-12-31T00:00:00",
          "2016-01-31T00:00:00",
          "2016-02-29T00:00:00",
          "2016-03-31T00:00:00",
          "2016-04-30T00:00:00",
          "2016-05-31T00:00:00",
          "2016-06-30T00:00:00",
          "2016-07-31T00:00:00",
          "2016-08-31T00:00:00",
          "2016-09-30T00:00:00",
          "2016-10-31T00:00:00",
          "2016-11-30T00:00:00",
          "2016-12-31T00:00:00",
          "2017-01-31T00:00:00",
          "2017-02-28T00:00:00",
          "2017-03-31T00:00:00",
          "2017-04-30T00:00:00",
          "2017-05-31T00:00:00",
          "2017-06-30T00:00:00",
          "2017-07-31T00:00:00",
          "2017-08-31T00:00:00",
          "2017-09-30T00:00:00",
          "2017-10-31T00:00:00",
          "2017-11-30T00:00:00",
          "2017-12-31T00:00:00",
          "2018-01-31T00:00:00",
          "2018-02-28T00:00:00",
          "2018-03-31T00:00:00",
          "2018-04-30T00:00:00",
          "2018-05-31T00:00:00",
          "2018-06-30T00:00:00",
          "2018-07-31T00:00:00",
          "2018-08-31T00:00:00",
          "2018-09-30T00:00:00",
          "2018-10-31T00:00:00",
          "2018-11-30T00:00:00",
          "2018-12-31T00:00:00",
          "2019-01-31T00:00:00",
          "2019-02-28T00:00:00",
          "2019-03-31T00:00:00",
          "2019-04-30T00:00:00",
          "2019-05-31T00:00:00",
          "2019-06-30T00:00:00",
          "2019-07-31T00:00:00",
          "2019-08-31T00:00:00",
          "2019-09-30T00:00:00",
          "2019-10-31T00:00:00",
          "2019-11-30T00:00:00",
          "2019-12-31T00:00:00"
         ],
         "y": [
          100,
          104.47316103379723,
          106.6329296945599,
          98.70775347912526,
          87.37574552683897,
          81.86336526296766,
          87.74624977408277,
          86.68895716609435,
          75.94433399602386,
          80.50786191939274,
          80.4084583408639,
          85.89372853786372,
          87.92698355322611,
          93.14115308151094,
          95.65335261160311,
          96.2407373938189,
          94.22555575637087,
          102.99114404482197,
          104.87077534791251,
          105.58467377552864,
          105.98228808964396,
          108.81077173323695,
          104.58160130128323,
          97.77697451653715,
          95.98771010301826,
          97.25284655702151,
          95.65335261160311,
          104.31953732152539,
          106.64196638351709,
          103.5694921380806,
          108.33182721850714,
          108.9553587565516,
          112.35315380444607,
          114.38640881980842,
          121.75131031989879,
          124.75149105367795,
          123.3508042653172,
          118.45291885053317,
          115.95879269835532,
          110.75365985902765,
          117.14259895174408,
          118.25411169347552,
          121.76034700885596,
          125.65515994939456,
          126.99258991505513,
          132.6766672691126,
          132.32423639978313,
          127.52575456352793,
          134.8093258630038,
          136.15579251762153,
          137.75528646303994,
          143.00560274715343,
          142.68028194469545,
          143.43032712814025,
          142.9152358575818,
          153.77733598409543,
          155.71118742092898,
          165.3804446050967,
          170.35062353153805,
          173.15199710825954,
          172.13085125609976,
          184.45689499367433,
          177.9504789445147,
          183.66166636544372,
          191.56876920296403,
          200.6144948490873,
          202.09651183806253,
          203.99421651906744,
          216.67269112597145,
          213.95264774986447,
          212.59714440628952,
          218.70594614133384,
          223.34176757636004,
          223.6399783119465,
          234.4749683715887,
          235.48707753479127,
          247.86734140610884,
          256.49737936020244,
          252.8917404662932,
          256.1901319356588,
          267.1697090186156,
          268.87764323152,
          265.9497560093982,
          277.93240556660044,
          276.83896620278335,
          285.02620639797584,
          262.3260437375746,
          247.37032351346468,
          266.4558105909995,
          265.59732514006873,
          270.16988975239474,
          249.3132116392554,
          248.41857943249593,
          255.14187601662746,
          262.70558467377555,
          268.5794324959335,
          271.01933851436837,
          284.2129043918308,
          274.98644496656425,
          273.5857581782035,
          255.56660039761434,
          260.84402674859933,
          262.70558467377555,
          268.7330562082053,
          285.7672148924634,
          284.39363817097416,
          288.7493222483282,
          290.9723477317911,
          304.2562804988252,
          306.75040665100306,
          312.1272365805169,
          314.9737936020242,
          312.5790710283752,
          321.6790168082415,
          319.9078257726369,
          340.88198084221943,
          325.5557563708657,
          316.0581962768842,
          319.4017711910356,
          319.98011928429423,
          325.25754563527926,
          346.5750948852341,
          361.58503524308696,
          372.2664015904573,
          347.02692933309237,
          375.0858485450931,
          339.99638532441713,
          356.3437556479306,
          360.20242183264054,
          361.9374661124164,
          352.1145852159769,
          344.2978492680282,
          367.0070486173866,
          361.06090728357134,
          358.91921200072295,
          358.539671064522,
          376.92029640339786,
          395.7798662570035,
          409.5337068498102
         ]
        },
        {
         "hoverinfo": "x+y+name",
         "line": {
          "color": "#8c564b"
         },
         "mode": "lines",
         "name": "Consumer Discretionary",
         "type": "scatter",
         "x": [
          "2008-06-30T00:00:00",
          "2008-07-31T00:00:00",
          "2008-08-31T00:00:00",
          "2008-09-30T00:00:00",
          "2008-10-31T00:00:00",
          "2008-11-30T00:00:00",
          "2008-12-31T00:00:00",
          "2009-01-31T00:00:00",
          "2009-02-28T00:00:00",
          "2009-03-31T00:00:00",
          "2009-04-30T00:00:00",
          "2009-05-31T00:00:00",
          "2009-06-30T00:00:00",
          "2009-07-31T00:00:00",
          "2009-08-31T00:00:00",
          "2009-09-30T00:00:00",
          "2009-10-31T00:00:00",
          "2009-11-30T00:00:00",
          "2009-12-31T00:00:00",
          "2010-01-31T00:00:00",
          "2010-02-28T00:00:00",
          "2010-03-31T00:00:00",
          "2010-04-30T00:00:00",
          "2010-05-31T00:00:00",
          "2010-06-30T00:00:00",
          "2010-07-31T00:00:00",
          "2010-08-31T00:00:00",
          "2010-09-30T00:00:00",
          "2010-10-31T00:00:00",
          "2010-11-30T00:00:00",
          "2010-12-31T00:00:00",
          "2011-01-31T00:00:00",
          "2011-02-28T00:00:00",
          "2011-03-31T00:00:00",
          "2011-04-30T00:00:00",
          "2011-05-31T00:00:00",
          "2011-06-30T00:00:00",
          "2011-07-31T00:00:00",
          "2011-08-31T00:00:00",
          "2011-09-30T00:00:00",
          "2011-10-31T00:00:00",
          "2011-11-30T00:00:00",
          "2011-12-31T00:00:00",
          "2012-01-31T00:00:00",
          "2012-02-29T00:00:00",
          "2012-03-31T00:00:00",
          "2012-04-30T00:00:00",
          "2012-05-31T00:00:00",
          "2012-06-30T00:00:00",
          "2012-07-31T00:00:00",
          "2012-08-31T00:00:00",
          "2012-09-30T00:00:00",
          "2012-10-31T00:00:00",
          "2012-11-30T00:00:00",
          "2012-12-31T00:00:00",
          "2013-01-31T00:00:00",
          "2013-02-28T00:00:00",
          "2013-03-31T00:00:00",
          "2013-04-30T00:00:00",
          "2013-05-31T00:00:00",
          "2013-06-30T00:00:00",
          "2013-07-31T00:00:00",
          "2013-08-31T00:00:00",
          "2013-09-30T00:00:00",
          "2013-10-31T00:00:00",
          "2013-11-30T00:00:00",
          "2013-12-31T00:00:00",
          "2014-01-31T00:00:00",
          "2014-02-28T00:00:00",
          "2014-03-31T00:00:00",
          "2014-04-30T00:00:00",
          "2014-05-31T00:00:00",
          "2014-06-30T00:00:00",
          "2014-07-31T00:00:00",
          "2014-08-31T00:00:00",
          "2014-09-30T00:00:00",
          "2014-10-31T00:00:00",
          "2014-11-30T00:00:00",
          "2014-12-31T00:00:00",
          "2015-01-31T00:00:00",
          "2015-02-28T00:00:00",
          "2015-03-31T00:00:00",
          "2015-04-30T00:00:00",
          "2015-05-31T00:00:00",
          "2015-06-30T00:00:00",
          "2015-07-31T00:00:00",
          "2015-08-31T00:00:00",
          "2015-09-30T00:00:00",
          "2015-10-31T00:00:00",
          "2015-11-30T00:00:00",
          "2015-12-31T00:00:00",
          "2016-01-31T00:00:00",
          "2016-02-29T00:00:00",
          "2016-03-31T00:00:00",
          "2016-04-30T00:00:00",
          "2016-05-31T00:00:00",
          "2016-06-30T00:00:00",
          "2016-07-31T00:00:00",
          "2016-08-31T00:00:00",
          "2016-09-30T00:00:00",
          "2016-10-31T00:00:00",
          "2016-11-30T00:00:00",
          "2016-12-31T00:00:00",
          "2017-01-31T00:00:00",
          "2017-02-28T00:00:00",
          "2017-03-31T00:00:00",
          "2017-04-30T00:00:00",
          "2017-05-31T00:00:00",
          "2017-06-30T00:00:00",
          "2017-07-31T00:00:00",
          "2017-08-31T00:00:00",
          "2017-09-30T00:00:00",
          "2017-10-31T00:00:00",
          "2017-11-30T00:00:00",
          "2017-12-31T00:00:00",
          "2018-01-31T00:00:00",
          "2018-02-28T00:00:00",
          "2018-03-31T00:00:00",
          "2018-04-30T00:00:00",
          "2018-05-31T00:00:00",
          "2018-06-30T00:00:00",
          "2018-07-31T00:00:00",
          "2018-08-31T00:00:00",
          "2018-09-30T00:00:00",
          "2018-10-31T00:00:00",
          "2018-11-30T00:00:00",
          "2018-12-31T00:00:00",
          "2019-01-31T00:00:00",
          "2019-02-28T00:00:00",
          "2019-03-31T00:00:00",
          "2019-04-30T00:00:00",
          "2019-05-31T00:00:00",
          "2019-06-30T00:00:00",
          "2019-07-31T00:00:00",
          "2019-08-31T00:00:00",
          "2019-09-30T00:00:00",
          "2019-10-31T00:00:00",
          "2019-11-30T00:00:00",
          "2019-12-31T00:00:00"
         ],
         "y": [
          100,
          100.17749378771741,
          107.0908768193113,
          98.30493432729853,
          80.9726659566915,
          72.1955981540646,
          76.57969471068513,
          68.45047923322683,
          62.23819666311678,
          70.13667021654241,
          83.12921547745829,
          82.52573659921902,
          82.73872914447993,
          90.58395456159033,
          93.77884274050407,
          98.79304224352147,
          96.45899893503727,
          102.9286474973376,
          107.6499822506212,
          104.54384096556619,
          110.3656372026979,
          118.97408590699325,
          126.1537096201633,
          117.27902023429179,
          105.87504437344693,
          114.27050053248135,
          109.72665956691515,
          121.82286119985801,
          128.56762513312034,
          131.8157614483493,
          137.21157259495916,
          136.3684771033014,
          144.5509407170749,
          143.70784522541712,
          149.22790202342918,
          148.8196663116791,
          148.50017749378773,
          146.43237486687966,
          138.74689385871494,
          129.17997870074547,
          144.59531416400426,
          143.55697550585728,
          145.43840965566204,
          154.0113596024139,
          160.97799077032303,
          168.5835995740149,
          170.52715654952075,
          161.1377351792687,
          164.2616258430955,
          163.35640752573659,
          170.89989350372736,
          176.16258430954917,
          173.45580404685833,
          178.94923677671278,
          179.7568335108271,
          189.95385161519346,
          192.98012069577564,
          201.4288249911253,
          207.54348597799077,
          213.28541001064966,
          215.03372381966633,
          226.35782747603832,
          219.91480298189563,
          231.8423855165069,
          242.474263400781,
          250.85197018104367,
          256.57614483493074,
          241.17855875044373,
          256.6116435924742,
          249.25452609158677,
          245.86439474618388,
          252.95527156549517,
          257.8541001064963,
          254.5704650337238,
          265.89456869009587,
          258.5285764998225,
          263.9953851615194,
          278.37238196663117,
          280.84842030528927,
          272.444089456869,
          295.72239971600993,
          294.2935747248846,
          294.1338303159389,
          298.0031948881789,
          299.65388711395093,
          314.3059992900249,
          293.77884274050405,
          292.057152999645,
          318.441604543841,
          317.6961306354277,
          308.6616968406106,
          292.6695065672701,
          293.97408590699325,
          313.6670216542421,
          314.0575079872204,
          314.2172523961661,
          310.6407525736599,
          324.8047568335108,
          320.58927937522185,
          319.7284345047923,
          311.9808306709265,
          326.9613063542776,
          327.08555200567974,
          340.8679446219382,
          347.06247781327653,
          354.4639687610934,
          362.96592119275823,
          366.9595314164004,
          362.3358182463613,
          369.3290734824281,
          362.4600638977636,
          365.4419595314164,
          373.19843805466803,
          392.1015264465743,
          401.7394391196308,
          438.86226482073124,
          423.6421725239617,
          413.53390131345407,
          423.3759318423855,
          431.7891373801917,
          447.40859069932554,
          455.4756833510827,
          478.72736954206596,
          481.2655307064252,
          432.6499822506212,
          443.3706070287539,
          408.09371671991477,
          448.3670571529997,
          454.25985090521834,
          470.8643947461839,
          496.58324458643943,
          458.8303159389421,
          494.6929357472488,
          500.9939652112176,
          496.2637557685481,
          502.5736599219027,
          503.2037628682995,
          509.85977990770317,
          523.9527866524671
         ]
        }
       ],
       "layout": {
        "height": 600,
        "hovermode": "closest",
        "legend": {
         "title": {
          "text": "Sectors"
         }
        },
        "template": {
         "data": {
          "bar": [
           {
            "error_x": {
             "color": "#2a3f5f"
            },
            "error_y": {
             "color": "#2a3f5f"
            },
            "marker": {
             "line": {
              "color": "white",
              "width": 0.5
             },
             "pattern": {
              "fillmode": "overlay",
              "size": 10,
              "solidity": 0.2
             }
            },
            "type": "bar"
           }
          ],
          "barpolar": [
           {
            "marker": {
             "line": {
              "color": "white",
              "width": 0.5
             },
             "pattern": {
              "fillmode": "overlay",
              "size": 10,
              "solidity": 0.2
             }
            },
            "type": "barpolar"
           }
          ],
          "carpet": [
           {
            "aaxis": {
             "endlinecolor": "#2a3f5f",
             "gridcolor": "#C8D4E3",
             "linecolor": "#C8D4E3",
             "minorgridcolor": "#C8D4E3",
             "startlinecolor": "#2a3f5f"
            },
            "baxis": {
             "endlinecolor": "#2a3f5f",
             "gridcolor": "#C8D4E3",
             "linecolor": "#C8D4E3",
             "minorgridcolor": "#C8D4E3",
             "startlinecolor": "#2a3f5f"
            },
            "type": "carpet"
           }
          ],
          "choropleth": [
           {
            "colorbar": {
             "outlinewidth": 0,
             "ticks": ""
            },
            "type": "choropleth"
           }
          ],
          "contour": [
           {
            "colorbar": {
             "outlinewidth": 0,
             "ticks": ""
            },
            "colorscale": [
             [
              0,
              "#0d0887"
             ],
             [
              0.1111111111111111,
              "#46039f"
             ],
             [
              0.2222222222222222,
              "#7201a8"
             ],
             [
              0.3333333333333333,
              "#9c179e"
             ],
             [
              0.4444444444444444,
              "#bd3786"
             ],
             [
              0.5555555555555556,
              "#d8576b"
             ],
             [
              0.6666666666666666,
              "#ed7953"
             ],
             [
              0.7777777777777778,
              "#fb9f3a"
             ],
             [
              0.8888888888888888,
              "#fdca26"
             ],
             [
              1,
              "#f0f921"
             ]
            ],
            "type": "contour"
           }
          ],
          "contourcarpet": [
           {
            "colorbar": {
             "outlinewidth": 0,
             "ticks": ""
            },
            "type": "contourcarpet"
           }
          ],
          "heatmap": [
           {
            "colorbar": {
             "outlinewidth": 0,
             "ticks": ""
            },
            "colorscale": [
             [
              0,
              "#0d0887"
             ],
             [
              0.1111111111111111,
              "#46039f"
             ],
             [
              0.2222222222222222,
              "#7201a8"
             ],
             [
              0.3333333333333333,
              "#9c179e"
             ],
             [
              0.4444444444444444,
              "#bd3786"
             ],
             [
              0.5555555555555556,
              "#d8576b"
             ],
             [
              0.6666666666666666,
              "#ed7953"
             ],
             [
              0.7777777777777778,
              "#fb9f3a"
             ],
             [
              0.8888888888888888,
              "#fdca26"
             ],
             [
              1,
              "#f0f921"
             ]
            ],
            "type": "heatmap"
           }
          ],
          "heatmapgl": [
           {
            "colorbar": {
             "outlinewidth": 0,
             "ticks": ""
            },
            "colorscale": [
             [
              0,
              "#0d0887"
             ],
             [
              0.1111111111111111,
              "#46039f"
             ],
             [
              0.2222222222222222,
              "#7201a8"
             ],
             [
              0.3333333333333333,
              "#9c179e"
             ],
             [
              0.4444444444444444,
              "#bd3786"
             ],
             [
              0.5555555555555556,
              "#d8576b"
             ],
             [
              0.6666666666666666,
              "#ed7953"
             ],
             [
              0.7777777777777778,
              "#fb9f3a"
             ],
             [
              0.8888888888888888,
              "#fdca26"
             ],
             [
              1,
              "#f0f921"
             ]
            ],
            "type": "heatmapgl"
           }
          ],
          "histogram": [
           {
            "marker": {
             "pattern": {
              "fillmode": "overlay",
              "size": 10,
              "solidity": 0.2
             }
            },
            "type": "histogram"
           }
          ],
          "histogram2d": [
           {
            "colorbar": {
             "outlinewidth": 0,
             "ticks": ""
            },
            "colorscale": [
             [
              0,
              "#0d0887"
             ],
             [
              0.1111111111111111,
              "#46039f"
             ],
             [
              0.2222222222222222,
              "#7201a8"
             ],
             [
              0.3333333333333333,
              "#9c179e"
             ],
             [
              0.4444444444444444,
              "#bd3786"
             ],
             [
              0.5555555555555556,
              "#d8576b"
             ],
             [
              0.6666666666666666,
              "#ed7953"
             ],
             [
              0.7777777777777778,
              "#fb9f3a"
             ],
             [
              0.8888888888888888,
              "#fdca26"
             ],
             [
              1,
              "#f0f921"
             ]
            ],
            "type": "histogram2d"
           }
          ],
          "histogram2dcontour": [
           {
            "colorbar": {
             "outlinewidth": 0,
             "ticks": ""
            },
            "colorscale": [
             [
              0,
              "#0d0887"
             ],
             [
              0.1111111111111111,
              "#46039f"
             ],
             [
              0.2222222222222222,
              "#7201a8"
             ],
             [
              0.3333333333333333,
              "#9c179e"
             ],
             [
              0.4444444444444444,
              "#bd3786"
             ],
             [
              0.5555555555555556,
              "#d8576b"
             ],
             [
              0.6666666666666666,
              "#ed7953"
             ],
             [
              0.7777777777777778,
              "#fb9f3a"
             ],
             [
              0.8888888888888888,
              "#fdca26"
             ],
             [
              1,
              "#f0f921"
             ]
            ],
            "type": "histogram2dcontour"
           }
          ],
          "mesh3d": [
           {
            "colorbar": {
             "outlinewidth": 0,
             "ticks": ""
            },
            "type": "mesh3d"
           }
          ],
          "parcoords": [
           {
            "line": {
             "colorbar": {
              "outlinewidth": 0,
              "ticks": ""
             }
            },
            "type": "parcoords"
           }
          ],
          "pie": [
           {
            "automargin": true,
            "type": "pie"
           }
          ],
          "scatter": [
           {
            "fillpattern": {
             "fillmode": "overlay",
             "size": 10,
             "solidity": 0.2
            },
            "type": "scatter"
           }
          ],
          "scatter3d": [
           {
            "line": {
             "colorbar": {
              "outlinewidth": 0,
              "ticks": ""
             }
            },
            "marker": {
             "colorbar": {
              "outlinewidth": 0,
              "ticks": ""
             }
            },
            "type": "scatter3d"
           }
          ],
          "scattercarpet": [
           {
            "marker": {
             "colorbar": {
              "outlinewidth": 0,
              "ticks": ""
             }
            },
            "type": "scattercarpet"
           }
          ],
          "scattergeo": [
           {
            "marker": {
             "colorbar": {
              "outlinewidth": 0,
              "ticks": ""
             }
            },
            "type": "scattergeo"
           }
          ],
          "scattergl": [
           {
            "marker": {
             "colorbar": {
              "outlinewidth": 0,
              "ticks": ""
             }
            },
            "type": "scattergl"
           }
          ],
          "scattermapbox": [
           {
            "marker": {
             "colorbar": {
              "outlinewidth": 0,
              "ticks": ""
             }
            },
            "type": "scattermapbox"
           }
          ],
          "scatterpolar": [
           {
            "marker": {
             "colorbar": {
              "outlinewidth": 0,
              "ticks": ""
             }
            },
            "type": "scatterpolar"
           }
          ],
          "scatterpolargl": [
           {
            "marker": {
             "colorbar": {
              "outlinewidth": 0,
              "ticks": ""
             }
            },
            "type": "scatterpolargl"
           }
          ],
          "scatterternary": [
           {
            "marker": {
             "colorbar": {
              "outlinewidth": 0,
              "ticks": ""
             }
            },
            "type": "scatterternary"
           }
          ],
          "surface": [
           {
            "colorbar": {
             "outlinewidth": 0,
             "ticks": ""
            },
            "colorscale": [
             [
              0,
              "#0d0887"
             ],
             [
              0.1111111111111111,
              "#46039f"
             ],
             [
              0.2222222222222222,
              "#7201a8"
             ],
             [
              0.3333333333333333,
              "#9c179e"
             ],
             [
              0.4444444444444444,
              "#bd3786"
             ],
             [
              0.5555555555555556,
              "#d8576b"
             ],
             [
              0.6666666666666666,
              "#ed7953"
             ],
             [
              0.7777777777777778,
              "#fb9f3a"
             ],
             [
              0.8888888888888888,
              "#fdca26"
             ],
             [
              1,
              "#f0f921"
             ]
            ],
            "type": "surface"
           }
          ],
          "table": [
           {
            "cells": {
             "fill": {
              "color": "#EBF0F8"
             },
             "line": {
              "color": "white"
             }
            },
            "header": {
             "fill": {
              "color": "#C8D4E3"
             },
             "line": {
              "color": "white"
             }
            },
            "type": "table"
           }
          ]
         },
         "layout": {
          "annotationdefaults": {
           "arrowcolor": "#2a3f5f",
           "arrowhead": 0,
           "arrowwidth": 1
          },
          "autotypenumbers": "strict",
          "coloraxis": {
           "colorbar": {
            "outlinewidth": 0,
            "ticks": ""
           }
          },
          "colorscale": {
           "diverging": [
            [
             0,
             "#8e0152"
            ],
            [
             0.1,
             "#c51b7d"
            ],
            [
             0.2,
             "#de77ae"
            ],
            [
             0.3,
             "#f1b6da"
            ],
            [
             0.4,
             "#fde0ef"
            ],
            [
             0.5,
             "#f7f7f7"
            ],
            [
             0.6,
             "#e6f5d0"
            ],
            [
             0.7,
             "#b8e186"
            ],
            [
             0.8,
             "#7fbc41"
            ],
            [
             0.9,
             "#4d9221"
            ],
            [
             1,
             "#276419"
            ]
           ],
           "sequential": [
            [
             0,
             "#0d0887"
            ],
            [
             0.1111111111111111,
             "#46039f"
            ],
            [
             0.2222222222222222,
             "#7201a8"
            ],
            [
             0.3333333333333333,
             "#9c179e"
            ],
            [
             0.4444444444444444,
             "#bd3786"
            ],
            [
             0.5555555555555556,
             "#d8576b"
            ],
            [
             0.6666666666666666,
             "#ed7953"
            ],
            [
             0.7777777777777778,
             "#fb9f3a"
            ],
            [
             0.8888888888888888,
             "#fdca26"
            ],
            [
             1,
             "#f0f921"
            ]
           ],
           "sequentialminus": [
            [
             0,
             "#0d0887"
            ],
            [
             0.1111111111111111,
             "#46039f"
            ],
            [
             0.2222222222222222,
             "#7201a8"
            ],
            [
             0.3333333333333333,
             "#9c179e"
            ],
            [
             0.4444444444444444,
             "#bd3786"
            ],
            [
             0.5555555555555556,
             "#d8576b"
            ],
            [
             0.6666666666666666,
             "#ed7953"
            ],
            [
             0.7777777777777778,
             "#fb9f3a"
            ],
            [
             0.8888888888888888,
             "#fdca26"
            ],
            [
             1,
             "#f0f921"
            ]
           ]
          },
          "colorway": [
           "#636efa",
           "#EF553B",
           "#00cc96",
           "#ab63fa",
           "#FFA15A",
           "#19d3f3",
           "#FF6692",
           "#B6E880",
           "#FF97FF",
           "#FECB52"
          ],
          "font": {
           "color": "#2a3f5f"
          },
          "geo": {
           "bgcolor": "white",
           "lakecolor": "white",
           "landcolor": "white",
           "showlakes": true,
           "showland": true,
           "subunitcolor": "#C8D4E3"
          },
          "hoverlabel": {
           "align": "left"
          },
          "hovermode": "closest",
          "mapbox": {
           "style": "light"
          },
          "paper_bgcolor": "white",
          "plot_bgcolor": "white",
          "polar": {
           "angularaxis": {
            "gridcolor": "#EBF0F8",
            "linecolor": "#EBF0F8",
            "ticks": ""
           },
           "bgcolor": "white",
           "radialaxis": {
            "gridcolor": "#EBF0F8",
            "linecolor": "#EBF0F8",
            "ticks": ""
           }
          },
          "scene": {
           "xaxis": {
            "backgroundcolor": "white",
            "gridcolor": "#DFE8F3",
            "gridwidth": 2,
            "linecolor": "#EBF0F8",
            "showbackground": true,
            "ticks": "",
            "zerolinecolor": "#EBF0F8"
           },
           "yaxis": {
            "backgroundcolor": "white",
            "gridcolor": "#DFE8F3",
            "gridwidth": 2,
            "linecolor": "#EBF0F8",
            "showbackground": true,
            "ticks": "",
            "zerolinecolor": "#EBF0F8"
           },
           "zaxis": {
            "backgroundcolor": "white",
            "gridcolor": "#DFE8F3",
            "gridwidth": 2,
            "linecolor": "#EBF0F8",
            "showbackground": true,
            "ticks": "",
            "zerolinecolor": "#EBF0F8"
           }
          },
          "shapedefaults": {
           "line": {
            "color": "#2a3f5f"
           }
          },
          "ternary": {
           "aaxis": {
            "gridcolor": "#DFE8F3",
            "linecolor": "#A2B1C6",
            "ticks": ""
           },
           "baxis": {
            "gridcolor": "#DFE8F3",
            "linecolor": "#A2B1C6",
            "ticks": ""
           },
           "bgcolor": "white",
           "caxis": {
            "gridcolor": "#DFE8F3",
            "linecolor": "#A2B1C6",
            "ticks": ""
           }
          },
          "title": {
           "x": 0.05
          },
          "xaxis": {
           "automargin": true,
           "gridcolor": "#EBF0F8",
           "linecolor": "#EBF0F8",
           "ticks": "",
           "title": {
            "standoff": 15
           },
           "zerolinecolor": "#EBF0F8",
           "zerolinewidth": 2
          },
          "yaxis": {
           "automargin": true,
           "gridcolor": "#EBF0F8",
           "linecolor": "#EBF0F8",
           "ticks": "",
           "title": {
            "standoff": 15
           },
           "zerolinecolor": "#EBF0F8",
           "zerolinewidth": 2
          }
         }
        },
        "title": {
         "text": "Era 2: Jun 2008 - Jan 2020 (Normalised)",
         "x": 0.5
        },
        "width": 1200,
        "xaxis": {
         "dtick": "M12",
         "tickangle": 45,
         "tickfont": {
          "size": 12
         },
         "tickformat": "%Y",
         "title": {
          "text": "Date"
         }
        },
        "yaxis": {
         "tickfont": {
          "size": 12
         },
         "title": {
          "text": "Normalised Performance (Base=100)"
         }
        }
       }
      }
     },
     "metadata": {},
     "output_type": "display_data"
    }
   ],
   "source": [
    "# Creating a line plot for Era 2\n",
    "fig = go.Figure()\n",
    "\n",
    "# Adding a trace for each sector\n",
    "for sector in sector_columns:\n",
    "    fig.add_trace(\n",
    "        go.Scatter(\n",
    "            x=era2_norm.index,\n",
    "            y=era2_norm[sector],\n",
    "            mode='lines',\n",
    "            name=sector,\n",
    "            line=dict(color=sector_colors_hex[sector]),\n",
    "            hoverinfo='x+y+name'\n",
    "        )\n",
    "    )\n",
    "\n",
    "# Layout with specified adaptations\n",
    "fig.update_layout(\n",
    "    title='Era 2: Jun 2008 - Jan 2020 (Normalised)',\n",
    "    title_x=0.5,  # Center the title horizontally\n",
    "    xaxis_title='Date',\n",
    "    yaxis_title='Normalised Performance (Base=100)',\n",
    "    hovermode='closest',\n",
    "    legend_title='Sectors',\n",
    "    template='plotly_white',\n",
    "    width=1200,    # Make the plot slightly wider\n",
    "    height=600     # Set the plot height to 600 pixels\n",
    ")\n",
    "\n",
    "# x-axis to show yearly ticks \n",
    "fig.update_xaxes(\n",
    "    tickangle=45,\n",
    "    tickformat='%Y',\n",
    "    tickfont=dict(size=12),\n",
    "    dtick='M12'  # Set tick interval to 12 months (1 year)\n",
    ")\n",
    "\n",
    "# y-axis font size\n",
    "fig.update_yaxes(\n",
    "    tickfont=dict(size=12)\n",
    ")\n",
    "\n",
    "# Showing the plot\n",
    "fig.show()\n"
   ]
  },
  {
   "cell_type": "markdown",
   "metadata": {},
   "source": [
    "During Era 2, encompassing the financial crisis and subsequent recovery (2008–2020), the impact of the 2008-2009 financial crisis was evident across all sectors, with sharp declines in performance. The Financials sector experienced the most significant drop, reflecting the systemic instability caused by the collapse of major financial institutions, a credit crunch, and plummeting asset values. However, during the recovery phase, the Communication Services sector emerged as the standout performer, outperforming all other sectors. This strong performance can be attributed to a combination of factors, including historically low borrowing costs, which facilitated capital investment, and the rise of innovative business models in areas like digital media, internet services, and telecommunications. Companies within this sector leveraged technological advancements and shifting consumer behaviors to drive growth, positioning Communication Services as a leader in the post-crisis economic rebound. This era highlights the resilience and adaptability of certain sectors in responding to economic challenges and opportunities."
   ]
  },
  {
   "cell_type": "code",
   "execution_count": 18,
   "metadata": {},
   "outputs": [
    {
     "data": {
      "application/vnd.plotly.v1+json": {
       "config": {
        "plotlyServerURL": "https://plot.ly"
       },
       "data": [
        {
         "customdata": [
          [
           3
          ]
         ],
         "hovertemplate": "<b>%{hovertext}</b><br>Return: %{y:.0f}%<br>Risk: %{x:.0f}%<br>Market Cap: %{marker.size:.2f} Trillion USD",
         "hovertext": [
          "Communication Services"
         ],
         "legendgroup": "Communication Services",
         "marker": {
          "color": "#1f77b4",
          "line": {
           "color": "DarkSlateGrey",
           "width": 1
          },
          "opacity": 0.7,
          "size": [
           3
          ],
          "sizemode": "area",
          "sizeref": 0.00225,
          "symbol": "circle"
         },
         "mode": "markers",
         "name": "Communication Services",
         "orientation": "v",
         "showlegend": true,
         "type": "scatter",
         "x": [
          16.657408122785235
         ],
         "xaxis": "x",
         "y": [
          20.441952446710076
         ],
         "yaxis": "y"
        },
        {
         "customdata": [
          [
           0.9
          ]
         ],
         "hovertemplate": "<b>%{hovertext}</b><br>Return: %{y:.0f}%<br>Risk: %{x:.0f}%<br>Market Cap: %{marker.size:.2f} Trillion USD",
         "hovertext": [
          "Real Estate"
         ],
         "legendgroup": "Real Estate",
         "marker": {
          "color": "#aec7e8",
          "line": {
           "color": "DarkSlateGrey",
           "width": 1
          },
          "opacity": 0.7,
          "size": [
           0.9
          ],
          "sizemode": "area",
          "sizeref": 0.00225,
          "symbol": "circle"
         },
         "mode": "markers",
         "name": "Real Estate",
         "orientation": "v",
         "showlegend": true,
         "type": "scatter",
         "x": [
          20.912725270072453
         ],
         "xaxis": "x",
         "y": [
          14.696216701870163
         ],
         "yaxis": "y"
        },
        {
         "customdata": [
          [
           0.6
          ]
         ],
         "hovertemplate": "<b>%{hovertext}</b><br>Return: %{y:.0f}%<br>Risk: %{x:.0f}%<br>Market Cap: %{marker.size:.2f} Trillion USD",
         "hovertext": [
          "Materials"
         ],
         "legendgroup": "Materials",
         "marker": {
          "color": "#ff7f0e",
          "line": {
           "color": "DarkSlateGrey",
           "width": 1
          },
          "opacity": 0.7,
          "size": [
           0.6
          ],
          "sizemode": "area",
          "sizeref": 0.00225,
          "symbol": "circle"
         },
         "mode": "markers",
         "name": "Materials",
         "orientation": "v",
         "showlegend": true,
         "type": "scatter",
         "x": [
          21.09121544166525
         ],
         "xaxis": "x",
         "y": [
          5.629443085412674
         ],
         "yaxis": "y"
        },
        {
         "customdata": [
          [
           0.6
          ]
         ],
         "hovertemplate": "<b>%{hovertext}</b><br>Return: %{y:.0f}%<br>Risk: %{x:.0f}%<br>Market Cap: %{marker.size:.2f} Trillion USD",
         "hovertext": [
          "Energy"
         ],
         "legendgroup": "Energy",
         "marker": {
          "color": "#ffbb78",
          "line": {
           "color": "DarkSlateGrey",
           "width": 1
          },
          "opacity": 0.7,
          "size": [
           0.6
          ],
          "sizemode": "area",
          "sizeref": 0.00225,
          "symbol": "circle"
         },
         "mode": "markers",
         "name": "Energy",
         "orientation": "v",
         "showlegend": true,
         "type": "scatter",
         "x": [
          22.22839671514433
         ],
         "xaxis": "x",
         "y": [
          -0.7561921707993332
         ],
         "yaxis": "y"
        },
        {
         "customdata": [
          [
           3.3
          ]
         ],
         "hovertemplate": "<b>%{hovertext}</b><br>Return: %{y:.0f}%<br>Risk: %{x:.0f}%<br>Market Cap: %{marker.size:.2f} Trillion USD",
         "hovertext": [
          "Financials"
         ],
         "legendgroup": "Financials",
         "marker": {
          "color": "#2ca02c",
          "line": {
           "color": "DarkSlateGrey",
           "width": 1
          },
          "opacity": 0.7,
          "size": [
           3.3
          ],
          "sizemode": "area",
          "sizeref": 0.00225,
          "symbol": "circle"
         },
         "mode": "markers",
         "name": "Financials",
         "orientation": "v",
         "showlegend": true,
         "type": "scatter",
         "x": [
          23.607224692239438
         ],
         "xaxis": "x",
         "y": [
          7.336136615276143
         ],
         "yaxis": "y"
        },
        {
         "customdata": [
          [
           2.4
          ]
         ],
         "hovertemplate": "<b>%{hovertext}</b><br>Return: %{y:.0f}%<br>Risk: %{x:.0f}%<br>Market Cap: %{marker.size:.2f} Trillion USD",
         "hovertext": [
          "Industrials"
         ],
         "legendgroup": "Industrials",
         "marker": {
          "color": "#98df8a",
          "line": {
           "color": "DarkSlateGrey",
           "width": 1
          },
          "opacity": 0.7,
          "size": [
           2.4
          ],
          "sizemode": "area",
          "sizeref": 0.00225,
          "symbol": "circle"
         },
         "mode": "markers",
         "name": "Industrials",
         "orientation": "v",
         "showlegend": true,
         "type": "scatter",
         "x": [
          19.28254042752347
         ],
         "xaxis": "x",
         "y": [
          9.738702516923217
         ],
         "yaxis": "y"
        },
        {
         "customdata": [
          [
           8.1
          ]
         ],
         "hovertemplate": "<b>%{hovertext}</b><br>Return: %{y:.0f}%<br>Risk: %{x:.0f}%<br>Market Cap: %{marker.size:.2f} Trillion USD",
         "hovertext": [
          "Technology"
         ],
         "legendgroup": "Technology",
         "marker": {
          "color": "#d62728",
          "line": {
           "color": "DarkSlateGrey",
           "width": 1
          },
          "opacity": 0.7,
          "size": [
           8.1
          ],
          "sizemode": "area",
          "sizeref": 0.00225,
          "symbol": "circle"
         },
         "mode": "markers",
         "name": "Technology",
         "orientation": "v",
         "showlegend": true,
         "type": "scatter",
         "x": [
          16.616645285497484
         ],
         "xaxis": "x",
         "y": [
          13.695927634894817
         ],
         "yaxis": "y"
        },
        {
         "customdata": [
          [
           1.8
          ]
         ],
         "hovertemplate": "<b>%{hovertext}</b><br>Return: %{y:.0f}%<br>Risk: %{x:.0f}%<br>Market Cap: %{marker.size:.2f} Trillion USD",
         "hovertext": [
          "Consumer Staples"
         ],
         "legendgroup": "Consumer Staples",
         "marker": {
          "color": "#ff9896",
          "line": {
           "color": "DarkSlateGrey",
           "width": 1
          },
          "opacity": 0.7,
          "size": [
           1.8
          ],
          "sizemode": "area",
          "sizeref": 0.00225,
          "symbol": "circle"
         },
         "mode": "markers",
         "name": "Consumer Staples",
         "orientation": "v",
         "showlegend": true,
         "type": "scatter",
         "x": [
          11.773217230584224
         ],
         "xaxis": "x",
         "y": [
          10.196154821579276
         ],
         "yaxis": "y"
        },
        {
         "customdata": [
          [
           0.6
          ]
         ],
         "hovertemplate": "<b>%{hovertext}</b><br>Return: %{y:.0f}%<br>Risk: %{x:.0f}%<br>Market Cap: %{marker.size:.2f} Trillion USD",
         "hovertext": [
          "Utilities"
         ],
         "legendgroup": "Utilities",
         "marker": {
          "color": "#9467bd",
          "line": {
           "color": "DarkSlateGrey",
           "width": 1
          },
          "opacity": 0.7,
          "size": [
           0.6
          ],
          "sizemode": "area",
          "sizeref": 0.00225,
          "symbol": "circle"
         },
         "mode": "markers",
         "name": "Utilities",
         "orientation": "v",
         "showlegend": true,
         "type": "scatter",
         "x": [
          13.601630463438838
         ],
         "xaxis": "x",
         "y": [
          7.760461540761397
         ],
         "yaxis": "y"
        },
        {
         "customdata": [
          [
           3.9
          ]
         ],
         "hovertemplate": "<b>%{hovertext}</b><br>Return: %{y:.0f}%<br>Risk: %{x:.0f}%<br>Market Cap: %{marker.size:.2f} Trillion USD",
         "hovertext": [
          "Health Care"
         ],
         "legendgroup": "Health Care",
         "marker": {
          "color": "#c5b0d5",
          "line": {
           "color": "DarkSlateGrey",
           "width": 1
          },
          "opacity": 0.7,
          "size": [
           3.9
          ],
          "sizemode": "area",
          "sizeref": 0.00225,
          "symbol": "circle"
         },
         "mode": "markers",
         "name": "Health Care",
         "orientation": "v",
         "showlegend": true,
         "type": "scatter",
         "x": [
          14.071521775845493
         ],
         "xaxis": "x",
         "y": [
          12.259556748931454
         ],
         "yaxis": "y"
        },
        {
         "customdata": [
          [
           4.8
          ]
         ],
         "hovertemplate": "<b>%{hovertext}</b><br>Return: %{y:.0f}%<br>Risk: %{x:.0f}%<br>Market Cap: %{marker.size:.2f} Trillion USD",
         "hovertext": [
          "Consumer Discretionary"
         ],
         "legendgroup": "Consumer Discretionary",
         "marker": {
          "color": "#8c564b",
          "line": {
           "color": "DarkSlateGrey",
           "width": 1
          },
          "opacity": 0.7,
          "size": [
           4.8
          ],
          "sizemode": "area",
          "sizeref": 0.00225,
          "symbol": "circle"
         },
         "mode": "markers",
         "name": "Consumer Discretionary",
         "orientation": "v",
         "showlegend": true,
         "type": "scatter",
         "x": [
          17.732122505050558
         ],
         "xaxis": "x",
         "y": [
          14.402012108393658
         ],
         "yaxis": "y"
        }
       ],
       "layout": {
        "annotations": [
         {
          "font": {
           "color": "Red"
          },
          "showarrow": false,
          "text": "Avg Risk",
          "x": 17.430270065721256,
          "y": 20.441952446710076,
          "yshift": 10
         },
         {
          "font": {
           "color": "Blue"
          },
          "showarrow": false,
          "text": "Avg Return",
          "x": 23.607224692239438,
          "xshift": 10,
          "y": 12.531561289289272
         }
        ],
        "height": 600,
        "legend": {
         "font": {
          "size": 12
         },
         "itemsizing": "constant",
         "title": {
          "font": {
           "size": 14
          },
          "text": "Sector"
         },
         "tracegroupgap": 0
        },
        "margin": {
         "b": 100,
         "l": 40,
         "r": 40,
         "t": 100
        },
        "plot_bgcolor": "white",
        "shapes": [
         {
          "line": {
           "color": "Red",
           "dash": "dash"
          },
          "type": "line",
          "x0": 17.430270065721256,
          "x1": 17.430270065721256,
          "y0": -0.7561921707993332,
          "y1": 20.441952446710076
         },
         {
          "line": {
           "color": "Blue",
           "dash": "dash"
          },
          "type": "line",
          "x0": 11.773217230584224,
          "x1": 23.607224692239438,
          "y0": 12.531561289289272,
          "y1": 12.531561289289272
         }
        ],
        "template": {
         "data": {
          "bar": [
           {
            "error_x": {
             "color": "#2a3f5f"
            },
            "error_y": {
             "color": "#2a3f5f"
            },
            "marker": {
             "line": {
              "color": "white",
              "width": 0.5
             },
             "pattern": {
              "fillmode": "overlay",
              "size": 10,
              "solidity": 0.2
             }
            },
            "type": "bar"
           }
          ],
          "barpolar": [
           {
            "marker": {
             "line": {
              "color": "white",
              "width": 0.5
             },
             "pattern": {
              "fillmode": "overlay",
              "size": 10,
              "solidity": 0.2
             }
            },
            "type": "barpolar"
           }
          ],
          "carpet": [
           {
            "aaxis": {
             "endlinecolor": "#2a3f5f",
             "gridcolor": "#C8D4E3",
             "linecolor": "#C8D4E3",
             "minorgridcolor": "#C8D4E3",
             "startlinecolor": "#2a3f5f"
            },
            "baxis": {
             "endlinecolor": "#2a3f5f",
             "gridcolor": "#C8D4E3",
             "linecolor": "#C8D4E3",
             "minorgridcolor": "#C8D4E3",
             "startlinecolor": "#2a3f5f"
            },
            "type": "carpet"
           }
          ],
          "choropleth": [
           {
            "colorbar": {
             "outlinewidth": 0,
             "ticks": ""
            },
            "type": "choropleth"
           }
          ],
          "contour": [
           {
            "colorbar": {
             "outlinewidth": 0,
             "ticks": ""
            },
            "colorscale": [
             [
              0,
              "#0d0887"
             ],
             [
              0.1111111111111111,
              "#46039f"
             ],
             [
              0.2222222222222222,
              "#7201a8"
             ],
             [
              0.3333333333333333,
              "#9c179e"
             ],
             [
              0.4444444444444444,
              "#bd3786"
             ],
             [
              0.5555555555555556,
              "#d8576b"
             ],
             [
              0.6666666666666666,
              "#ed7953"
             ],
             [
              0.7777777777777778,
              "#fb9f3a"
             ],
             [
              0.8888888888888888,
              "#fdca26"
             ],
             [
              1,
              "#f0f921"
             ]
            ],
            "type": "contour"
           }
          ],
          "contourcarpet": [
           {
            "colorbar": {
             "outlinewidth": 0,
             "ticks": ""
            },
            "type": "contourcarpet"
           }
          ],
          "heatmap": [
           {
            "colorbar": {
             "outlinewidth": 0,
             "ticks": ""
            },
            "colorscale": [
             [
              0,
              "#0d0887"
             ],
             [
              0.1111111111111111,
              "#46039f"
             ],
             [
              0.2222222222222222,
              "#7201a8"
             ],
             [
              0.3333333333333333,
              "#9c179e"
             ],
             [
              0.4444444444444444,
              "#bd3786"
             ],
             [
              0.5555555555555556,
              "#d8576b"
             ],
             [
              0.6666666666666666,
              "#ed7953"
             ],
             [
              0.7777777777777778,
              "#fb9f3a"
             ],
             [
              0.8888888888888888,
              "#fdca26"
             ],
             [
              1,
              "#f0f921"
             ]
            ],
            "type": "heatmap"
           }
          ],
          "heatmapgl": [
           {
            "colorbar": {
             "outlinewidth": 0,
             "ticks": ""
            },
            "colorscale": [
             [
              0,
              "#0d0887"
             ],
             [
              0.1111111111111111,
              "#46039f"
             ],
             [
              0.2222222222222222,
              "#7201a8"
             ],
             [
              0.3333333333333333,
              "#9c179e"
             ],
             [
              0.4444444444444444,
              "#bd3786"
             ],
             [
              0.5555555555555556,
              "#d8576b"
             ],
             [
              0.6666666666666666,
              "#ed7953"
             ],
             [
              0.7777777777777778,
              "#fb9f3a"
             ],
             [
              0.8888888888888888,
              "#fdca26"
             ],
             [
              1,
              "#f0f921"
             ]
            ],
            "type": "heatmapgl"
           }
          ],
          "histogram": [
           {
            "marker": {
             "pattern": {
              "fillmode": "overlay",
              "size": 10,
              "solidity": 0.2
             }
            },
            "type": "histogram"
           }
          ],
          "histogram2d": [
           {
            "colorbar": {
             "outlinewidth": 0,
             "ticks": ""
            },
            "colorscale": [
             [
              0,
              "#0d0887"
             ],
             [
              0.1111111111111111,
              "#46039f"
             ],
             [
              0.2222222222222222,
              "#7201a8"
             ],
             [
              0.3333333333333333,
              "#9c179e"
             ],
             [
              0.4444444444444444,
              "#bd3786"
             ],
             [
              0.5555555555555556,
              "#d8576b"
             ],
             [
              0.6666666666666666,
              "#ed7953"
             ],
             [
              0.7777777777777778,
              "#fb9f3a"
             ],
             [
              0.8888888888888888,
              "#fdca26"
             ],
             [
              1,
              "#f0f921"
             ]
            ],
            "type": "histogram2d"
           }
          ],
          "histogram2dcontour": [
           {
            "colorbar": {
             "outlinewidth": 0,
             "ticks": ""
            },
            "colorscale": [
             [
              0,
              "#0d0887"
             ],
             [
              0.1111111111111111,
              "#46039f"
             ],
             [
              0.2222222222222222,
              "#7201a8"
             ],
             [
              0.3333333333333333,
              "#9c179e"
             ],
             [
              0.4444444444444444,
              "#bd3786"
             ],
             [
              0.5555555555555556,
              "#d8576b"
             ],
             [
              0.6666666666666666,
              "#ed7953"
             ],
             [
              0.7777777777777778,
              "#fb9f3a"
             ],
             [
              0.8888888888888888,
              "#fdca26"
             ],
             [
              1,
              "#f0f921"
             ]
            ],
            "type": "histogram2dcontour"
           }
          ],
          "mesh3d": [
           {
            "colorbar": {
             "outlinewidth": 0,
             "ticks": ""
            },
            "type": "mesh3d"
           }
          ],
          "parcoords": [
           {
            "line": {
             "colorbar": {
              "outlinewidth": 0,
              "ticks": ""
             }
            },
            "type": "parcoords"
           }
          ],
          "pie": [
           {
            "automargin": true,
            "type": "pie"
           }
          ],
          "scatter": [
           {
            "fillpattern": {
             "fillmode": "overlay",
             "size": 10,
             "solidity": 0.2
            },
            "type": "scatter"
           }
          ],
          "scatter3d": [
           {
            "line": {
             "colorbar": {
              "outlinewidth": 0,
              "ticks": ""
             }
            },
            "marker": {
             "colorbar": {
              "outlinewidth": 0,
              "ticks": ""
             }
            },
            "type": "scatter3d"
           }
          ],
          "scattercarpet": [
           {
            "marker": {
             "colorbar": {
              "outlinewidth": 0,
              "ticks": ""
             }
            },
            "type": "scattercarpet"
           }
          ],
          "scattergeo": [
           {
            "marker": {
             "colorbar": {
              "outlinewidth": 0,
              "ticks": ""
             }
            },
            "type": "scattergeo"
           }
          ],
          "scattergl": [
           {
            "marker": {
             "colorbar": {
              "outlinewidth": 0,
              "ticks": ""
             }
            },
            "type": "scattergl"
           }
          ],
          "scattermapbox": [
           {
            "marker": {
             "colorbar": {
              "outlinewidth": 0,
              "ticks": ""
             }
            },
            "type": "scattermapbox"
           }
          ],
          "scatterpolar": [
           {
            "marker": {
             "colorbar": {
              "outlinewidth": 0,
              "ticks": ""
             }
            },
            "type": "scatterpolar"
           }
          ],
          "scatterpolargl": [
           {
            "marker": {
             "colorbar": {
              "outlinewidth": 0,
              "ticks": ""
             }
            },
            "type": "scatterpolargl"
           }
          ],
          "scatterternary": [
           {
            "marker": {
             "colorbar": {
              "outlinewidth": 0,
              "ticks": ""
             }
            },
            "type": "scatterternary"
           }
          ],
          "surface": [
           {
            "colorbar": {
             "outlinewidth": 0,
             "ticks": ""
            },
            "colorscale": [
             [
              0,
              "#0d0887"
             ],
             [
              0.1111111111111111,
              "#46039f"
             ],
             [
              0.2222222222222222,
              "#7201a8"
             ],
             [
              0.3333333333333333,
              "#9c179e"
             ],
             [
              0.4444444444444444,
              "#bd3786"
             ],
             [
              0.5555555555555556,
              "#d8576b"
             ],
             [
              0.6666666666666666,
              "#ed7953"
             ],
             [
              0.7777777777777778,
              "#fb9f3a"
             ],
             [
              0.8888888888888888,
              "#fdca26"
             ],
             [
              1,
              "#f0f921"
             ]
            ],
            "type": "surface"
           }
          ],
          "table": [
           {
            "cells": {
             "fill": {
              "color": "#EBF0F8"
             },
             "line": {
              "color": "white"
             }
            },
            "header": {
             "fill": {
              "color": "#C8D4E3"
             },
             "line": {
              "color": "white"
             }
            },
            "type": "table"
           }
          ]
         },
         "layout": {
          "annotationdefaults": {
           "arrowcolor": "#2a3f5f",
           "arrowhead": 0,
           "arrowwidth": 1
          },
          "autotypenumbers": "strict",
          "coloraxis": {
           "colorbar": {
            "outlinewidth": 0,
            "ticks": ""
           }
          },
          "colorscale": {
           "diverging": [
            [
             0,
             "#8e0152"
            ],
            [
             0.1,
             "#c51b7d"
            ],
            [
             0.2,
             "#de77ae"
            ],
            [
             0.3,
             "#f1b6da"
            ],
            [
             0.4,
             "#fde0ef"
            ],
            [
             0.5,
             "#f7f7f7"
            ],
            [
             0.6,
             "#e6f5d0"
            ],
            [
             0.7,
             "#b8e186"
            ],
            [
             0.8,
             "#7fbc41"
            ],
            [
             0.9,
             "#4d9221"
            ],
            [
             1,
             "#276419"
            ]
           ],
           "sequential": [
            [
             0,
             "#0d0887"
            ],
            [
             0.1111111111111111,
             "#46039f"
            ],
            [
             0.2222222222222222,
             "#7201a8"
            ],
            [
             0.3333333333333333,
             "#9c179e"
            ],
            [
             0.4444444444444444,
             "#bd3786"
            ],
            [
             0.5555555555555556,
             "#d8576b"
            ],
            [
             0.6666666666666666,
             "#ed7953"
            ],
            [
             0.7777777777777778,
             "#fb9f3a"
            ],
            [
             0.8888888888888888,
             "#fdca26"
            ],
            [
             1,
             "#f0f921"
            ]
           ],
           "sequentialminus": [
            [
             0,
             "#0d0887"
            ],
            [
             0.1111111111111111,
             "#46039f"
            ],
            [
             0.2222222222222222,
             "#7201a8"
            ],
            [
             0.3333333333333333,
             "#9c179e"
            ],
            [
             0.4444444444444444,
             "#bd3786"
            ],
            [
             0.5555555555555556,
             "#d8576b"
            ],
            [
             0.6666666666666666,
             "#ed7953"
            ],
            [
             0.7777777777777778,
             "#fb9f3a"
            ],
            [
             0.8888888888888888,
             "#fdca26"
            ],
            [
             1,
             "#f0f921"
            ]
           ]
          },
          "colorway": [
           "#636efa",
           "#EF553B",
           "#00cc96",
           "#ab63fa",
           "#FFA15A",
           "#19d3f3",
           "#FF6692",
           "#B6E880",
           "#FF97FF",
           "#FECB52"
          ],
          "font": {
           "color": "#2a3f5f"
          },
          "geo": {
           "bgcolor": "white",
           "lakecolor": "white",
           "landcolor": "white",
           "showlakes": true,
           "showland": true,
           "subunitcolor": "#C8D4E3"
          },
          "hoverlabel": {
           "align": "left"
          },
          "hovermode": "closest",
          "mapbox": {
           "style": "light"
          },
          "paper_bgcolor": "white",
          "plot_bgcolor": "white",
          "polar": {
           "angularaxis": {
            "gridcolor": "#EBF0F8",
            "linecolor": "#EBF0F8",
            "ticks": ""
           },
           "bgcolor": "white",
           "radialaxis": {
            "gridcolor": "#EBF0F8",
            "linecolor": "#EBF0F8",
            "ticks": ""
           }
          },
          "scene": {
           "xaxis": {
            "backgroundcolor": "white",
            "gridcolor": "#DFE8F3",
            "gridwidth": 2,
            "linecolor": "#EBF0F8",
            "showbackground": true,
            "ticks": "",
            "zerolinecolor": "#EBF0F8"
           },
           "yaxis": {
            "backgroundcolor": "white",
            "gridcolor": "#DFE8F3",
            "gridwidth": 2,
            "linecolor": "#EBF0F8",
            "showbackground": true,
            "ticks": "",
            "zerolinecolor": "#EBF0F8"
           },
           "zaxis": {
            "backgroundcolor": "white",
            "gridcolor": "#DFE8F3",
            "gridwidth": 2,
            "linecolor": "#EBF0F8",
            "showbackground": true,
            "ticks": "",
            "zerolinecolor": "#EBF0F8"
           }
          },
          "shapedefaults": {
           "line": {
            "color": "#2a3f5f"
           }
          },
          "ternary": {
           "aaxis": {
            "gridcolor": "#DFE8F3",
            "linecolor": "#A2B1C6",
            "ticks": ""
           },
           "baxis": {
            "gridcolor": "#DFE8F3",
            "linecolor": "#A2B1C6",
            "ticks": ""
           },
           "bgcolor": "white",
           "caxis": {
            "gridcolor": "#DFE8F3",
            "linecolor": "#A2B1C6",
            "ticks": ""
           }
          },
          "title": {
           "x": 0.05
          },
          "xaxis": {
           "automargin": true,
           "gridcolor": "#EBF0F8",
           "linecolor": "#EBF0F8",
           "ticks": "",
           "title": {
            "standoff": 15
           },
           "zerolinecolor": "#EBF0F8",
           "zerolinewidth": 2
          },
          "yaxis": {
           "automargin": true,
           "gridcolor": "#EBF0F8",
           "linecolor": "#EBF0F8",
           "ticks": "",
           "title": {
            "standoff": 15
           },
           "zerolinecolor": "#EBF0F8",
           "zerolinewidth": 2
          }
         }
        },
        "title": {
         "font": {
          "color": "black",
          "family": "Arial",
          "size": 20
         },
         "text": "Annualised Risk vs Return of Business Sectors (2008-2020)",
         "x": 0.5
        },
        "width": 1200,
        "xaxis": {
         "anchor": "y",
         "domain": [
          0,
          1
         ],
         "showgrid": false,
         "title": {
          "text": "Risk (%)"
         }
        },
        "yaxis": {
         "anchor": "x",
         "domain": [
          0,
          1
         ],
         "showgrid": false,
         "title": {
          "text": "Return (%)"
         }
        }
       }
      }
     },
     "metadata": {},
     "output_type": "display_data"
    }
   ],
   "source": [
    "# Filter data for Era 2\n",
    "era2_bubble_data = full_data_with_market_cap[full_data_with_market_cap['Period'] == '2008-2020'].dropna(subset=['Risk', 'Return', 'Market Cap (Trillion USD)'])\n",
    "\n",
    "# Multiply 'Risk' and 'Return' by 100 to convert from decimal to percentage\n",
    "era2_bubble_data['Risk'] = era2_bubble_data['Risk'] * 100\n",
    "era2_bubble_data['Return'] = era2_bubble_data['Return'] * 100\n",
    "\n",
    "# Create scatter plot using Plotly Express with Risk on x-axis and Return on y-axis\n",
    "fig = px.scatter(\n",
    "    era2_bubble_data,\n",
    "    x=\"Risk\",  # Risk on x-axis\n",
    "    y=\"Return\",  # Return on y-axis\n",
    "    size=\"Market Cap (Trillion USD)\",  # Map Market Cap to bubble size\n",
    "    size_max=60,  # Adjust maximum bubble size for better visualization\n",
    "    color=\"Sector\",\n",
    "    color_discrete_map=sector_colors_hex,  # Map sectors to their assigned colors\n",
    "    hover_name=\"Sector\",\n",
    "    hover_data={\n",
    "        \"Return\": ':.0f',  # Display Return as full number without decimals\n",
    "        \"Risk\": ':.0f',    # Display Risk as full number without decimals\n",
    "        \"Market Cap (Trillion USD)\": ':.2f'  # Keep Market Cap with two decimals\n",
    "    },\n",
    "    title=\"Annualised Risk vs Return of Business Sectors (2008-2020)\",\n",
    "    labels={\n",
    "        \"Return\": \"Return (%)\",\n",
    "        \"Risk\": \"Risk (%)\",\n",
    "        \"Market Cap (Trillion USD)\": \"Market Cap (Trillion USD)\"\n",
    "    },\n",
    "    template=\"plotly_white\",  # Use a clean white background\n",
    "    width=1200,\n",
    "    height=600  # Set the plot height to 600 pixels\n",
    ")\n",
    "\n",
    "# Customize marker appearance for better visibility\n",
    "fig.update_traces(marker=dict(opacity=0.7, line=dict(width=1, color='DarkSlateGrey')))\n",
    "\n",
    "# Calculate weighted average return and risk using Market Cap as weights\n",
    "weights = era2_bubble_data['Market Cap (Trillion USD)']\n",
    "avg_return = np.average(era2_bubble_data['Return'], weights=weights)  # No rounding\n",
    "avg_risk = np.average(era2_bubble_data['Risk'], weights=weights)      # No rounding\n",
    "\n",
    "# Add vertical reference line for average risk (red color)\n",
    "fig.add_shape(\n",
    "    type=\"line\",\n",
    "    x0=avg_risk,\n",
    "    y0=era2_bubble_data['Return'].min(),\n",
    "    x1=avg_risk,\n",
    "    y1=era2_bubble_data['Return'].max(),\n",
    "    line=dict(color=\"Red\", dash=\"dash\"),\n",
    ")\n",
    "\n",
    "# Add horizontal reference line for average return (blue color)\n",
    "fig.add_shape(\n",
    "    type=\"line\",\n",
    "    x0=era2_bubble_data['Risk'].min(),\n",
    "    y0=avg_return,\n",
    "    x1=era2_bubble_data['Risk'].max(),\n",
    "    y1=avg_return,\n",
    "    line=dict(color=\"Blue\", dash=\"dash\"),\n",
    ")\n",
    "\n",
    "# Add annotations for the reference lines\n",
    "fig.add_annotation(\n",
    "    x=avg_risk,\n",
    "    y=era2_bubble_data['Return'].max(),\n",
    "    text=\"Avg Risk\",\n",
    "    showarrow=False,\n",
    "    yshift=10,\n",
    "    font=dict(color=\"Red\")\n",
    ")\n",
    "\n",
    "fig.add_annotation(\n",
    "    x=era2_bubble_data['Risk'].max(),\n",
    "    y=avg_return,\n",
    "    text=\"Avg Return\",\n",
    "    showarrow=False,\n",
    "    xshift=10,\n",
    "    font=dict(color=\"Blue\")\n",
    ")\n",
    "\n",
    "# Update layout to remove grid lines, set axis titles, and center the title\n",
    "fig.update_layout(\n",
    "    legend_title_text='Sector',\n",
    "    xaxis=dict(\n",
    "        title='Risk (%)',\n",
    "        showgrid=False  # Remove x-axis grid lines\n",
    "    ),\n",
    "    yaxis=dict(\n",
    "        title='Return (%)',\n",
    "        showgrid=False  # Remove y-axis grid lines\n",
    "    ),\n",
    "    plot_bgcolor='white',  # Ensure background is white\n",
    "    title_x=0.5,  # Center the title\n",
    "    title_font=dict(size=20, family='Arial', color='black'),  # Optional: Customize title font\n",
    "    legend=dict(\n",
    "        title_font_size=14,\n",
    "        font_size=12\n",
    "    ),\n",
    "    margin=dict(t=100, l=40, r=40, b=100)  # Optional: Adjust margins if necessary\n",
    ")\n",
    "\n",
    "# Optional: Format hover information to display full numbers without decimals\n",
    "hover_template = (\n",
    "    \"<b>%{hovertext}</b><br>\" +\n",
    "    \"Return: %{y:.0f}%<br>\" +\n",
    "    \"Risk: %{x:.0f}%<br>\" +\n",
    "    \"Market Cap: %{marker.size:.2f} Trillion USD\"\n",
    ")\n",
    "fig.update_traces(hovertemplate=hover_template)\n",
    "\n",
    "# Display the figure\n",
    "fig.show()\n"
   ]
  },
  {
   "cell_type": "markdown",
   "metadata": {},
   "source": [
    "The risk vs. return bubble plot for Era 2 (2008–2020) highlights a distinct performance contrast among sectors. Technology and Communication Services sectors stand out as the most attractive, offering above-average returns with below-average risk. This favorable risk-return profile reflects their resilience and adaptability during the recovery period, with Technology benefiting from rapid innovation, digital transformation, and increased consumer adoption of technology. Communication Services similarly thrived on innovation and shifting consumer preferences toward digital connectivity and media. Conversely, the Financials and Energy sectors showed the weakest risk-return tradeoff. Financials were severely impacted by the financial crisis, struggling to recover fully due to regulatory overhauls and lingering systemic vulnerabilities. The Energy sector faced a slow recovery, with fluctuating oil prices and global shifts toward renewable energy weighing on performance. Notably, this period also marked Technology’s emergence as the largest sector in the U.S. stock market, underscoring its growing dominance and pivotal role in driving economic growth and investor returns."
   ]
  },
  {
   "cell_type": "code",
   "execution_count": 19,
   "metadata": {},
   "outputs": [
    {
     "data": {
      "application/vnd.plotly.v1+json": {
       "config": {
        "plotlyServerURL": "https://plot.ly"
       },
       "data": [
        {
         "alignmentgroup": "True",
         "hovertemplate": "Sector=%{x}<br>Maximum Drawdown (%)=%{text}<extra></extra>",
         "legendgroup": "Financials",
         "marker": {
          "color": "#2ca02c",
          "pattern": {
           "shape": ""
          }
         },
         "name": "Financials",
         "offsetgroup": "Financials",
         "orientation": "v",
         "showlegend": true,
         "text": [
          64
         ],
         "textposition": "outside",
         "texttemplate": "%{text:.1f}%",
         "type": "bar",
         "x": [
          "Financials"
         ],
         "xaxis": "x",
         "y": [
          64
         ],
         "yaxis": "y"
        },
        {
         "alignmentgroup": "True",
         "hovertemplate": "Sector=%{x}<br>Maximum Drawdown (%)=%{text}<extra></extra>",
         "legendgroup": "Energy",
         "marker": {
          "color": "#ffbb78",
          "pattern": {
           "shape": ""
          }
         },
         "name": "Energy",
         "offsetgroup": "Energy",
         "orientation": "v",
         "showlegend": true,
         "text": [
          53.1
         ],
         "textposition": "outside",
         "texttemplate": "%{text:.1f}%",
         "type": "bar",
         "x": [
          "Energy"
         ],
         "xaxis": "x",
         "y": [
          53.1
         ],
         "yaxis": "y"
        },
        {
         "alignmentgroup": "True",
         "hovertemplate": "Sector=%{x}<br>Maximum Drawdown (%)=%{text}<extra></extra>",
         "legendgroup": "Materials",
         "marker": {
          "color": "#ff7f0e",
          "pattern": {
           "shape": ""
          }
         },
         "name": "Materials",
         "offsetgroup": "Materials",
         "orientation": "v",
         "showlegend": true,
         "text": [
          52.7
         ],
         "textposition": "outside",
         "texttemplate": "%{text:.1f}%",
         "type": "bar",
         "x": [
          "Materials"
         ],
         "xaxis": "x",
         "y": [
          52.7
         ],
         "yaxis": "y"
        },
        {
         "alignmentgroup": "True",
         "hovertemplate": "Sector=%{x}<br>Maximum Drawdown (%)=%{text}<extra></extra>",
         "legendgroup": "Industrials",
         "marker": {
          "color": "#98df8a",
          "pattern": {
           "shape": ""
          }
         },
         "name": "Industrials",
         "offsetgroup": "Industrials",
         "orientation": "v",
         "showlegend": true,
         "text": [
          50.7
         ],
         "textposition": "outside",
         "texttemplate": "%{text:.1f}%",
         "type": "bar",
         "x": [
          "Industrials"
         ],
         "xaxis": "x",
         "y": [
          50.7
         ],
         "yaxis": "y"
        },
        {
         "alignmentgroup": "True",
         "hovertemplate": "Sector=%{x}<br>Maximum Drawdown (%)=%{text}<extra></extra>",
         "legendgroup": "Real Estate",
         "marker": {
          "color": "#aec7e8",
          "pattern": {
           "shape": ""
          }
         },
         "name": "Real Estate",
         "offsetgroup": "Real Estate",
         "orientation": "v",
         "showlegend": true,
         "text": [
          48.4
         ],
         "textposition": "outside",
         "texttemplate": "%{text:.1f}%",
         "type": "bar",
         "x": [
          "Real Estate"
         ],
         "xaxis": "x",
         "y": [
          48.4
         ],
         "yaxis": "y"
        },
        {
         "alignmentgroup": "True",
         "hovertemplate": "Sector=%{x}<br>Maximum Drawdown (%)=%{text}<extra></extra>",
         "legendgroup": "Consumer Discretionary",
         "marker": {
          "color": "#8c564b",
          "pattern": {
           "shape": ""
          }
         },
         "name": "Consumer Discretionary",
         "offsetgroup": "Consumer Discretionary",
         "orientation": "v",
         "showlegend": true,
         "text": [
          41.9
         ],
         "textposition": "outside",
         "texttemplate": "%{text:.1f}%",
         "type": "bar",
         "x": [
          "Consumer Discretionary"
         ],
         "xaxis": "x",
         "y": [
          41.9
         ],
         "yaxis": "y"
        },
        {
         "alignmentgroup": "True",
         "hovertemplate": "Sector=%{x}<br>Maximum Drawdown (%)=%{text}<extra></extra>",
         "legendgroup": "Technology",
         "marker": {
          "color": "#d62728",
          "pattern": {
           "shape": ""
          }
         },
         "name": "Technology",
         "offsetgroup": "Technology",
         "orientation": "v",
         "showlegend": true,
         "text": [
          37.8
         ],
         "textposition": "outside",
         "texttemplate": "%{text:.1f}%",
         "type": "bar",
         "x": [
          "Technology"
         ],
         "xaxis": "x",
         "y": [
          37.8
         ],
         "yaxis": "y"
        },
        {
         "alignmentgroup": "True",
         "hovertemplate": "Sector=%{x}<br>Maximum Drawdown (%)=%{text}<extra></extra>",
         "legendgroup": "Utilities",
         "marker": {
          "color": "#9467bd",
          "pattern": {
           "shape": ""
          }
         },
         "name": "Utilities",
         "offsetgroup": "Utilities",
         "orientation": "v",
         "showlegend": true,
         "text": [
          36.4
         ],
         "textposition": "outside",
         "texttemplate": "%{text:.1f}%",
         "type": "bar",
         "x": [
          "Utilities"
         ],
         "xaxis": "x",
         "y": [
          36.4
         ],
         "yaxis": "y"
        },
        {
         "alignmentgroup": "True",
         "hovertemplate": "Sector=%{x}<br>Maximum Drawdown (%)=%{text}<extra></extra>",
         "legendgroup": "Health Care",
         "marker": {
          "color": "#c5b0d5",
          "pattern": {
           "shape": ""
          }
         },
         "name": "Health Care",
         "offsetgroup": "Health Care",
         "orientation": "v",
         "showlegend": true,
         "text": [
          28.8
         ],
         "textposition": "outside",
         "texttemplate": "%{text:.1f}%",
         "type": "bar",
         "x": [
          "Health Care"
         ],
         "xaxis": "x",
         "y": [
          28.8
         ],
         "yaxis": "y"
        },
        {
         "alignmentgroup": "True",
         "hovertemplate": "Sector=%{x}<br>Maximum Drawdown (%)=%{text}<extra></extra>",
         "legendgroup": "Consumer Staples",
         "marker": {
          "color": "#ff9896",
          "pattern": {
           "shape": ""
          }
         },
         "name": "Consumer Staples",
         "offsetgroup": "Consumer Staples",
         "orientation": "v",
         "showlegend": true,
         "text": [
          26.5
         ],
         "textposition": "outside",
         "texttemplate": "%{text:.1f}%",
         "type": "bar",
         "x": [
          "Consumer Staples"
         ],
         "xaxis": "x",
         "y": [
          26.5
         ],
         "yaxis": "y"
        },
        {
         "alignmentgroup": "True",
         "hovertemplate": "Sector=%{x}<br>Maximum Drawdown (%)=%{text}<extra></extra>",
         "legendgroup": "Communication Services",
         "marker": {
          "color": "#1f77b4",
          "pattern": {
           "shape": ""
          }
         },
         "name": "Communication Services",
         "offsetgroup": "Communication Services",
         "orientation": "v",
         "showlegend": true,
         "text": [
          26.2
         ],
         "textposition": "outside",
         "texttemplate": "%{text:.1f}%",
         "type": "bar",
         "x": [
          "Communication Services"
         ],
         "xaxis": "x",
         "y": [
          26.2
         ],
         "yaxis": "y"
        }
       ],
       "layout": {
        "barmode": "relative",
        "height": 600,
        "legend": {
         "title": {
          "text": "Sector"
         },
         "tracegroupgap": 0
        },
        "margin": {
         "b": 100,
         "l": 40,
         "r": 40,
         "t": 100
        },
        "plot_bgcolor": "rgba(0,0,0,0)",
        "template": {
         "data": {
          "bar": [
           {
            "error_x": {
             "color": "#2a3f5f"
            },
            "error_y": {
             "color": "#2a3f5f"
            },
            "marker": {
             "line": {
              "color": "#E5ECF6",
              "width": 0.5
             },
             "pattern": {
              "fillmode": "overlay",
              "size": 10,
              "solidity": 0.2
             }
            },
            "type": "bar"
           }
          ],
          "barpolar": [
           {
            "marker": {
             "line": {
              "color": "#E5ECF6",
              "width": 0.5
             },
             "pattern": {
              "fillmode": "overlay",
              "size": 10,
              "solidity": 0.2
             }
            },
            "type": "barpolar"
           }
          ],
          "carpet": [
           {
            "aaxis": {
             "endlinecolor": "#2a3f5f",
             "gridcolor": "white",
             "linecolor": "white",
             "minorgridcolor": "white",
             "startlinecolor": "#2a3f5f"
            },
            "baxis": {
             "endlinecolor": "#2a3f5f",
             "gridcolor": "white",
             "linecolor": "white",
             "minorgridcolor": "white",
             "startlinecolor": "#2a3f5f"
            },
            "type": "carpet"
           }
          ],
          "choropleth": [
           {
            "colorbar": {
             "outlinewidth": 0,
             "ticks": ""
            },
            "type": "choropleth"
           }
          ],
          "contour": [
           {
            "colorbar": {
             "outlinewidth": 0,
             "ticks": ""
            },
            "colorscale": [
             [
              0,
              "#0d0887"
             ],
             [
              0.1111111111111111,
              "#46039f"
             ],
             [
              0.2222222222222222,
              "#7201a8"
             ],
             [
              0.3333333333333333,
              "#9c179e"
             ],
             [
              0.4444444444444444,
              "#bd3786"
             ],
             [
              0.5555555555555556,
              "#d8576b"
             ],
             [
              0.6666666666666666,
              "#ed7953"
             ],
             [
              0.7777777777777778,
              "#fb9f3a"
             ],
             [
              0.8888888888888888,
              "#fdca26"
             ],
             [
              1,
              "#f0f921"
             ]
            ],
            "type": "contour"
           }
          ],
          "contourcarpet": [
           {
            "colorbar": {
             "outlinewidth": 0,
             "ticks": ""
            },
            "type": "contourcarpet"
           }
          ],
          "heatmap": [
           {
            "colorbar": {
             "outlinewidth": 0,
             "ticks": ""
            },
            "colorscale": [
             [
              0,
              "#0d0887"
             ],
             [
              0.1111111111111111,
              "#46039f"
             ],
             [
              0.2222222222222222,
              "#7201a8"
             ],
             [
              0.3333333333333333,
              "#9c179e"
             ],
             [
              0.4444444444444444,
              "#bd3786"
             ],
             [
              0.5555555555555556,
              "#d8576b"
             ],
             [
              0.6666666666666666,
              "#ed7953"
             ],
             [
              0.7777777777777778,
              "#fb9f3a"
             ],
             [
              0.8888888888888888,
              "#fdca26"
             ],
             [
              1,
              "#f0f921"
             ]
            ],
            "type": "heatmap"
           }
          ],
          "heatmapgl": [
           {
            "colorbar": {
             "outlinewidth": 0,
             "ticks": ""
            },
            "colorscale": [
             [
              0,
              "#0d0887"
             ],
             [
              0.1111111111111111,
              "#46039f"
             ],
             [
              0.2222222222222222,
              "#7201a8"
             ],
             [
              0.3333333333333333,
              "#9c179e"
             ],
             [
              0.4444444444444444,
              "#bd3786"
             ],
             [
              0.5555555555555556,
              "#d8576b"
             ],
             [
              0.6666666666666666,
              "#ed7953"
             ],
             [
              0.7777777777777778,
              "#fb9f3a"
             ],
             [
              0.8888888888888888,
              "#fdca26"
             ],
             [
              1,
              "#f0f921"
             ]
            ],
            "type": "heatmapgl"
           }
          ],
          "histogram": [
           {
            "marker": {
             "pattern": {
              "fillmode": "overlay",
              "size": 10,
              "solidity": 0.2
             }
            },
            "type": "histogram"
           }
          ],
          "histogram2d": [
           {
            "colorbar": {
             "outlinewidth": 0,
             "ticks": ""
            },
            "colorscale": [
             [
              0,
              "#0d0887"
             ],
             [
              0.1111111111111111,
              "#46039f"
             ],
             [
              0.2222222222222222,
              "#7201a8"
             ],
             [
              0.3333333333333333,
              "#9c179e"
             ],
             [
              0.4444444444444444,
              "#bd3786"
             ],
             [
              0.5555555555555556,
              "#d8576b"
             ],
             [
              0.6666666666666666,
              "#ed7953"
             ],
             [
              0.7777777777777778,
              "#fb9f3a"
             ],
             [
              0.8888888888888888,
              "#fdca26"
             ],
             [
              1,
              "#f0f921"
             ]
            ],
            "type": "histogram2d"
           }
          ],
          "histogram2dcontour": [
           {
            "colorbar": {
             "outlinewidth": 0,
             "ticks": ""
            },
            "colorscale": [
             [
              0,
              "#0d0887"
             ],
             [
              0.1111111111111111,
              "#46039f"
             ],
             [
              0.2222222222222222,
              "#7201a8"
             ],
             [
              0.3333333333333333,
              "#9c179e"
             ],
             [
              0.4444444444444444,
              "#bd3786"
             ],
             [
              0.5555555555555556,
              "#d8576b"
             ],
             [
              0.6666666666666666,
              "#ed7953"
             ],
             [
              0.7777777777777778,
              "#fb9f3a"
             ],
             [
              0.8888888888888888,
              "#fdca26"
             ],
             [
              1,
              "#f0f921"
             ]
            ],
            "type": "histogram2dcontour"
           }
          ],
          "mesh3d": [
           {
            "colorbar": {
             "outlinewidth": 0,
             "ticks": ""
            },
            "type": "mesh3d"
           }
          ],
          "parcoords": [
           {
            "line": {
             "colorbar": {
              "outlinewidth": 0,
              "ticks": ""
             }
            },
            "type": "parcoords"
           }
          ],
          "pie": [
           {
            "automargin": true,
            "type": "pie"
           }
          ],
          "scatter": [
           {
            "fillpattern": {
             "fillmode": "overlay",
             "size": 10,
             "solidity": 0.2
            },
            "type": "scatter"
           }
          ],
          "scatter3d": [
           {
            "line": {
             "colorbar": {
              "outlinewidth": 0,
              "ticks": ""
             }
            },
            "marker": {
             "colorbar": {
              "outlinewidth": 0,
              "ticks": ""
             }
            },
            "type": "scatter3d"
           }
          ],
          "scattercarpet": [
           {
            "marker": {
             "colorbar": {
              "outlinewidth": 0,
              "ticks": ""
             }
            },
            "type": "scattercarpet"
           }
          ],
          "scattergeo": [
           {
            "marker": {
             "colorbar": {
              "outlinewidth": 0,
              "ticks": ""
             }
            },
            "type": "scattergeo"
           }
          ],
          "scattergl": [
           {
            "marker": {
             "colorbar": {
              "outlinewidth": 0,
              "ticks": ""
             }
            },
            "type": "scattergl"
           }
          ],
          "scattermapbox": [
           {
            "marker": {
             "colorbar": {
              "outlinewidth": 0,
              "ticks": ""
             }
            },
            "type": "scattermapbox"
           }
          ],
          "scatterpolar": [
           {
            "marker": {
             "colorbar": {
              "outlinewidth": 0,
              "ticks": ""
             }
            },
            "type": "scatterpolar"
           }
          ],
          "scatterpolargl": [
           {
            "marker": {
             "colorbar": {
              "outlinewidth": 0,
              "ticks": ""
             }
            },
            "type": "scatterpolargl"
           }
          ],
          "scatterternary": [
           {
            "marker": {
             "colorbar": {
              "outlinewidth": 0,
              "ticks": ""
             }
            },
            "type": "scatterternary"
           }
          ],
          "surface": [
           {
            "colorbar": {
             "outlinewidth": 0,
             "ticks": ""
            },
            "colorscale": [
             [
              0,
              "#0d0887"
             ],
             [
              0.1111111111111111,
              "#46039f"
             ],
             [
              0.2222222222222222,
              "#7201a8"
             ],
             [
              0.3333333333333333,
              "#9c179e"
             ],
             [
              0.4444444444444444,
              "#bd3786"
             ],
             [
              0.5555555555555556,
              "#d8576b"
             ],
             [
              0.6666666666666666,
              "#ed7953"
             ],
             [
              0.7777777777777778,
              "#fb9f3a"
             ],
             [
              0.8888888888888888,
              "#fdca26"
             ],
             [
              1,
              "#f0f921"
             ]
            ],
            "type": "surface"
           }
          ],
          "table": [
           {
            "cells": {
             "fill": {
              "color": "#EBF0F8"
             },
             "line": {
              "color": "white"
             }
            },
            "header": {
             "fill": {
              "color": "#C8D4E3"
             },
             "line": {
              "color": "white"
             }
            },
            "type": "table"
           }
          ]
         },
         "layout": {
          "annotationdefaults": {
           "arrowcolor": "#2a3f5f",
           "arrowhead": 0,
           "arrowwidth": 1
          },
          "autotypenumbers": "strict",
          "coloraxis": {
           "colorbar": {
            "outlinewidth": 0,
            "ticks": ""
           }
          },
          "colorscale": {
           "diverging": [
            [
             0,
             "#8e0152"
            ],
            [
             0.1,
             "#c51b7d"
            ],
            [
             0.2,
             "#de77ae"
            ],
            [
             0.3,
             "#f1b6da"
            ],
            [
             0.4,
             "#fde0ef"
            ],
            [
             0.5,
             "#f7f7f7"
            ],
            [
             0.6,
             "#e6f5d0"
            ],
            [
             0.7,
             "#b8e186"
            ],
            [
             0.8,
             "#7fbc41"
            ],
            [
             0.9,
             "#4d9221"
            ],
            [
             1,
             "#276419"
            ]
           ],
           "sequential": [
            [
             0,
             "#0d0887"
            ],
            [
             0.1111111111111111,
             "#46039f"
            ],
            [
             0.2222222222222222,
             "#7201a8"
            ],
            [
             0.3333333333333333,
             "#9c179e"
            ],
            [
             0.4444444444444444,
             "#bd3786"
            ],
            [
             0.5555555555555556,
             "#d8576b"
            ],
            [
             0.6666666666666666,
             "#ed7953"
            ],
            [
             0.7777777777777778,
             "#fb9f3a"
            ],
            [
             0.8888888888888888,
             "#fdca26"
            ],
            [
             1,
             "#f0f921"
            ]
           ],
           "sequentialminus": [
            [
             0,
             "#0d0887"
            ],
            [
             0.1111111111111111,
             "#46039f"
            ],
            [
             0.2222222222222222,
             "#7201a8"
            ],
            [
             0.3333333333333333,
             "#9c179e"
            ],
            [
             0.4444444444444444,
             "#bd3786"
            ],
            [
             0.5555555555555556,
             "#d8576b"
            ],
            [
             0.6666666666666666,
             "#ed7953"
            ],
            [
             0.7777777777777778,
             "#fb9f3a"
            ],
            [
             0.8888888888888888,
             "#fdca26"
            ],
            [
             1,
             "#f0f921"
            ]
           ]
          },
          "colorway": [
           "#636efa",
           "#EF553B",
           "#00cc96",
           "#ab63fa",
           "#FFA15A",
           "#19d3f3",
           "#FF6692",
           "#B6E880",
           "#FF97FF",
           "#FECB52"
          ],
          "font": {
           "color": "#2a3f5f"
          },
          "geo": {
           "bgcolor": "white",
           "lakecolor": "white",
           "landcolor": "#E5ECF6",
           "showlakes": true,
           "showland": true,
           "subunitcolor": "white"
          },
          "hoverlabel": {
           "align": "left"
          },
          "hovermode": "closest",
          "mapbox": {
           "style": "light"
          },
          "paper_bgcolor": "white",
          "plot_bgcolor": "#E5ECF6",
          "polar": {
           "angularaxis": {
            "gridcolor": "white",
            "linecolor": "white",
            "ticks": ""
           },
           "bgcolor": "#E5ECF6",
           "radialaxis": {
            "gridcolor": "white",
            "linecolor": "white",
            "ticks": ""
           }
          },
          "scene": {
           "xaxis": {
            "backgroundcolor": "#E5ECF6",
            "gridcolor": "white",
            "gridwidth": 2,
            "linecolor": "white",
            "showbackground": true,
            "ticks": "",
            "zerolinecolor": "white"
           },
           "yaxis": {
            "backgroundcolor": "#E5ECF6",
            "gridcolor": "white",
            "gridwidth": 2,
            "linecolor": "white",
            "showbackground": true,
            "ticks": "",
            "zerolinecolor": "white"
           },
           "zaxis": {
            "backgroundcolor": "#E5ECF6",
            "gridcolor": "white",
            "gridwidth": 2,
            "linecolor": "white",
            "showbackground": true,
            "ticks": "",
            "zerolinecolor": "white"
           }
          },
          "shapedefaults": {
           "line": {
            "color": "#2a3f5f"
           }
          },
          "ternary": {
           "aaxis": {
            "gridcolor": "white",
            "linecolor": "white",
            "ticks": ""
           },
           "baxis": {
            "gridcolor": "white",
            "linecolor": "white",
            "ticks": ""
           },
           "bgcolor": "#E5ECF6",
           "caxis": {
            "gridcolor": "white",
            "linecolor": "white",
            "ticks": ""
           }
          },
          "title": {
           "x": 0.05
          },
          "xaxis": {
           "automargin": true,
           "gridcolor": "white",
           "linecolor": "white",
           "ticks": "",
           "title": {
            "standoff": 15
           },
           "zerolinecolor": "white",
           "zerolinewidth": 2
          },
          "yaxis": {
           "automargin": true,
           "gridcolor": "white",
           "linecolor": "white",
           "ticks": "",
           "title": {
            "standoff": 15
           },
           "zerolinecolor": "white",
           "zerolinewidth": 2
          }
         }
        },
        "title": {
         "text": "Maximum Drawdown by Sector - Era 2 (2008-2020)",
         "x": 0.5
        },
        "uniformtext": {
         "minsize": 8,
         "mode": "hide"
        },
        "width": 1200,
        "xaxis": {
         "anchor": "y",
         "categoryarray": [
          "Financials",
          "Energy",
          "Materials",
          "Industrials",
          "Real Estate",
          "Consumer Discretionary",
          "Technology",
          "Utilities",
          "Health Care",
          "Consumer Staples",
          "Communication Services"
         ],
         "categoryorder": "array",
         "domain": [
          0,
          1
         ],
         "title": {
          "text": "Sector"
         }
        },
        "yaxis": {
         "anchor": "x",
         "domain": [
          0,
          1
         ],
         "range": [
          0,
          70.4
         ],
         "tickfont": {
          "size": 12
         },
         "tickformat": ".1f",
         "title": {
          "font": {
           "size": 14
          },
          "text": "Maximum Drawdown (%)"
         }
        }
       }
      }
     },
     "metadata": {},
     "output_type": "display_data"
    }
   ],
   "source": [
    "# Plotting Maximum Drawdown for Era 2\n",
    "plot_max_drawdown_interactive(\n",
    "    max_drawdown_era2, \n",
    "    'Era 2 (2008-2020)', \n",
    "    sector_colors_hex\n",
    ")\n"
   ]
  },
  {
   "cell_type": "markdown",
   "metadata": {},
   "source": [
    "The max drawdown plot vividly illustrates the widespread impact of the 2008 financial crisis, with significant peak-to-trough declines across all sectors. This underscores the far-reaching and systemic nature of the crisis, which stemmed from the collapse of the housing market and its ripple effects through the financial system. The Financials sector was the hardest hit, experiencing the largest drawdown due to its direct exposure to bad loans, subprime mortgages, and the resulting credit crunch. Other sectors also suffered severe declines, with Energy, Materials, Industrials, and Real Estate experiencing drawdowns of around 50%. These sectors were heavily affected by reduced consumer spending and plummeting investment activity during the crisis. This widespread contraction highlights the interconnectedness of the economy and the cascading effects of financial instability across multiple industries. The financial crisis serves as a stark reminder of the vulnerabilities within the economic system and the profound impact of systemic shocks on market performance."
   ]
  },
  {
   "cell_type": "markdown",
   "metadata": {},
   "source": [
    "## 3.3 Era 3 (2020-2024) ##"
   ]
  },
  {
   "cell_type": "code",
   "execution_count": 20,
   "metadata": {},
   "outputs": [
    {
     "data": {
      "application/vnd.plotly.v1+json": {
       "config": {
        "plotlyServerURL": "https://plot.ly"
       },
       "data": [
        {
         "hoverinfo": "x+y+name",
         "line": {
          "color": "#1f77b4"
         },
         "mode": "lines",
         "name": "Communication Services",
         "type": "scatter",
         "x": [
          "2020-01-31T00:00:00",
          "2020-02-29T00:00:00",
          "2020-03-31T00:00:00",
          "2020-04-30T00:00:00",
          "2020-05-31T00:00:00",
          "2020-06-30T00:00:00",
          "2020-07-31T00:00:00",
          "2020-08-31T00:00:00",
          "2020-09-30T00:00:00",
          "2020-10-31T00:00:00",
          "2020-11-30T00:00:00",
          "2020-12-31T00:00:00",
          "2021-01-31T00:00:00",
          "2021-02-28T00:00:00",
          "2021-03-31T00:00:00",
          "2021-04-30T00:00:00",
          "2021-05-31T00:00:00",
          "2021-06-30T00:00:00",
          "2021-07-31T00:00:00",
          "2021-08-31T00:00:00",
          "2021-09-30T00:00:00",
          "2021-10-31T00:00:00",
          "2021-11-30T00:00:00",
          "2021-12-31T00:00:00",
          "2022-01-31T00:00:00",
          "2022-02-28T00:00:00",
          "2022-03-31T00:00:00",
          "2022-04-30T00:00:00",
          "2022-05-31T00:00:00",
          "2022-06-30T00:00:00",
          "2022-07-31T00:00:00",
          "2022-08-31T00:00:00",
          "2022-09-30T00:00:00",
          "2022-10-31T00:00:00",
          "2022-11-30T00:00:00",
          "2022-12-31T00:00:00",
          "2023-01-31T00:00:00",
          "2023-02-28T00:00:00",
          "2023-03-31T00:00:00",
          "2023-04-30T00:00:00",
          "2023-05-31T00:00:00",
          "2023-06-30T00:00:00",
          "2023-07-31T00:00:00",
          "2023-08-31T00:00:00",
          "2023-09-30T00:00:00",
          "2023-10-31T00:00:00",
          "2023-11-30T00:00:00",
          "2023-12-31T00:00:00",
          "2024-01-31T00:00:00",
          "2024-02-29T00:00:00",
          "2024-03-31T00:00:00",
          "2024-04-30T00:00:00",
          "2024-05-31T00:00:00",
          "2024-06-30T00:00:00",
          "2024-07-31T00:00:00",
          "2024-08-31T00:00:00",
          "2024-09-30T00:00:00",
          "2024-10-31T00:00:00",
          "2024-11-30T00:00:00"
         ],
         "y": [
          100,
          93.93951438889772,
          85.09891657392056,
          93.61868853203717,
          96.55722624752993,
          95.95248370318214,
          101.42071910418606,
          107.62713789265679,
          105.07926953914644,
          100.7938310582143,
          112.32198423694551,
          119.933222795103,
          116.08501601290118,
          120.34887682558431,
          123.09946169396054,
          125.69502805096873,
          122.6537124946056,
          122.65030549435573,
          123.27378654007768,
          126.30260976219138,
          123.59972289731303,
          123.63719990006132,
          114.09305653349082,
          117.02534808185885,
          110.39702909578214,
          106.8980398391896,
          103.20598723510572,
          84.92515956117836,
          91.49896654325754,
          84.24205601108412,
          87.21296022895044,
          84.69632271106366,
          75.8466395620869,
          86.14997615099827,
          90.0424739364481,
          86.05174097712768,
          99.44181979240012,
          92.27121993322281,
          94.54482476662048,
          95.0331614690985,
          91.08558384627615,
          95.56749267494946,
          94.70097894473845,
          94.91618779385377,
          89.78467758420969,
          93.35464601267405,
          102.11688282190474,
          103.16737456560747,
          113.82560701387786,
          114.87723442433054,
          119.60274377086787,
          111.00233947350489,
          116.95493674336204,
          117.83621414132237,
          117.01455924773434,
          119.39889158925206,
          126.95902514366185,
          129.93276852840302,
          141.74199922774662
         ]
        },
        {
         "hoverinfo": "x+y+name",
         "line": {
          "color": "#aec7e8"
         },
         "mode": "lines",
         "name": "Real Estate",
         "type": "scatter",
         "x": [
          "2020-01-31T00:00:00",
          "2020-02-29T00:00:00",
          "2020-03-31T00:00:00",
          "2020-04-30T00:00:00",
          "2020-05-31T00:00:00",
          "2020-06-30T00:00:00",
          "2020-07-31T00:00:00",
          "2020-08-31T00:00:00",
          "2020-09-30T00:00:00",
          "2020-10-31T00:00:00",
          "2020-11-30T00:00:00",
          "2020-12-31T00:00:00",
          "2021-01-31T00:00:00",
          "2021-02-28T00:00:00",
          "2021-03-31T00:00:00",
          "2021-04-30T00:00:00",
          "2021-05-31T00:00:00",
          "2021-06-30T00:00:00",
          "2021-07-31T00:00:00",
          "2021-08-31T00:00:00",
          "2021-09-30T00:00:00",
          "2021-10-31T00:00:00",
          "2021-11-30T00:00:00",
          "2021-12-31T00:00:00",
          "2022-01-31T00:00:00",
          "2022-02-28T00:00:00",
          "2022-03-31T00:00:00",
          "2022-04-30T00:00:00",
          "2022-05-31T00:00:00",
          "2022-06-30T00:00:00",
          "2022-07-31T00:00:00",
          "2022-08-31T00:00:00",
          "2022-09-30T00:00:00",
          "2022-10-31T00:00:00",
          "2022-11-30T00:00:00",
          "2022-12-31T00:00:00",
          "2023-01-31T00:00:00",
          "2023-02-28T00:00:00",
          "2023-03-31T00:00:00",
          "2023-04-30T00:00:00",
          "2023-05-31T00:00:00",
          "2023-06-30T00:00:00",
          "2023-07-31T00:00:00",
          "2023-08-31T00:00:00",
          "2023-09-30T00:00:00",
          "2023-10-31T00:00:00",
          "2023-11-30T00:00:00",
          "2023-12-31T00:00:00",
          "2024-01-31T00:00:00",
          "2024-02-29T00:00:00",
          "2024-03-31T00:00:00",
          "2024-04-30T00:00:00",
          "2024-05-31T00:00:00",
          "2024-06-30T00:00:00",
          "2024-07-31T00:00:00",
          "2024-08-31T00:00:00",
          "2024-09-30T00:00:00",
          "2024-10-31T00:00:00",
          "2024-11-30T00:00:00"
         ],
         "y": [
          100,
          94.78122936762685,
          82.0270489114412,
          89.96981185351896,
          91.942214821674,
          95.78113386179892,
          100.21052806417991,
          101.86402461558903,
          100.80930808103876,
          99.19442910353247,
          104.95010858597394,
          106.94119747698517,
          110.46287107128472,
          110.73319408860449,
          117.62041001067173,
          128.34737545832417,
          130.97337048371625,
          137.83068892921358,
          142.40832478625381,
          148.64776204930592,
          139.39158635180192,
          154.00937618084652,
          153.30221781142166,
          168.35186007980965,
          152.4547073992102,
          144.50945300075156,
          154.42794085282551,
          147.57228337824876,
          137.81864689003956,
          129.03501741943253,
          141.72940292247833,
          135.18683846642557,
          116.76999289934933,
          124.23107427446713,
          134.44521495039925,
          129.70480394314495,
          142.9273781989262,
          134.50999281630075,
          136.02147635400271,
          136.18591247513734,
          131.3005817550649,
          138.17658612341845,
          140.30304414445465,
          135.0373510835759,
          126.34964268363072,
          124.13307699015459,
          140.43550657536863,
          155.55906204972118,
          148.86908642446943,
          155.36638942293717,
          155.58148515714862,
          134.20395892418912,
          146.03671576219878,
          148.9209917657367,
          159.0554058374823,
          169.99995847572697,
          176.41504341362742,
          167.41424199515825,
          175.4068340648526
         ]
        },
        {
         "hoverinfo": "x+y+name",
         "line": {
          "color": "#ff7f0e"
         },
         "mode": "lines",
         "name": "Materials",
         "type": "scatter",
         "x": [
          "2020-01-31T00:00:00",
          "2020-02-29T00:00:00",
          "2020-03-31T00:00:00",
          "2020-04-30T00:00:00",
          "2020-05-31T00:00:00",
          "2020-06-30T00:00:00",
          "2020-07-31T00:00:00",
          "2020-08-31T00:00:00",
          "2020-09-30T00:00:00",
          "2020-10-31T00:00:00",
          "2020-11-30T00:00:00",
          "2020-12-31T00:00:00",
          "2021-01-31T00:00:00",
          "2021-02-28T00:00:00",
          "2021-03-31T00:00:00",
          "2021-04-30T00:00:00",
          "2021-05-31T00:00:00",
          "2021-06-30T00:00:00",
          "2021-07-31T00:00:00",
          "2021-08-31T00:00:00",
          "2021-09-30T00:00:00",
          "2021-10-31T00:00:00",
          "2021-11-30T00:00:00",
          "2021-12-31T00:00:00",
          "2022-01-31T00:00:00",
          "2022-02-28T00:00:00",
          "2022-03-31T00:00:00",
          "2022-04-30T00:00:00",
          "2022-05-31T00:00:00",
          "2022-06-30T00:00:00",
          "2022-07-31T00:00:00",
          "2022-08-31T00:00:00",
          "2022-09-30T00:00:00",
          "2022-10-31T00:00:00",
          "2022-11-30T00:00:00",
          "2022-12-31T00:00:00",
          "2023-01-31T00:00:00",
          "2023-02-28T00:00:00",
          "2023-03-31T00:00:00",
          "2023-04-30T00:00:00",
          "2023-05-31T00:00:00",
          "2023-06-30T00:00:00",
          "2023-07-31T00:00:00",
          "2023-08-31T00:00:00",
          "2023-09-30T00:00:00",
          "2023-10-31T00:00:00",
          "2023-11-30T00:00:00",
          "2023-12-31T00:00:00",
          "2024-01-31T00:00:00",
          "2024-02-29T00:00:00",
          "2024-03-31T00:00:00",
          "2024-04-30T00:00:00",
          "2024-05-31T00:00:00",
          "2024-06-30T00:00:00",
          "2024-07-31T00:00:00",
          "2024-08-31T00:00:00",
          "2024-09-30T00:00:00",
          "2024-10-31T00:00:00",
          "2024-11-30T00:00:00"
         ],
         "y": [
          100,
          91.48077168774753,
          78.67637664494697,
          90.6247604446148,
          96.86214386099398,
          98.9727865082407,
          106.01763127635108,
          110.63753673182572,
          112.30356458413185,
          111.49354797495847,
          125.27405136067458,
          128.38379966781653,
          125.27916187555894,
          130.4407819087773,
          140.3424044972531,
          147.89319023891656,
          155.40820237638943,
          147.22882330394785,
          150.28746646224607,
          153.13146799540053,
          142.12341893445765,
          152.92193688514118,
          152.07614667177717,
          163.61057876581066,
          152.48754311996933,
          150.55576849367574,
          159.76747157276094,
          154.11268685320044,
          155.92436437971128,
          134.3196627060176,
          142.5859205314935,
          137.6236105787658,
          124.81921553596524,
          135.9601379839019,
          151.8717260764022,
          143.49048166602782,
          156.3664239172097,
          151.15625399258974,
          149.64354158681485,
          149.4391209914399,
          139.17976236105784,
          154.49853072697073,
          159.81091094927814,
          154.53430433116137,
          147.14961032324004,
          142.48371023380605,
          154.38098888463009,
          161.364507474128,
          155.08112942378943,
          165.17439632042928,
          175.85792768621437,
          167.79353519867124,
          173.28478344193178,
          167.9851795068353,
          175.2702184745113,
          179.34074357991568,
          184.15229334355433,
          178.44129296026574,
          181.09620544269836
         ]
        },
        {
         "hoverinfo": "x+y+name",
         "line": {
          "color": "#ffbb78"
         },
         "mode": "lines",
         "name": "Energy",
         "type": "scatter",
         "x": [
          "2020-01-31T00:00:00",
          "2020-02-29T00:00:00",
          "2020-03-31T00:00:00",
          "2020-04-30T00:00:00",
          "2020-05-31T00:00:00",
          "2020-06-30T00:00:00",
          "2020-07-31T00:00:00",
          "2020-08-31T00:00:00",
          "2020-09-30T00:00:00",
          "2020-10-31T00:00:00",
          "2020-11-30T00:00:00",
          "2020-12-31T00:00:00",
          "2021-01-31T00:00:00",
          "2021-02-28T00:00:00",
          "2021-03-31T00:00:00",
          "2021-04-30T00:00:00",
          "2021-05-31T00:00:00",
          "2021-06-30T00:00:00",
          "2021-07-31T00:00:00",
          "2021-08-31T00:00:00",
          "2021-09-30T00:00:00",
          "2021-10-31T00:00:00",
          "2021-11-30T00:00:00",
          "2021-12-31T00:00:00",
          "2022-01-31T00:00:00",
          "2022-02-28T00:00:00",
          "2022-03-31T00:00:00",
          "2022-04-30T00:00:00",
          "2022-05-31T00:00:00",
          "2022-06-30T00:00:00",
          "2022-07-31T00:00:00",
          "2022-08-31T00:00:00",
          "2022-09-30T00:00:00",
          "2022-10-31T00:00:00",
          "2022-11-30T00:00:00",
          "2022-12-31T00:00:00",
          "2023-01-31T00:00:00",
          "2023-02-28T00:00:00",
          "2023-03-31T00:00:00",
          "2023-04-30T00:00:00",
          "2023-05-31T00:00:00",
          "2023-06-30T00:00:00",
          "2023-07-31T00:00:00",
          "2023-08-31T00:00:00",
          "2023-09-30T00:00:00",
          "2023-10-31T00:00:00",
          "2023-11-30T00:00:00",
          "2023-12-31T00:00:00",
          "2024-01-31T00:00:00",
          "2024-02-29T00:00:00",
          "2024-03-31T00:00:00",
          "2024-04-30T00:00:00",
          "2024-05-31T00:00:00",
          "2024-06-30T00:00:00",
          "2024-07-31T00:00:00",
          "2024-08-31T00:00:00",
          "2024-09-30T00:00:00",
          "2024-10-31T00:00:00",
          "2024-11-30T00:00:00"
         ],
         "y": [
          100,
          84.71018103305099,
          55.595416043846534,
          72.69888722803522,
          74.15379505065603,
          73.3399767480485,
          69.81232353429661,
          69.07822620827105,
          58.98687925593755,
          56.56535459226042,
          72.39993356585285,
          75.64524165421027,
          78.47865803022754,
          96.10031556219897,
          98.95698388971933,
          99.62132536123568,
          105.3114100647733,
          109.76914133864805,
          100.6410895200133,
          98.62149144660354,
          107.43065935891048,
          118.52848364059125,
          112.58594917787744,
          115.94751702375021,
          137.71466533798372,
          147.45058960305596,
          161.21906660023254,
          158.49858827437302,
          183.91297126723134,
          152.5128716160106,
          167.25128716160106,
          171.68576648397277,
          155.27653213751867,
          194.04085700049825,
          196.52217239661184,
          190.5298123235343,
          195.88772629131375,
          182.295299784089,
          182.30526490616177,
          187.36754691911642,
          168.57000498256102,
          180.2258761003156,
          194.23683773459558,
          197.43232021258927,
          202.17904002657363,
          190.54642086032217,
          189.18119913635607,
          189.3273542600897,
          188.35741571167577,
          194.5225045673476,
          214.9211094502574,
          212.89486796213254,
          212.16741405082212,
          209.16459059956819,
          213.89138016940709,
          209.46354426175054,
          203.14233516027235,
          204.96927420694234,
          221.02640757349278
         ]
        },
        {
         "hoverinfo": "x+y+name",
         "line": {
          "color": "#2ca02c"
         },
         "mode": "lines",
         "name": "Financials",
         "type": "scatter",
         "x": [
          "2020-01-31T00:00:00",
          "2020-02-29T00:00:00",
          "2020-03-31T00:00:00",
          "2020-04-30T00:00:00",
          "2020-05-31T00:00:00",
          "2020-06-30T00:00:00",
          "2020-07-31T00:00:00",
          "2020-08-31T00:00:00",
          "2020-09-30T00:00:00",
          "2020-10-31T00:00:00",
          "2020-11-30T00:00:00",
          "2020-12-31T00:00:00",
          "2021-01-31T00:00:00",
          "2021-02-28T00:00:00",
          "2021-03-31T00:00:00",
          "2021-04-30T00:00:00",
          "2021-05-31T00:00:00",
          "2021-06-30T00:00:00",
          "2021-07-31T00:00:00",
          "2021-08-31T00:00:00",
          "2021-09-30T00:00:00",
          "2021-10-31T00:00:00",
          "2021-11-30T00:00:00",
          "2021-12-31T00:00:00",
          "2022-01-31T00:00:00",
          "2022-02-28T00:00:00",
          "2022-03-31T00:00:00",
          "2022-04-30T00:00:00",
          "2022-05-31T00:00:00",
          "2022-06-30T00:00:00",
          "2022-07-31T00:00:00",
          "2022-08-31T00:00:00",
          "2022-09-30T00:00:00",
          "2022-10-31T00:00:00",
          "2022-11-30T00:00:00",
          "2022-12-31T00:00:00",
          "2023-01-31T00:00:00",
          "2023-02-28T00:00:00",
          "2023-03-31T00:00:00",
          "2023-04-30T00:00:00",
          "2023-05-31T00:00:00",
          "2023-06-30T00:00:00",
          "2023-07-31T00:00:00",
          "2023-08-31T00:00:00",
          "2023-09-30T00:00:00",
          "2023-10-31T00:00:00",
          "2023-11-30T00:00:00",
          "2023-12-31T00:00:00",
          "2024-01-31T00:00:00",
          "2024-02-29T00:00:00",
          "2024-03-31T00:00:00",
          "2024-04-30T00:00:00",
          "2024-05-31T00:00:00",
          "2024-06-30T00:00:00",
          "2024-07-31T00:00:00",
          "2024-08-31T00:00:00",
          "2024-09-30T00:00:00",
          "2024-10-31T00:00:00",
          "2024-11-30T00:00:00"
         ],
         "y": [
          100,
          88.74994754731233,
          70.0809869497713,
          76.71100667198188,
          78.79652553396836,
          78.38529646259074,
          81.40237505769797,
          84.88942973437959,
          81.98564894465193,
          81.26809617724811,
          94.96454198313121,
          100.95254080819103,
          99.1355797071042,
          110.64160127564936,
          117.11636104233982,
          124.71990264781168,
          130.67013553774493,
          126.69631991943267,
          126.10884981746464,
          132.60459065922535,
          130.15819730602996,
          139.62905459275734,
          131.65204985103438,
          136.07905669086483,
          136.1126264109773,
          134.2327220846796,
          134.05648105408923,
          120.72930216944316,
          124.086274180689,
          110.61222777055097,
          118.55985900717553,
          116.23935210440182,
          107.33918005958625,
          120.13763585246109,
          128.3748059250556,
          121.67345054760605,
          130.07007679073476,
          127.08237170072596,
          114.94691788007219,
          118.593428727288,
          113.55377449540515,
          121.06499937056773,
          126.88514959506524,
          123.47362678863665,
          119.65926734085855,
          116.73870169107465,
          129.50778397885108,
          136.31404473165205,
          140.5186521757375,
          146.2464856699257,
          153.2751458184717,
          146.86752549200622,
          151.52532415760984,
          150.1909277831396,
          159.80026016533085,
          167.10587050480467,
          166.1701145566699,
          170.425076580924,
          188.24640174562546
         ]
        },
        {
         "hoverinfo": "x+y+name",
         "line": {
          "color": "#98df8a"
         },
         "mode": "lines",
         "name": "Industrials",
         "type": "scatter",
         "x": [
          "2020-01-31T00:00:00",
          "2020-02-29T00:00:00",
          "2020-03-31T00:00:00",
          "2020-04-30T00:00:00",
          "2020-05-31T00:00:00",
          "2020-06-30T00:00:00",
          "2020-07-31T00:00:00",
          "2020-08-31T00:00:00",
          "2020-09-30T00:00:00",
          "2020-10-31T00:00:00",
          "2020-11-30T00:00:00",
          "2020-12-31T00:00:00",
          "2021-01-31T00:00:00",
          "2021-02-28T00:00:00",
          "2021-03-31T00:00:00",
          "2021-04-30T00:00:00",
          "2021-05-31T00:00:00",
          "2021-06-30T00:00:00",
          "2021-07-31T00:00:00",
          "2021-08-31T00:00:00",
          "2021-09-30T00:00:00",
          "2021-10-31T00:00:00",
          "2021-11-30T00:00:00",
          "2021-12-31T00:00:00",
          "2022-01-31T00:00:00",
          "2022-02-28T00:00:00",
          "2022-03-31T00:00:00",
          "2022-04-30T00:00:00",
          "2022-05-31T00:00:00",
          "2022-06-30T00:00:00",
          "2022-07-31T00:00:00",
          "2022-08-31T00:00:00",
          "2022-09-30T00:00:00",
          "2022-10-31T00:00:00",
          "2022-11-30T00:00:00",
          "2022-12-31T00:00:00",
          "2023-01-31T00:00:00",
          "2023-02-28T00:00:00",
          "2023-03-31T00:00:00",
          "2023-04-30T00:00:00",
          "2023-05-31T00:00:00",
          "2023-06-30T00:00:00",
          "2023-07-31T00:00:00",
          "2023-08-31T00:00:00",
          "2023-09-30T00:00:00",
          "2023-10-31T00:00:00",
          "2023-11-30T00:00:00",
          "2023-12-31T00:00:00",
          "2024-01-31T00:00:00",
          "2024-02-29T00:00:00",
          "2024-03-31T00:00:00",
          "2024-04-30T00:00:00",
          "2024-05-31T00:00:00",
          "2024-06-30T00:00:00",
          "2024-07-31T00:00:00",
          "2024-08-31T00:00:00",
          "2024-09-30T00:00:00",
          "2024-10-31T00:00:00",
          "2024-11-30T00:00:00"
         ],
         "y": [
          100,
          90.09999767986821,
          73.31616435813554,
          79.77773137514211,
          84.07693556994037,
          85.73582979513236,
          89.51764460221341,
          97.10447553421034,
          96.44323797591704,
          95.05115890582584,
          110.28514419619033,
          111.39648732047979,
          106.64021716433494,
          113.98807452263289,
          124.2314563467205,
          128.62346581285817,
          132.6488944572052,
          129.62576274332383,
          130.8391916660866,
          132.29623442611543,
          124.25233753277185,
          132.6976172246584,
          127.97382891348231,
          134.88086123291805,
          128.416974084128,
          127.33347254124037,
          131.70924108489362,
          121.68163151667015,
          121.1201596250667,
          112.19693278578222,
          122.86025846268068,
          119.37774065566924,
          106.92559337370365,
          121.78139718336001,
          131.29625762743325,
          127.37059464977611,
          132.08974269738522,
          130.94823785991042,
          131.7602839841303,
          130.22435674346303,
          126.12236375026103,
          140.3146098698406,
          144.36788009558944,
          141.50483747476855,
          133.0873993642839,
          129.12461427809097,
          140.53270225748824,
          150.46054615902185,
          149.00814366256003,
          159.7132317115612,
          166.77339272870697,
          160.89649892113874,
          163.52984849539456,
          161.9127166423053,
          169.87076865965986,
          174.65488039720657,
          180.52713394120786,
          178.38101204148398,
          191.92362126168769
         ]
        },
        {
         "hoverinfo": "x+y+name",
         "line": {
          "color": "#d62728"
         },
         "mode": "lines",
         "name": "Technology",
         "type": "scatter",
         "x": [
          "2020-01-31T00:00:00",
          "2020-02-29T00:00:00",
          "2020-03-31T00:00:00",
          "2020-04-30T00:00:00",
          "2020-05-31T00:00:00",
          "2020-06-30T00:00:00",
          "2020-07-31T00:00:00",
          "2020-08-31T00:00:00",
          "2020-09-30T00:00:00",
          "2020-10-31T00:00:00",
          "2020-11-30T00:00:00",
          "2020-12-31T00:00:00",
          "2021-01-31T00:00:00",
          "2021-02-28T00:00:00",
          "2021-03-31T00:00:00",
          "2021-04-30T00:00:00",
          "2021-05-31T00:00:00",
          "2021-06-30T00:00:00",
          "2021-07-31T00:00:00",
          "2021-08-31T00:00:00",
          "2021-09-30T00:00:00",
          "2021-10-31T00:00:00",
          "2021-11-30T00:00:00",
          "2021-12-31T00:00:00",
          "2022-01-31T00:00:00",
          "2022-02-28T00:00:00",
          "2022-03-31T00:00:00",
          "2022-04-30T00:00:00",
          "2022-05-31T00:00:00",
          "2022-06-30T00:00:00",
          "2022-07-31T00:00:00",
          "2022-08-31T00:00:00",
          "2022-09-30T00:00:00",
          "2022-10-31T00:00:00",
          "2022-11-30T00:00:00",
          "2022-12-31T00:00:00",
          "2023-01-31T00:00:00",
          "2023-02-28T00:00:00",
          "2023-03-31T00:00:00",
          "2023-04-30T00:00:00",
          "2023-05-31T00:00:00",
          "2023-06-30T00:00:00",
          "2023-07-31T00:00:00",
          "2023-08-31T00:00:00",
          "2023-09-30T00:00:00",
          "2023-10-31T00:00:00",
          "2023-11-30T00:00:00",
          "2023-12-31T00:00:00",
          "2024-01-31T00:00:00",
          "2024-02-29T00:00:00",
          "2024-03-31T00:00:00",
          "2024-04-30T00:00:00",
          "2024-05-31T00:00:00",
          "2024-06-30T00:00:00",
          "2024-07-31T00:00:00",
          "2024-08-31T00:00:00",
          "2024-09-30T00:00:00",
          "2024-10-31T00:00:00",
          "2024-11-30T00:00:00"
         ],
         "y": [
          100,
          92.69784471998003,
          84.74660897062495,
          96.38844969626362,
          103.30781393026544,
          110.4851460431056,
          116.7679121244903,
          130.63992677040858,
          123.67063326953482,
          117.47940417741533,
          130.8521261546143,
          138.10435216776233,
          136.94765748522926,
          138.81584422068735,
          141.36639760339517,
          148.70183906132976,
          147.3163019056337,
          157.46026462511443,
          163.58076058916532,
          169.405841724224,
          159.51152533910295,
          172.55554630939503,
          180.2363318631938,
          186.09053840392778,
          173.35441457934593,
          164.89556461679285,
          170.4127486061413,
          151.63934426229508,
          150.59915120246316,
          136.66056420071564,
          155.04285595406506,
          145.41066822002165,
          128.01031871515355,
          137.80477656653073,
          146.5215944079221,
          134.49280186402598,
          146.94599317633353,
          147.54930515103604,
          163.56827827244737,
          163.37688274943832,
          177.94374635932428,
          188.7159856869435,
          193.58824997919612,
          190.66738786718815,
          178.31821586086377,
          178.40559207788965,
          201.41050178913207,
          209.8360655737705,
          215.50303736373473,
          225.6428393109761,
          227.42364982940836,
          214.32137804776565,
          229.48739286011482,
          247.46608970624945,
          239.34010152284264,
          241.01273196305235,
          247.39535657818092,
          243.53832071232424,
          256.1329782807689
         ]
        },
        {
         "hoverinfo": "x+y+name",
         "line": {
          "color": "#ff9896"
         },
         "mode": "lines",
         "name": "Consumer Staples",
         "type": "scatter",
         "x": [
          "2020-01-31T00:00:00",
          "2020-02-29T00:00:00",
          "2020-03-31T00:00:00",
          "2020-04-30T00:00:00",
          "2020-05-31T00:00:00",
          "2020-06-30T00:00:00",
          "2020-07-31T00:00:00",
          "2020-08-31T00:00:00",
          "2020-09-30T00:00:00",
          "2020-10-31T00:00:00",
          "2020-11-30T00:00:00",
          "2020-12-31T00:00:00",
          "2021-01-31T00:00:00",
          "2021-02-28T00:00:00",
          "2021-03-31T00:00:00",
          "2021-04-30T00:00:00",
          "2021-05-31T00:00:00",
          "2021-06-30T00:00:00",
          "2021-07-31T00:00:00",
          "2021-08-31T00:00:00",
          "2021-09-30T00:00:00",
          "2021-10-31T00:00:00",
          "2021-11-30T00:00:00",
          "2021-12-31T00:00:00",
          "2022-01-31T00:00:00",
          "2022-02-28T00:00:00",
          "2022-03-31T00:00:00",
          "2022-04-30T00:00:00",
          "2022-05-31T00:00:00",
          "2022-06-30T00:00:00",
          "2022-07-31T00:00:00",
          "2022-08-31T00:00:00",
          "2022-09-30T00:00:00",
          "2022-10-31T00:00:00",
          "2022-11-30T00:00:00",
          "2022-12-31T00:00:00",
          "2023-01-31T00:00:00",
          "2023-02-28T00:00:00",
          "2023-03-31T00:00:00",
          "2023-04-30T00:00:00",
          "2023-05-31T00:00:00",
          "2023-06-30T00:00:00",
          "2023-07-31T00:00:00",
          "2023-08-31T00:00:00",
          "2023-09-30T00:00:00",
          "2023-10-31T00:00:00",
          "2023-11-30T00:00:00",
          "2023-12-31T00:00:00",
          "2024-01-31T00:00:00",
          "2024-02-29T00:00:00",
          "2024-03-31T00:00:00",
          "2024-04-30T00:00:00",
          "2024-05-31T00:00:00",
          "2024-06-30T00:00:00",
          "2024-07-31T00:00:00",
          "2024-08-31T00:00:00",
          "2024-09-30T00:00:00",
          "2024-10-31T00:00:00",
          "2024-11-30T00:00:00"
         ],
         "y": [
          100,
          91.7865901624173,
          86.7081578825598,
          92.74212206746564,
          94.2853176623016,
          94.07246309749664,
          100.5876636897876,
          105.20799592799963,
          103.44500485863679,
          100.47429549766322,
          107.97973254361204,
          109.76354634214059,
          104.29410948128266,
          103.010041182731,
          111.76252834204803,
          113.84017398547034,
          115.85303780482161,
          115.22141502012863,
          117.75947434177039,
          118.99264263569475,
          114.06922400629307,
          118.06256073296007,
          116.4707787700708,
          128.6474480588589,
          126.74563879505807,
          124.95951135995557,
          127.18754338068577,
          130.11892091990188,
          124.80681134607377,
          121.87774744343156,
          125.77853870713986,
          123.44639304058116,
          113.40752394613854,
          123.62222942020267,
          131.18550738050067,
          127.60631160057376,
          126.22044329276756,
          123.29369302669934,
          128.4947480449771,
          133.19143029013,
          124.98727499884319,
          128.4716116792374,
          131.20864374624034,
          126.02841145712831,
          119.99444727222246,
          118.33788348526213,
          123.22197029290638,
          126.56286150571468,
          128.12687982971633,
          130.81532552866594,
          135.15802137800193,
          133.63564851233167,
          136.89324880847715,
          136.57165332469575,
          138.8367035306094,
          147.14728610429873,
          148.80616352783304,
          143.64444033131275,
          149.20179538198138
         ]
        },
        {
         "hoverinfo": "x+y+name",
         "line": {
          "color": "#9467bd"
         },
         "mode": "lines",
         "name": "Utilities",
         "type": "scatter",
         "x": [
          "2020-01-31T00:00:00",
          "2020-02-29T00:00:00",
          "2020-03-31T00:00:00",
          "2020-04-30T00:00:00",
          "2020-05-31T00:00:00",
          "2020-06-30T00:00:00",
          "2020-07-31T00:00:00",
          "2020-08-31T00:00:00",
          "2020-09-30T00:00:00",
          "2020-10-31T00:00:00",
          "2020-11-30T00:00:00",
          "2020-12-31T00:00:00",
          "2021-01-31T00:00:00",
          "2021-02-28T00:00:00",
          "2021-03-31T00:00:00",
          "2021-04-30T00:00:00",
          "2021-05-31T00:00:00",
          "2021-06-30T00:00:00",
          "2021-07-31T00:00:00",
          "2021-08-31T00:00:00",
          "2021-09-30T00:00:00",
          "2021-10-31T00:00:00",
          "2021-11-30T00:00:00",
          "2021-12-31T00:00:00",
          "2022-01-31T00:00:00",
          "2022-02-28T00:00:00",
          "2022-03-31T00:00:00",
          "2022-04-30T00:00:00",
          "2022-05-31T00:00:00",
          "2022-06-30T00:00:00",
          "2022-07-31T00:00:00",
          "2022-08-31T00:00:00",
          "2022-09-30T00:00:00",
          "2022-10-31T00:00:00",
          "2022-11-30T00:00:00",
          "2022-12-31T00:00:00",
          "2023-01-31T00:00:00",
          "2023-02-28T00:00:00",
          "2023-03-31T00:00:00",
          "2023-04-30T00:00:00",
          "2023-05-31T00:00:00",
          "2023-06-30T00:00:00",
          "2023-07-31T00:00:00",
          "2023-08-31T00:00:00",
          "2023-09-30T00:00:00",
          "2023-10-31T00:00:00",
          "2023-11-30T00:00:00",
          "2023-12-31T00:00:00",
          "2024-01-31T00:00:00",
          "2024-02-29T00:00:00",
          "2024-03-31T00:00:00",
          "2024-04-30T00:00:00",
          "2024-05-31T00:00:00",
          "2024-06-30T00:00:00",
          "2024-07-31T00:00:00",
          "2024-08-31T00:00:00",
          "2024-09-30T00:00:00",
          "2024-10-31T00:00:00",
          "2024-11-30T00:00:00"
         ],
         "y": [
          100,
          90.14114795120425,
          81.13270253362528,
          83.84031904910854,
          87.39834219580858,
          83.31443540819518,
          89.81076008758211,
          87.47849546449797,
          88.42469502658743,
          92.89177353769159,
          93.57600875821083,
          94.15663121676572,
          93.33163903659681,
          87.64075695964968,
          96.88770722552394,
          100.94228964654364,
          98.58265561463872,
          96.40483265561464,
          100.58257741632781,
          104.50226775101656,
          98.13301532686894,
          102.78776978417265,
          101.03808257741633,
          110.82655614638723,
          107.21965905536442,
          105.17672818267125,
          116.05606818892711,
          111.06897091022833,
          115.85470753831717,
          110.18142008132625,
          116.1831404441664,
          116.79699718486083,
          103.62058179543321,
          105.63027838598688,
          112.98482952768221,
          112.42571160462936,
          110.17751016578043,
          103.65577103534565,
          108.74061620269002,
          110.81287144197687,
          104.30677197372535,
          105.9723959962465,
          108.61158898967784,
          101.95495777291211,
          96.2034720050047,
          97.44291523303097,
          102.45542696277761,
          104.359555833594,
          101.26290272130123,
          102.33226462308416,
          109.07686893963091,
          110.88715983734751,
          120.82421019705973,
          114.12652486706287,
          121.91507663434471,
          127.7779949953081,
          136.21363778542383,
          134.74741945573976,
          139.84008445417578
         ]
        },
        {
         "hoverinfo": "x+y+name",
         "line": {
          "color": "#c5b0d5"
         },
         "mode": "lines",
         "name": "Health Care",
         "type": "scatter",
         "x": [
          "2020-01-31T00:00:00",
          "2020-02-29T00:00:00",
          "2020-03-31T00:00:00",
          "2020-04-30T00:00:00",
          "2020-05-31T00:00:00",
          "2020-06-30T00:00:00",
          "2020-07-31T00:00:00",
          "2020-08-31T00:00:00",
          "2020-09-30T00:00:00",
          "2020-10-31T00:00:00",
          "2020-11-30T00:00:00",
          "2020-12-31T00:00:00",
          "2021-01-31T00:00:00",
          "2021-02-28T00:00:00",
          "2021-03-31T00:00:00",
          "2021-04-30T00:00:00",
          "2021-05-31T00:00:00",
          "2021-06-30T00:00:00",
          "2021-07-31T00:00:00",
          "2021-08-31T00:00:00",
          "2021-09-30T00:00:00",
          "2021-10-31T00:00:00",
          "2021-11-30T00:00:00",
          "2021-12-31T00:00:00",
          "2022-01-31T00:00:00",
          "2022-02-28T00:00:00",
          "2022-03-31T00:00:00",
          "2022-04-30T00:00:00",
          "2022-05-31T00:00:00",
          "2022-06-30T00:00:00",
          "2022-07-31T00:00:00",
          "2022-08-31T00:00:00",
          "2022-09-30T00:00:00",
          "2022-10-31T00:00:00",
          "2022-11-30T00:00:00",
          "2022-12-31T00:00:00",
          "2023-01-31T00:00:00",
          "2023-02-28T00:00:00",
          "2023-03-31T00:00:00",
          "2023-04-30T00:00:00",
          "2023-05-31T00:00:00",
          "2023-06-30T00:00:00",
          "2023-07-31T00:00:00",
          "2023-08-31T00:00:00",
          "2023-09-30T00:00:00",
          "2023-10-31T00:00:00",
          "2023-11-30T00:00:00",
          "2023-12-31T00:00:00",
          "2024-01-31T00:00:00",
          "2024-02-29T00:00:00",
          "2024-03-31T00:00:00",
          "2024-04-30T00:00:00",
          "2024-05-31T00:00:00",
          "2024-06-30T00:00:00",
          "2024-07-31T00:00:00",
          "2024-08-31T00:00:00",
          "2024-09-30T00:00:00",
          "2024-10-31T00:00:00",
          "2024-11-30T00:00:00"
         ],
         "y": [
          100,
          93.41404248566053,
          89.78213063093699,
          101.08367906776397,
          104.40726382370944,
          101.85676392572944,
          107.41572014781565,
          110.19293114783832,
          107.78979346618604,
          103.88809540003174,
          112.14491373642568,
          116.40254823278697,
          118.03486816749415,
          115.55238160012698,
          120.20449341404249,
          124.93141989163207,
          127.26881135369199,
          130.19338457004238,
          136.6025074247886,
          139.76739440930425,
          132.0546827178127,
          138.81747489174546,
          134.57344306150674,
          146.71382257589153,
          136.65465097825842,
          135.33065814232924,
          143.09551338729057,
          136.09694166723344,
          138.1237389194949,
          134.52129950803692,
          138.88548822235828,
          130.87125076515,
          127.5499331202249,
          139.8082024076719,
          146.41229681017478,
          143.66229114239724,
          141.03017524768188,
          134.48275862068968,
          137.43907139132605,
          141.76018499625926,
          135.7092656827405,
          141.4903987848285,
          143.0048289464735,
          142.00276587544494,
          137.7995420435739,
          133.3038608900678,
          140.55181482237188,
          146.6322065791562,
          150.9329161849056,
          155.70518488290372,
          159.4073771792605,
          151.42261216531773,
          155.05905824208213,
          157.8884127955746,
          162.09163662744567,
          170.29177718832892,
          167.46922396789773,
          159.69530027885466,
          160.28248203314516
         ]
        },
        {
         "hoverinfo": "x+y+name",
         "line": {
          "color": "#8c564b"
         },
         "mode": "lines",
         "name": "Consumer Discretionary",
         "type": "scatter",
         "x": [
          "2020-01-31T00:00:00",
          "2020-02-29T00:00:00",
          "2020-03-31T00:00:00",
          "2020-04-30T00:00:00",
          "2020-05-31T00:00:00",
          "2020-06-30T00:00:00",
          "2020-07-31T00:00:00",
          "2020-08-31T00:00:00",
          "2020-09-30T00:00:00",
          "2020-10-31T00:00:00",
          "2020-11-30T00:00:00",
          "2020-12-31T00:00:00",
          "2021-01-31T00:00:00",
          "2021-02-28T00:00:00",
          "2021-03-31T00:00:00",
          "2021-04-30T00:00:00",
          "2021-05-31T00:00:00",
          "2021-06-30T00:00:00",
          "2021-07-31T00:00:00",
          "2021-08-31T00:00:00",
          "2021-09-30T00:00:00",
          "2021-10-31T00:00:00",
          "2021-11-30T00:00:00",
          "2021-12-31T00:00:00",
          "2022-01-31T00:00:00",
          "2022-02-28T00:00:00",
          "2022-03-31T00:00:00",
          "2022-04-30T00:00:00",
          "2022-05-31T00:00:00",
          "2022-06-30T00:00:00",
          "2022-07-31T00:00:00",
          "2022-08-31T00:00:00",
          "2022-09-30T00:00:00",
          "2022-10-31T00:00:00",
          "2022-11-30T00:00:00",
          "2022-12-31T00:00:00",
          "2023-01-31T00:00:00",
          "2023-02-28T00:00:00",
          "2023-03-31T00:00:00",
          "2023-04-30T00:00:00",
          "2023-05-31T00:00:00",
          "2023-06-30T00:00:00",
          "2023-07-31T00:00:00",
          "2023-08-31T00:00:00",
          "2023-09-30T00:00:00",
          "2023-10-31T00:00:00",
          "2023-11-30T00:00:00",
          "2023-12-31T00:00:00",
          "2024-01-31T00:00:00",
          "2024-02-29T00:00:00",
          "2024-03-31T00:00:00",
          "2024-04-30T00:00:00",
          "2024-05-31T00:00:00",
          "2024-06-30T00:00:00",
          "2024-07-31T00:00:00",
          "2024-08-31T00:00:00",
          "2024-09-30T00:00:00",
          "2024-10-31T00:00:00",
          "2024-11-30T00:00:00"
         ],
         "y": [
          100,
          92.42609167344725,
          78.6428668294006,
          93.49233794412802,
          99.57790886899919,
          102.6393409275834,
          110.10645511255763,
          120.62652563059399,
          118.37876322213184,
          115.14951179820994,
          126.65785191212369,
          129.73284513154329,
          130.72620016273393,
          130.03119066992136,
          135.8302820721454,
          144.5992676973149,
          139.68504203959859,
          144.51451044209384,
          146.03675074586386,
          148.64218877135883,
          145.46040141036073,
          163.0492270138324,
          165.71738540819098,
          165.9648765934364,
          150.14239218877137,
          144.03817466775158,
          150.41361540547874,
          132.42982099267698,
          125.64924057499323,
          112.03722538649308,
          132.69595877407104,
          126.72904800650937,
          116.32933279088691,
          117.62103336045567,
          119.36703281800922,
          105.76518850013561,
          121.76735828586929,
          119.1788717114185,
          122.8285191212368,
          121.44867100623816,
          124.52874966097099,
          139.7579332790887,
          142.99227013832385,
          140.49871168972066,
          132.72647138595065,
          125.40513967995662,
          139.15785191212368,
          147.6912123677787,
          141.17337944128016,
          152.315568212639,
          152.2172497965826,
          145.37225386493085,
          145.6621236777868,
          151.30865202061298,
          155.53125847572554,
          155.22443721182535,
          166.55817737998373,
          163.66625983184161,
          184.7877678329265
         ]
        }
       ],
       "layout": {
        "height": 600,
        "hovermode": "closest",
        "legend": {
         "title": {
          "text": "Sectors"
         }
        },
        "template": {
         "data": {
          "bar": [
           {
            "error_x": {
             "color": "#2a3f5f"
            },
            "error_y": {
             "color": "#2a3f5f"
            },
            "marker": {
             "line": {
              "color": "white",
              "width": 0.5
             },
             "pattern": {
              "fillmode": "overlay",
              "size": 10,
              "solidity": 0.2
             }
            },
            "type": "bar"
           }
          ],
          "barpolar": [
           {
            "marker": {
             "line": {
              "color": "white",
              "width": 0.5
             },
             "pattern": {
              "fillmode": "overlay",
              "size": 10,
              "solidity": 0.2
             }
            },
            "type": "barpolar"
           }
          ],
          "carpet": [
           {
            "aaxis": {
             "endlinecolor": "#2a3f5f",
             "gridcolor": "#C8D4E3",
             "linecolor": "#C8D4E3",
             "minorgridcolor": "#C8D4E3",
             "startlinecolor": "#2a3f5f"
            },
            "baxis": {
             "endlinecolor": "#2a3f5f",
             "gridcolor": "#C8D4E3",
             "linecolor": "#C8D4E3",
             "minorgridcolor": "#C8D4E3",
             "startlinecolor": "#2a3f5f"
            },
            "type": "carpet"
           }
          ],
          "choropleth": [
           {
            "colorbar": {
             "outlinewidth": 0,
             "ticks": ""
            },
            "type": "choropleth"
           }
          ],
          "contour": [
           {
            "colorbar": {
             "outlinewidth": 0,
             "ticks": ""
            },
            "colorscale": [
             [
              0,
              "#0d0887"
             ],
             [
              0.1111111111111111,
              "#46039f"
             ],
             [
              0.2222222222222222,
              "#7201a8"
             ],
             [
              0.3333333333333333,
              "#9c179e"
             ],
             [
              0.4444444444444444,
              "#bd3786"
             ],
             [
              0.5555555555555556,
              "#d8576b"
             ],
             [
              0.6666666666666666,
              "#ed7953"
             ],
             [
              0.7777777777777778,
              "#fb9f3a"
             ],
             [
              0.8888888888888888,
              "#fdca26"
             ],
             [
              1,
              "#f0f921"
             ]
            ],
            "type": "contour"
           }
          ],
          "contourcarpet": [
           {
            "colorbar": {
             "outlinewidth": 0,
             "ticks": ""
            },
            "type": "contourcarpet"
           }
          ],
          "heatmap": [
           {
            "colorbar": {
             "outlinewidth": 0,
             "ticks": ""
            },
            "colorscale": [
             [
              0,
              "#0d0887"
             ],
             [
              0.1111111111111111,
              "#46039f"
             ],
             [
              0.2222222222222222,
              "#7201a8"
             ],
             [
              0.3333333333333333,
              "#9c179e"
             ],
             [
              0.4444444444444444,
              "#bd3786"
             ],
             [
              0.5555555555555556,
              "#d8576b"
             ],
             [
              0.6666666666666666,
              "#ed7953"
             ],
             [
              0.7777777777777778,
              "#fb9f3a"
             ],
             [
              0.8888888888888888,
              "#fdca26"
             ],
             [
              1,
              "#f0f921"
             ]
            ],
            "type": "heatmap"
           }
          ],
          "heatmapgl": [
           {
            "colorbar": {
             "outlinewidth": 0,
             "ticks": ""
            },
            "colorscale": [
             [
              0,
              "#0d0887"
             ],
             [
              0.1111111111111111,
              "#46039f"
             ],
             [
              0.2222222222222222,
              "#7201a8"
             ],
             [
              0.3333333333333333,
              "#9c179e"
             ],
             [
              0.4444444444444444,
              "#bd3786"
             ],
             [
              0.5555555555555556,
              "#d8576b"
             ],
             [
              0.6666666666666666,
              "#ed7953"
             ],
             [
              0.7777777777777778,
              "#fb9f3a"
             ],
             [
              0.8888888888888888,
              "#fdca26"
             ],
             [
              1,
              "#f0f921"
             ]
            ],
            "type": "heatmapgl"
           }
          ],
          "histogram": [
           {
            "marker": {
             "pattern": {
              "fillmode": "overlay",
              "size": 10,
              "solidity": 0.2
             }
            },
            "type": "histogram"
           }
          ],
          "histogram2d": [
           {
            "colorbar": {
             "outlinewidth": 0,
             "ticks": ""
            },
            "colorscale": [
             [
              0,
              "#0d0887"
             ],
             [
              0.1111111111111111,
              "#46039f"
             ],
             [
              0.2222222222222222,
              "#7201a8"
             ],
             [
              0.3333333333333333,
              "#9c179e"
             ],
             [
              0.4444444444444444,
              "#bd3786"
             ],
             [
              0.5555555555555556,
              "#d8576b"
             ],
             [
              0.6666666666666666,
              "#ed7953"
             ],
             [
              0.7777777777777778,
              "#fb9f3a"
             ],
             [
              0.8888888888888888,
              "#fdca26"
             ],
             [
              1,
              "#f0f921"
             ]
            ],
            "type": "histogram2d"
           }
          ],
          "histogram2dcontour": [
           {
            "colorbar": {
             "outlinewidth": 0,
             "ticks": ""
            },
            "colorscale": [
             [
              0,
              "#0d0887"
             ],
             [
              0.1111111111111111,
              "#46039f"
             ],
             [
              0.2222222222222222,
              "#7201a8"
             ],
             [
              0.3333333333333333,
              "#9c179e"
             ],
             [
              0.4444444444444444,
              "#bd3786"
             ],
             [
              0.5555555555555556,
              "#d8576b"
             ],
             [
              0.6666666666666666,
              "#ed7953"
             ],
             [
              0.7777777777777778,
              "#fb9f3a"
             ],
             [
              0.8888888888888888,
              "#fdca26"
             ],
             [
              1,
              "#f0f921"
             ]
            ],
            "type": "histogram2dcontour"
           }
          ],
          "mesh3d": [
           {
            "colorbar": {
             "outlinewidth": 0,
             "ticks": ""
            },
            "type": "mesh3d"
           }
          ],
          "parcoords": [
           {
            "line": {
             "colorbar": {
              "outlinewidth": 0,
              "ticks": ""
             }
            },
            "type": "parcoords"
           }
          ],
          "pie": [
           {
            "automargin": true,
            "type": "pie"
           }
          ],
          "scatter": [
           {
            "fillpattern": {
             "fillmode": "overlay",
             "size": 10,
             "solidity": 0.2
            },
            "type": "scatter"
           }
          ],
          "scatter3d": [
           {
            "line": {
             "colorbar": {
              "outlinewidth": 0,
              "ticks": ""
             }
            },
            "marker": {
             "colorbar": {
              "outlinewidth": 0,
              "ticks": ""
             }
            },
            "type": "scatter3d"
           }
          ],
          "scattercarpet": [
           {
            "marker": {
             "colorbar": {
              "outlinewidth": 0,
              "ticks": ""
             }
            },
            "type": "scattercarpet"
           }
          ],
          "scattergeo": [
           {
            "marker": {
             "colorbar": {
              "outlinewidth": 0,
              "ticks": ""
             }
            },
            "type": "scattergeo"
           }
          ],
          "scattergl": [
           {
            "marker": {
             "colorbar": {
              "outlinewidth": 0,
              "ticks": ""
             }
            },
            "type": "scattergl"
           }
          ],
          "scattermapbox": [
           {
            "marker": {
             "colorbar": {
              "outlinewidth": 0,
              "ticks": ""
             }
            },
            "type": "scattermapbox"
           }
          ],
          "scatterpolar": [
           {
            "marker": {
             "colorbar": {
              "outlinewidth": 0,
              "ticks": ""
             }
            },
            "type": "scatterpolar"
           }
          ],
          "scatterpolargl": [
           {
            "marker": {
             "colorbar": {
              "outlinewidth": 0,
              "ticks": ""
             }
            },
            "type": "scatterpolargl"
           }
          ],
          "scatterternary": [
           {
            "marker": {
             "colorbar": {
              "outlinewidth": 0,
              "ticks": ""
             }
            },
            "type": "scatterternary"
           }
          ],
          "surface": [
           {
            "colorbar": {
             "outlinewidth": 0,
             "ticks": ""
            },
            "colorscale": [
             [
              0,
              "#0d0887"
             ],
             [
              0.1111111111111111,
              "#46039f"
             ],
             [
              0.2222222222222222,
              "#7201a8"
             ],
             [
              0.3333333333333333,
              "#9c179e"
             ],
             [
              0.4444444444444444,
              "#bd3786"
             ],
             [
              0.5555555555555556,
              "#d8576b"
             ],
             [
              0.6666666666666666,
              "#ed7953"
             ],
             [
              0.7777777777777778,
              "#fb9f3a"
             ],
             [
              0.8888888888888888,
              "#fdca26"
             ],
             [
              1,
              "#f0f921"
             ]
            ],
            "type": "surface"
           }
          ],
          "table": [
           {
            "cells": {
             "fill": {
              "color": "#EBF0F8"
             },
             "line": {
              "color": "white"
             }
            },
            "header": {
             "fill": {
              "color": "#C8D4E3"
             },
             "line": {
              "color": "white"
             }
            },
            "type": "table"
           }
          ]
         },
         "layout": {
          "annotationdefaults": {
           "arrowcolor": "#2a3f5f",
           "arrowhead": 0,
           "arrowwidth": 1
          },
          "autotypenumbers": "strict",
          "coloraxis": {
           "colorbar": {
            "outlinewidth": 0,
            "ticks": ""
           }
          },
          "colorscale": {
           "diverging": [
            [
             0,
             "#8e0152"
            ],
            [
             0.1,
             "#c51b7d"
            ],
            [
             0.2,
             "#de77ae"
            ],
            [
             0.3,
             "#f1b6da"
            ],
            [
             0.4,
             "#fde0ef"
            ],
            [
             0.5,
             "#f7f7f7"
            ],
            [
             0.6,
             "#e6f5d0"
            ],
            [
             0.7,
             "#b8e186"
            ],
            [
             0.8,
             "#7fbc41"
            ],
            [
             0.9,
             "#4d9221"
            ],
            [
             1,
             "#276419"
            ]
           ],
           "sequential": [
            [
             0,
             "#0d0887"
            ],
            [
             0.1111111111111111,
             "#46039f"
            ],
            [
             0.2222222222222222,
             "#7201a8"
            ],
            [
             0.3333333333333333,
             "#9c179e"
            ],
            [
             0.4444444444444444,
             "#bd3786"
            ],
            [
             0.5555555555555556,
             "#d8576b"
            ],
            [
             0.6666666666666666,
             "#ed7953"
            ],
            [
             0.7777777777777778,
             "#fb9f3a"
            ],
            [
             0.8888888888888888,
             "#fdca26"
            ],
            [
             1,
             "#f0f921"
            ]
           ],
           "sequentialminus": [
            [
             0,
             "#0d0887"
            ],
            [
             0.1111111111111111,
             "#46039f"
            ],
            [
             0.2222222222222222,
             "#7201a8"
            ],
            [
             0.3333333333333333,
             "#9c179e"
            ],
            [
             0.4444444444444444,
             "#bd3786"
            ],
            [
             0.5555555555555556,
             "#d8576b"
            ],
            [
             0.6666666666666666,
             "#ed7953"
            ],
            [
             0.7777777777777778,
             "#fb9f3a"
            ],
            [
             0.8888888888888888,
             "#fdca26"
            ],
            [
             1,
             "#f0f921"
            ]
           ]
          },
          "colorway": [
           "#636efa",
           "#EF553B",
           "#00cc96",
           "#ab63fa",
           "#FFA15A",
           "#19d3f3",
           "#FF6692",
           "#B6E880",
           "#FF97FF",
           "#FECB52"
          ],
          "font": {
           "color": "#2a3f5f"
          },
          "geo": {
           "bgcolor": "white",
           "lakecolor": "white",
           "landcolor": "white",
           "showlakes": true,
           "showland": true,
           "subunitcolor": "#C8D4E3"
          },
          "hoverlabel": {
           "align": "left"
          },
          "hovermode": "closest",
          "mapbox": {
           "style": "light"
          },
          "paper_bgcolor": "white",
          "plot_bgcolor": "white",
          "polar": {
           "angularaxis": {
            "gridcolor": "#EBF0F8",
            "linecolor": "#EBF0F8",
            "ticks": ""
           },
           "bgcolor": "white",
           "radialaxis": {
            "gridcolor": "#EBF0F8",
            "linecolor": "#EBF0F8",
            "ticks": ""
           }
          },
          "scene": {
           "xaxis": {
            "backgroundcolor": "white",
            "gridcolor": "#DFE8F3",
            "gridwidth": 2,
            "linecolor": "#EBF0F8",
            "showbackground": true,
            "ticks": "",
            "zerolinecolor": "#EBF0F8"
           },
           "yaxis": {
            "backgroundcolor": "white",
            "gridcolor": "#DFE8F3",
            "gridwidth": 2,
            "linecolor": "#EBF0F8",
            "showbackground": true,
            "ticks": "",
            "zerolinecolor": "#EBF0F8"
           },
           "zaxis": {
            "backgroundcolor": "white",
            "gridcolor": "#DFE8F3",
            "gridwidth": 2,
            "linecolor": "#EBF0F8",
            "showbackground": true,
            "ticks": "",
            "zerolinecolor": "#EBF0F8"
           }
          },
          "shapedefaults": {
           "line": {
            "color": "#2a3f5f"
           }
          },
          "ternary": {
           "aaxis": {
            "gridcolor": "#DFE8F3",
            "linecolor": "#A2B1C6",
            "ticks": ""
           },
           "baxis": {
            "gridcolor": "#DFE8F3",
            "linecolor": "#A2B1C6",
            "ticks": ""
           },
           "bgcolor": "white",
           "caxis": {
            "gridcolor": "#DFE8F3",
            "linecolor": "#A2B1C6",
            "ticks": ""
           }
          },
          "title": {
           "x": 0.05
          },
          "xaxis": {
           "automargin": true,
           "gridcolor": "#EBF0F8",
           "linecolor": "#EBF0F8",
           "ticks": "",
           "title": {
            "standoff": 15
           },
           "zerolinecolor": "#EBF0F8",
           "zerolinewidth": 2
          },
          "yaxis": {
           "automargin": true,
           "gridcolor": "#EBF0F8",
           "linecolor": "#EBF0F8",
           "ticks": "",
           "title": {
            "standoff": 15
           },
           "zerolinecolor": "#EBF0F8",
           "zerolinewidth": 2
          }
         }
        },
        "title": {
         "text": "Era 3: Jan 2020 - Dec 2024 (Normalised)",
         "x": 0.5
        },
        "width": 1200,
        "xaxis": {
         "dtick": "M12",
         "tickangle": 45,
         "tickfont": {
          "size": 12
         },
         "tickformat": "%Y",
         "title": {
          "text": "Date"
         }
        },
        "yaxis": {
         "tickfont": {
          "size": 12
         },
         "title": {
          "text": "Normalised Performance (Base=100)"
         }
        }
       }
      }
     },
     "metadata": {},
     "output_type": "display_data"
    }
   ],
   "source": [
    "# Creating a line plot for Era 3\n",
    "fig = go.Figure()\n",
    "\n",
    "# Adding a trace for each sector\n",
    "for sector in sector_columns:\n",
    "    fig.add_trace(\n",
    "        go.Scatter(\n",
    "            x=era3_norm.index,\n",
    "            y=era3_norm[sector],\n",
    "            mode='lines',\n",
    "            name=sector,\n",
    "            line=dict(color=sector_colors_hex[sector]),\n",
    "            hoverinfo='x+y+name'\n",
    "        )\n",
    "    )\n",
    "\n",
    "# Layout with specified adaptations\n",
    "fig.update_layout(\n",
    "    title='Era 3: Jan 2020 - Dec 2024 (Normalised)',\n",
    "    title_x=0.5,  # Center the title horizontally\n",
    "    xaxis_title='Date',\n",
    "    yaxis_title='Normalised Performance (Base=100)',\n",
    "    hovermode='closest',\n",
    "    legend_title='Sectors',\n",
    "    template='plotly_white',\n",
    "    width=1200,    # Make the plot slightly wider\n",
    "    height=600     # Set the plot height to 600 pixels\n",
    ")\n",
    "\n",
    "# x-axis to show yearly ticks \n",
    "fig.update_xaxes(\n",
    "    tickangle=45,\n",
    "    tickformat='%Y',\n",
    "    tickfont=dict(size=12),\n",
    "    dtick='M12'  # Set tick interval to 12 months (1 year)\n",
    ")\n",
    "\n",
    "# y-axis font size\n",
    "fig.update_yaxes(\n",
    "    tickfont=dict(size=12)\n",
    ")\n",
    "\n",
    "# Showing the plot\n",
    "fig.show()\n"
   ]
  },
  {
   "cell_type": "markdown",
   "metadata": {},
   "source": [
    "During Era 3 (2020–2024), the U.S. stock market experienced significant volatility across all sectors, driven by a series of major global events. The onset of the COVID-19 pandemic caused sharp declines as the world came to a standstill, with the Energy sector being particularly hard hit due to collapsing oil demand. However, an unprecedented rebound followed, fueled by massive government stimulus programs and monetary easing that injected liquidity into the economy and restored investor confidence. The recovery was short-lived, as sectors faced another sharp downturn when central banks, responding to elevated inflation, began hiking interest rates at the fastest pace in history, increasing borrowing costs and pressuring valuations. Subsequently, a new uptrend emerged, led by the Technology sector, which benefited from advancements in Artificial Intelligence and heightened investor interest in transformative innovations. The Energy sector also sustained its post-pandemic rally, driven by geopolitical tensions, including the war in Ukraine, which led to a surge in oil prices. This period underscores the dynamic interplay of global events and sector-specific drivers shaping market performance."
   ]
  },
  {
   "cell_type": "code",
   "execution_count": 21,
   "metadata": {},
   "outputs": [
    {
     "data": {
      "application/vnd.plotly.v1+json": {
       "config": {
        "plotlyServerURL": "https://plot.ly"
       },
       "data": [
        {
         "customdata": [
          [
           4.4
          ]
         ],
         "hovertemplate": "<b>%{hovertext}</b><br>Return: %{y:.0f}%<br>Risk: %{x:.0f}%<br>Market Cap: %{marker.size:.2f} Trillion USD",
         "hovertext": [
          "Communication Services"
         ],
         "legendgroup": "Communication Services",
         "marker": {
          "color": "#1f77b4",
          "line": {
           "color": "DarkSlateGrey",
           "width": 1
          },
          "opacity": 0.7,
          "size": [
           4.4
          ],
          "sizemode": "area",
          "sizeref": 0.0033333333333333335,
          "symbol": "circle"
         },
         "mode": "markers",
         "name": "Communication Services",
         "orientation": "v",
         "showlegend": true,
         "type": "scatter",
         "x": [
          21.783297787022395
         ],
         "xaxis": "x",
         "y": [
          7.217344390118219
         ],
         "yaxis": "y"
        },
        {
         "customdata": [
          [
           0.8
          ]
         ],
         "hovertemplate": "<b>%{hovertext}</b><br>Return: %{y:.0f}%<br>Risk: %{x:.0f}%<br>Market Cap: %{marker.size:.2f} Trillion USD",
         "hovertext": [
          "Real Estate"
         ],
         "legendgroup": "Real Estate",
         "marker": {
          "color": "#aec7e8",
          "line": {
           "color": "DarkSlateGrey",
           "width": 1
          },
          "opacity": 0.7,
          "size": [
           0.8
          ],
          "sizemode": "area",
          "sizeref": 0.0033333333333333335,
          "symbol": "circle"
         },
         "mode": "markers",
         "name": "Real Estate",
         "orientation": "v",
         "showlegend": true,
         "type": "scatter",
         "x": [
          22.749598959422865
         ],
         "xaxis": "x",
         "y": [
          11.626300467567429
         ],
         "yaxis": "y"
        },
        {
         "customdata": [
          [
           0.8
          ]
         ],
         "hovertemplate": "<b>%{hovertext}</b><br>Return: %{y:.0f}%<br>Risk: %{x:.0f}%<br>Market Cap: %{marker.size:.2f} Trillion USD",
         "hovertext": [
          "Materials"
         ],
         "legendgroup": "Materials",
         "marker": {
          "color": "#ff7f0e",
          "line": {
           "color": "DarkSlateGrey",
           "width": 1
          },
          "opacity": 0.7,
          "size": [
           0.8
          ],
          "sizemode": "area",
          "sizeref": 0.0033333333333333335,
          "symbol": "circle"
         },
         "mode": "markers",
         "name": "Materials",
         "orientation": "v",
         "showlegend": true,
         "type": "scatter",
         "x": [
          21.973514127465616
         ],
         "xaxis": "x",
         "y": [
          12.286721914198544
         ],
         "yaxis": "y"
        },
        {
         "customdata": [
          [
           1.2
          ]
         ],
         "hovertemplate": "<b>%{hovertext}</b><br>Return: %{y:.0f}%<br>Risk: %{x:.0f}%<br>Market Cap: %{marker.size:.2f} Trillion USD",
         "hovertext": [
          "Energy"
         ],
         "legendgroup": "Energy",
         "marker": {
          "color": "#ffbb78",
          "line": {
           "color": "DarkSlateGrey",
           "width": 1
          },
          "opacity": 0.7,
          "size": [
           1.2
          ],
          "sizemode": "area",
          "sizeref": 0.0033333333333333335,
          "symbol": "circle"
         },
         "mode": "markers",
         "name": "Energy",
         "orientation": "v",
         "showlegend": true,
         "type": "scatter",
         "x": [
          37.167476758845034
         ],
         "xaxis": "x",
         "y": [
          16.40921378635696
         ],
         "yaxis": "y"
        },
        {
         "customdata": [
          [
           4
          ]
         ],
         "hovertemplate": "<b>%{hovertext}</b><br>Return: %{y:.0f}%<br>Risk: %{x:.0f}%<br>Market Cap: %{marker.size:.2f} Trillion USD",
         "hovertext": [
          "Financials"
         ],
         "legendgroup": "Financials",
         "marker": {
          "color": "#2ca02c",
          "line": {
           "color": "DarkSlateGrey",
           "width": 1
          },
          "opacity": 0.7,
          "size": [
           4
          ],
          "sizemode": "area",
          "sizeref": 0.0033333333333333335,
          "symbol": "circle"
         },
         "mode": "markers",
         "name": "Financials",
         "orientation": "v",
         "showlegend": true,
         "type": "scatter",
         "x": [
          23.40525007762556
         ],
         "xaxis": "x",
         "y": [
          13.08789447467931
         ],
         "yaxis": "y"
        },
        {
         "customdata": [
          [
           2.8
          ]
         ],
         "hovertemplate": "<b>%{hovertext}</b><br>Return: %{y:.0f}%<br>Risk: %{x:.0f}%<br>Market Cap: %{marker.size:.2f} Trillion USD",
         "hovertext": [
          "Industrials"
         ],
         "legendgroup": "Industrials",
         "marker": {
          "color": "#98df8a",
          "line": {
           "color": "DarkSlateGrey",
           "width": 1
          },
          "opacity": 0.7,
          "size": [
           2.8
          ],
          "sizemode": "area",
          "sizeref": 0.0033333333333333335,
          "symbol": "circle"
         },
         "mode": "markers",
         "name": "Industrials",
         "orientation": "v",
         "showlegend": true,
         "type": "scatter",
         "x": [
          21.83606147897401
         ],
         "xaxis": "x",
         "y": [
          13.488151054452647
         ],
         "yaxis": "y"
        },
        {
         "customdata": [
          [
           12
          ]
         ],
         "hovertemplate": "<b>%{hovertext}</b><br>Return: %{y:.0f}%<br>Risk: %{x:.0f}%<br>Market Cap: %{marker.size:.2f} Trillion USD",
         "hovertext": [
          "Technology"
         ],
         "legendgroup": "Technology",
         "marker": {
          "color": "#d62728",
          "line": {
           "color": "DarkSlateGrey",
           "width": 1
          },
          "opacity": 0.7,
          "size": [
           12
          ],
          "sizemode": "area",
          "sizeref": 0.0033333333333333335,
          "symbol": "circle"
         },
         "mode": "markers",
         "name": "Technology",
         "orientation": "v",
         "showlegend": true,
         "type": "scatter",
         "x": [
          22.489974722326505
         ],
         "xaxis": "x",
         "y": [
          19.459170414520134
         ],
         "yaxis": "y"
        },
        {
         "customdata": [
          [
           2
          ]
         ],
         "hovertemplate": "<b>%{hovertext}</b><br>Return: %{y:.0f}%<br>Risk: %{x:.0f}%<br>Market Cap: %{marker.size:.2f} Trillion USD",
         "hovertext": [
          "Consumer Staples"
         ],
         "legendgroup": "Consumer Staples",
         "marker": {
          "color": "#ff9896",
          "line": {
           "color": "DarkSlateGrey",
           "width": 1
          },
          "opacity": 0.7,
          "size": [
           2
          ],
          "sizemode": "area",
          "sizeref": 0.0033333333333333335,
          "symbol": "circle"
         },
         "mode": "markers",
         "name": "Consumer Staples",
         "orientation": "v",
         "showlegend": true,
         "type": "scatter",
         "x": [
          14.332119133472823
         ],
         "xaxis": "x",
         "y": [
          8.278542105526846
         ],
         "yaxis": "y"
        },
        {
         "customdata": [
          [
           0.8
          ]
         ],
         "hovertemplate": "<b>%{hovertext}</b><br>Return: %{y:.0f}%<br>Risk: %{x:.0f}%<br>Market Cap: %{marker.size:.2f} Trillion USD",
         "hovertext": [
          "Utilities"
         ],
         "legendgroup": "Utilities",
         "marker": {
          "color": "#9467bd",
          "line": {
           "color": "DarkSlateGrey",
           "width": 1
          },
          "opacity": 0.7,
          "size": [
           0.8
          ],
          "sizemode": "area",
          "sizeref": 0.0033333333333333335,
          "symbol": "circle"
         },
         "mode": "markers",
         "name": "Utilities",
         "orientation": "v",
         "showlegend": true,
         "type": "scatter",
         "x": [
          18.25653063632836
         ],
         "xaxis": "x",
         "y": [
          6.93784820386085
         ],
         "yaxis": "y"
        },
        {
         "customdata": [
          [
           5.2
          ]
         ],
         "hovertemplate": "<b>%{hovertext}</b><br>Return: %{y:.0f}%<br>Risk: %{x:.0f}%<br>Market Cap: %{marker.size:.2f} Trillion USD",
         "hovertext": [
          "Health Care"
         ],
         "legendgroup": "Health Care",
         "marker": {
          "color": "#c5b0d5",
          "line": {
           "color": "DarkSlateGrey",
           "width": 1
          },
          "opacity": 0.7,
          "size": [
           5.2
          ],
          "sizemode": "area",
          "sizeref": 0.0033333333333333335,
          "symbol": "circle"
         },
         "mode": "markers",
         "name": "Health Care",
         "orientation": "v",
         "showlegend": true,
         "type": "scatter",
         "x": [
          14.93758472967286
         ],
         "xaxis": "x",
         "y": [
          9.760708660702665
         ],
         "yaxis": "y"
        },
        {
         "customdata": [
          [
           6.8
          ]
         ],
         "hovertemplate": "<b>%{hovertext}</b><br>Return: %{y:.0f}%<br>Risk: %{x:.0f}%<br>Market Cap: %{marker.size:.2f} Trillion USD",
         "hovertext": [
          "Consumer Discretionary"
         ],
         "legendgroup": "Consumer Discretionary",
         "marker": {
          "color": "#8c564b",
          "line": {
           "color": "DarkSlateGrey",
           "width": 1
          },
          "opacity": 0.7,
          "size": [
           6.8
          ],
          "sizemode": "area",
          "sizeref": 0.0033333333333333335,
          "symbol": "circle"
         },
         "mode": "markers",
         "name": "Consumer Discretionary",
         "orientation": "v",
         "showlegend": true,
         "type": "scatter",
         "x": [
          24.91995519037217
         ],
         "xaxis": "x",
         "y": [
          12.704229923761618
         ],
         "yaxis": "y"
        }
       ],
       "layout": {
        "annotations": [
         {
          "font": {
           "color": "Red"
          },
          "showarrow": false,
          "text": "Avg Risk",
          "x": 21.844809819299236,
          "y": 19.459170414520134,
          "yshift": 10
         },
         {
          "font": {
           "color": "Blue"
          },
          "showarrow": false,
          "text": "Avg Return",
          "x": 37.167476758845034,
          "xshift": 10,
          "y": 13.565148207901048
         }
        ],
        "height": 600,
        "legend": {
         "font": {
          "size": 12
         },
         "itemsizing": "constant",
         "title": {
          "font": {
           "size": 14
          },
          "text": "Sector"
         },
         "tracegroupgap": 0
        },
        "margin": {
         "b": 100,
         "l": 40,
         "r": 40,
         "t": 100
        },
        "plot_bgcolor": "white",
        "shapes": [
         {
          "line": {
           "color": "Red",
           "dash": "dash"
          },
          "type": "line",
          "x0": 21.844809819299236,
          "x1": 21.844809819299236,
          "y0": 6.93784820386085,
          "y1": 19.459170414520134
         },
         {
          "line": {
           "color": "Blue",
           "dash": "dash"
          },
          "type": "line",
          "x0": 14.332119133472823,
          "x1": 37.167476758845034,
          "y0": 13.565148207901048,
          "y1": 13.565148207901048
         }
        ],
        "template": {
         "data": {
          "bar": [
           {
            "error_x": {
             "color": "#2a3f5f"
            },
            "error_y": {
             "color": "#2a3f5f"
            },
            "marker": {
             "line": {
              "color": "white",
              "width": 0.5
             },
             "pattern": {
              "fillmode": "overlay",
              "size": 10,
              "solidity": 0.2
             }
            },
            "type": "bar"
           }
          ],
          "barpolar": [
           {
            "marker": {
             "line": {
              "color": "white",
              "width": 0.5
             },
             "pattern": {
              "fillmode": "overlay",
              "size": 10,
              "solidity": 0.2
             }
            },
            "type": "barpolar"
           }
          ],
          "carpet": [
           {
            "aaxis": {
             "endlinecolor": "#2a3f5f",
             "gridcolor": "#C8D4E3",
             "linecolor": "#C8D4E3",
             "minorgridcolor": "#C8D4E3",
             "startlinecolor": "#2a3f5f"
            },
            "baxis": {
             "endlinecolor": "#2a3f5f",
             "gridcolor": "#C8D4E3",
             "linecolor": "#C8D4E3",
             "minorgridcolor": "#C8D4E3",
             "startlinecolor": "#2a3f5f"
            },
            "type": "carpet"
           }
          ],
          "choropleth": [
           {
            "colorbar": {
             "outlinewidth": 0,
             "ticks": ""
            },
            "type": "choropleth"
           }
          ],
          "contour": [
           {
            "colorbar": {
             "outlinewidth": 0,
             "ticks": ""
            },
            "colorscale": [
             [
              0,
              "#0d0887"
             ],
             [
              0.1111111111111111,
              "#46039f"
             ],
             [
              0.2222222222222222,
              "#7201a8"
             ],
             [
              0.3333333333333333,
              "#9c179e"
             ],
             [
              0.4444444444444444,
              "#bd3786"
             ],
             [
              0.5555555555555556,
              "#d8576b"
             ],
             [
              0.6666666666666666,
              "#ed7953"
             ],
             [
              0.7777777777777778,
              "#fb9f3a"
             ],
             [
              0.8888888888888888,
              "#fdca26"
             ],
             [
              1,
              "#f0f921"
             ]
            ],
            "type": "contour"
           }
          ],
          "contourcarpet": [
           {
            "colorbar": {
             "outlinewidth": 0,
             "ticks": ""
            },
            "type": "contourcarpet"
           }
          ],
          "heatmap": [
           {
            "colorbar": {
             "outlinewidth": 0,
             "ticks": ""
            },
            "colorscale": [
             [
              0,
              "#0d0887"
             ],
             [
              0.1111111111111111,
              "#46039f"
             ],
             [
              0.2222222222222222,
              "#7201a8"
             ],
             [
              0.3333333333333333,
              "#9c179e"
             ],
             [
              0.4444444444444444,
              "#bd3786"
             ],
             [
              0.5555555555555556,
              "#d8576b"
             ],
             [
              0.6666666666666666,
              "#ed7953"
             ],
             [
              0.7777777777777778,
              "#fb9f3a"
             ],
             [
              0.8888888888888888,
              "#fdca26"
             ],
             [
              1,
              "#f0f921"
             ]
            ],
            "type": "heatmap"
           }
          ],
          "heatmapgl": [
           {
            "colorbar": {
             "outlinewidth": 0,
             "ticks": ""
            },
            "colorscale": [
             [
              0,
              "#0d0887"
             ],
             [
              0.1111111111111111,
              "#46039f"
             ],
             [
              0.2222222222222222,
              "#7201a8"
             ],
             [
              0.3333333333333333,
              "#9c179e"
             ],
             [
              0.4444444444444444,
              "#bd3786"
             ],
             [
              0.5555555555555556,
              "#d8576b"
             ],
             [
              0.6666666666666666,
              "#ed7953"
             ],
             [
              0.7777777777777778,
              "#fb9f3a"
             ],
             [
              0.8888888888888888,
              "#fdca26"
             ],
             [
              1,
              "#f0f921"
             ]
            ],
            "type": "heatmapgl"
           }
          ],
          "histogram": [
           {
            "marker": {
             "pattern": {
              "fillmode": "overlay",
              "size": 10,
              "solidity": 0.2
             }
            },
            "type": "histogram"
           }
          ],
          "histogram2d": [
           {
            "colorbar": {
             "outlinewidth": 0,
             "ticks": ""
            },
            "colorscale": [
             [
              0,
              "#0d0887"
             ],
             [
              0.1111111111111111,
              "#46039f"
             ],
             [
              0.2222222222222222,
              "#7201a8"
             ],
             [
              0.3333333333333333,
              "#9c179e"
             ],
             [
              0.4444444444444444,
              "#bd3786"
             ],
             [
              0.5555555555555556,
              "#d8576b"
             ],
             [
              0.6666666666666666,
              "#ed7953"
             ],
             [
              0.7777777777777778,
              "#fb9f3a"
             ],
             [
              0.8888888888888888,
              "#fdca26"
             ],
             [
              1,
              "#f0f921"
             ]
            ],
            "type": "histogram2d"
           }
          ],
          "histogram2dcontour": [
           {
            "colorbar": {
             "outlinewidth": 0,
             "ticks": ""
            },
            "colorscale": [
             [
              0,
              "#0d0887"
             ],
             [
              0.1111111111111111,
              "#46039f"
             ],
             [
              0.2222222222222222,
              "#7201a8"
             ],
             [
              0.3333333333333333,
              "#9c179e"
             ],
             [
              0.4444444444444444,
              "#bd3786"
             ],
             [
              0.5555555555555556,
              "#d8576b"
             ],
             [
              0.6666666666666666,
              "#ed7953"
             ],
             [
              0.7777777777777778,
              "#fb9f3a"
             ],
             [
              0.8888888888888888,
              "#fdca26"
             ],
             [
              1,
              "#f0f921"
             ]
            ],
            "type": "histogram2dcontour"
           }
          ],
          "mesh3d": [
           {
            "colorbar": {
             "outlinewidth": 0,
             "ticks": ""
            },
            "type": "mesh3d"
           }
          ],
          "parcoords": [
           {
            "line": {
             "colorbar": {
              "outlinewidth": 0,
              "ticks": ""
             }
            },
            "type": "parcoords"
           }
          ],
          "pie": [
           {
            "automargin": true,
            "type": "pie"
           }
          ],
          "scatter": [
           {
            "fillpattern": {
             "fillmode": "overlay",
             "size": 10,
             "solidity": 0.2
            },
            "type": "scatter"
           }
          ],
          "scatter3d": [
           {
            "line": {
             "colorbar": {
              "outlinewidth": 0,
              "ticks": ""
             }
            },
            "marker": {
             "colorbar": {
              "outlinewidth": 0,
              "ticks": ""
             }
            },
            "type": "scatter3d"
           }
          ],
          "scattercarpet": [
           {
            "marker": {
             "colorbar": {
              "outlinewidth": 0,
              "ticks": ""
             }
            },
            "type": "scattercarpet"
           }
          ],
          "scattergeo": [
           {
            "marker": {
             "colorbar": {
              "outlinewidth": 0,
              "ticks": ""
             }
            },
            "type": "scattergeo"
           }
          ],
          "scattergl": [
           {
            "marker": {
             "colorbar": {
              "outlinewidth": 0,
              "ticks": ""
             }
            },
            "type": "scattergl"
           }
          ],
          "scattermapbox": [
           {
            "marker": {
             "colorbar": {
              "outlinewidth": 0,
              "ticks": ""
             }
            },
            "type": "scattermapbox"
           }
          ],
          "scatterpolar": [
           {
            "marker": {
             "colorbar": {
              "outlinewidth": 0,
              "ticks": ""
             }
            },
            "type": "scatterpolar"
           }
          ],
          "scatterpolargl": [
           {
            "marker": {
             "colorbar": {
              "outlinewidth": 0,
              "ticks": ""
             }
            },
            "type": "scatterpolargl"
           }
          ],
          "scatterternary": [
           {
            "marker": {
             "colorbar": {
              "outlinewidth": 0,
              "ticks": ""
             }
            },
            "type": "scatterternary"
           }
          ],
          "surface": [
           {
            "colorbar": {
             "outlinewidth": 0,
             "ticks": ""
            },
            "colorscale": [
             [
              0,
              "#0d0887"
             ],
             [
              0.1111111111111111,
              "#46039f"
             ],
             [
              0.2222222222222222,
              "#7201a8"
             ],
             [
              0.3333333333333333,
              "#9c179e"
             ],
             [
              0.4444444444444444,
              "#bd3786"
             ],
             [
              0.5555555555555556,
              "#d8576b"
             ],
             [
              0.6666666666666666,
              "#ed7953"
             ],
             [
              0.7777777777777778,
              "#fb9f3a"
             ],
             [
              0.8888888888888888,
              "#fdca26"
             ],
             [
              1,
              "#f0f921"
             ]
            ],
            "type": "surface"
           }
          ],
          "table": [
           {
            "cells": {
             "fill": {
              "color": "#EBF0F8"
             },
             "line": {
              "color": "white"
             }
            },
            "header": {
             "fill": {
              "color": "#C8D4E3"
             },
             "line": {
              "color": "white"
             }
            },
            "type": "table"
           }
          ]
         },
         "layout": {
          "annotationdefaults": {
           "arrowcolor": "#2a3f5f",
           "arrowhead": 0,
           "arrowwidth": 1
          },
          "autotypenumbers": "strict",
          "coloraxis": {
           "colorbar": {
            "outlinewidth": 0,
            "ticks": ""
           }
          },
          "colorscale": {
           "diverging": [
            [
             0,
             "#8e0152"
            ],
            [
             0.1,
             "#c51b7d"
            ],
            [
             0.2,
             "#de77ae"
            ],
            [
             0.3,
             "#f1b6da"
            ],
            [
             0.4,
             "#fde0ef"
            ],
            [
             0.5,
             "#f7f7f7"
            ],
            [
             0.6,
             "#e6f5d0"
            ],
            [
             0.7,
             "#b8e186"
            ],
            [
             0.8,
             "#7fbc41"
            ],
            [
             0.9,
             "#4d9221"
            ],
            [
             1,
             "#276419"
            ]
           ],
           "sequential": [
            [
             0,
             "#0d0887"
            ],
            [
             0.1111111111111111,
             "#46039f"
            ],
            [
             0.2222222222222222,
             "#7201a8"
            ],
            [
             0.3333333333333333,
             "#9c179e"
            ],
            [
             0.4444444444444444,
             "#bd3786"
            ],
            [
             0.5555555555555556,
             "#d8576b"
            ],
            [
             0.6666666666666666,
             "#ed7953"
            ],
            [
             0.7777777777777778,
             "#fb9f3a"
            ],
            [
             0.8888888888888888,
             "#fdca26"
            ],
            [
             1,
             "#f0f921"
            ]
           ],
           "sequentialminus": [
            [
             0,
             "#0d0887"
            ],
            [
             0.1111111111111111,
             "#46039f"
            ],
            [
             0.2222222222222222,
             "#7201a8"
            ],
            [
             0.3333333333333333,
             "#9c179e"
            ],
            [
             0.4444444444444444,
             "#bd3786"
            ],
            [
             0.5555555555555556,
             "#d8576b"
            ],
            [
             0.6666666666666666,
             "#ed7953"
            ],
            [
             0.7777777777777778,
             "#fb9f3a"
            ],
            [
             0.8888888888888888,
             "#fdca26"
            ],
            [
             1,
             "#f0f921"
            ]
           ]
          },
          "colorway": [
           "#636efa",
           "#EF553B",
           "#00cc96",
           "#ab63fa",
           "#FFA15A",
           "#19d3f3",
           "#FF6692",
           "#B6E880",
           "#FF97FF",
           "#FECB52"
          ],
          "font": {
           "color": "#2a3f5f"
          },
          "geo": {
           "bgcolor": "white",
           "lakecolor": "white",
           "landcolor": "white",
           "showlakes": true,
           "showland": true,
           "subunitcolor": "#C8D4E3"
          },
          "hoverlabel": {
           "align": "left"
          },
          "hovermode": "closest",
          "mapbox": {
           "style": "light"
          },
          "paper_bgcolor": "white",
          "plot_bgcolor": "white",
          "polar": {
           "angularaxis": {
            "gridcolor": "#EBF0F8",
            "linecolor": "#EBF0F8",
            "ticks": ""
           },
           "bgcolor": "white",
           "radialaxis": {
            "gridcolor": "#EBF0F8",
            "linecolor": "#EBF0F8",
            "ticks": ""
           }
          },
          "scene": {
           "xaxis": {
            "backgroundcolor": "white",
            "gridcolor": "#DFE8F3",
            "gridwidth": 2,
            "linecolor": "#EBF0F8",
            "showbackground": true,
            "ticks": "",
            "zerolinecolor": "#EBF0F8"
           },
           "yaxis": {
            "backgroundcolor": "white",
            "gridcolor": "#DFE8F3",
            "gridwidth": 2,
            "linecolor": "#EBF0F8",
            "showbackground": true,
            "ticks": "",
            "zerolinecolor": "#EBF0F8"
           },
           "zaxis": {
            "backgroundcolor": "white",
            "gridcolor": "#DFE8F3",
            "gridwidth": 2,
            "linecolor": "#EBF0F8",
            "showbackground": true,
            "ticks": "",
            "zerolinecolor": "#EBF0F8"
           }
          },
          "shapedefaults": {
           "line": {
            "color": "#2a3f5f"
           }
          },
          "ternary": {
           "aaxis": {
            "gridcolor": "#DFE8F3",
            "linecolor": "#A2B1C6",
            "ticks": ""
           },
           "baxis": {
            "gridcolor": "#DFE8F3",
            "linecolor": "#A2B1C6",
            "ticks": ""
           },
           "bgcolor": "white",
           "caxis": {
            "gridcolor": "#DFE8F3",
            "linecolor": "#A2B1C6",
            "ticks": ""
           }
          },
          "title": {
           "x": 0.05
          },
          "xaxis": {
           "automargin": true,
           "gridcolor": "#EBF0F8",
           "linecolor": "#EBF0F8",
           "ticks": "",
           "title": {
            "standoff": 15
           },
           "zerolinecolor": "#EBF0F8",
           "zerolinewidth": 2
          },
          "yaxis": {
           "automargin": true,
           "gridcolor": "#EBF0F8",
           "linecolor": "#EBF0F8",
           "ticks": "",
           "title": {
            "standoff": 15
           },
           "zerolinecolor": "#EBF0F8",
           "zerolinewidth": 2
          }
         }
        },
        "title": {
         "font": {
          "color": "black",
          "family": "Arial",
          "size": 20
         },
         "text": "Annualised Risk vs Return of Business Sectors (2020-2024)",
         "x": 0.5
        },
        "width": 1200,
        "xaxis": {
         "anchor": "y",
         "domain": [
          0,
          1
         ],
         "showgrid": false,
         "title": {
          "text": "Risk (%)"
         }
        },
        "yaxis": {
         "anchor": "x",
         "domain": [
          0,
          1
         ],
         "showgrid": false,
         "title": {
          "text": "Return (%)"
         }
        }
       }
      }
     },
     "metadata": {},
     "output_type": "display_data"
    }
   ],
   "source": [
    "# Filter data for Era 3\n",
    "era3_bubble_data = full_data_with_market_cap[full_data_with_market_cap['Period'] == '2020-2024'].dropna(subset=['Risk', 'Return', 'Market Cap (Trillion USD)'])\n",
    "\n",
    "# Multiply 'Risk' and 'Return' by 100 to convert from decimal to percentage\n",
    "era3_bubble_data['Risk'] = era3_bubble_data['Risk'] * 100\n",
    "era3_bubble_data['Return'] = era3_bubble_data['Return'] * 100\n",
    "\n",
    "# Create scatter plot using Plotly Express with Risk on x-axis and Return on y-axis\n",
    "fig = px.scatter(\n",
    "    era3_bubble_data,\n",
    "    x=\"Risk\",  # Risk on x-axis\n",
    "    y=\"Return\",  # Return on y-axis\n",
    "    size=\"Market Cap (Trillion USD)\",  # Map Market Cap to bubble size\n",
    "    size_max=60,  # Adjust maximum bubble size for better visualization\n",
    "    color=\"Sector\",\n",
    "    color_discrete_map=sector_colors_hex,  # Map sectors to their assigned colors\n",
    "    hover_name=\"Sector\",\n",
    "    hover_data={\n",
    "        \"Return\": ':.0f',  # Display Return as full number without decimals\n",
    "        \"Risk\": ':.0f',    # Display Risk as full number without decimals\n",
    "        \"Market Cap (Trillion USD)\": ':.2f'  # Keep Market Cap with two decimals\n",
    "    },\n",
    "    title=\"Annualised Risk vs Return of Business Sectors (2020-2024)\",\n",
    "    labels={\n",
    "        \"Return\": \"Return (%)\",\n",
    "        \"Risk\": \"Risk (%)\",\n",
    "        \"Market Cap (Trillion USD)\": \"Market Cap (Trillion USD)\"\n",
    "    },\n",
    "    template=\"plotly_white\",  # Use a clean white background\n",
    "    width=1200,\n",
    "    height=600  # Set the plot height to 600 pixels\n",
    ")\n",
    "\n",
    "# Customize marker appearance for better visibility\n",
    "fig.update_traces(marker=dict(opacity=0.7, line=dict(width=1, color='DarkSlateGrey')))\n",
    "\n",
    "# Calculate weighted average return and risk using Market Cap as weights\n",
    "weights = era3_bubble_data['Market Cap (Trillion USD)']\n",
    "avg_return = np.average(era3_bubble_data['Return'], weights=weights)  # No rounding\n",
    "avg_risk = np.average(era3_bubble_data['Risk'], weights=weights)      # No rounding\n",
    "\n",
    "# Add vertical reference line for average risk (red color)\n",
    "fig.add_shape(\n",
    "    type=\"line\",\n",
    "    x0=avg_risk,\n",
    "    y0=era3_bubble_data['Return'].min(),\n",
    "    x1=avg_risk,\n",
    "    y1=era3_bubble_data['Return'].max(),\n",
    "    line=dict(color=\"Red\", dash=\"dash\"),\n",
    ")\n",
    "\n",
    "# Add horizontal reference line for average return (blue color)\n",
    "fig.add_shape(\n",
    "    type=\"line\",\n",
    "    x0=era3_bubble_data['Risk'].min(),\n",
    "    y0=avg_return,\n",
    "    x1=era3_bubble_data['Risk'].max(),\n",
    "    y1=avg_return,\n",
    "    line=dict(color=\"Blue\", dash=\"dash\"),\n",
    ")\n",
    "\n",
    "# Add annotations for the reference lines\n",
    "fig.add_annotation(\n",
    "    x=avg_risk,\n",
    "    y=era3_bubble_data['Return'].max(),\n",
    "    text=\"Avg Risk\",\n",
    "    showarrow=False,\n",
    "    yshift=10,\n",
    "    font=dict(color=\"Red\")\n",
    ")\n",
    "\n",
    "fig.add_annotation(\n",
    "    x=era3_bubble_data['Risk'].max(),\n",
    "    y=avg_return,\n",
    "    text=\"Avg Return\",\n",
    "    showarrow=False,\n",
    "    xshift=10,\n",
    "    font=dict(color=\"Blue\")\n",
    ")\n",
    "\n",
    "# Update layout to remove grid lines, set axis titles, and center the title\n",
    "fig.update_layout(\n",
    "    legend_title_text='Sector',\n",
    "    xaxis=dict(\n",
    "        title='Risk (%)',\n",
    "        showgrid=False  # Remove x-axis grid lines\n",
    "    ),\n",
    "    yaxis=dict(\n",
    "        title='Return (%)',\n",
    "        showgrid=False  # Remove y-axis grid lines\n",
    "    ),\n",
    "    plot_bgcolor='white',  # Ensure background is white\n",
    "    title_x=0.5,  # Center the title\n",
    "    title_font=dict(size=20, family='Arial', color='black'),  # Optional: Customize title font\n",
    "    legend=dict(\n",
    "        title_font_size=14,\n",
    "        font_size=12\n",
    "    ),\n",
    "    margin=dict(t=100, l=40, r=40, b=100)  # Optional: Adjust margins if necessary\n",
    ")\n",
    "\n",
    "# Optional: Format hover information to display full numbers without decimals\n",
    "hover_template = (\n",
    "    \"<b>%{hovertext}</b><br>\" +\n",
    "    \"Return: %{y:.0f}%<br>\" +\n",
    "    \"Risk: %{x:.0f}%<br>\" +\n",
    "    \"Market Cap: %{marker.size:.2f} Trillion USD\"\n",
    ")\n",
    "fig.update_traces(hovertemplate=hover_template)\n",
    "\n",
    "# Display the figure\n",
    "fig.show()\n"
   ]
  },
  {
   "cell_type": "markdown",
   "metadata": {},
   "source": [
    "The risk vs. return bubble plot for Era 3 (2020–2024) reveals that the Technology sector offered the most attractive risk-return profile, standing out as a clear leader. This was driven by explosive growth in artificial intelligence (AI) and large language models, which revolutionised various industries. Key contributors to this trend included Nvidia, whose cutting-edge hardware enabled the training of advanced AI models, and the so called \"Magnificent 7\" – a group of leading tech companies that heavily invested in AI development and integration. These advancements not only propelled the Technology sector’s returns but also reinforced its dominance in the market. As a result, the sector's market capitalization expanded significantly, further increasing its share of the U.S. stock market. This highlights how innovation and the rapid adoption of transformative technologies can redefine sector dynamics and create significant value for investors."
   ]
  },
  {
   "cell_type": "code",
   "execution_count": 22,
   "metadata": {},
   "outputs": [
    {
     "data": {
      "application/vnd.plotly.v1+json": {
       "config": {
        "plotlyServerURL": "https://plot.ly"
       },
       "data": [
        {
         "alignmentgroup": "True",
         "hovertemplate": "Sector=%{x}<br>Maximum Drawdown (%)=%{text}<extra></extra>",
         "legendgroup": "Energy",
         "marker": {
          "color": "#ffbb78",
          "pattern": {
           "shape": ""
          }
         },
         "name": "Energy",
         "offsetgroup": "Energy",
         "orientation": "v",
         "showlegend": true,
         "text": [
          44.4
         ],
         "textposition": "outside",
         "texttemplate": "%{text:.1f}%",
         "type": "bar",
         "x": [
          "Energy"
         ],
         "xaxis": "x",
         "y": [
          44.4
         ],
         "yaxis": "y"
        },
        {
         "alignmentgroup": "True",
         "hovertemplate": "Sector=%{x}<br>Maximum Drawdown (%)=%{text}<extra></extra>",
         "legendgroup": "Communication Services",
         "marker": {
          "color": "#1f77b4",
          "pattern": {
           "shape": ""
          }
         },
         "name": "Communication Services",
         "offsetgroup": "Communication Services",
         "orientation": "v",
         "showlegend": true,
         "text": [
          39.9
         ],
         "textposition": "outside",
         "texttemplate": "%{text:.1f}%",
         "type": "bar",
         "x": [
          "Communication Services"
         ],
         "xaxis": "x",
         "y": [
          39.9
         ],
         "yaxis": "y"
        },
        {
         "alignmentgroup": "True",
         "hovertemplate": "Sector=%{x}<br>Maximum Drawdown (%)=%{text}<extra></extra>",
         "legendgroup": "Consumer Discretionary",
         "marker": {
          "color": "#8c564b",
          "pattern": {
           "shape": ""
          }
         },
         "name": "Consumer Discretionary",
         "offsetgroup": "Consumer Discretionary",
         "orientation": "v",
         "showlegend": true,
         "text": [
          36.3
         ],
         "textposition": "outside",
         "texttemplate": "%{text:.1f}%",
         "type": "bar",
         "x": [
          "Consumer Discretionary"
         ],
         "xaxis": "x",
         "y": [
          36.3
         ],
         "yaxis": "y"
        },
        {
         "alignmentgroup": "True",
         "hovertemplate": "Sector=%{x}<br>Maximum Drawdown (%)=%{text}<extra></extra>",
         "legendgroup": "Technology",
         "marker": {
          "color": "#d62728",
          "pattern": {
           "shape": ""
          }
         },
         "name": "Technology",
         "offsetgroup": "Technology",
         "orientation": "v",
         "showlegend": true,
         "text": [
          31.2
         ],
         "textposition": "outside",
         "texttemplate": "%{text:.1f}%",
         "type": "bar",
         "x": [
          "Technology"
         ],
         "xaxis": "x",
         "y": [
          31.2
         ],
         "yaxis": "y"
        },
        {
         "alignmentgroup": "True",
         "hovertemplate": "Sector=%{x}<br>Maximum Drawdown (%)=%{text}<extra></extra>",
         "legendgroup": "Real Estate",
         "marker": {
          "color": "#aec7e8",
          "pattern": {
           "shape": ""
          }
         },
         "name": "Real Estate",
         "offsetgroup": "Real Estate",
         "orientation": "v",
         "showlegend": true,
         "text": [
          30.6
         ],
         "textposition": "outside",
         "texttemplate": "%{text:.1f}%",
         "type": "bar",
         "x": [
          "Real Estate"
         ],
         "xaxis": "x",
         "y": [
          30.6
         ],
         "yaxis": "y"
        },
        {
         "alignmentgroup": "True",
         "hovertemplate": "Sector=%{x}<br>Maximum Drawdown (%)=%{text}<extra></extra>",
         "legendgroup": "Financials",
         "marker": {
          "color": "#2ca02c",
          "pattern": {
           "shape": ""
          }
         },
         "name": "Financials",
         "offsetgroup": "Financials",
         "orientation": "v",
         "showlegend": true,
         "text": [
          29.9
         ],
         "textposition": "outside",
         "texttemplate": "%{text:.1f}%",
         "type": "bar",
         "x": [
          "Financials"
         ],
         "xaxis": "x",
         "y": [
          29.9
         ],
         "yaxis": "y"
        },
        {
         "alignmentgroup": "True",
         "hovertemplate": "Sector=%{x}<br>Maximum Drawdown (%)=%{text}<extra></extra>",
         "legendgroup": "Industrials",
         "marker": {
          "color": "#98df8a",
          "pattern": {
           "shape": ""
          }
         },
         "name": "Industrials",
         "offsetgroup": "Industrials",
         "orientation": "v",
         "showlegend": true,
         "text": [
          26.7
         ],
         "textposition": "outside",
         "texttemplate": "%{text:.1f}%",
         "type": "bar",
         "x": [
          "Industrials"
         ],
         "xaxis": "x",
         "y": [
          26.7
         ],
         "yaxis": "y"
        },
        {
         "alignmentgroup": "True",
         "hovertemplate": "Sector=%{x}<br>Maximum Drawdown (%)=%{text}<extra></extra>",
         "legendgroup": "Materials",
         "marker": {
          "color": "#ff7f0e",
          "pattern": {
           "shape": ""
          }
         },
         "name": "Materials",
         "offsetgroup": "Materials",
         "orientation": "v",
         "showlegend": true,
         "text": [
          23.7
         ],
         "textposition": "outside",
         "texttemplate": "%{text:.1f}%",
         "type": "bar",
         "x": [
          "Materials"
         ],
         "xaxis": "x",
         "y": [
          23.7
         ],
         "yaxis": "y"
        },
        {
         "alignmentgroup": "True",
         "hovertemplate": "Sector=%{x}<br>Maximum Drawdown (%)=%{text}<extra></extra>",
         "legendgroup": "Utilities",
         "marker": {
          "color": "#9467bd",
          "pattern": {
           "shape": ""
          }
         },
         "name": "Utilities",
         "offsetgroup": "Utilities",
         "orientation": "v",
         "showlegend": true,
         "text": [
          18.9
         ],
         "textposition": "outside",
         "texttemplate": "%{text:.1f}%",
         "type": "bar",
         "x": [
          "Utilities"
         ],
         "xaxis": "x",
         "y": [
          18.9
         ],
         "yaxis": "y"
        },
        {
         "alignmentgroup": "True",
         "hovertemplate": "Sector=%{x}<br>Maximum Drawdown (%)=%{text}<extra></extra>",
         "legendgroup": "Consumer Staples",
         "marker": {
          "color": "#ff9896",
          "pattern": {
           "shape": ""
          }
         },
         "name": "Consumer Staples",
         "offsetgroup": "Consumer Staples",
         "orientation": "v",
         "showlegend": true,
         "text": [
          13.3
         ],
         "textposition": "outside",
         "texttemplate": "%{text:.1f}%",
         "type": "bar",
         "x": [
          "Consumer Staples"
         ],
         "xaxis": "x",
         "y": [
          13.3
         ],
         "yaxis": "y"
        },
        {
         "alignmentgroup": "True",
         "hovertemplate": "Sector=%{x}<br>Maximum Drawdown (%)=%{text}<extra></extra>",
         "legendgroup": "Health Care",
         "marker": {
          "color": "#c5b0d5",
          "pattern": {
           "shape": ""
          }
         },
         "name": "Health Care",
         "offsetgroup": "Health Care",
         "orientation": "v",
         "showlegend": true,
         "text": [
          13.1
         ],
         "textposition": "outside",
         "texttemplate": "%{text:.1f}%",
         "type": "bar",
         "x": [
          "Health Care"
         ],
         "xaxis": "x",
         "y": [
          13.1
         ],
         "yaxis": "y"
        }
       ],
       "layout": {
        "barmode": "relative",
        "height": 600,
        "legend": {
         "title": {
          "text": "Sector"
         },
         "tracegroupgap": 0
        },
        "margin": {
         "b": 100,
         "l": 40,
         "r": 40,
         "t": 100
        },
        "plot_bgcolor": "rgba(0,0,0,0)",
        "template": {
         "data": {
          "bar": [
           {
            "error_x": {
             "color": "#2a3f5f"
            },
            "error_y": {
             "color": "#2a3f5f"
            },
            "marker": {
             "line": {
              "color": "#E5ECF6",
              "width": 0.5
             },
             "pattern": {
              "fillmode": "overlay",
              "size": 10,
              "solidity": 0.2
             }
            },
            "type": "bar"
           }
          ],
          "barpolar": [
           {
            "marker": {
             "line": {
              "color": "#E5ECF6",
              "width": 0.5
             },
             "pattern": {
              "fillmode": "overlay",
              "size": 10,
              "solidity": 0.2
             }
            },
            "type": "barpolar"
           }
          ],
          "carpet": [
           {
            "aaxis": {
             "endlinecolor": "#2a3f5f",
             "gridcolor": "white",
             "linecolor": "white",
             "minorgridcolor": "white",
             "startlinecolor": "#2a3f5f"
            },
            "baxis": {
             "endlinecolor": "#2a3f5f",
             "gridcolor": "white",
             "linecolor": "white",
             "minorgridcolor": "white",
             "startlinecolor": "#2a3f5f"
            },
            "type": "carpet"
           }
          ],
          "choropleth": [
           {
            "colorbar": {
             "outlinewidth": 0,
             "ticks": ""
            },
            "type": "choropleth"
           }
          ],
          "contour": [
           {
            "colorbar": {
             "outlinewidth": 0,
             "ticks": ""
            },
            "colorscale": [
             [
              0,
              "#0d0887"
             ],
             [
              0.1111111111111111,
              "#46039f"
             ],
             [
              0.2222222222222222,
              "#7201a8"
             ],
             [
              0.3333333333333333,
              "#9c179e"
             ],
             [
              0.4444444444444444,
              "#bd3786"
             ],
             [
              0.5555555555555556,
              "#d8576b"
             ],
             [
              0.6666666666666666,
              "#ed7953"
             ],
             [
              0.7777777777777778,
              "#fb9f3a"
             ],
             [
              0.8888888888888888,
              "#fdca26"
             ],
             [
              1,
              "#f0f921"
             ]
            ],
            "type": "contour"
           }
          ],
          "contourcarpet": [
           {
            "colorbar": {
             "outlinewidth": 0,
             "ticks": ""
            },
            "type": "contourcarpet"
           }
          ],
          "heatmap": [
           {
            "colorbar": {
             "outlinewidth": 0,
             "ticks": ""
            },
            "colorscale": [
             [
              0,
              "#0d0887"
             ],
             [
              0.1111111111111111,
              "#46039f"
             ],
             [
              0.2222222222222222,
              "#7201a8"
             ],
             [
              0.3333333333333333,
              "#9c179e"
             ],
             [
              0.4444444444444444,
              "#bd3786"
             ],
             [
              0.5555555555555556,
              "#d8576b"
             ],
             [
              0.6666666666666666,
              "#ed7953"
             ],
             [
              0.7777777777777778,
              "#fb9f3a"
             ],
             [
              0.8888888888888888,
              "#fdca26"
             ],
             [
              1,
              "#f0f921"
             ]
            ],
            "type": "heatmap"
           }
          ],
          "heatmapgl": [
           {
            "colorbar": {
             "outlinewidth": 0,
             "ticks": ""
            },
            "colorscale": [
             [
              0,
              "#0d0887"
             ],
             [
              0.1111111111111111,
              "#46039f"
             ],
             [
              0.2222222222222222,
              "#7201a8"
             ],
             [
              0.3333333333333333,
              "#9c179e"
             ],
             [
              0.4444444444444444,
              "#bd3786"
             ],
             [
              0.5555555555555556,
              "#d8576b"
             ],
             [
              0.6666666666666666,
              "#ed7953"
             ],
             [
              0.7777777777777778,
              "#fb9f3a"
             ],
             [
              0.8888888888888888,
              "#fdca26"
             ],
             [
              1,
              "#f0f921"
             ]
            ],
            "type": "heatmapgl"
           }
          ],
          "histogram": [
           {
            "marker": {
             "pattern": {
              "fillmode": "overlay",
              "size": 10,
              "solidity": 0.2
             }
            },
            "type": "histogram"
           }
          ],
          "histogram2d": [
           {
            "colorbar": {
             "outlinewidth": 0,
             "ticks": ""
            },
            "colorscale": [
             [
              0,
              "#0d0887"
             ],
             [
              0.1111111111111111,
              "#46039f"
             ],
             [
              0.2222222222222222,
              "#7201a8"
             ],
             [
              0.3333333333333333,
              "#9c179e"
             ],
             [
              0.4444444444444444,
              "#bd3786"
             ],
             [
              0.5555555555555556,
              "#d8576b"
             ],
             [
              0.6666666666666666,
              "#ed7953"
             ],
             [
              0.7777777777777778,
              "#fb9f3a"
             ],
             [
              0.8888888888888888,
              "#fdca26"
             ],
             [
              1,
              "#f0f921"
             ]
            ],
            "type": "histogram2d"
           }
          ],
          "histogram2dcontour": [
           {
            "colorbar": {
             "outlinewidth": 0,
             "ticks": ""
            },
            "colorscale": [
             [
              0,
              "#0d0887"
             ],
             [
              0.1111111111111111,
              "#46039f"
             ],
             [
              0.2222222222222222,
              "#7201a8"
             ],
             [
              0.3333333333333333,
              "#9c179e"
             ],
             [
              0.4444444444444444,
              "#bd3786"
             ],
             [
              0.5555555555555556,
              "#d8576b"
             ],
             [
              0.6666666666666666,
              "#ed7953"
             ],
             [
              0.7777777777777778,
              "#fb9f3a"
             ],
             [
              0.8888888888888888,
              "#fdca26"
             ],
             [
              1,
              "#f0f921"
             ]
            ],
            "type": "histogram2dcontour"
           }
          ],
          "mesh3d": [
           {
            "colorbar": {
             "outlinewidth": 0,
             "ticks": ""
            },
            "type": "mesh3d"
           }
          ],
          "parcoords": [
           {
            "line": {
             "colorbar": {
              "outlinewidth": 0,
              "ticks": ""
             }
            },
            "type": "parcoords"
           }
          ],
          "pie": [
           {
            "automargin": true,
            "type": "pie"
           }
          ],
          "scatter": [
           {
            "fillpattern": {
             "fillmode": "overlay",
             "size": 10,
             "solidity": 0.2
            },
            "type": "scatter"
           }
          ],
          "scatter3d": [
           {
            "line": {
             "colorbar": {
              "outlinewidth": 0,
              "ticks": ""
             }
            },
            "marker": {
             "colorbar": {
              "outlinewidth": 0,
              "ticks": ""
             }
            },
            "type": "scatter3d"
           }
          ],
          "scattercarpet": [
           {
            "marker": {
             "colorbar": {
              "outlinewidth": 0,
              "ticks": ""
             }
            },
            "type": "scattercarpet"
           }
          ],
          "scattergeo": [
           {
            "marker": {
             "colorbar": {
              "outlinewidth": 0,
              "ticks": ""
             }
            },
            "type": "scattergeo"
           }
          ],
          "scattergl": [
           {
            "marker": {
             "colorbar": {
              "outlinewidth": 0,
              "ticks": ""
             }
            },
            "type": "scattergl"
           }
          ],
          "scattermapbox": [
           {
            "marker": {
             "colorbar": {
              "outlinewidth": 0,
              "ticks": ""
             }
            },
            "type": "scattermapbox"
           }
          ],
          "scatterpolar": [
           {
            "marker": {
             "colorbar": {
              "outlinewidth": 0,
              "ticks": ""
             }
            },
            "type": "scatterpolar"
           }
          ],
          "scatterpolargl": [
           {
            "marker": {
             "colorbar": {
              "outlinewidth": 0,
              "ticks": ""
             }
            },
            "type": "scatterpolargl"
           }
          ],
          "scatterternary": [
           {
            "marker": {
             "colorbar": {
              "outlinewidth": 0,
              "ticks": ""
             }
            },
            "type": "scatterternary"
           }
          ],
          "surface": [
           {
            "colorbar": {
             "outlinewidth": 0,
             "ticks": ""
            },
            "colorscale": [
             [
              0,
              "#0d0887"
             ],
             [
              0.1111111111111111,
              "#46039f"
             ],
             [
              0.2222222222222222,
              "#7201a8"
             ],
             [
              0.3333333333333333,
              "#9c179e"
             ],
             [
              0.4444444444444444,
              "#bd3786"
             ],
             [
              0.5555555555555556,
              "#d8576b"
             ],
             [
              0.6666666666666666,
              "#ed7953"
             ],
             [
              0.7777777777777778,
              "#fb9f3a"
             ],
             [
              0.8888888888888888,
              "#fdca26"
             ],
             [
              1,
              "#f0f921"
             ]
            ],
            "type": "surface"
           }
          ],
          "table": [
           {
            "cells": {
             "fill": {
              "color": "#EBF0F8"
             },
             "line": {
              "color": "white"
             }
            },
            "header": {
             "fill": {
              "color": "#C8D4E3"
             },
             "line": {
              "color": "white"
             }
            },
            "type": "table"
           }
          ]
         },
         "layout": {
          "annotationdefaults": {
           "arrowcolor": "#2a3f5f",
           "arrowhead": 0,
           "arrowwidth": 1
          },
          "autotypenumbers": "strict",
          "coloraxis": {
           "colorbar": {
            "outlinewidth": 0,
            "ticks": ""
           }
          },
          "colorscale": {
           "diverging": [
            [
             0,
             "#8e0152"
            ],
            [
             0.1,
             "#c51b7d"
            ],
            [
             0.2,
             "#de77ae"
            ],
            [
             0.3,
             "#f1b6da"
            ],
            [
             0.4,
             "#fde0ef"
            ],
            [
             0.5,
             "#f7f7f7"
            ],
            [
             0.6,
             "#e6f5d0"
            ],
            [
             0.7,
             "#b8e186"
            ],
            [
             0.8,
             "#7fbc41"
            ],
            [
             0.9,
             "#4d9221"
            ],
            [
             1,
             "#276419"
            ]
           ],
           "sequential": [
            [
             0,
             "#0d0887"
            ],
            [
             0.1111111111111111,
             "#46039f"
            ],
            [
             0.2222222222222222,
             "#7201a8"
            ],
            [
             0.3333333333333333,
             "#9c179e"
            ],
            [
             0.4444444444444444,
             "#bd3786"
            ],
            [
             0.5555555555555556,
             "#d8576b"
            ],
            [
             0.6666666666666666,
             "#ed7953"
            ],
            [
             0.7777777777777778,
             "#fb9f3a"
            ],
            [
             0.8888888888888888,
             "#fdca26"
            ],
            [
             1,
             "#f0f921"
            ]
           ],
           "sequentialminus": [
            [
             0,
             "#0d0887"
            ],
            [
             0.1111111111111111,
             "#46039f"
            ],
            [
             0.2222222222222222,
             "#7201a8"
            ],
            [
             0.3333333333333333,
             "#9c179e"
            ],
            [
             0.4444444444444444,
             "#bd3786"
            ],
            [
             0.5555555555555556,
             "#d8576b"
            ],
            [
             0.6666666666666666,
             "#ed7953"
            ],
            [
             0.7777777777777778,
             "#fb9f3a"
            ],
            [
             0.8888888888888888,
             "#fdca26"
            ],
            [
             1,
             "#f0f921"
            ]
           ]
          },
          "colorway": [
           "#636efa",
           "#EF553B",
           "#00cc96",
           "#ab63fa",
           "#FFA15A",
           "#19d3f3",
           "#FF6692",
           "#B6E880",
           "#FF97FF",
           "#FECB52"
          ],
          "font": {
           "color": "#2a3f5f"
          },
          "geo": {
           "bgcolor": "white",
           "lakecolor": "white",
           "landcolor": "#E5ECF6",
           "showlakes": true,
           "showland": true,
           "subunitcolor": "white"
          },
          "hoverlabel": {
           "align": "left"
          },
          "hovermode": "closest",
          "mapbox": {
           "style": "light"
          },
          "paper_bgcolor": "white",
          "plot_bgcolor": "#E5ECF6",
          "polar": {
           "angularaxis": {
            "gridcolor": "white",
            "linecolor": "white",
            "ticks": ""
           },
           "bgcolor": "#E5ECF6",
           "radialaxis": {
            "gridcolor": "white",
            "linecolor": "white",
            "ticks": ""
           }
          },
          "scene": {
           "xaxis": {
            "backgroundcolor": "#E5ECF6",
            "gridcolor": "white",
            "gridwidth": 2,
            "linecolor": "white",
            "showbackground": true,
            "ticks": "",
            "zerolinecolor": "white"
           },
           "yaxis": {
            "backgroundcolor": "#E5ECF6",
            "gridcolor": "white",
            "gridwidth": 2,
            "linecolor": "white",
            "showbackground": true,
            "ticks": "",
            "zerolinecolor": "white"
           },
           "zaxis": {
            "backgroundcolor": "#E5ECF6",
            "gridcolor": "white",
            "gridwidth": 2,
            "linecolor": "white",
            "showbackground": true,
            "ticks": "",
            "zerolinecolor": "white"
           }
          },
          "shapedefaults": {
           "line": {
            "color": "#2a3f5f"
           }
          },
          "ternary": {
           "aaxis": {
            "gridcolor": "white",
            "linecolor": "white",
            "ticks": ""
           },
           "baxis": {
            "gridcolor": "white",
            "linecolor": "white",
            "ticks": ""
           },
           "bgcolor": "#E5ECF6",
           "caxis": {
            "gridcolor": "white",
            "linecolor": "white",
            "ticks": ""
           }
          },
          "title": {
           "x": 0.05
          },
          "xaxis": {
           "automargin": true,
           "gridcolor": "white",
           "linecolor": "white",
           "ticks": "",
           "title": {
            "standoff": 15
           },
           "zerolinecolor": "white",
           "zerolinewidth": 2
          },
          "yaxis": {
           "automargin": true,
           "gridcolor": "white",
           "linecolor": "white",
           "ticks": "",
           "title": {
            "standoff": 15
           },
           "zerolinecolor": "white",
           "zerolinewidth": 2
          }
         }
        },
        "title": {
         "text": "Maximum Drawdown by Sector - Era 3 (2020-2024)",
         "x": 0.5
        },
        "uniformtext": {
         "minsize": 8,
         "mode": "hide"
        },
        "width": 1200,
        "xaxis": {
         "anchor": "y",
         "categoryarray": [
          "Energy",
          "Communication Services",
          "Consumer Discretionary",
          "Technology",
          "Real Estate",
          "Financials",
          "Industrials",
          "Materials",
          "Utilities",
          "Consumer Staples",
          "Health Care"
         ],
         "categoryorder": "array",
         "domain": [
          0,
          1
         ],
         "title": {
          "text": "Sector"
         }
        },
        "yaxis": {
         "anchor": "x",
         "domain": [
          0,
          1
         ],
         "range": [
          0,
          48.84
         ],
         "tickfont": {
          "size": 12
         },
         "tickformat": ".1f",
         "title": {
          "font": {
           "size": 14
          },
          "text": "Maximum Drawdown (%)"
         }
        }
       }
      }
     },
     "metadata": {},
     "output_type": "display_data"
    }
   ],
   "source": [
    "# Plotting Maximum Drawdown for Era 3\n",
    "plot_max_drawdown_interactive(\n",
    "    max_drawdown_era3, \n",
    "    'Era 3 (2020-2024)', \n",
    "    sector_colors_hex\n",
    ")\n"
   ]
  },
  {
   "cell_type": "markdown",
   "metadata": {},
   "source": [
    "The max drawdown plot highlights the Energy sector as the most severely impacted during the pandemic, experiencing the largest peak-to-trough decline. This was primarily driven by the unprecedented collapse in oil prices as the COVID-19 pandemic brought global mobility and economic activity to a halt. Travel restrictions, reduced industrial output, and plummeting demand for transportation fuels led to a historic oversupply of oil, with storage capacities nearing their limits. This situation culminated in negative oil prices for the first time in history, reflecting the extreme market dislocation. The sharp drop underscores the vulnerability of the Energy sector to macroeconomic shocks and demand fluctuations, particularly during crises that disrupt global supply chains and consumer behavior. The pandemic-induced crash served as a stark reminder of the sector’s sensitivity to external shocks and the importance of diversification and adaptability in mitigating such risks."
   ]
  }
 ],
 "metadata": {
  "kernelspec": {
   "display_name": "base",
   "language": "python",
   "name": "python3"
  },
  "language_info": {
   "codemirror_mode": {
    "name": "ipython",
    "version": 3
   },
   "file_extension": ".py",
   "mimetype": "text/x-python",
   "name": "python",
   "nbconvert_exporter": "python",
   "pygments_lexer": "ipython3",
   "version": "3.9.18"
  }
 },
 "nbformat": 4,
 "nbformat_minor": 2
}
